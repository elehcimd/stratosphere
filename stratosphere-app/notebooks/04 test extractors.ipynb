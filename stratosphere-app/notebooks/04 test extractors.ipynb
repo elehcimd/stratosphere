{
 "cells": [
  {
   "cell_type": "code",
   "execution_count": 1,
   "id": "53101b65-c193-4ba3-8a07-9dfdfb37ea8a",
   "metadata": {
    "tags": []
   },
   "outputs": [],
   "source": [
    "%load_ext autoreload\n",
    "%autoreload 2\n",
    "%reload_ext autoreload"
   ]
  },
  {
   "cell_type": "code",
   "execution_count": 2,
   "id": "8a0a8bf4-3c40-42a4-845c-b922b72ab31f",
   "metadata": {
    "tags": []
   },
   "outputs": [],
   "source": [
    "import pandas as pd\n",
    "from stratosphere import Stratosphere\n",
    "from stratosphere.utils.inspect_flows import InspectFlows\n",
    "from stratosphere import options\n",
    "from stratosphere.services.extractor import Extractor\n",
    "from stratosphere.storage.models import Flow\n"
   ]
  },
  {
   "cell_type": "code",
   "execution_count": 3,
   "id": "443d11a3-8722-4b60-8e2c-bd11c78dfa79",
   "metadata": {
    "tags": []
   },
   "outputs": [],
   "source": [
    "pd.options.display.max_rows = 10\n",
    "pd.options.display.max_columns = 100\n",
    "pd.options.display.max_colwidth = 100"
   ]
  },
  {
   "cell_type": "markdown",
   "id": "5b18e532-12aa-4fc2-a14f-fb54680d9549",
   "metadata": {
    "tags": []
   },
   "source": [
    "## Process all samples"
   ]
  },
  {
   "cell_type": "code",
   "execution_count": 5,
   "id": "512b936a-da4a-4fb3-ad7a-4c3194aa5e7e",
   "metadata": {
    "tags": []
   },
   "outputs": [
    {
     "name": "stdout",
     "output_type": "stream",
     "text": [
      "Extracting from flows in /shared/data/samples/linkedin-profiles.db\n",
      "\u001b[32m■\u001b[0m Processing 108 flows ...\n",
      "\u001b[32m■\u001b[0m Amsterdam, North Holland, Netherlands\n",
      "\u001b[32m■\u001b[0m Amsterdam, North Holland\n",
      "\u001b[32m■\u001b[0m 4814960\n",
      "\u001b[32m■\u001b[0m ACoAAABJeHABuspCwoekV_ApllIvtEWEqeD1UVU\n",
      "\u001b[32m■\u001b[0m perry-borst-5287421\n",
      "\u001b[32m■\u001b[0m Perry\n",
      "\u001b[32m■\u001b[0m Borst\n",
      "\u001b[32m■\u001b[0m Frontend, backend and beyond\n",
      "\u001b[32m■\u001b[0m None\n",
      "\u001b[32m■\u001b[0m https://media.licdn.com/dms/image/C5103AQHH8RjfXUQ3SQ/profile-displayphoto-shrink_\n",
      "\u001b[32m■\u001b[0m 800_800/0/1516311678043?e=1687392000&v=beta&t=_W4LkCsn0KpeQjWwCC86xkSXD5clZx7Y4cb1V7IiERU\n",
      "\u001b[32m■\u001b[0m 1058GM\n",
      "\u001b[32m■\u001b[0m  user_id: 4814960\n",
      "\u001b[32m■\u001b[0m {'id': '68eee4bcc7ab00b603d215bddcccb02f', 'type': 'linkedin.com/person', 'data': '{\"user_id\": \"4814960\", \"user_hash\": \"ACoAAABJeHABuspCwoekV_ApllIvtEWEqeD1UVU\", \"public_identifier\": \"perry-borst-5287421\", \"first_name\": \"Perry\", \"last_name\": \"Borst\", \"full_name\": \"Perry Borst\", \"occupation\": \"None\", \"headline\": \"Frontend, backend and beyond\", \"country\": \"Amsterdam, North Holland, Netherlands\", \"city\": \"Amsterdam, North Holland\", \"postal_code\": \"1058GM\", \"bdate\": null, \"url_picture\": \"https://media.licdn.com/dms/image/C5103AQHH8RjfXUQ3SQ/profile-displayphoto-shrink_800_800/0/1516311678043?e=1687392000&v=beta&t=_W4LkCsn0KpeQjWwCC86xkSXD5clZx7Y4cb1V7IiERU\"}', 'blob': None, 'ts': datetime.datetime(2023, 4, 22, 13, 47, 12, 619221)}\n",
      "Added entity 68eee4bcc7ab00b603d215bddcccb02f (Perry Borst)\n",
      "\u001b[32m■\u001b[0m New York, New York, United States\n",
      "\u001b[32m■\u001b[0m New York, New York\n",
      "\u001b[32m■\u001b[0m 522918901\n",
      "\u001b[32m■\u001b[0m ACoAAB8rG_UB7cstjC__gk5318uYsZOIVkyysi4\n",
      "\u001b[32m■\u001b[0m simonsinek\n",
      "\u001b[32m■\u001b[0m Simon\n",
      "\u001b[32m■\u001b[0m Sinek\n",
      "\u001b[32m■\u001b[0m Optimist and Author at Simon Sinek Inc.\n",
      "\u001b[32m■\u001b[0m None\n",
      "\u001b[32m■\u001b[0m https://media.licdn.com/dms/image/C4D03AQFiCE97-9SoTg/profile-displayphoto-shrink_\n",
      "\u001b[32m■\u001b[0m 800_800/0/1646165485187?e=1687392000&v=beta&t=n1Z-AzCvcl_oAhcPcS4T9hpqYvJLydKXAlBcK83JDzM\n",
      "\u001b[32m■\u001b[0m  user_id: 522918901\n",
      "\u001b[32m■\u001b[0m {'id': '0c5a22ad0503f3097c33dadedb22111f', 'type': 'linkedin.com/person', 'data': '{\"user_id\": \"522918901\", \"user_hash\": \"ACoAAB8rG_UB7cstjC__gk5318uYsZOIVkyysi4\", \"public_identifier\": \"simonsinek\", \"first_name\": \"Simon\", \"last_name\": \"Sinek\", \"full_name\": \"Simon Sinek\", \"occupation\": \"None\", \"headline\": \"Optimist and Author at Simon Sinek Inc.\", \"country\": \"New York, New York, United States\", \"city\": \"New York, New York\", \"postal_code\": \"None\", \"bdate\": null, \"url_picture\": \"https://media.licdn.com/dms/image/C4D03AQFiCE97-9SoTg/profile-displayphoto-shrink_800_800/0/1646165485187?e=1687392000&v=beta&t=n1Z-AzCvcl_oAhcPcS4T9hpqYvJLydKXAlBcK83JDzM\"}', 'blob': None, 'ts': datetime.datetime(2023, 4, 22, 13, 47, 25, 334038)}\n",
      "Added entity 0c5a22ad0503f3097c33dadedb22111f (Simon Sinek)\n",
      "\u001b[32m■\u001b[0m ING\n",
      "\u001b[32m■\u001b[0m urn:li:fsd_company:2594164\n",
      "\u001b[32m■\u001b[0m Public Company\n",
      "\u001b[32m■\u001b[0m 2594164\n",
      "\u001b[32m■\u001b[0m urn:li:member:4814960\n",
      "\u001b[32m■\u001b[0m 4814960\n",
      "\u001b[32m■\u001b[0m The Curve\n",
      "\u001b[32m■\u001b[0m None\n",
      "\u001b[32m■\u001b[0m Failed parsing linkedin.com search results for flow d2b30907-4a18-4f52-a0e9-84d20b33f158 (JSONDecodeError at /usr/lib/python3.10/json/decoder.py:353::raw_decode \"obj, end = self.scan_once(s, idx)\": Expecting ',' delimiter: line 1 column 85154 (char 85153)), url: https://www.linkedin.com/voyager/api/graphql?includeWebMetadata=true&variables=(profileUrn:urn%3Ali%3Afsd_profile%3AACoAAABJeHABuspCwoekV_ApllIvtEWEqeD1UVU)&&queryId=voyagerIdentityDashProfileCards.02f36cfbbe67be3c418553aadda79494 request_content: b''\n",
      "\u001b[32m■\u001b[0m Failed parsing linkedin.com search results for flow ced44316-aee5-4224-b9ea-dd8f63c7aa61 (JSONDecodeError at /usr/lib/python3.10/json/decoder.py:353::raw_decode \"obj, end = self.scan_once(s, idx)\": Expecting ',' delimiter: line 1 column 208977 (char 208976)), url: https://www.linkedin.com/voyager/api/graphql?includeWebMetadata=true&variables=(profileUrn:urn%3Ali%3Afsd_profile%3AACoAAB8rG_UB7cstjC__gk5318uYsZOIVkyysi4)&&queryId=voyagerIdentityDashProfileCards.02f36cfbbe67be3c418553aadda79494 request_content: b''\n",
      "\u001b[32m■\u001b[0m Failed parsing linkedin.com search results for flow 3a6e938d-94e6-4742-82e3-2684085ca995 (JSONDecodeError at /usr/lib/python3.10/json/decoder.py:353::raw_decode \"obj, end = self.scan_once(s, idx)\": Expecting ',' delimiter: line 1 column 153176 (char 153175)), url: https://www.linkedin.com/voyager/api/graphql?includeWebMetadata=true&variables=(profileUrn:urn%3Ali%3Afsd_profile%3AACoAAB8rG_UB7cstjC__gk5318uYsZOIVkyysi4,sectionType:browsemap_recommendation)&&queryId=voyagerIdentityDashProfileCards.4898f4317a57b8212ba57c55a0662b16 request_content: b''\n",
      "Extracting from flows in /shared/data/samples/search-google-bellingcattools.db\n",
      "\u001b[32m■\u001b[0m Found extractor: extractor_google_search\n",
      "\u001b[32m■\u001b[0m Found extractor: extractor_linkedin\n",
      "\u001b[32m■\u001b[0m Found extractor: extractor_linkedin_companies\n",
      "\u001b[32m■\u001b[0m Found extractor: extractor_linkedin_relations\n",
      "\u001b[32m■\u001b[0m Found extractor: extractor_vkontakte\n",
      "\u001b[32m■\u001b[0m Processing 30 flows ...\n",
      "\u001b[32m■\u001b[0m Added google search 9087537177b531b83175eb5ce7ea7cc5 (11 results for query \"bellingcat tools\")\n",
      "Extracting from flows in /shared/data/samples/search-google-multiple-pages.db\n",
      "\u001b[32m■\u001b[0m Found extractor: extractor_google_search\n",
      "\u001b[32m■\u001b[0m Found extractor: extractor_linkedin\n",
      "\u001b[32m■\u001b[0m Found extractor: extractor_linkedin_companies\n",
      "\u001b[32m■\u001b[0m Found extractor: extractor_linkedin_relations\n",
      "\u001b[32m■\u001b[0m Found extractor: extractor_vkontakte\n",
      "\u001b[32m■\u001b[0m Processing 192 flows ...\n",
      "\u001b[32m■\u001b[0m Added google search da120230e6be97da73b99eb8ede44b99 (13 results for query \"Bellingcat MH17\")\n",
      "\u001b[32m■\u001b[0m Added google search da120230e6be97da73b99eb8ede44b99 (10 results for query \"Bellingcat MH17\")\n",
      "\u001b[32m■\u001b[0m Added google search da120230e6be97da73b99eb8ede44b99 (9 results for query \"Bellingcat MH17\")\n",
      "\u001b[32m■\u001b[0m Added google search da120230e6be97da73b99eb8ede44b99 (11 results for query \"Bellingcat MH17\")\n",
      "\u001b[32m■\u001b[0m Added google search da120230e6be97da73b99eb8ede44b99 (10 results for query \"Bellingcat MH17\")\n",
      "\u001b[32m■\u001b[0m Added google search da120230e6be97da73b99eb8ede44b99 (10 results for query \"Bellingcat MH17\")\n",
      "\u001b[32m■\u001b[0m Added google search da120230e6be97da73b99eb8ede44b99 (10 results for query \"Bellingcat MH17\")\n",
      "\u001b[32m■\u001b[0m Added google search da120230e6be97da73b99eb8ede44b99 (11 results for query \"Bellingcat MH17\")\n",
      "\u001b[32m■\u001b[0m Added google search da120230e6be97da73b99eb8ede44b99 (10 results for query \"Bellingcat MH17\")\n",
      "\u001b[32m■\u001b[0m Added google search da120230e6be97da73b99eb8ede44b99 (10 results for query \"Bellingcat MH17\")\n",
      "\u001b[32m■\u001b[0m Added google search da120230e6be97da73b99eb8ede44b99 (11 results for query \"Bellingcat MH17\")\n",
      "Extracting from flows in /shared/data/samples/search-google-multiple-searches.db\n",
      "\u001b[32m■\u001b[0m Found extractor: extractor_google_search\n",
      "\u001b[32m■\u001b[0m Found extractor: extractor_linkedin\n",
      "\u001b[32m■\u001b[0m Found extractor: extractor_linkedin_companies\n",
      "\u001b[32m■\u001b[0m Found extractor: extractor_linkedin_relations\n",
      "\u001b[32m■\u001b[0m Found extractor: extractor_vkontakte\n",
      "\u001b[32m■\u001b[0m Processing 123 flows ...\n",
      "\u001b[32m■\u001b[0m Added google search f1075112062f9e73eb030594885403a0 (10 results for query \"bellingcat controversy\")\n",
      "\u001b[32m■\u001b[0m Added google search c191981cca928d7828829506156b87c1 (18 results for query \"bellingcat mi5\")\n",
      "\u001b[32m■\u001b[0m Added google search 47328687d79cde83c2d84935a7348c5b (13 results for query \"bellingcat staff\")\n",
      "\u001b[32m■\u001b[0m Added google search aa828678ff2e05eb61d71543d625c2f0 (9 results for query \"bellingcat volunteer\")\n",
      "\u001b[32m■\u001b[0m Added google search 9087537177b531b83175eb5ce7ea7cc5 (16 results for query \"bellingcat tools\")\n",
      "Extracting from flows in /shared/data/samples/search-google.db\n",
      "\u001b[32m■\u001b[0m Found extractor: extractor_google_search\n",
      "\u001b[32m■\u001b[0m Found extractor: extractor_linkedin\n",
      "\u001b[32m■\u001b[0m Found extractor: extractor_linkedin_companies\n",
      "\u001b[32m■\u001b[0m Found extractor: extractor_linkedin_relations\n",
      "\u001b[32m■\u001b[0m Found extractor: extractor_vkontakte\n",
      "\u001b[32m■\u001b[0m Processing 66 flows ...\n",
      "\u001b[32m■\u001b[0m Added google search a58bd87f985da4bd22052175d76df893 (16 results for query \"who owns bellingcat\")\n",
      "Extracting from flows in /shared/data/samples/vk-friends.db\n",
      "\u001b[32m■\u001b[0m Found extractor: extractor_google_search\n",
      "\u001b[32m■\u001b[0m Found extractor: extractor_linkedin\n",
      "\u001b[32m■\u001b[0m Found extractor: extractor_linkedin_companies\n",
      "\u001b[32m■\u001b[0m Found extractor: extractor_linkedin_relations\n",
      "\u001b[32m■\u001b[0m Found extractor: extractor_vkontakte\n",
      "\u001b[32m■\u001b[0m Processing 4 flows ...\n",
      "\u001b[32m■\u001b[0m Added entity e6e1fa295df40fa68aafcd62917e77f6\n",
      "\u001b[32m■\u001b[0m Added 249 friends of entity e6e1fa295df40fa68aafcd62917e77f6\n",
      "Extracting from flows in /shared/data/samples/vk-person.db\n",
      "\u001b[32m■\u001b[0m Found extractor: extractor_google_search\n",
      "\u001b[32m■\u001b[0m Found extractor: extractor_linkedin\n",
      "\u001b[32m■\u001b[0m Found extractor: extractor_linkedin_companies\n",
      "\u001b[32m■\u001b[0m Found extractor: extractor_linkedin_relations\n",
      "\u001b[32m■\u001b[0m Found extractor: extractor_vkontakte\n",
      "\u001b[32m■\u001b[0m Processing 142 flows ...\n",
      "\u001b[32m■\u001b[0m Added entity e6e1fa295df40fa68aafcd62917e77f6 (Andrey Kramodanov)\n",
      "Extracting from flows in /shared/data/samples/vk-person_friend.db\n",
      "\u001b[32m■\u001b[0m Found extractor: extractor_google_search\n",
      "\u001b[32m■\u001b[0m Found extractor: extractor_linkedin\n",
      "\u001b[32m■\u001b[0m Found extractor: extractor_linkedin_companies\n",
      "\u001b[32m■\u001b[0m Found extractor: extractor_linkedin_relations\n",
      "\u001b[32m■\u001b[0m Found extractor: extractor_vkontakte\n",
      "\u001b[32m■\u001b[0m Processing 26 flows ...\n",
      "\u001b[32m■\u001b[0m Added entity 40f845c2dc7e67434cb59f67dd4c6317 (Oleg Kvitsinia)\n",
      "Extracting from flows in /shared/data/samples/vk.com-chain-of-friends.db\n",
      "\u001b[32m■\u001b[0m Found extractor: extractor_google_search\n",
      "\u001b[32m■\u001b[0m Found extractor: extractor_linkedin\n",
      "\u001b[32m■\u001b[0m Found extractor: extractor_linkedin_companies\n",
      "\u001b[32m■\u001b[0m Found extractor: extractor_linkedin_relations\n",
      "\u001b[32m■\u001b[0m Found extractor: extractor_vkontakte\n",
      "\u001b[32m■\u001b[0m Processing 30 flows ...\n",
      "\u001b[32m■\u001b[0m Added entity 3644a684f98ea8fe223c713b77189a77 (Andrey Strelnikov)\n",
      "\u001b[32m■\u001b[0m Added entity 577ef1154f3240ad5b9b413aa7346a1e (Frederik Bulgakov)\n",
      "\u001b[32m■\u001b[0m Added relationship 3644a684f98ea8fe223c713b77189a77 -> 577ef1154f3240ad5b9b413aa7346a1e\n",
      "\u001b[32m■\u001b[0m Added entity c07ad36b132e424c3b3be7b8ee7a6b01 (Valentin Savelyev)\n",
      "\u001b[32m■\u001b[0m Added relationship 577ef1154f3240ad5b9b413aa7346a1e -> c07ad36b132e424c3b3be7b8ee7a6b01\n",
      "Extracting from flows in /shared/data/samples/vk.com-visiting-friend-from-friend.db\n",
      "\u001b[32m■\u001b[0m Found extractor: extractor_google_search\n",
      "\u001b[32m■\u001b[0m Found extractor: extractor_linkedin\n",
      "\u001b[32m■\u001b[0m Found extractor: extractor_linkedin_companies\n",
      "\u001b[32m■\u001b[0m Found extractor: extractor_linkedin_relations\n",
      "\u001b[32m■\u001b[0m Found extractor: extractor_vkontakte\n",
      "\u001b[32m■\u001b[0m Processing 21 flows ...\n",
      "\u001b[32m■\u001b[0m Added entity 3644a684f98ea8fe223c713b77189a77 (Andrey Strelnikov)\n",
      "\u001b[32m■\u001b[0m Added entity fcdf25d6e191893e705819b177cddea0 (Maxim Sterlyadkin)\n",
      "\u001b[32m■\u001b[0m Added relationship 3644a684f98ea8fe223c713b77189a77 -> fcdf25d6e191893e705819b177cddea0\n"
     ]
    }
   ],
   "source": [
    "import glob\n",
    "for db_pathname in glob.glob(\"/shared/data/samples/*\"):\n",
    "    print(f\"Extracting from flows in {db_pathname}\")    \n",
    "    e = Extractor(f\"sqlite:///{db_pathname}\")\n",
    "    e.process()\n",
    "    "
   ]
  },
  {
   "cell_type": "markdown",
   "id": "0d2ff2eb-44f8-4fb6-8eae-f6706cbc438c",
   "metadata": {},
   "source": [
    "## Samples vk.com"
   ]
  },
  {
   "cell_type": "code",
   "execution_count": null,
   "id": "64e8fcf3-7fc4-45ce-b3d6-5ccb7e729d04",
   "metadata": {
    "tags": []
   },
   "outputs": [],
   "source": [
    "# Test extraction of user page , entity 8cfdfe5c-a59f-3a55-d7ab-1cd8553033ea\n",
    "e = Extractor(\"sqlite:////shared/data/samples/vk-person.db\")\n",
    "e.process()"
   ]
  },
  {
   "cell_type": "code",
   "execution_count": null,
   "id": "fd626788-de01-468c-8277-ff071329bd4b",
   "metadata": {
    "tags": []
   },
   "outputs": [],
   "source": [
    "e.s_kb.db.pandas(\"select json_extract(data, '$.user_ids') as user_ids from entities where type = 'person'\")"
   ]
  },
  {
   "cell_type": "code",
   "execution_count": null,
   "id": "38eecde0-cf27-47ff-8b8d-029fb6077937",
   "metadata": {
    "tags": []
   },
   "outputs": [],
   "source": [
    "# Test extraction of friends list for entity 8cfdfe5c-a59f-3a55-d7ab-1cd8553033ea\n",
    "e = Extractor(\"sqlite:////shared/data/samples/vk-friends.db\")\n",
    "e.process()\n",
    "e.s_kb.db.pandas(\"select json_extract(data, '$.user_ids') as user_ids from entities where type = 'person'\")"
   ]
  },
  {
   "cell_type": "code",
   "execution_count": null,
   "id": "fc55a00b-895b-4643-b46e-78b3e020ed92",
   "metadata": {
    "tags": []
   },
   "outputs": [],
   "source": [
    "# Test extraction of friends list for entity 5801c74b-1b76-35d6-dbcb-0946e2bf4726, a friend of 8cfdfe5c-a59f-3a55-d7ab-1cd8553033ea\n",
    "e = Extractor(\"sqlite:////shared/data/samples/vk-person_friend.db\")\n",
    "e.process()"
   ]
  },
  {
   "cell_type": "code",
   "execution_count": null,
   "id": "b45e4687-afb3-4064-82a3-9ce97b1a5da6",
   "metadata": {
    "tags": []
   },
   "outputs": [],
   "source": [
    "# Test extraction friendship relationship: from https://vk.com/id200 to friend https://vk.com/maximka8 (clicking on link from friends list)\n",
    "e = Extractor(\"sqlite:////shared/data/samples/vk.com-visiting-friend-from-friend.db\")\n",
    "e.process()\n"
   ]
  },
  {
   "cell_type": "code",
   "execution_count": null,
   "id": "1bf6a3e5-9d18-4d8c-8ecd-4c59594db232",
   "metadata": {
    "tags": []
   },
   "outputs": [],
   "source": [
    "# Test extraction chain of friends\n",
    "# andrey -> frederick -> valentin\n",
    "e = Extractor(\"sqlite:////shared/data/samples/vk.com-chain-of-friends.db\")\n",
    "e.process()\n"
   ]
  },
  {
   "cell_type": "markdown",
   "id": "391e9ce9-8765-4bd8-acf6-b1999e13468a",
   "metadata": {},
   "source": [
    "## Samples google searches"
   ]
  },
  {
   "cell_type": "code",
   "execution_count": null,
   "id": "3d2dca96-99a3-444f-a73f-378711b7e529",
   "metadata": {
    "tags": []
   },
   "outputs": [],
   "source": [
    "# Test extraction of google search results\n",
    "e = Extractor(\"sqlite:////shared/data/samples/search-google-bellingcattools.db\")\n",
    "e.process()\n",
    "e = Extractor(\"sqlite:////shared/data/samples/search-google-multiple-pages.db\")\n",
    "e.process()"
   ]
  },
  {
   "cell_type": "code",
   "execution_count": null,
   "id": "1245c3df-4644-43d6-a6d4-f2d8bcf3ab46",
   "metadata": {},
   "outputs": [],
   "source": []
  },
  {
   "cell_type": "code",
   "execution_count": null,
   "id": "0ea5c80b-2612-44b1-ba82-87966a2dcfa2",
   "metadata": {},
   "outputs": [],
   "source": []
  },
  {
   "cell_type": "code",
   "execution_count": null,
   "id": "e486f877-d61e-4fd4-ada9-8fda97445c1c",
   "metadata": {},
   "outputs": [],
   "source": []
  }
 ],
 "metadata": {
  "kernelspec": {
   "display_name": "Python 3 (ipykernel)",
   "language": "python",
   "name": "python3"
  },
  "language_info": {
   "codemirror_mode": {
    "name": "ipython",
    "version": 3
   },
   "file_extension": ".py",
   "mimetype": "text/x-python",
   "name": "python",
   "nbconvert_exporter": "python",
   "pygments_lexer": "ipython3",
   "version": "3.10.6"
  }
 },
 "nbformat": 4,
 "nbformat_minor": 5
}
