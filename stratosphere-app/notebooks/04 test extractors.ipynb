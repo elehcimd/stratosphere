{
 "cells": [
  {
   "cell_type": "code",
   "execution_count": 1,
   "id": "53101b65-c193-4ba3-8a07-9dfdfb37ea8a",
   "metadata": {
    "tags": []
   },
   "outputs": [],
   "source": [
    "%load_ext autoreload\n",
    "%autoreload 2\n",
    "%reload_ext autoreload"
   ]
  },
  {
   "cell_type": "code",
   "execution_count": 15,
   "id": "8a0a8bf4-3c40-42a4-845c-b922b72ab31f",
   "metadata": {
    "tags": []
   },
   "outputs": [],
   "source": [
    "import pandas as pd\n",
    "from stratosphere import Stratosphere\n",
    "from stratosphere.utils.inspect_flows import InspectFlows\n",
    "from stratosphere import options\n",
    "from stratosphere.services.extractor import Extractor\n",
    "from stratosphere.storage.models import Flow\n"
   ]
  },
  {
   "cell_type": "code",
   "execution_count": 11,
   "id": "443d11a3-8722-4b60-8e2c-bd11c78dfa79",
   "metadata": {
    "tags": []
   },
   "outputs": [],
   "source": [
    "pd.options.display.max_rows = 10\n",
    "pd.options.display.max_columns = 100\n",
    "pd.options.display.max_colwidth = 100"
   ]
  },
  {
   "cell_type": "code",
   "execution_count": 19,
   "id": "99ef4a8a-9145-4751-a14c-86218a8522be",
   "metadata": {},
   "outputs": [
    {
     "data": {
      "text/plain": [
       "['extractor_google_search', 'extractor_vkontakte']"
      ]
     },
     "execution_count": 19,
     "metadata": {},
     "output_type": "execute_result"
    }
   ],
   "source": [
    "import pkgutil\n",
    "import stratosphere.extractors as module\n",
    "\n",
    "import stratosphere.extractors\n",
    "modualList = []\n",
    "for importer, modname, ispkg in pkgutil.iter_modules(module.__path__):\n",
    "    modualList.append(modname)\n",
    "modualList    "
   ]
  },
  {
   "cell_type": "markdown",
   "id": "5b18e532-12aa-4fc2-a14f-fb54680d9549",
   "metadata": {
    "tags": []
   },
   "source": [
    "## Process all samples"
   ]
  },
  {
   "cell_type": "code",
   "execution_count": null,
   "id": "512b936a-da4a-4fb3-ad7a-4c3194aa5e7e",
   "metadata": {
    "tags": []
   },
   "outputs": [],
   "source": [
    "import glob\n",
    "for db_pathname in glob.glob(\"/shared/data/samples/*\"):\n",
    "    e = Extractor(f\"sqlite:///{db_pathname}\")\n",
    "    e.process()\n",
    "    "
   ]
  },
  {
   "cell_type": "markdown",
   "id": "0d2ff2eb-44f8-4fb6-8eae-f6706cbc438c",
   "metadata": {},
   "source": [
    "## Samples vk.com"
   ]
  },
  {
   "cell_type": "code",
   "execution_count": null,
   "id": "64e8fcf3-7fc4-45ce-b3d6-5ccb7e729d04",
   "metadata": {
    "tags": []
   },
   "outputs": [],
   "source": [
    "# Test extraction of user page , entity 8cfdfe5c-a59f-3a55-d7ab-1cd8553033ea\n",
    "e = Extractor(\"sqlite:////shared/data/samples/vk-person.db\")\n",
    "e.process()"
   ]
  },
  {
   "cell_type": "code",
   "execution_count": null,
   "id": "fd626788-de01-468c-8277-ff071329bd4b",
   "metadata": {
    "tags": []
   },
   "outputs": [],
   "source": [
    "e.s_kb.db.pandas(\"select json_extract(data, '$.user_ids') as user_ids from entities where type = 'person'\")"
   ]
  },
  {
   "cell_type": "code",
   "execution_count": null,
   "id": "38eecde0-cf27-47ff-8b8d-029fb6077937",
   "metadata": {
    "tags": []
   },
   "outputs": [],
   "source": [
    "# Test extraction of friends list for entity 8cfdfe5c-a59f-3a55-d7ab-1cd8553033ea\n",
    "e = Extractor(\"sqlite:////shared/data/samples/vk-friends.db\")\n",
    "e.process()\n",
    "e.s_kb.db.pandas(\"select json_extract(data, '$.user_ids') as user_ids from entities where type = 'person'\")"
   ]
  },
  {
   "cell_type": "code",
   "execution_count": null,
   "id": "fc55a00b-895b-4643-b46e-78b3e020ed92",
   "metadata": {
    "tags": []
   },
   "outputs": [],
   "source": [
    "# Test extraction of friends list for entity 5801c74b-1b76-35d6-dbcb-0946e2bf4726, a friend of 8cfdfe5c-a59f-3a55-d7ab-1cd8553033ea\n",
    "e = Extractor(\"sqlite:////shared/data/samples/vk-person_friend.db\")\n",
    "e.process()"
   ]
  },
  {
   "cell_type": "code",
   "execution_count": null,
   "id": "b45e4687-afb3-4064-82a3-9ce97b1a5da6",
   "metadata": {
    "tags": []
   },
   "outputs": [],
   "source": [
    "# Test extraction friendship relationship: from https://vk.com/id200 to friend https://vk.com/maximka8 (clicking on link from friends list)\n",
    "e = Extractor(\"sqlite:////shared/data/samples/vk.com-visiting-friend-from-friend.db\")\n",
    "e.process()\n"
   ]
  },
  {
   "cell_type": "code",
   "execution_count": null,
   "id": "1bf6a3e5-9d18-4d8c-8ecd-4c59594db232",
   "metadata": {
    "tags": []
   },
   "outputs": [],
   "source": [
    "# Test extraction chain of friends\n",
    "# andrey -> frederick -> valentin\n",
    "e = Extractor(\"sqlite:////shared/data/samples/vk.com-chain-of-friends.db\")\n",
    "e.process()\n"
   ]
  },
  {
   "cell_type": "markdown",
   "id": "391e9ce9-8765-4bd8-acf6-b1999e13468a",
   "metadata": {},
   "source": [
    "## Samples google searches"
   ]
  },
  {
   "cell_type": "code",
   "execution_count": null,
   "id": "3d2dca96-99a3-444f-a73f-378711b7e529",
   "metadata": {
    "tags": []
   },
   "outputs": [],
   "source": [
    "# Test extraction of google search results\n",
    "e = Extractor(\"sqlite:////shared/data/samples/search-google-bellingcattools.db\")\n",
    "e.process()\n",
    "e = Extractor(\"sqlite:////shared/data/samples/search-google-multiple-pages.db\")\n",
    "e.process()"
   ]
  },
  {
   "cell_type": "code",
   "execution_count": null,
   "id": "1245c3df-4644-43d6-a6d4-f2d8bcf3ab46",
   "metadata": {},
   "outputs": [],
   "source": []
  },
  {
   "cell_type": "code",
   "execution_count": null,
   "id": "0ea5c80b-2612-44b1-ba82-87966a2dcfa2",
   "metadata": {},
   "outputs": [],
   "source": []
  },
  {
   "cell_type": "code",
   "execution_count": null,
   "id": "e486f877-d61e-4fd4-ada9-8fda97445c1c",
   "metadata": {},
   "outputs": [],
   "source": []
  }
 ],
 "metadata": {
  "kernelspec": {
   "display_name": "Python 3 (ipykernel)",
   "language": "python",
   "name": "python3"
  },
  "language_info": {
   "codemirror_mode": {
    "name": "ipython",
    "version": 3
   },
   "file_extension": ".py",
   "mimetype": "text/x-python",
   "name": "python",
   "nbconvert_exporter": "python",
   "pygments_lexer": "ipython3",
   "version": "3.10.6"
  }
 },
 "nbformat": 4,
 "nbformat_minor": 5
}
