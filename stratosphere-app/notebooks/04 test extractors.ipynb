{
 "cells": [
  {
   "cell_type": "code",
   "execution_count": 1,
   "id": "53101b65-c193-4ba3-8a07-9dfdfb37ea8a",
   "metadata": {
    "tags": []
   },
   "outputs": [],
   "source": [
    "%load_ext autoreload\n",
    "%autoreload 2\n",
    "%reload_ext autoreload"
   ]
  },
  {
   "cell_type": "code",
   "execution_count": 2,
   "id": "8a0a8bf4-3c40-42a4-845c-b922b72ab31f",
   "metadata": {
    "tags": []
   },
   "outputs": [],
   "source": [
    "import pandas as pd\n",
    "from stratosphere import Stratosphere\n",
    "from stratosphere.utils.inspect_flows import InspectFlows\n",
    "from stratosphere import options\n",
    "from stratosphere.services.extractor import Extractor\n",
    "from stratosphere.storage.models import Flow"
   ]
  },
  {
   "cell_type": "code",
   "execution_count": 3,
   "id": "443d11a3-8722-4b60-8e2c-bd11c78dfa79",
   "metadata": {
    "tags": []
   },
   "outputs": [],
   "source": [
    "pd.options.display.max_rows = 10\n",
    "pd.options.display.max_columns = 100\n",
    "pd.options.display.max_colwidth = 100"
   ]
  },
  {
   "cell_type": "markdown",
   "id": "5b18e532-12aa-4fc2-a14f-fb54680d9549",
   "metadata": {
    "tags": []
   },
   "source": [
    "## Process all samples"
   ]
  },
  {
   "cell_type": "code",
   "execution_count": 4,
   "id": "512b936a-da4a-4fb3-ad7a-4c3194aa5e7e",
   "metadata": {
    "tags": []
   },
   "outputs": [
    {
     "name": "stdout",
     "output_type": "stream",
     "text": [
      "\u001b[32m■\u001b[0m Processing 30 flows: start\n",
      "\u001b[32m■\u001b[0m Added google search 9087537177b531b83175eb5ce7ea7cc5 (11 results for query \"bellingcat tools\")\n",
      "\u001b[32m■\u001b[0m Processing 30 flows: end\n",
      "\u001b[32m■\u001b[0m Processing 192 flows: start\n",
      "\u001b[32m■\u001b[0m Added google search da120230e6be97da73b99eb8ede44b99 (13 results for query \"Bellingcat MH17\")\n",
      "\u001b[32m■\u001b[0m Added google search da120230e6be97da73b99eb8ede44b99 (10 results for query \"Bellingcat MH17\")\n",
      "\u001b[32m■\u001b[0m Added google search da120230e6be97da73b99eb8ede44b99 (9 results for query \"Bellingcat MH17\")\n",
      "\u001b[32m■\u001b[0m Added google search da120230e6be97da73b99eb8ede44b99 (11 results for query \"Bellingcat MH17\")\n",
      "\u001b[32m■\u001b[0m Added google search da120230e6be97da73b99eb8ede44b99 (10 results for query \"Bellingcat MH17\")\n",
      "\u001b[32m■\u001b[0m Added google search da120230e6be97da73b99eb8ede44b99 (10 results for query \"Bellingcat MH17\")\n",
      "\u001b[32m■\u001b[0m Added google search da120230e6be97da73b99eb8ede44b99 (10 results for query \"Bellingcat MH17\")\n",
      "\u001b[32m■\u001b[0m Added google search da120230e6be97da73b99eb8ede44b99 (11 results for query \"Bellingcat MH17\")\n",
      "\u001b[32m■\u001b[0m Added google search da120230e6be97da73b99eb8ede44b99 (10 results for query \"Bellingcat MH17\")\n",
      "\u001b[32m■\u001b[0m Added google search da120230e6be97da73b99eb8ede44b99 (10 results for query \"Bellingcat MH17\")\n",
      "\u001b[32m■\u001b[0m Added google search da120230e6be97da73b99eb8ede44b99 (11 results for query \"Bellingcat MH17\")\n",
      "\u001b[32m■\u001b[0m Processing 192 flows: end\n",
      "\u001b[32m■\u001b[0m Processing 123 flows: start\n",
      "\u001b[32m■\u001b[0m Added google search f1075112062f9e73eb030594885403a0 (10 results for query \"bellingcat controversy\")\n",
      "\u001b[32m■\u001b[0m Added google search c191981cca928d7828829506156b87c1 (18 results for query \"bellingcat mi5\")\n",
      "\u001b[32m■\u001b[0m Added google search 47328687d79cde83c2d84935a7348c5b (13 results for query \"bellingcat staff\")\n",
      "\u001b[32m■\u001b[0m Added google search aa828678ff2e05eb61d71543d625c2f0 (9 results for query \"bellingcat volunteer\")\n",
      "\u001b[32m■\u001b[0m Added google search 9087537177b531b83175eb5ce7ea7cc5 (16 results for query \"bellingcat tools\")\n",
      "\u001b[32m■\u001b[0m Processing 123 flows: end\n",
      "\u001b[32m■\u001b[0m Processing 66 flows: start\n",
      "\u001b[32m■\u001b[0m Added google search a58bd87f985da4bd22052175d76df893 (16 results for query \"who owns bellingcat\")\n",
      "\u001b[32m■\u001b[0m Processing 66 flows: end\n",
      "\u001b[32m■\u001b[0m Processing 4 flows: start\n",
      "\u001b[32m■\u001b[0m Added entity e6e1fa295df40fa68aafcd62917e77f6\n",
      "\u001b[32m■\u001b[0m Added 249 friends of entity e6e1fa295df40fa68aafcd62917e77f6\n",
      "\u001b[32m■\u001b[0m Processing 4 flows: end\n",
      "\u001b[32m■\u001b[0m Processing 142 flows: start\n",
      "\u001b[32m■\u001b[0m Added entity e6e1fa295df40fa68aafcd62917e77f6 (Andrey Kramodanov)\n",
      "\u001b[32m■\u001b[0m Processing 142 flows: end\n",
      "\u001b[32m■\u001b[0m Processing 26 flows: start\n",
      "\u001b[32m■\u001b[0m Added entity 40f845c2dc7e67434cb59f67dd4c6317 (Oleg Kvitsinia)\n",
      "\u001b[32m■\u001b[0m Processing 26 flows: end\n",
      "\u001b[32m■\u001b[0m Processing 30 flows: start\n",
      "\u001b[32m■\u001b[0m Added entity 3644a684f98ea8fe223c713b77189a77 (Andrey Strelnikov)\n",
      "\u001b[32m■\u001b[0m Added entity 577ef1154f3240ad5b9b413aa7346a1e (Frederik Bulgakov)\n",
      "\u001b[32m■\u001b[0m Added relationship 3644a684f98ea8fe223c713b77189a77 -> 577ef1154f3240ad5b9b413aa7346a1e\n",
      "\u001b[32m■\u001b[0m Added entity c07ad36b132e424c3b3be7b8ee7a6b01 (Valentin Savelyev)\n",
      "\u001b[32m■\u001b[0m Added relationship 577ef1154f3240ad5b9b413aa7346a1e -> c07ad36b132e424c3b3be7b8ee7a6b01\n",
      "\u001b[32m■\u001b[0m Processing 30 flows: end\n",
      "\u001b[32m■\u001b[0m Processing 21 flows: start\n",
      "\u001b[32m■\u001b[0m Added entity 3644a684f98ea8fe223c713b77189a77 (Andrey Strelnikov)\n",
      "\u001b[32m■\u001b[0m Added entity fcdf25d6e191893e705819b177cddea0 (Maxim Sterlyadkin)\n",
      "\u001b[32m■\u001b[0m Added relationship 3644a684f98ea8fe223c713b77189a77 -> fcdf25d6e191893e705819b177cddea0\n",
      "\u001b[32m■\u001b[0m Processing 21 flows: end\n"
     ]
    }
   ],
   "source": [
    "import glob\n",
    "for db_pathname in glob.glob(\"/shared/data/samples/*\"):\n",
    "    e = Extractor(f\"sqlite:///{db_pathname}\")\n",
    "    e.process()\n",
    "    "
   ]
  },
  {
   "cell_type": "markdown",
   "id": "0d2ff2eb-44f8-4fb6-8eae-f6706cbc438c",
   "metadata": {},
   "source": [
    "## Samples vk.com"
   ]
  },
  {
   "cell_type": "code",
   "execution_count": 5,
   "id": "64e8fcf3-7fc4-45ce-b3d6-5ccb7e729d04",
   "metadata": {
    "tags": []
   },
   "outputs": [
    {
     "name": "stdout",
     "output_type": "stream",
     "text": [
      "\u001b[32m■\u001b[0m Processing 142 flows: start\n",
      "\u001b[32m■\u001b[0m Added entity e6e1fa295df40fa68aafcd62917e77f6 (Andrey Kramodanov)\n",
      "\u001b[32m■\u001b[0m Processing 142 flows: end\n"
     ]
    }
   ],
   "source": [
    "# Test extraction of user page , entity 8cfdfe5c-a59f-3a55-d7ab-1cd8553033ea\n",
    "e = Extractor(\"sqlite:////shared/data/samples/vk-person.db\")\n",
    "e.process()"
   ]
  },
  {
   "cell_type": "code",
   "execution_count": 6,
   "id": "fd626788-de01-468c-8277-ff071329bd4b",
   "metadata": {
    "tags": []
   },
   "outputs": [
    {
     "data": {
      "text/html": [
       "<div>\n",
       "<style scoped>\n",
       "    .dataframe tbody tr th:only-of-type {\n",
       "        vertical-align: middle;\n",
       "    }\n",
       "\n",
       "    .dataframe tbody tr th {\n",
       "        vertical-align: top;\n",
       "    }\n",
       "\n",
       "    .dataframe thead th {\n",
       "        text-align: right;\n",
       "    }\n",
       "</style>\n",
       "<table border=\"1\" class=\"dataframe\">\n",
       "  <thead>\n",
       "    <tr style=\"text-align: right;\">\n",
       "      <th></th>\n",
       "      <th>user_ids</th>\n",
       "    </tr>\n",
       "  </thead>\n",
       "  <tbody>\n",
       "    <tr>\n",
       "      <th>0</th>\n",
       "      <td>[\"68870871\"]</td>\n",
       "    </tr>\n",
       "    <tr>\n",
       "      <th>1</th>\n",
       "      <td>[\"2083437\"]</td>\n",
       "    </tr>\n",
       "    <tr>\n",
       "      <th>2</th>\n",
       "      <td>[\"2460541\"]</td>\n",
       "    </tr>\n",
       "    <tr>\n",
       "      <th>3</th>\n",
       "      <td>[\"3190606\"]</td>\n",
       "    </tr>\n",
       "    <tr>\n",
       "      <th>4</th>\n",
       "      <td>[\"3522545\"]</td>\n",
       "    </tr>\n",
       "    <tr>\n",
       "      <th>...</th>\n",
       "      <td>...</td>\n",
       "    </tr>\n",
       "    <tr>\n",
       "      <th>11534</th>\n",
       "      <td>[\"794704806\"]</td>\n",
       "    </tr>\n",
       "    <tr>\n",
       "      <th>11535</th>\n",
       "      <td>[\"200\"]</td>\n",
       "    </tr>\n",
       "    <tr>\n",
       "      <th>11536</th>\n",
       "      <td>[\"235\"]</td>\n",
       "    </tr>\n",
       "    <tr>\n",
       "      <th>11537</th>\n",
       "      <td>[\"35474809\"]</td>\n",
       "    </tr>\n",
       "    <tr>\n",
       "      <th>11538</th>\n",
       "      <td>[\"1494\"]</td>\n",
       "    </tr>\n",
       "  </tbody>\n",
       "</table>\n",
       "<p>11539 rows × 1 columns</p>\n",
       "</div>"
      ],
      "text/plain": [
       "            user_ids\n",
       "0       [\"68870871\"]\n",
       "1        [\"2083437\"]\n",
       "2        [\"2460541\"]\n",
       "3        [\"3190606\"]\n",
       "4        [\"3522545\"]\n",
       "...              ...\n",
       "11534  [\"794704806\"]\n",
       "11535        [\"200\"]\n",
       "11536        [\"235\"]\n",
       "11537   [\"35474809\"]\n",
       "11538       [\"1494\"]\n",
       "\n",
       "[11539 rows x 1 columns]"
      ]
     },
     "execution_count": 6,
     "metadata": {},
     "output_type": "execute_result"
    }
   ],
   "source": [
    "e.s_kb.db.pandas(\"select json_extract(data, '$.user_ids') as user_ids from entities where type = 'person'\")"
   ]
  },
  {
   "cell_type": "code",
   "execution_count": 7,
   "id": "38eecde0-cf27-47ff-8b8d-029fb6077937",
   "metadata": {
    "tags": []
   },
   "outputs": [
    {
     "name": "stdout",
     "output_type": "stream",
     "text": [
      "\u001b[32m■\u001b[0m Processing 4 flows: start\n",
      "\u001b[32m■\u001b[0m Added entity e6e1fa295df40fa68aafcd62917e77f6\n",
      "\u001b[32m■\u001b[0m Added 249 friends of entity e6e1fa295df40fa68aafcd62917e77f6\n",
      "\u001b[32m■\u001b[0m Processing 4 flows: end\n"
     ]
    },
    {
     "data": {
      "text/html": [
       "<div>\n",
       "<style scoped>\n",
       "    .dataframe tbody tr th:only-of-type {\n",
       "        vertical-align: middle;\n",
       "    }\n",
       "\n",
       "    .dataframe tbody tr th {\n",
       "        vertical-align: top;\n",
       "    }\n",
       "\n",
       "    .dataframe thead th {\n",
       "        text-align: right;\n",
       "    }\n",
       "</style>\n",
       "<table border=\"1\" class=\"dataframe\">\n",
       "  <thead>\n",
       "    <tr style=\"text-align: right;\">\n",
       "      <th></th>\n",
       "      <th>user_ids</th>\n",
       "    </tr>\n",
       "  </thead>\n",
       "  <tbody>\n",
       "    <tr>\n",
       "      <th>0</th>\n",
       "      <td>[\"68870871\"]</td>\n",
       "    </tr>\n",
       "    <tr>\n",
       "      <th>1</th>\n",
       "      <td>[\"2083437\"]</td>\n",
       "    </tr>\n",
       "    <tr>\n",
       "      <th>2</th>\n",
       "      <td>[\"2460541\"]</td>\n",
       "    </tr>\n",
       "    <tr>\n",
       "      <th>3</th>\n",
       "      <td>[\"3190606\"]</td>\n",
       "    </tr>\n",
       "    <tr>\n",
       "      <th>4</th>\n",
       "      <td>[\"3522545\"]</td>\n",
       "    </tr>\n",
       "    <tr>\n",
       "      <th>...</th>\n",
       "      <td>...</td>\n",
       "    </tr>\n",
       "    <tr>\n",
       "      <th>11534</th>\n",
       "      <td>[\"794704806\"]</td>\n",
       "    </tr>\n",
       "    <tr>\n",
       "      <th>11535</th>\n",
       "      <td>[\"200\"]</td>\n",
       "    </tr>\n",
       "    <tr>\n",
       "      <th>11536</th>\n",
       "      <td>[\"235\"]</td>\n",
       "    </tr>\n",
       "    <tr>\n",
       "      <th>11537</th>\n",
       "      <td>[\"35474809\"]</td>\n",
       "    </tr>\n",
       "    <tr>\n",
       "      <th>11538</th>\n",
       "      <td>[\"1494\"]</td>\n",
       "    </tr>\n",
       "  </tbody>\n",
       "</table>\n",
       "<p>11539 rows × 1 columns</p>\n",
       "</div>"
      ],
      "text/plain": [
       "            user_ids\n",
       "0       [\"68870871\"]\n",
       "1        [\"2083437\"]\n",
       "2        [\"2460541\"]\n",
       "3        [\"3190606\"]\n",
       "4        [\"3522545\"]\n",
       "...              ...\n",
       "11534  [\"794704806\"]\n",
       "11535        [\"200\"]\n",
       "11536        [\"235\"]\n",
       "11537   [\"35474809\"]\n",
       "11538       [\"1494\"]\n",
       "\n",
       "[11539 rows x 1 columns]"
      ]
     },
     "execution_count": 7,
     "metadata": {},
     "output_type": "execute_result"
    }
   ],
   "source": [
    "# Test extraction of friends list for entity 8cfdfe5c-a59f-3a55-d7ab-1cd8553033ea\n",
    "e = Extractor(\"sqlite:////shared/data/samples/vk-friends.db\")\n",
    "e.process()\n",
    "e.s_kb.db.pandas(\"select json_extract(data, '$.user_ids') as user_ids from entities where type = 'person'\")"
   ]
  },
  {
   "cell_type": "code",
   "execution_count": 12,
   "id": "fc55a00b-895b-4643-b46e-78b3e020ed92",
   "metadata": {
    "tags": []
   },
   "outputs": [
    {
     "name": "stdout",
     "output_type": "stream",
     "text": [
      "\u001b[32m■\u001b[0m Processing 26 flows: start\n",
      "\u001b[32m■\u001b[0m Added entity 40f845c2dc7e67434cb59f67dd4c6317 (Oleg Kvitsinia)\n",
      "\u001b[32m■\u001b[0m Processing 26 flows: end\n"
     ]
    }
   ],
   "source": [
    "# Test extraction of friends list for entity 5801c74b-1b76-35d6-dbcb-0946e2bf4726, a friend of 8cfdfe5c-a59f-3a55-d7ab-1cd8553033ea\n",
    "e = Extractor(\"sqlite:////shared/data/samples/vk-person_friend.db\")\n",
    "e.process()"
   ]
  },
  {
   "cell_type": "code",
   "execution_count": 13,
   "id": "b45e4687-afb3-4064-82a3-9ce97b1a5da6",
   "metadata": {
    "tags": []
   },
   "outputs": [
    {
     "name": "stdout",
     "output_type": "stream",
     "text": [
      "\u001b[32m■\u001b[0m Processing 21 flows: start\n",
      "\u001b[32m■\u001b[0m Added entity 3644a684f98ea8fe223c713b77189a77 (Andrey Strelnikov)\n",
      "\u001b[32m■\u001b[0m Added entity fcdf25d6e191893e705819b177cddea0 (Maxim Sterlyadkin)\n",
      "\u001b[32m■\u001b[0m Added relationship 3644a684f98ea8fe223c713b77189a77 -> fcdf25d6e191893e705819b177cddea0\n",
      "\u001b[32m■\u001b[0m Processing 21 flows: end\n"
     ]
    }
   ],
   "source": [
    "# Test extraction friendship relationship: from https://vk.com/id200 to friend https://vk.com/maximka8 (clicking on link from friends list)\n",
    "e = Extractor(\"sqlite:////shared/data/samples/vk.com-visiting-friend-from-friend.db\")\n",
    "e.process()\n"
   ]
  },
  {
   "cell_type": "code",
   "execution_count": 14,
   "id": "1bf6a3e5-9d18-4d8c-8ecd-4c59594db232",
   "metadata": {
    "tags": []
   },
   "outputs": [
    {
     "name": "stdout",
     "output_type": "stream",
     "text": [
      "\u001b[32m■\u001b[0m Processing 30 flows: start\n",
      "\u001b[32m■\u001b[0m Added entity 3644a684f98ea8fe223c713b77189a77 (Andrey Strelnikov)\n",
      "\u001b[32m■\u001b[0m Added entity 577ef1154f3240ad5b9b413aa7346a1e (Frederik Bulgakov)\n",
      "\u001b[32m■\u001b[0m Added relationship 3644a684f98ea8fe223c713b77189a77 -> 577ef1154f3240ad5b9b413aa7346a1e\n",
      "\u001b[32m■\u001b[0m Added entity c07ad36b132e424c3b3be7b8ee7a6b01 (Valentin Savelyev)\n",
      "\u001b[32m■\u001b[0m Added relationship 577ef1154f3240ad5b9b413aa7346a1e -> c07ad36b132e424c3b3be7b8ee7a6b01\n",
      "\u001b[32m■\u001b[0m Processing 30 flows: end\n"
     ]
    }
   ],
   "source": [
    "# Test extraction chain of friends\n",
    "# andrey -> frederick -> valentin\n",
    "e = Extractor(\"sqlite:////shared/data/samples/vk.com-chain-of-friends.db\")\n",
    "e.process()\n"
   ]
  },
  {
   "cell_type": "markdown",
   "id": "391e9ce9-8765-4bd8-acf6-b1999e13468a",
   "metadata": {},
   "source": [
    "## Samples google searches"
   ]
  },
  {
   "cell_type": "code",
   "execution_count": 15,
   "id": "3d2dca96-99a3-444f-a73f-378711b7e529",
   "metadata": {
    "tags": []
   },
   "outputs": [
    {
     "name": "stdout",
     "output_type": "stream",
     "text": [
      "\u001b[32m■\u001b[0m Processing 30 flows: start\n",
      "\u001b[32m■\u001b[0m Added google search 9087537177b531b83175eb5ce7ea7cc5 (11 results for query \"bellingcat tools\")\n",
      "\u001b[32m■\u001b[0m Processing 30 flows: end\n",
      "\u001b[32m■\u001b[0m Processing 192 flows: start\n",
      "\u001b[32m■\u001b[0m Added google search da120230e6be97da73b99eb8ede44b99 (13 results for query \"Bellingcat MH17\")\n",
      "\u001b[32m■\u001b[0m Added google search da120230e6be97da73b99eb8ede44b99 (10 results for query \"Bellingcat MH17\")\n",
      "\u001b[32m■\u001b[0m Added google search da120230e6be97da73b99eb8ede44b99 (9 results for query \"Bellingcat MH17\")\n",
      "\u001b[32m■\u001b[0m Added google search da120230e6be97da73b99eb8ede44b99 (11 results for query \"Bellingcat MH17\")\n",
      "\u001b[32m■\u001b[0m Added google search da120230e6be97da73b99eb8ede44b99 (10 results for query \"Bellingcat MH17\")\n",
      "\u001b[32m■\u001b[0m Added google search da120230e6be97da73b99eb8ede44b99 (10 results for query \"Bellingcat MH17\")\n",
      "\u001b[32m■\u001b[0m Added google search da120230e6be97da73b99eb8ede44b99 (10 results for query \"Bellingcat MH17\")\n",
      "\u001b[32m■\u001b[0m Added google search da120230e6be97da73b99eb8ede44b99 (11 results for query \"Bellingcat MH17\")\n",
      "\u001b[32m■\u001b[0m Added google search da120230e6be97da73b99eb8ede44b99 (10 results for query \"Bellingcat MH17\")\n",
      "\u001b[32m■\u001b[0m Added google search da120230e6be97da73b99eb8ede44b99 (10 results for query \"Bellingcat MH17\")\n",
      "\u001b[32m■\u001b[0m Added google search da120230e6be97da73b99eb8ede44b99 (11 results for query \"Bellingcat MH17\")\n",
      "\u001b[32m■\u001b[0m Processing 192 flows: end\n"
     ]
    }
   ],
   "source": [
    "# Test extraction of google search results\n",
    "e = Extractor(\"sqlite:////shared/data/samples/search-google-bellingcattools.db\")\n",
    "e.process()\n",
    "e = Extractor(\"sqlite:////shared/data/samples/search-google-multiple-pages.db\")\n",
    "e.process()"
   ]
  },
  {
   "cell_type": "code",
   "execution_count": null,
   "id": "1245c3df-4644-43d6-a6d4-f2d8bcf3ab46",
   "metadata": {},
   "outputs": [],
   "source": []
  }
 ],
 "metadata": {
  "kernelspec": {
   "display_name": "Python 3 (ipykernel)",
   "language": "python",
   "name": "python3"
  },
  "language_info": {
   "codemirror_mode": {
    "name": "ipython",
    "version": 3
   },
   "file_extension": ".py",
   "mimetype": "text/x-python",
   "name": "python",
   "nbconvert_exporter": "python",
   "pygments_lexer": "ipython3",
   "version": "3.10.6"
  }
 },
 "nbformat": 4,
 "nbformat_minor": 5
}
