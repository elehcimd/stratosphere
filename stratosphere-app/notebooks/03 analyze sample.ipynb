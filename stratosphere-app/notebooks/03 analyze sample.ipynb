{
 "cells": [
  {
   "cell_type": "code",
   "execution_count": 1,
   "id": "53101b65-c193-4ba3-8a07-9dfdfb37ea8a",
   "metadata": {
    "tags": []
   },
   "outputs": [],
   "source": [
    "%load_ext autoreload\n",
    "%autoreload 2\n",
    "%reload_ext autoreload"
   ]
  },
  {
   "cell_type": "code",
   "execution_count": 2,
   "id": "8a0a8bf4-3c40-42a4-845c-b922b72ab31f",
   "metadata": {
    "tags": []
   },
   "outputs": [],
   "source": [
    "import pandas as pd\n",
    "from stratosphere import Stratosphere\n",
    "from stratosphere.utils.inspect_flows import InspectFlows\n",
    "from stratosphere import options"
   ]
  },
  {
   "cell_type": "code",
   "execution_count": 3,
   "id": "443d11a3-8722-4b60-8e2c-bd11c78dfa79",
   "metadata": {
    "tags": []
   },
   "outputs": [],
   "source": [
    "pd.options.display.max_rows = 10\n",
    "pd.options.display.max_columns = 100\n",
    "pd.options.display.max_colwidth = 100"
   ]
  },
  {
   "cell_type": "code",
   "execution_count": 6,
   "id": "6a736b1b-edd6-49be-8843-f2dcaca99d68",
   "metadata": {
    "tags": []
   },
   "outputs": [
    {
     "name": "stdout",
     "output_type": "stream",
     "text": [
      "search-google-bellingcattools.db    vk.com-visiting-friend-from-friend.db\n",
      "search-google.db\t\t    vk-friends.db\n",
      "search-google-multiple-pages.db     vk-person.db\n",
      "search-google-multiple-searches.db  vk-person_friend.db\n",
      "vk.com-chain-of-friends.db\n"
     ]
    }
   ],
   "source": [
    "!ls /shared/data/samples"
   ]
  },
  {
   "cell_type": "code",
   "execution_count": 9,
   "id": "64e8fcf3-7fc4-45ce-b3d6-5ccb7e729d04",
   "metadata": {
    "tags": []
   },
   "outputs": [
    {
     "name": "stdout",
     "output_type": "stream",
     "text": [
      "Overview: 66 flows (11.02 seconds) distributed as follows:\n"
     ]
    },
    {
     "data": {
      "text/html": [
       "<div>\n",
       "<style scoped>\n",
       "    .dataframe tbody tr th:only-of-type {\n",
       "        vertical-align: middle;\n",
       "    }\n",
       "\n",
       "    .dataframe tbody tr th {\n",
       "        vertical-align: top;\n",
       "    }\n",
       "\n",
       "    .dataframe thead th {\n",
       "        text-align: right;\n",
       "    }\n",
       "</style>\n",
       "<table border=\"1\" class=\"dataframe\">\n",
       "  <thead>\n",
       "    <tr style=\"text-align: right;\">\n",
       "      <th></th>\n",
       "      <th>host</th>\n",
       "      <th>port</th>\n",
       "      <th>method</th>\n",
       "      <th>flow_request_headers_content_type</th>\n",
       "      <th>flow_response_headers_content_type</th>\n",
       "      <th>count</th>\n",
       "    </tr>\n",
       "  </thead>\n",
       "  <tbody>\n",
       "    <tr>\n",
       "      <th>0</th>\n",
       "      <td>www.google.com</td>\n",
       "      <td>443</td>\n",
       "      <td>POST</td>\n",
       "      <td></td>\n",
       "      <td>text/html; charset=UTF-8</td>\n",
       "      <td>32</td>\n",
       "    </tr>\n",
       "    <tr>\n",
       "      <th>1</th>\n",
       "      <td>www.google.com</td>\n",
       "      <td>443</td>\n",
       "      <td>GET</td>\n",
       "      <td></td>\n",
       "      <td>application/json; charset=UTF-8</td>\n",
       "      <td>21</td>\n",
       "    </tr>\n",
       "    <tr>\n",
       "      <th>2</th>\n",
       "      <td>www.google.com</td>\n",
       "      <td>443</td>\n",
       "      <td>GET</td>\n",
       "      <td></td>\n",
       "      <td>text/html; charset=UTF-8</td>\n",
       "      <td>4</td>\n",
       "    </tr>\n",
       "    <tr>\n",
       "      <th>3</th>\n",
       "      <td>play.google.com</td>\n",
       "      <td>443</td>\n",
       "      <td>POST</td>\n",
       "      <td>application/x-www-form-urlencoded;charset=UTF-8</td>\n",
       "      <td>text/plain; charset=UTF-8</td>\n",
       "      <td>2</td>\n",
       "    </tr>\n",
       "    <tr>\n",
       "      <th>4</th>\n",
       "      <td>www.google.com</td>\n",
       "      <td>443</td>\n",
       "      <td>POST</td>\n",
       "      <td>text/plain;charset=UTF-8</td>\n",
       "      <td>text/html; charset=UTF-8</td>\n",
       "      <td>2</td>\n",
       "    </tr>\n",
       "    <tr>\n",
       "      <th>5</th>\n",
       "      <td>adservice.google.com</td>\n",
       "      <td>443</td>\n",
       "      <td>GET</td>\n",
       "      <td></td>\n",
       "      <td>text/html; charset=UTF-8</td>\n",
       "      <td>1</td>\n",
       "    </tr>\n",
       "    <tr>\n",
       "      <th>6</th>\n",
       "      <td>encrypted-tbn0.gstatic.com</td>\n",
       "      <td>443</td>\n",
       "      <td>GET</td>\n",
       "      <td></td>\n",
       "      <td>image/jpeg</td>\n",
       "      <td>1</td>\n",
       "    </tr>\n",
       "    <tr>\n",
       "      <th>7</th>\n",
       "      <td>encrypted-tbn0.gstatic.com</td>\n",
       "      <td>443</td>\n",
       "      <td>GET</td>\n",
       "      <td></td>\n",
       "      <td>image/png</td>\n",
       "      <td>1</td>\n",
       "    </tr>\n",
       "    <tr>\n",
       "      <th>8</th>\n",
       "      <td>www.google.com</td>\n",
       "      <td>443</td>\n",
       "      <td>GET</td>\n",
       "      <td></td>\n",
       "      <td>text/javascript</td>\n",
       "      <td>1</td>\n",
       "    </tr>\n",
       "    <tr>\n",
       "      <th>9</th>\n",
       "      <td>www.google.com</td>\n",
       "      <td>443</td>\n",
       "      <td>POST</td>\n",
       "      <td>application/x-www-form-urlencoded;charset=UTF-8</td>\n",
       "      <td>text/plain; charset=UTF-8</td>\n",
       "      <td>1</td>\n",
       "    </tr>\n",
       "  </tbody>\n",
       "</table>\n",
       "</div>"
      ],
      "text/plain": [
       "                         host  port method  \\\n",
       "0              www.google.com   443   POST   \n",
       "1              www.google.com   443    GET   \n",
       "2              www.google.com   443    GET   \n",
       "3             play.google.com   443   POST   \n",
       "4              www.google.com   443   POST   \n",
       "5        adservice.google.com   443    GET   \n",
       "6  encrypted-tbn0.gstatic.com   443    GET   \n",
       "7  encrypted-tbn0.gstatic.com   443    GET   \n",
       "8              www.google.com   443    GET   \n",
       "9              www.google.com   443   POST   \n",
       "\n",
       "                 flow_request_headers_content_type  \\\n",
       "0                                                    \n",
       "1                                                    \n",
       "2                                                    \n",
       "3  application/x-www-form-urlencoded;charset=UTF-8   \n",
       "4                         text/plain;charset=UTF-8   \n",
       "5                                                    \n",
       "6                                                    \n",
       "7                                                    \n",
       "8                                                    \n",
       "9  application/x-www-form-urlencoded;charset=UTF-8   \n",
       "\n",
       "  flow_response_headers_content_type  count  \n",
       "0           text/html; charset=UTF-8     32  \n",
       "1    application/json; charset=UTF-8     21  \n",
       "2           text/html; charset=UTF-8      4  \n",
       "3          text/plain; charset=UTF-8      2  \n",
       "4           text/html; charset=UTF-8      2  \n",
       "5           text/html; charset=UTF-8      1  \n",
       "6                         image/jpeg      1  \n",
       "7                          image/png      1  \n",
       "8                    text/javascript      1  \n",
       "9          text/plain; charset=UTF-8      1  "
      ]
     },
     "metadata": {},
     "output_type": "display_data"
    }
   ],
   "source": [
    "s = Stratosphere(\"sqlite:////shared/data/samples/search-google.db\")\n",
    "df = s.db.pandas(\"select * from flows\").fillna(\"\")\n",
    "ifs = InspectFlows(df)\n",
    "ifs.overview()"
   ]
  },
  {
   "cell_type": "code",
   "execution_count": 10,
   "id": "4a21a56d-2baf-44d5-97c3-c75e0f290113",
   "metadata": {
    "tags": []
   },
   "outputs": [
    {
     "name": "stdout",
     "output_type": "stream",
     "text": [
      "================================[URL]===========================================\n",
      "METHOD: POST\n",
      "URL: https://www.google.com/gen_204?atyp=i&ei=VsgyZIaCArKYptQPy_CkmAk&ct=usp:t&zx=1681049694975\n",
      "Query:\n"
     ]
    },
    {
     "data": {
      "application/json": {
       "atyp": [
        "i"
       ],
       "ct": [
        "usp:t"
       ],
       "ei": [
        "VsgyZIaCArKYptQPy_CkmAk"
       ],
       "zx": [
        "1681049694975"
       ]
      },
      "text/plain": [
       "<IPython.core.display.JSON object>"
      ]
     },
     "metadata": {
      "application/json": {
       "expanded": true,
       "root": "root"
      }
     },
     "output_type": "display_data"
    },
    {
     "name": "stdout",
     "output_type": "stream",
     "text": [
      "================================[request-content]==============================\n",
      "content-type: \n",
      "JSON-parsable? False\n",
      "--\n",
      "b''\n",
      "--\n",
      "================================[request-response]============================\n",
      "content-type: text/html; charset=UTF-8\n",
      "JSON-parsable? False\n",
      "--\n",
      "b''\n",
      "--\n"
     ]
    }
   ],
   "source": [
    "ifs.flow(0).overview()"
   ]
  },
  {
   "cell_type": "code",
   "execution_count": null,
   "id": "4000bddb-96f4-4124-8d36-fdea9c29ec83",
   "metadata": {},
   "outputs": [],
   "source": []
  }
 ],
 "metadata": {
  "kernelspec": {
   "display_name": "Python 3 (ipykernel)",
   "language": "python",
   "name": "python3"
  },
  "language_info": {
   "codemirror_mode": {
    "name": "ipython",
    "version": 3
   },
   "file_extension": ".py",
   "mimetype": "text/x-python",
   "name": "python",
   "nbconvert_exporter": "python",
   "pygments_lexer": "ipython3",
   "version": "3.10.6"
  }
 },
 "nbformat": 4,
 "nbformat_minor": 5
}
