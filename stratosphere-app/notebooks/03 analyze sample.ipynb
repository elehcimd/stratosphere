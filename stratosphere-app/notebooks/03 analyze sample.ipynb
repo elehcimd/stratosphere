{
 "cells": [
  {
   "cell_type": "code",
   "execution_count": 7,
   "id": "53101b65-c193-4ba3-8a07-9dfdfb37ea8a",
   "metadata": {
    "tags": []
   },
   "outputs": [
    {
     "name": "stdout",
     "output_type": "stream",
     "text": [
      "The autoreload extension is already loaded. To reload it, use:\n",
      "  %reload_ext autoreload\n"
     ]
    }
   ],
   "source": [
    "%load_ext autoreload\n",
    "%autoreload 2\n",
    "%reload_ext autoreload"
   ]
  },
  {
   "cell_type": "code",
   "execution_count": 8,
   "id": "8a0a8bf4-3c40-42a4-845c-b922b72ab31f",
   "metadata": {
    "tags": []
   },
   "outputs": [],
   "source": [
    "import pandas as pd\n",
    "from stratosphere import Stratosphere\n",
    "from stratosphere.utils.inspect_flows import InspectFlows\n",
    "from stratosphere import options"
   ]
  },
  {
   "cell_type": "code",
   "execution_count": 9,
   "id": "443d11a3-8722-4b60-8e2c-bd11c78dfa79",
   "metadata": {
    "tags": []
   },
   "outputs": [],
   "source": [
    "pd.options.display.max_rows = 10\n",
    "pd.options.display.max_columns = 100\n",
    "pd.options.display.max_colwidth = 100"
   ]
  },
  {
   "cell_type": "code",
   "execution_count": 10,
   "id": "6a736b1b-edd6-49be-8843-f2dcaca99d68",
   "metadata": {
    "tags": []
   },
   "outputs": [
    {
     "name": "stdout",
     "output_type": "stream",
     "text": [
      "search-google-bellingcattools.db    vk.com-visiting-friend-from-friend.db\n",
      "search-google.db\t\t    vk-friends.db\n",
      "search-google-multiple-pages.db     vk-person.db\n",
      "search-google-multiple-searches.db  vk-person_friend.db\n",
      "vk.com-chain-of-friends.db\n"
     ]
    }
   ],
   "source": [
    "!ls /shared/data/samples"
   ]
  },
  {
   "cell_type": "code",
   "execution_count": 11,
   "id": "64e8fcf3-7fc4-45ce-b3d6-5ccb7e729d04",
   "metadata": {
    "tags": []
   },
   "outputs": [
    {
     "name": "stdout",
     "output_type": "stream",
     "text": [
      "Overview: 24 flows (3.98 seconds) distributed as follows:\n"
     ]
    },
    {
     "data": {
      "text/html": [
       "<div>\n",
       "<style scoped>\n",
       "    .dataframe tbody tr th:only-of-type {\n",
       "        vertical-align: middle;\n",
       "    }\n",
       "\n",
       "    .dataframe tbody tr th {\n",
       "        vertical-align: top;\n",
       "    }\n",
       "\n",
       "    .dataframe thead th {\n",
       "        text-align: right;\n",
       "    }\n",
       "</style>\n",
       "<table border=\"1\" class=\"dataframe\">\n",
       "  <thead>\n",
       "    <tr style=\"text-align: right;\">\n",
       "      <th></th>\n",
       "      <th>host</th>\n",
       "      <th>port</th>\n",
       "      <th>method</th>\n",
       "      <th>flow_request_headers_content_type</th>\n",
       "      <th>flow_response_headers_content_type</th>\n",
       "      <th>count</th>\n",
       "    </tr>\n",
       "  </thead>\n",
       "  <tbody>\n",
       "    <tr>\n",
       "      <th>0</th>\n",
       "      <td>www.linkedin.com</td>\n",
       "      <td>443</td>\n",
       "      <td>GET</td>\n",
       "      <td></td>\n",
       "      <td>application/vnd.linkedin.deduped+x-protobuf+2.0+gql; symbol-table=voyager-16029; charset=UTF-8</td>\n",
       "      <td>6</td>\n",
       "    </tr>\n",
       "    <tr>\n",
       "      <th>1</th>\n",
       "      <td>www.linkedin.com</td>\n",
       "      <td>443</td>\n",
       "      <td>GET</td>\n",
       "      <td></td>\n",
       "      <td>application/vnd.linkedin.deduped+x-protobuf; symbol-table=voyager-16029; charset=UTF-8</td>\n",
       "      <td>6</td>\n",
       "    </tr>\n",
       "    <tr>\n",
       "      <th>2</th>\n",
       "      <td>www.linkedin.com</td>\n",
       "      <td>443</td>\n",
       "      <td>GET</td>\n",
       "      <td></td>\n",
       "      <td>application/json</td>\n",
       "      <td>4</td>\n",
       "    </tr>\n",
       "    <tr>\n",
       "      <th>3</th>\n",
       "      <td>www.linkedin.com</td>\n",
       "      <td>443</td>\n",
       "      <td>POST</td>\n",
       "      <td>application/x-protobuf2</td>\n",
       "      <td>text/plain; charset=utf-8</td>\n",
       "      <td>2</td>\n",
       "    </tr>\n",
       "    <tr>\n",
       "      <th>4</th>\n",
       "      <td>ocsp2.apple.com</td>\n",
       "      <td>443</td>\n",
       "      <td>GET</td>\n",
       "      <td></td>\n",
       "      <td>text/html</td>\n",
       "      <td>1</td>\n",
       "    </tr>\n",
       "    <tr>\n",
       "      <th>5</th>\n",
       "      <td>s2s.singular.net</td>\n",
       "      <td>443</td>\n",
       "      <td>GET</td>\n",
       "      <td></td>\n",
       "      <td>application/json</td>\n",
       "      <td>1</td>\n",
       "    </tr>\n",
       "    <tr>\n",
       "      <th>6</th>\n",
       "      <td>www.linkedin.com</td>\n",
       "      <td>443</td>\n",
       "      <td>GET</td>\n",
       "      <td></td>\n",
       "      <td>application/vnd.linkedin.deduped+x-protobuf+2.0; symbol-table=voyager-16029; charset=UTF-8</td>\n",
       "      <td>1</td>\n",
       "    </tr>\n",
       "    <tr>\n",
       "      <th>7</th>\n",
       "      <td>www.linkedin.com</td>\n",
       "      <td>443</td>\n",
       "      <td>POST</td>\n",
       "      <td>application/json</td>\n",
       "      <td></td>\n",
       "      <td>1</td>\n",
       "    </tr>\n",
       "    <tr>\n",
       "      <th>8</th>\n",
       "      <td>www.linkedin.com</td>\n",
       "      <td>443</td>\n",
       "      <td>POST</td>\n",
       "      <td>application/x-protobuf2</td>\n",
       "      <td></td>\n",
       "      <td>1</td>\n",
       "    </tr>\n",
       "    <tr>\n",
       "      <th>9</th>\n",
       "      <td>www.linkedin.com</td>\n",
       "      <td>443</td>\n",
       "      <td>POST</td>\n",
       "      <td>application/x-protobuf2</td>\n",
       "      <td>application/json</td>\n",
       "      <td>1</td>\n",
       "    </tr>\n",
       "  </tbody>\n",
       "</table>\n",
       "</div>"
      ],
      "text/plain": [
       "               host  port method flow_request_headers_content_type  \\\n",
       "0  www.linkedin.com   443    GET                                     \n",
       "1  www.linkedin.com   443    GET                                     \n",
       "2  www.linkedin.com   443    GET                                     \n",
       "3  www.linkedin.com   443   POST           application/x-protobuf2   \n",
       "4   ocsp2.apple.com   443    GET                                     \n",
       "5  s2s.singular.net   443    GET                                     \n",
       "6  www.linkedin.com   443    GET                                     \n",
       "7  www.linkedin.com   443   POST                  application/json   \n",
       "8  www.linkedin.com   443   POST           application/x-protobuf2   \n",
       "9  www.linkedin.com   443   POST           application/x-protobuf2   \n",
       "\n",
       "                                                               flow_response_headers_content_type  \\\n",
       "0  application/vnd.linkedin.deduped+x-protobuf+2.0+gql; symbol-table=voyager-16029; charset=UTF-8   \n",
       "1          application/vnd.linkedin.deduped+x-protobuf; symbol-table=voyager-16029; charset=UTF-8   \n",
       "2                                                                                application/json   \n",
       "3                                                                       text/plain; charset=utf-8   \n",
       "4                                                                                       text/html   \n",
       "5                                                                                application/json   \n",
       "6      application/vnd.linkedin.deduped+x-protobuf+2.0; symbol-table=voyager-16029; charset=UTF-8   \n",
       "7                                                                                                   \n",
       "8                                                                                                   \n",
       "9                                                                                application/json   \n",
       "\n",
       "   count  \n",
       "0      6  \n",
       "1      6  \n",
       "2      4  \n",
       "3      2  \n",
       "4      1  \n",
       "5      1  \n",
       "6      1  \n",
       "7      1  \n",
       "8      1  \n",
       "9      1  "
      ]
     },
     "metadata": {},
     "output_type": "display_data"
    }
   ],
   "source": [
    "s = Stratosphere(\"sqlite:////shared/data/sample.db\")\n",
    "#s = Stratosphere(\"sqlite:////shared/data/samples/search-google.db\")\n",
    "df = s.db.pandas(\"select * from flows\").fillna(\"\")\n",
    "ifs = InspectFlows(df)\n",
    "ifs.overview()"
   ]
  },
  {
   "cell_type": "code",
   "execution_count": 12,
   "id": "fc51a6dd-a3c0-45b0-9555-63fcd9b480d1",
   "metadata": {
    "tags": []
   },
   "outputs": [
    {
     "data": {
      "text/html": [
       "<div>\n",
       "<style scoped>\n",
       "    .dataframe tbody tr th:only-of-type {\n",
       "        vertical-align: middle;\n",
       "    }\n",
       "\n",
       "    .dataframe tbody tr th {\n",
       "        vertical-align: top;\n",
       "    }\n",
       "\n",
       "    .dataframe thead th {\n",
       "        text-align: right;\n",
       "    }\n",
       "</style>\n",
       "<table border=\"1\" class=\"dataframe\">\n",
       "  <thead>\n",
       "    <tr style=\"text-align: right;\">\n",
       "      <th></th>\n",
       "      <th>flow_capture_timestamp</th>\n",
       "      <th>host_port_method</th>\n",
       "      <th>url_path_beginswith</th>\n",
       "      <th>response_is_text</th>\n",
       "      <th>response_is_json</th>\n",
       "      <th>flow_response_content_startswith</th>\n",
       "    </tr>\n",
       "  </thead>\n",
       "  <tbody>\n",
       "    <tr>\n",
       "      <th>0</th>\n",
       "      <td>2023-04-14 11:48:02.008088</td>\n",
       "      <td>ocsp2.apple.com:443@GET</td>\n",
       "      <td>/ocsp03-wwdr04/MEcwRTBDMEEwPzA</td>\n",
       "      <td>True</td>\n",
       "      <td>False</td>\n",
       "      <td>b'&lt;HTML&gt;\\n&lt;HEAD&gt;\\n&lt;TITLE&gt;Error&lt;/TI'</td>\n",
       "    </tr>\n",
       "    <tr>\n",
       "      <th>1</th>\n",
       "      <td>2023-04-14 11:48:02.131438</td>\n",
       "      <td>www.linkedin.com:443@GET</td>\n",
       "      <td>/voyager/api/graphql</td>\n",
       "      <td>True</td>\n",
       "      <td>False</td>\n",
       "      <td>b'\\x00\\x01\\x03\\x9e*\\x00\\x01\\x03\\xcbk\\x00\\x01\\x03\\xc28\\x01\\x00'</td>\n",
       "    </tr>\n",
       "    <tr>\n",
       "      <th>2</th>\n",
       "      <td>2023-04-14 11:48:02.247612</td>\n",
       "      <td>www.linkedin.com:443@GET</td>\n",
       "      <td>/voyager/api/voyagerDashMySett</td>\n",
       "      <td>True</td>\n",
       "      <td>False</td>\n",
       "      <td>b'\\x00\\x0b\\x03\\xe9\\x1d\\x03\\xa7&amp;\\x03\\x91\\x04\\x03\\x8c)\\x03\\xf47\\x03\\xd7\\x13\\x03\\xb36\\x08\\x03\\xdd^\\...</td>\n",
       "    </tr>\n",
       "    <tr>\n",
       "      <th>3</th>\n",
       "      <td>2023-04-14 11:48:02.369719</td>\n",
       "      <td>www.linkedin.com:443@GET</td>\n",
       "      <td>/voyager/api/graphql</td>\n",
       "      <td>True</td>\n",
       "      <td>False</td>\n",
       "      <td>b'\\x00\\x01\\x03\\x9e*\\x00\\x01\\x03\\x8dm\\x00\\x0b\\x03\\xb5&gt;\\x08\\x03\\xa1\\x11\\x08\\x03\\xbb\\x1d\\x03\\xe5\\x1...</td>\n",
       "    </tr>\n",
       "    <tr>\n",
       "      <th>4</th>\n",
       "      <td>2023-04-14 11:48:02.479315</td>\n",
       "      <td>www.linkedin.com:443@GET</td>\n",
       "      <td>/voyager/api/voyagerIdentityDa</td>\n",
       "      <td>True</td>\n",
       "      <td>False</td>\n",
       "      <td>b'\\x0e\\x03\\nsourceUrns!com.linkedin.com'</td>\n",
       "    </tr>\n",
       "    <tr>\n",
       "      <th>...</th>\n",
       "      <td>...</td>\n",
       "      <td>...</td>\n",
       "      <td>...</td>\n",
       "      <td>...</td>\n",
       "      <td>...</td>\n",
       "      <td>...</td>\n",
       "    </tr>\n",
       "    <tr>\n",
       "      <th>18</th>\n",
       "      <td>2023-04-14 11:48:04.247680</td>\n",
       "      <td>s2s.singular.net:443@GET</td>\n",
       "      <td>/api/v1/launch</td>\n",
       "      <td>True</td>\n",
       "      <td>True</td>\n",
       "      <td>b'{\"status\":\"ok\"}\\n'</td>\n",
       "    </tr>\n",
       "    <tr>\n",
       "      <th>19</th>\n",
       "      <td>2023-04-14 11:48:04.623806</td>\n",
       "      <td>www.linkedin.com:443@POST</td>\n",
       "      <td>/li/track</td>\n",
       "      <td>True</td>\n",
       "      <td>False</td>\n",
       "      <td>b''</td>\n",
       "    </tr>\n",
       "    <tr>\n",
       "      <th>20</th>\n",
       "      <td>2023-04-14 11:48:04.760662</td>\n",
       "      <td>www.linkedin.com:443@GET</td>\n",
       "      <td>/realtime/realtimeFrontendTime</td>\n",
       "      <td>True</td>\n",
       "      <td>True</td>\n",
       "      <td>b'{\"timestamp\":1681472884563}'</td>\n",
       "    </tr>\n",
       "    <tr>\n",
       "      <th>22</th>\n",
       "      <td>2023-04-14 11:48:05.370506</td>\n",
       "      <td>www.linkedin.com:443@GET</td>\n",
       "      <td>/voyager/api/voyagerSocialDash</td>\n",
       "      <td>True</td>\n",
       "      <td>False</td>\n",
       "      <td>b'\\x0eG\\x15/defaultToActivityTab!/comp'</td>\n",
       "    </tr>\n",
       "    <tr>\n",
       "      <th>23</th>\n",
       "      <td>2023-04-14 11:48:05.989088</td>\n",
       "      <td>www.linkedin.com:443@GET</td>\n",
       "      <td>/realtime/realtimeFrontendTime</td>\n",
       "      <td>True</td>\n",
       "      <td>True</td>\n",
       "      <td>b'{\"timestamp\":1681472885679}'</td>\n",
       "    </tr>\n",
       "  </tbody>\n",
       "</table>\n",
       "<p>22 rows × 6 columns</p>\n",
       "</div>"
      ],
      "text/plain": [
       "       flow_capture_timestamp           host_port_method  \\\n",
       "0  2023-04-14 11:48:02.008088    ocsp2.apple.com:443@GET   \n",
       "1  2023-04-14 11:48:02.131438   www.linkedin.com:443@GET   \n",
       "2  2023-04-14 11:48:02.247612   www.linkedin.com:443@GET   \n",
       "3  2023-04-14 11:48:02.369719   www.linkedin.com:443@GET   \n",
       "4  2023-04-14 11:48:02.479315   www.linkedin.com:443@GET   \n",
       "..                        ...                        ...   \n",
       "18 2023-04-14 11:48:04.247680   s2s.singular.net:443@GET   \n",
       "19 2023-04-14 11:48:04.623806  www.linkedin.com:443@POST   \n",
       "20 2023-04-14 11:48:04.760662   www.linkedin.com:443@GET   \n",
       "22 2023-04-14 11:48:05.370506   www.linkedin.com:443@GET   \n",
       "23 2023-04-14 11:48:05.989088   www.linkedin.com:443@GET   \n",
       "\n",
       "               url_path_beginswith  response_is_text  response_is_json  \\\n",
       "0   /ocsp03-wwdr04/MEcwRTBDMEEwPzA              True             False   \n",
       "1             /voyager/api/graphql              True             False   \n",
       "2   /voyager/api/voyagerDashMySett              True             False   \n",
       "3             /voyager/api/graphql              True             False   \n",
       "4   /voyager/api/voyagerIdentityDa              True             False   \n",
       "..                             ...               ...               ...   \n",
       "18                  /api/v1/launch              True              True   \n",
       "19                       /li/track              True             False   \n",
       "20  /realtime/realtimeFrontendTime              True              True   \n",
       "22  /voyager/api/voyagerSocialDash              True             False   \n",
       "23  /realtime/realtimeFrontendTime              True              True   \n",
       "\n",
       "                                                                       flow_response_content_startswith  \n",
       "0                                                                   b'<HTML>\\n<HEAD>\\n<TITLE>Error</TI'  \n",
       "1                                        b'\\x00\\x01\\x03\\x9e*\\x00\\x01\\x03\\xcbk\\x00\\x01\\x03\\xc28\\x01\\x00'  \n",
       "2   b'\\x00\\x0b\\x03\\xe9\\x1d\\x03\\xa7&\\x03\\x91\\x04\\x03\\x8c)\\x03\\xf47\\x03\\xd7\\x13\\x03\\xb36\\x08\\x03\\xdd^\\...  \n",
       "3   b'\\x00\\x01\\x03\\x9e*\\x00\\x01\\x03\\x8dm\\x00\\x0b\\x03\\xb5>\\x08\\x03\\xa1\\x11\\x08\\x03\\xbb\\x1d\\x03\\xe5\\x1...  \n",
       "4                                                              b'\\x0e\\x03\\nsourceUrns!com.linkedin.com'  \n",
       "..                                                                                                  ...  \n",
       "18                                                                                 b'{\"status\":\"ok\"}\\n'  \n",
       "19                                                                                                  b''  \n",
       "20                                                                       b'{\"timestamp\":1681472884563}'  \n",
       "22                                                              b'\\x0eG\\x15/defaultToActivityTab!/comp'  \n",
       "23                                                                       b'{\"timestamp\":1681472885679}'  \n",
       "\n",
       "[22 rows x 6 columns]"
      ]
     },
     "execution_count": 12,
     "metadata": {},
     "output_type": "execute_result"
    }
   ],
   "source": [
    "ifs.analyze()"
   ]
  },
  {
   "cell_type": "code",
   "execution_count": 13,
   "id": "4a21a56d-2baf-44d5-97c3-c75e0f290113",
   "metadata": {
    "tags": []
   },
   "outputs": [
    {
     "name": "stdout",
     "output_type": "stream",
     "text": [
      "================================[URL]===========================================\n",
      "METHOD: GET\n",
      "URL: https://www.linkedin.com/voyager/api/voyagerSocialDashReactions?count=10&decorationId=com.linkedin.voyager.dash.deco.social.ReactionsByType-12&q=reactionType&reactionType=LIKE&start=0&threadUrn=urn%3Ali%3Aactivity%3A7052316215473512449\n",
      "Query:\n"
     ]
    },
    {
     "data": {
      "application/json": {
       "count": [
        "10"
       ],
       "decorationId": [
        "com.linkedin.voyager.dash.deco.social.ReactionsByType-12"
       ],
       "q": [
        "reactionType"
       ],
       "reactionType": [
        "LIKE"
       ],
       "start": [
        "0"
       ],
       "threadUrn": [
        "urn:li:activity:7052316215473512449"
       ]
      },
      "text/plain": [
       "<IPython.core.display.JSON object>"
      ]
     },
     "metadata": {
      "application/json": {
       "expanded": true,
       "root": "root"
      }
     },
     "output_type": "display_data"
    },
    {
     "name": "stdout",
     "output_type": "stream",
     "text": [
      "================================[request-content]==============================\n",
      "content-type: \n",
      "JSON-parsable? False\n",
      "================================[request-response]============================\n",
      "content-type: application/vnd.linkedin.deduped+x-protobuf+2.0+gql; symbol-table=voyager-16029; charset=UTF-8\n",
      "JSON-parsable? False\n",
      "--\n",
      "b'\\x0eG\\x15/defaultToActivityTab!/companyNameOnProfileTopCardShown\\x0b/trackingId\\x08/premium!View Mahamadi NIKIEMA\\xe2\\x80\\x99s profile\\nsourceUrns\\x12/experienceCardUrn\\r/memorialized:urn:li:fsd_profile:ACoAADOleoUBnPXvfGqGC8pw_2iZQUv6ouAVE8k:urn:li:fsd_profile:ACoAAC3PHmcBI5KKl6YDbhdJCryIUeC-6puWOc4:urn:li:fsd_profile:ACoAAAAZsmMBRAbRrpCGq-RKDzrGo-oBlihGg-Y\\n/iweWarned\\'/headlineGeneratedSuggestionDelegateUrn\\x0b/tempStatus\\x1fView Tiago Oliveira\\xe2\\x80\\x99s profile\\x0b/influencer.View Mar\\xc3\\xada Camila Durango Barrera\\xe2\\x80\\x99s profile\\x0c/industryUrn\\n/entityUrn:urn:li:fsd_profile:ACoAAB6tXoYBbyyJglruqnplyRKf1mLC00NUMbI\\x16urn:li:member:10647639$View Muhtasham Oblokulov\\xe2\\x80\\x99s profile\\x11/educationCardUrn\\x17urn:li:member:507091555\\x1f/educationOnProfileTopCardShown\\x11/trackingMemberId\"View Michele Pangrazzi\\xe2\\x80\\x99s profile\\x17urn:li:member:768548455\\x08/creator\\n/objectUrn\\t/lastName\\x10/tempStatusEmoji\\x1a/lastNamePronunciationHint\\x1b/firstNamePronunciationHint\\x12/phoneticFirstName\\x0e/industryV2Urn\\x08/summary\\x08/address\\x17urn:li:member:348767211\\x16/geoLocationBackfilled\\x0b/versionTag\\t/hea'\n",
      "--\n"
     ]
    }
   ],
   "source": [
    "ifs.flow(22).overview()"
   ]
  },
  {
   "cell_type": "code",
   "execution_count": null,
   "id": "4000bddb-96f4-4124-8d36-fdea9c29ec83",
   "metadata": {},
   "outputs": [],
   "source": []
  }
 ],
 "metadata": {
  "kernelspec": {
   "display_name": "Python 3 (ipykernel)",
   "language": "python",
   "name": "python3"
  },
  "language_info": {
   "codemirror_mode": {
    "name": "ipython",
    "version": 3
   },
   "file_extension": ".py",
   "mimetype": "text/x-python",
   "name": "python",
   "nbconvert_exporter": "python",
   "pygments_lexer": "ipython3",
   "version": "3.10.6"
  }
 },
 "nbformat": 4,
 "nbformat_minor": 5
}
