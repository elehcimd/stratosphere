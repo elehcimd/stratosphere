{
 "cells": [
  {
   "cell_type": "code",
   "execution_count": 1,
   "id": "53101b65-c193-4ba3-8a07-9dfdfb37ea8a",
   "metadata": {
    "tags": []
   },
   "outputs": [],
   "source": [
    "%load_ext autoreload\n",
    "%autoreload 2\n",
    "%reload_ext autoreload"
   ]
  },
  {
   "cell_type": "code",
   "execution_count": 2,
   "id": "8a0a8bf4-3c40-42a4-845c-b922b72ab31f",
   "metadata": {
    "tags": []
   },
   "outputs": [],
   "source": [
    "import pandas as pd\n",
    "from stratosphere import Stratosphere\n",
    "from stratosphere.utils.inspect_flows import InspectFlows\n",
    "from stratosphere import options"
   ]
  },
  {
   "cell_type": "code",
   "execution_count": 3,
   "id": "443d11a3-8722-4b60-8e2c-bd11c78dfa79",
   "metadata": {
    "tags": []
   },
   "outputs": [],
   "source": [
    "pd.options.display.max_rows = 10\n",
    "pd.options.display.max_columns = 100\n",
    "pd.options.display.max_colwidth = 100"
   ]
  },
  {
   "cell_type": "code",
   "execution_count": 10,
   "id": "64e8fcf3-7fc4-45ce-b3d6-5ccb7e729d04",
   "metadata": {
    "tags": []
   },
   "outputs": [
    {
     "name": "stdout",
     "output_type": "stream",
     "text": [
      "Overview: 15 flows (1.70 seconds) distributed as follows:\n"
     ]
    },
    {
     "data": {
      "text/html": [
       "<div>\n",
       "<style scoped>\n",
       "    .dataframe tbody tr th:only-of-type {\n",
       "        vertical-align: middle;\n",
       "    }\n",
       "\n",
       "    .dataframe tbody tr th {\n",
       "        vertical-align: top;\n",
       "    }\n",
       "\n",
       "    .dataframe thead th {\n",
       "        text-align: right;\n",
       "    }\n",
       "</style>\n",
       "<table border=\"1\" class=\"dataframe\">\n",
       "  <thead>\n",
       "    <tr style=\"text-align: right;\">\n",
       "      <th></th>\n",
       "      <th>host</th>\n",
       "      <th>port</th>\n",
       "      <th>method</th>\n",
       "      <th>flow_request_headers_content_type</th>\n",
       "      <th>flow_response_headers_content_type</th>\n",
       "      <th>count</th>\n",
       "    </tr>\n",
       "  </thead>\n",
       "  <tbody>\n",
       "    <tr>\n",
       "      <th>0</th>\n",
       "      <td>play.google.com</td>\n",
       "      <td>443</td>\n",
       "      <td>POST</td>\n",
       "      <td>application/x-www-form-urlencoded;charset=UTF-8</td>\n",
       "      <td>text/plain; charset=UTF-8</td>\n",
       "      <td>4</td>\n",
       "    </tr>\n",
       "    <tr>\n",
       "      <th>1</th>\n",
       "      <td>play.google.com</td>\n",
       "      <td>443</td>\n",
       "      <td>POST</td>\n",
       "      <td>text/plain;charset=UTF-8</td>\n",
       "      <td>text/plain; charset=UTF-8</td>\n",
       "      <td>3</td>\n",
       "    </tr>\n",
       "    <tr>\n",
       "      <th>2</th>\n",
       "      <td>appsgrowthpromo-pa.clients6.google.com</td>\n",
       "      <td>443</td>\n",
       "      <td>POST</td>\n",
       "      <td>application/x-www-form-urlencoded;charset=UTF-8</td>\n",
       "      <td>application/json+protobuf; charset=UTF-8</td>\n",
       "      <td>2</td>\n",
       "    </tr>\n",
       "    <tr>\n",
       "      <th>3</th>\n",
       "      <td>aa.google.com</td>\n",
       "      <td>443</td>\n",
       "      <td>POST</td>\n",
       "      <td>application/x-www-form-urlencoded;charset=UTF-8</td>\n",
       "      <td>application/json; charset=utf-8</td>\n",
       "      <td>1</td>\n",
       "    </tr>\n",
       "    <tr>\n",
       "      <th>4</th>\n",
       "      <td>addons-pa.clients6.google.com</td>\n",
       "      <td>443</td>\n",
       "      <td>POST</td>\n",
       "      <td>application/json+protobuf</td>\n",
       "      <td>application/json+protobuf; charset=UTF-8</td>\n",
       "      <td>1</td>\n",
       "    </tr>\n",
       "    <tr>\n",
       "      <th>5</th>\n",
       "      <td>calendar.google.com</td>\n",
       "      <td>443</td>\n",
       "      <td>GET</td>\n",
       "      <td>NaN</td>\n",
       "      <td>application/javascript; charset=utf-8</td>\n",
       "      <td>1</td>\n",
       "    </tr>\n",
       "    <tr>\n",
       "      <th>6</th>\n",
       "      <td>calendar.google.com</td>\n",
       "      <td>443</td>\n",
       "      <td>GET</td>\n",
       "      <td>NaN</td>\n",
       "      <td>application/json; charset=utf-8</td>\n",
       "      <td>1</td>\n",
       "    </tr>\n",
       "    <tr>\n",
       "      <th>7</th>\n",
       "      <td>calendar.google.com</td>\n",
       "      <td>443</td>\n",
       "      <td>POST</td>\n",
       "      <td>application/x-www-form-urlencoded</td>\n",
       "      <td>application/json; charset=utf-8</td>\n",
       "      <td>1</td>\n",
       "    </tr>\n",
       "    <tr>\n",
       "      <th>8</th>\n",
       "      <td>calendar.google.com</td>\n",
       "      <td>443</td>\n",
       "      <td>POST</td>\n",
       "      <td>application/x-www-form-urlencoded;charset=UTF-8</td>\n",
       "      <td>application/json; charset=utf-8</td>\n",
       "      <td>1</td>\n",
       "    </tr>\n",
       "  </tbody>\n",
       "</table>\n",
       "</div>"
      ],
      "text/plain": [
       "                                     host  port method  \\\n",
       "0                         play.google.com   443   POST   \n",
       "1                         play.google.com   443   POST   \n",
       "2  appsgrowthpromo-pa.clients6.google.com   443   POST   \n",
       "3                           aa.google.com   443   POST   \n",
       "4           addons-pa.clients6.google.com   443   POST   \n",
       "5                     calendar.google.com   443    GET   \n",
       "6                     calendar.google.com   443    GET   \n",
       "7                     calendar.google.com   443   POST   \n",
       "8                     calendar.google.com   443   POST   \n",
       "\n",
       "                 flow_request_headers_content_type  \\\n",
       "0  application/x-www-form-urlencoded;charset=UTF-8   \n",
       "1                         text/plain;charset=UTF-8   \n",
       "2  application/x-www-form-urlencoded;charset=UTF-8   \n",
       "3  application/x-www-form-urlencoded;charset=UTF-8   \n",
       "4                        application/json+protobuf   \n",
       "5                                              NaN   \n",
       "6                                              NaN   \n",
       "7                application/x-www-form-urlencoded   \n",
       "8  application/x-www-form-urlencoded;charset=UTF-8   \n",
       "\n",
       "         flow_response_headers_content_type  count  \n",
       "0                 text/plain; charset=UTF-8      4  \n",
       "1                 text/plain; charset=UTF-8      3  \n",
       "2  application/json+protobuf; charset=UTF-8      2  \n",
       "3           application/json; charset=utf-8      1  \n",
       "4  application/json+protobuf; charset=UTF-8      1  \n",
       "5     application/javascript; charset=utf-8      1  \n",
       "6           application/json; charset=utf-8      1  \n",
       "7           application/json; charset=utf-8      1  \n",
       "8           application/json; charset=utf-8      1  "
      ]
     },
     "metadata": {},
     "output_type": "display_data"
    }
   ],
   "source": [
    "s = Stratosphere(\"sqlite:////shared/data/sample.db\")\n",
    "df = s.db.pandas(\"select * from flows\")\n",
    "ifs = InspectFlows(df)\n",
    "ifs.overview()"
   ]
  },
  {
   "cell_type": "code",
   "execution_count": 12,
   "id": "4a21a56d-2baf-44d5-97c3-c75e0f290113",
   "metadata": {
    "tags": []
   },
   "outputs": [
    {
     "name": "stdout",
     "output_type": "stream",
     "text": [
      "================================[URL]===========================================\n",
      "METHOD: POST\n",
      "URL: https://aa.google.com/u/0/_/gog/get?rt=j&sourceid=24\n",
      "Query:\n"
     ]
    },
    {
     "data": {
      "application/json": {
       "rt": [
        "j"
       ],
       "sourceid": [
        "24"
       ]
      },
      "text/plain": [
       "<IPython.core.display.JSON object>"
      ]
     },
     "metadata": {
      "application/json": {
       "expanded": true,
       "root": "root"
      }
     },
     "output_type": "display_data"
    },
    {
     "name": "stdout",
     "output_type": "stream",
     "text": [
      "================================[request-content]==============================\n",
      "content-type: application/x-www-form-urlencoded;charset=UTF-8\n",
      "JSON-parsable? False\n",
      "--\n",
      "{\n",
      "  \"f.req\": [\n",
      "    \"[\\\"og.botreq\\\",null,\\\"\\\",null,true,0,false]\"\n",
      "  ]\n",
      "}\n",
      "--\n",
      "================================[request-response]============================\n",
      "content-type: application/json; charset=utf-8\n",
      "JSON-parsable? False\n",
      "--\n",
      "b')]}\\'\\n\\n[[[\"og.botresp\",[\"uxdyjI6x/1JCnXj6gvgmhjEvUZoEtH/ZFRByHIR9YIlFIJtEV9wEX+6W3EYG3dYtZz/wpwuNc+OjPr/6HeCNWVVLTQHonLcDlzsGIpq/3GPlgNjrihSXN3znfa5vtYhE1YZESGpTJ2lfZTAFmfjH27d+58FS61LSvB/hnmo+uMjsDylrqC6qmxM3RI6kRo4HFnJysTbnQ7P3vsMOYBqpZjH34GSHdFW7CffX7xaM2yx7Ac8agR1n8EfDFl7sFw/7JTs46ch+1B5PXMRi5Kg3pvfQh3TkaHC8/fkKEHwJ/sdmUGYK03+6IxOmBJCluyi5RfLZNGxmryLw50AU+EYeymwp3TPJZYWwnknKaHqgkAxS3QfN157kwBJ9r0ar4akcTkrdjWujWp9OFRLydlrS3Rp+tykCHUAc9Vv7S2s0B/PtY7Kp75f1887iZyux+ln4Sip0mwA48Bkv9GQndtTKJU+f8W9+gz/CCXzsTEIHN7H73d7nHKB5vcOiCScGGDDwfTDkhXIpCzL8Tf5+nGk7rKPHSGLPZnZ4As5fSfuFhi4LDXtDCY82CmDE5urO1HNyIkkh4Eajm6hHwERkjmF1LPf+5W19t22s1speL+qj0EdFG6gt9ccrv4BNYrNbvkW+fqdjp9kygzjzI/kde/hzfnxXfn7QnUxbfbzx/4poE6tWKzdyahNJ/vkfA/ePoNKcpptalg8Okb6U0O1ER7lrR3rFwLHgQ0YPMypjnAfpfItJiCktELy6FTgmKIbuictpYppvK+qasibsmyhPxbe+CyuExWsIC82PbEiyIICJLnHQD5b8TlKqVtj+QvLbNtX4ftE+3OOo6z0/4IsCv+cyKBIzndYuHaAam97E4Bs5glS8PMxHoxpXpXhjWkUfglKVmQn2y7KuIejMiRnx/moZ0YBTeWhKWzPL/ZKzpkVrClVjmmG/os4LEgxGGDo/bwyn4jhjCwa33DrHYtJr'\n",
      "--\n"
     ]
    }
   ],
   "source": [
    "ifs.flow(0).overview()"
   ]
  },
  {
   "cell_type": "code",
   "execution_count": null,
   "id": "4000bddb-96f4-4124-8d36-fdea9c29ec83",
   "metadata": {},
   "outputs": [],
   "source": []
  }
 ],
 "metadata": {
  "kernelspec": {
   "display_name": "Python 3 (ipykernel)",
   "language": "python",
   "name": "python3"
  },
  "language_info": {
   "codemirror_mode": {
    "name": "ipython",
    "version": 3
   },
   "file_extension": ".py",
   "mimetype": "text/x-python",
   "name": "python",
   "nbconvert_exporter": "python",
   "pygments_lexer": "ipython3",
   "version": "3.10.6"
  }
 },
 "nbformat": 4,
 "nbformat_minor": 5
}
