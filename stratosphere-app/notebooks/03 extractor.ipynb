{
 "cells": [
  {
   "cell_type": "code",
   "execution_count": 1,
   "id": "53101b65-c193-4ba3-8a07-9dfdfb37ea8a",
   "metadata": {
    "tags": []
   },
   "outputs": [],
   "source": [
    "%load_ext autoreload\n",
    "%autoreload 2\n",
    "%reload_ext autoreload"
   ]
  },
  {
   "cell_type": "code",
   "execution_count": 2,
   "id": "8a0a8bf4-3c40-42a4-845c-b922b72ab31f",
   "metadata": {
    "tags": []
   },
   "outputs": [],
   "source": [
    "import pandas as pd\n",
    "from stratosphere import Stratosphere\n",
    "from stratosphere.utils.inspect_flows import InspectFlows\n",
    "from stratosphere import options\n",
    "from stratosphere.services.extractor import Extractor\n",
    "from stratosphere.storage.models import Flow"
   ]
  },
  {
   "cell_type": "code",
   "execution_count": 3,
   "id": "443d11a3-8722-4b60-8e2c-bd11c78dfa79",
   "metadata": {
    "tags": []
   },
   "outputs": [],
   "source": [
    "pd.options.display.max_rows = 10\n",
    "pd.options.display.max_columns = 100\n",
    "pd.options.display.max_colwidth = 100"
   ]
  },
  {
   "cell_type": "markdown",
   "id": "5b18e532-12aa-4fc2-a14f-fb54680d9549",
   "metadata": {
    "tags": []
   },
   "source": [
    "## Process all samples"
   ]
  },
  {
   "cell_type": "code",
   "execution_count": null,
   "id": "512b936a-da4a-4fb3-ad7a-4c3194aa5e7e",
   "metadata": {
    "tags": []
   },
   "outputs": [],
   "source": [
    "import glob\n",
    "for db_pathname in glob.glob(\"/shared/data/samples/*\"):\n",
    "    e = Extractor(f\"sqlite:///{db_pathname}\")\n",
    "    e.process()\n",
    "    "
   ]
  },
  {
   "cell_type": "markdown",
   "id": "0d2ff2eb-44f8-4fb6-8eae-f6706cbc438c",
   "metadata": {},
   "source": [
    "## Samples vk.com"
   ]
  },
  {
   "cell_type": "code",
   "execution_count": null,
   "id": "64e8fcf3-7fc4-45ce-b3d6-5ccb7e729d04",
   "metadata": {
    "tags": []
   },
   "outputs": [],
   "source": [
    "# Test extraction of user page , entity 8cfdfe5c-a59f-3a55-d7ab-1cd8553033ea\n",
    "e = Extractor(\"sqlite:////shared/data/samples/vk-person.db\")\n",
    "e.process()"
   ]
  },
  {
   "cell_type": "code",
   "execution_count": null,
   "id": "fd626788-de01-468c-8277-ff071329bd4b",
   "metadata": {
    "tags": []
   },
   "outputs": [],
   "source": [
    "e.s_kb.db.pandas(\"select json_extract(data, '$.user_ids') as user_ids from entities where type = 'person'\")"
   ]
  },
  {
   "cell_type": "code",
   "execution_count": null,
   "id": "38eecde0-cf27-47ff-8b8d-029fb6077937",
   "metadata": {
    "tags": []
   },
   "outputs": [],
   "source": [
    "# Test extraction of friends list for entity 8cfdfe5c-a59f-3a55-d7ab-1cd8553033ea\n",
    "e = Extractor(\"sqlite:////shared/data/samples/vk-friends.db\")\n",
    "e.process()\n",
    "e.s_kb.db.pandas(\"select json_extract(data, '$.user_ids') as user_ids from entities where type = 'person'\")"
   ]
  },
  {
   "cell_type": "code",
   "execution_count": null,
   "id": "fc55a00b-895b-4643-b46e-78b3e020ed92",
   "metadata": {
    "tags": []
   },
   "outputs": [],
   "source": [
    "# Test extraction of friends list for entity 5801c74b-1b76-35d6-dbcb-0946e2bf4726, a friend of 8cfdfe5c-a59f-3a55-d7ab-1cd8553033ea\n",
    "#e = Extractor(\"sqlite:////shared/data/samples/vk-person_friend.db\")\n",
    "#e.process()"
   ]
  },
  {
   "cell_type": "code",
   "execution_count": null,
   "id": "b45e4687-afb3-4064-82a3-9ce97b1a5da6",
   "metadata": {
    "tags": []
   },
   "outputs": [],
   "source": [
    "# Test extraction friendship relationship: from https://vk.com/id200 to friend https://vk.com/maximka8 (clicking on link from friends list)\n",
    "e = Extractor(\"sqlite:////shared/data/samples/vk.com-visiting-friend-from-friend.db\")\n",
    "e.process()\n",
    "\n"
   ]
  },
  {
   "cell_type": "code",
   "execution_count": 5,
   "id": "1bf6a3e5-9d18-4d8c-8ecd-4c59594db232",
   "metadata": {
    "tags": []
   },
   "outputs": [
    {
     "name": "stdout",
     "output_type": "stream",
     "text": [
      "\u001b[32m■\u001b[0m Processing 30 flows: start\n",
      "\u001b[32m■\u001b[0m Added entity 3e459f3cbe5aa28d55643d087a9ef88b (Andrey Strelnikov)\n",
      "\u001b[32m■\u001b[0m Added entity 19a8813161e2fa5571fa75cd5093a583 (Frederik Bulgakov)\n",
      "\u001b[32m■\u001b[0m Added relationship 3e459f3cbe5aa28d55643d087a9ef88b -> 19a8813161e2fa5571fa75cd5093a583\n",
      "\u001b[32m■\u001b[0m Added entity 72fce4e9ebc4d7c06e89571861b620a3 (Valentin Savelyev)\n",
      "\u001b[32m■\u001b[0m Added relationship 19a8813161e2fa5571fa75cd5093a583 -> 72fce4e9ebc4d7c06e89571861b620a3\n",
      "\u001b[32m■\u001b[0m Processing 30 flows: end\n"
     ]
    }
   ],
   "source": [
    "# Test extraction chain of friends\n",
    "# andrey -> frederick -> valentin\n",
    "e = Extractor(\"sqlite:////shared/data/samples/vk.com-chain-of-friends.db\")\n",
    "e.process()\n",
    "\n"
   ]
  },
  {
   "cell_type": "markdown",
   "id": "391e9ce9-8765-4bd8-acf6-b1999e13468a",
   "metadata": {},
   "source": [
    "## Samples google searches"
   ]
  },
  {
   "cell_type": "code",
   "execution_count": null,
   "id": "3d2dca96-99a3-444f-a73f-378711b7e529",
   "metadata": {
    "tags": []
   },
   "outputs": [],
   "source": [
    "# Test extraction of google search results\n",
    "e = Extractor(\"sqlite:////shared/data/samples/search-google-bellingcattools.db\")\n",
    "e.process()\n",
    "#e = Extractor(\"sqlite:////shared/data/samples/search-google-multiple-pages.db\")\n",
    "#e.process()"
   ]
  },
  {
   "cell_type": "code",
   "execution_count": null,
   "id": "1245c3df-4644-43d6-a6d4-f2d8bcf3ab46",
   "metadata": {},
   "outputs": [],
   "source": []
  },
  {
   "cell_type": "code",
   "execution_count": null,
   "id": "6fcc0e22-3d42-4e27-a8ff-589c5118c3a0",
   "metadata": {
    "tags": []
   },
   "outputs": [],
   "source": [
    "kb = Stratosphere(options.get(\"db.url_kb\"))\n",
    "\n",
    "\n",
    "def get_google_searches():\n",
    "    \n",
    "    q = \"\"\"\n",
    "        SELECT\n",
    "            entity_id,\n",
    "            json_extract(data, '$.q') as query\n",
    "        FROM entities\n",
    "        WHERE type = \"search_string\"\n",
    "    \"\"\"\n",
    "    df = kb.db.pandas(q)\n",
    "    \n",
    "    return df #df.set_index('query').to_dict(orient='index')\n",
    "\n",
    "get_google_searches()"
   ]
  },
  {
   "cell_type": "code",
   "execution_count": null,
   "id": "16130f11-0180-474f-8872-eec053238934",
   "metadata": {
    "tags": []
   },
   "outputs": [],
   "source": []
  },
  {
   "cell_type": "code",
   "execution_count": null,
   "id": "f9a0d749-c7cf-4fd2-802c-ed4056a62921",
   "metadata": {
    "tags": []
   },
   "outputs": [],
   "source": []
  },
  {
   "cell_type": "code",
   "execution_count": null,
   "id": "68ffd042-9087-4b5a-9f25-a0c1dd518ee9",
   "metadata": {
    "tags": []
   },
   "outputs": [],
   "source": []
  },
  {
   "cell_type": "code",
   "execution_count": null,
   "id": "7bd8c8c5-023f-4bc0-9b2b-5300cc638b31",
   "metadata": {
    "tags": []
   },
   "outputs": [],
   "source": []
  },
  {
   "cell_type": "code",
   "execution_count": null,
   "id": "9f180aab-8ff1-486d-a16d-83cd9b1270f5",
   "metadata": {
    "tags": []
   },
   "outputs": [],
   "source": []
  },
  {
   "cell_type": "code",
   "execution_count": null,
   "id": "9ed9b530-4c27-46e8-83e6-6a9d5607975e",
   "metadata": {},
   "outputs": [],
   "source": []
  },
  {
   "cell_type": "code",
   "execution_count": null,
   "id": "7c080e41-4bf5-43fd-ae86-d3581a3fa2a3",
   "metadata": {},
   "outputs": [],
   "source": []
  },
  {
   "cell_type": "code",
   "execution_count": null,
   "id": "7c7e2414-3044-404c-a7e4-ea3187f70892",
   "metadata": {},
   "outputs": [],
   "source": []
  },
  {
   "cell_type": "code",
   "execution_count": null,
   "id": "a3499f35-6f9c-42b9-96d7-d29df1729847",
   "metadata": {},
   "outputs": [],
   "source": []
  },
  {
   "cell_type": "code",
   "execution_count": null,
   "id": "513cd4f3-c640-49e3-8ecf-00d15e798620",
   "metadata": {},
   "outputs": [],
   "source": []
  },
  {
   "cell_type": "code",
   "execution_count": null,
   "id": "33412371-353d-4866-9f49-b0ad5e3860db",
   "metadata": {
    "tags": []
   },
   "outputs": [],
   "source": [
    "e.s_kb.db.pandas(\"select * from entities\")"
   ]
  },
  {
   "cell_type": "code",
   "execution_count": null,
   "id": "d1fedb83-6f78-4539-95f4-df73a55ddd0f",
   "metadata": {},
   "outputs": [],
   "source": []
  },
  {
   "cell_type": "code",
   "execution_count": null,
   "id": "220332d8-96ed-4060-9889-567c3e63b4be",
   "metadata": {
    "tags": []
   },
   "outputs": [],
   "source": [
    "Extractor().process()"
   ]
  },
  {
   "cell_type": "code",
   "execution_count": null,
   "id": "016f68ac-2019-4c61-8531-63deadc5c788",
   "metadata": {},
   "outputs": [],
   "source": []
  },
  {
   "cell_type": "code",
   "execution_count": null,
   "id": "27ffceab-ac45-4f75-adc4-173676f27a3e",
   "metadata": {},
   "outputs": [],
   "source": []
  },
  {
   "cell_type": "code",
   "execution_count": null,
   "id": "ce741e09-dcc4-47d8-9ec9-c6801ca39186",
   "metadata": {
    "tags": []
   },
   "outputs": [],
   "source": [
    "s = Stratosphere(\"sqlite:////shared/data/probe.db\")\n",
    "df = s.db.pandas(\"select * from flows\")\n",
    "df[df.flow_id == \"aac65a493e82441eac9dd56d781fd679\"]"
   ]
  },
  {
   "cell_type": "code",
   "execution_count": null,
   "id": "cdc6e689-f30d-4006-b8e3-d6fa82a6a264",
   "metadata": {
    "tags": []
   },
   "outputs": [],
   "source": [
    "stratosphere = Stratosphere(\"sqlite:////shared/data/probe.db\")\n",
    "\n",
    "with stratosphere.db.session() as session:\n",
    "    rows = session.query(Flow).all()\n",
    "\n",
    "df = pd.DataFrame([row.as_dict() for row in rows])\n",
    "df[df.flow_id == '78b1fa25-afa0-4013-a646-a33e73d84916']"
   ]
  },
  {
   "cell_type": "code",
   "execution_count": null,
   "id": "5dd6c283-c911-4c1b-a646-24442ea63bc1",
   "metadata": {
    "tags": []
   },
   "outputs": [],
   "source": [
    "df.head()"
   ]
  },
  {
   "cell_type": "code",
   "execution_count": null,
   "id": "e050c88f-1ea9-422e-82ef-dd9cc43fd0cc",
   "metadata": {
    "tags": []
   },
   "outputs": [],
   "source": [
    "for extractor_func in e.extractors.values():\n",
    "    extractor_func(rows)"
   ]
  },
  {
   "cell_type": "code",
   "execution_count": null,
   "id": "b7f9d046-7e4b-4205-9e21-8bd3dc56ca6d",
   "metadata": {
    "tags": []
   },
   "outputs": [],
   "source": [
    "from stratosphere.services.extractors.vk01 import get_uuid_from_person_id"
   ]
  },
  {
   "cell_type": "code",
   "execution_count": null,
   "id": "663473d0-2296-4e22-b999-f10b799f3e1e",
   "metadata": {
    "tags": []
   },
   "outputs": [],
   "source": [
    "get_uuid_from_person_id(\"asd\")"
   ]
  },
  {
   "cell_type": "code",
   "execution_count": null,
   "id": "9438d5a7-2e7e-4200-9edf-170f5087dfc4",
   "metadata": {
    "tags": []
   },
   "outputs": [],
   "source": [
    "import uuid\n",
    "\n",
    "s = \"adasdadasd\"\n",
    "str(uuid.UUID(int=hash(s)))\n"
   ]
  },
  {
   "cell_type": "code",
   "execution_count": null,
   "id": "dcb4268a-9071-4f6c-b138-c26ddc9c1fce",
   "metadata": {
    "tags": []
   },
   "outputs": [],
   "source": [
    "import hashlib\n",
    "h = hashlib.md5(\"whatever your string is\".encode('utf-8')).hexdigest()\n",
    "uuid.UUID(hex=h)"
   ]
  },
  {
   "cell_type": "code",
   "execution_count": null,
   "id": "c12616bd-4123-4fe5-9c84-55dd54197907",
   "metadata": {},
   "outputs": [],
   "source": []
  }
 ],
 "metadata": {
  "kernelspec": {
   "display_name": "Python 3 (ipykernel)",
   "language": "python",
   "name": "python3"
  },
  "language_info": {
   "codemirror_mode": {
    "name": "ipython",
    "version": 3
   },
   "file_extension": ".py",
   "mimetype": "text/x-python",
   "name": "python",
   "nbconvert_exporter": "python",
   "pygments_lexer": "ipython3",
   "version": "3.10.6"
  }
 },
 "nbformat": 4,
 "nbformat_minor": 5
}
