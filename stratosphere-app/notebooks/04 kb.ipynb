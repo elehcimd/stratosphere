{
 "cells": [
  {
   "cell_type": "code",
   "execution_count": 2,
   "id": "53101b65-c193-4ba3-8a07-9dfdfb37ea8a",
   "metadata": {
    "tags": []
   },
   "outputs": [],
   "source": [
    "%load_ext autoreload\n",
    "%autoreload 2\n",
    "%reload_ext autoreload"
   ]
  },
  {
   "cell_type": "code",
   "execution_count": 3,
   "id": "8a0a8bf4-3c40-42a4-845c-b922b72ab31f",
   "metadata": {
    "tags": []
   },
   "outputs": [],
   "source": [
    "import pandas as pd\n",
    "from stratosphere import Stratosphere\n",
    "from stratosphere.utils.inspect_flows import InspectFlows\n",
    "from stratosphere import options\n",
    "from stratosphere.services.extractor import Extractor\n",
    "from stratosphere.storage.models import Flow"
   ]
  },
  {
   "cell_type": "code",
   "execution_count": 4,
   "id": "443d11a3-8722-4b60-8e2c-bd11c78dfa79",
   "metadata": {
    "tags": []
   },
   "outputs": [],
   "source": [
    "pd.options.display.max_rows = 10\n",
    "pd.options.display.max_columns = 100\n",
    "pd.options.display.max_colwidth = 100"
   ]
  },
  {
   "cell_type": "code",
   "execution_count": 13,
   "id": "08ed74d0-17b0-4ad9-a1cb-e9df115937e3",
   "metadata": {
    "tags": []
   },
   "outputs": [
    {
     "name": "stdout",
     "output_type": "stream",
     "text": [
      "\u001b[32m■\u001b[0m Stratosphere v0.0.1 (https://stratosphere.dev) initialized\n"
     ]
    },
    {
     "data": {
      "text/plain": [
       "<stratosphere.stratosphere.Stratosphere at 0xffff50267130>"
      ]
     },
     "execution_count": 13,
     "metadata": {},
     "output_type": "execute_result"
    }
   ],
   "source": [
    "kb = Stratosphere(\"sqlite:////shared/notebooks/data2.db\")\n",
    "kb"
   ]
  },
  {
   "cell_type": "code",
   "execution_count": 5,
   "id": "cdc6e689-f30d-4006-b8e3-d6fa82a6a264",
   "metadata": {
    "tags": []
   },
   "outputs": [
    {
     "name": "stdout",
     "output_type": "stream",
     "text": [
      "\u001b[32m■\u001b[0m Stratosphere v0.0.1 (https://stratosphere.dev) initialized\n"
     ]
    }
   ],
   "source": [
    "kb = Stratosphere(options.get(\"db.url_kb\"))\n"
   ]
  },
  {
   "cell_type": "code",
   "execution_count": 14,
   "id": "c12616bd-4123-4fe5-9c84-55dd54197907",
   "metadata": {
    "tags": []
   },
   "outputs": [
    {
     "data": {
      "text/html": [
       "<div>\n",
       "<style scoped>\n",
       "    .dataframe tbody tr th:only-of-type {\n",
       "        vertical-align: middle;\n",
       "    }\n",
       "\n",
       "    .dataframe tbody tr th {\n",
       "        vertical-align: top;\n",
       "    }\n",
       "\n",
       "    .dataframe thead th {\n",
       "        text-align: right;\n",
       "    }\n",
       "</style>\n",
       "<table border=\"1\" class=\"dataframe\">\n",
       "  <thead>\n",
       "    <tr style=\"text-align: right;\">\n",
       "      <th></th>\n",
       "      <th>type</th>\n",
       "      <th>data</th>\n",
       "      <th>name_surname</th>\n",
       "    </tr>\n",
       "  </thead>\n",
       "  <tbody>\n",
       "    <tr>\n",
       "      <th>0</th>\n",
       "      <td>person</td>\n",
       "      <td>{\"id\": \"[\\\"68870871\\\"]\"}</td>\n",
       "      <td>None</td>\n",
       "    </tr>\n",
       "    <tr>\n",
       "      <th>1</th>\n",
       "      <td>person</td>\n",
       "      <td>{\"user_ids\": \"[\\\"2083437\\\"]\", \"url_picture\": \"https://sun6-21.userapi.com/s/v1/ig2/wVIZNjZ9OW8En...</td>\n",
       "      <td>Oleg Kvitsinia</td>\n",
       "    </tr>\n",
       "  </tbody>\n",
       "</table>\n",
       "</div>"
      ],
      "text/plain": [
       "     type  \\\n",
       "0  person   \n",
       "1  person   \n",
       "\n",
       "                                                                                                  data  \\\n",
       "0                                                                             {\"id\": \"[\\\"68870871\\\"]\"}   \n",
       "1  {\"user_ids\": \"[\\\"2083437\\\"]\", \"url_picture\": \"https://sun6-21.userapi.com/s/v1/ig2/wVIZNjZ9OW8En...   \n",
       "\n",
       "     name_surname  \n",
       "0            None  \n",
       "1  Oleg Kvitsinia  "
      ]
     },
     "execution_count": 14,
     "metadata": {},
     "output_type": "execute_result"
    }
   ],
   "source": [
    "df = kb.db.pandas(\"select type, data, json_extract(data, '$.full_name') as name_surname from entities\")\n",
    "df.head()"
   ]
  },
  {
   "cell_type": "code",
   "execution_count": 53,
   "id": "8e0555e1-3b22-4432-9eb7-d5b6a6c6906a",
   "metadata": {
    "tags": []
   },
   "outputs": [
    {
     "data": {
      "text/plain": [
       "2835"
      ]
     },
     "execution_count": 53,
     "metadata": {},
     "output_type": "execute_result"
    }
   ],
   "source": [
    "len(df)"
   ]
  },
  {
   "cell_type": "code",
   "execution_count": null,
   "id": "12277847-86d3-49f1-9536-6ae46b17d389",
   "metadata": {},
   "outputs": [],
   "source": []
  },
  {
   "cell_type": "code",
   "execution_count": 52,
   "id": "d5a4b5ac-0261-4124-aaf1-e2dc9dccf358",
   "metadata": {
    "tags": []
   },
   "outputs": [
    {
     "data": {
      "text/html": [
       "<div>\n",
       "<style scoped>\n",
       "    .dataframe tbody tr th:only-of-type {\n",
       "        vertical-align: middle;\n",
       "    }\n",
       "\n",
       "    .dataframe tbody tr th {\n",
       "        vertical-align: top;\n",
       "    }\n",
       "\n",
       "    .dataframe thead th {\n",
       "        text-align: right;\n",
       "    }\n",
       "</style>\n",
       "<table border=\"1\" class=\"dataframe\">\n",
       "  <thead>\n",
       "    <tr style=\"text-align: right;\">\n",
       "      <th></th>\n",
       "      <th>relationship_id</th>\n",
       "      <th>group</th>\n",
       "      <th>type</th>\n",
       "      <th>src</th>\n",
       "      <th>dst</th>\n",
       "      <th>data</th>\n",
       "      <th>blob</th>\n",
       "      <th>timestamp</th>\n",
       "    </tr>\n",
       "  </thead>\n",
       "  <tbody>\n",
       "    <tr>\n",
       "      <th>0</th>\n",
       "      <td>2cbb34ea576dbfe3c9dd1a7bc1ce5bca</td>\n",
       "      <td>vk.com</td>\n",
       "      <td>friend</td>\n",
       "      <td>8cfdfe5ca59f3a55d7ab1cd8553033ea</td>\n",
       "      <td>5801c74b1b7635d6dbcb0946e2bf4726</td>\n",
       "      <td>NaN</td>\n",
       "      <td>NaN</td>\n",
       "      <td>2023-04-08 21:27:42.594872</td>\n",
       "    </tr>\n",
       "    <tr>\n",
       "      <th>1</th>\n",
       "      <td>0796bf87dd477a260fc573e3c06d5671</td>\n",
       "      <td>vk.com</td>\n",
       "      <td>friend</td>\n",
       "      <td>8cfdfe5ca59f3a55d7ab1cd8553033ea</td>\n",
       "      <td>389eaa8b15330b691cea040ffb1de703</td>\n",
       "      <td>NaN</td>\n",
       "      <td>NaN</td>\n",
       "      <td>2023-04-08 21:27:42.594872</td>\n",
       "    </tr>\n",
       "    <tr>\n",
       "      <th>2</th>\n",
       "      <td>424d1be79f0731734968238e7d501300</td>\n",
       "      <td>vk.com</td>\n",
       "      <td>friend</td>\n",
       "      <td>8cfdfe5ca59f3a55d7ab1cd8553033ea</td>\n",
       "      <td>3b7cbab686c8a5ff7eb31bfbf3fbbbf3</td>\n",
       "      <td>NaN</td>\n",
       "      <td>NaN</td>\n",
       "      <td>2023-04-08 21:27:42.594872</td>\n",
       "    </tr>\n",
       "    <tr>\n",
       "      <th>3</th>\n",
       "      <td>fb3be2f40cf82c829493c89f737d617a</td>\n",
       "      <td>vk.com</td>\n",
       "      <td>friend</td>\n",
       "      <td>8cfdfe5ca59f3a55d7ab1cd8553033ea</td>\n",
       "      <td>bd2f67c2d046e1b2252058fc11e29666</td>\n",
       "      <td>NaN</td>\n",
       "      <td>NaN</td>\n",
       "      <td>2023-04-08 21:27:42.594872</td>\n",
       "    </tr>\n",
       "    <tr>\n",
       "      <th>4</th>\n",
       "      <td>78e412cf1a0e70b0854deeeb70968994</td>\n",
       "      <td>vk.com</td>\n",
       "      <td>friend</td>\n",
       "      <td>8cfdfe5ca59f3a55d7ab1cd8553033ea</td>\n",
       "      <td>45c26cad534913f18a8b6758dab1ac80</td>\n",
       "      <td>NaN</td>\n",
       "      <td>NaN</td>\n",
       "      <td>2023-04-08 21:27:42.594872</td>\n",
       "    </tr>\n",
       "  </tbody>\n",
       "</table>\n",
       "</div>"
      ],
      "text/plain": [
       "                    relationship_id   group    type  \\\n",
       "0  2cbb34ea576dbfe3c9dd1a7bc1ce5bca  vk.com  friend   \n",
       "1  0796bf87dd477a260fc573e3c06d5671  vk.com  friend   \n",
       "2  424d1be79f0731734968238e7d501300  vk.com  friend   \n",
       "3  fb3be2f40cf82c829493c89f737d617a  vk.com  friend   \n",
       "4  78e412cf1a0e70b0854deeeb70968994  vk.com  friend   \n",
       "\n",
       "                                src                               dst  data  \\\n",
       "0  8cfdfe5ca59f3a55d7ab1cd8553033ea  5801c74b1b7635d6dbcb0946e2bf4726   NaN   \n",
       "1  8cfdfe5ca59f3a55d7ab1cd8553033ea  389eaa8b15330b691cea040ffb1de703   NaN   \n",
       "2  8cfdfe5ca59f3a55d7ab1cd8553033ea  3b7cbab686c8a5ff7eb31bfbf3fbbbf3   NaN   \n",
       "3  8cfdfe5ca59f3a55d7ab1cd8553033ea  bd2f67c2d046e1b2252058fc11e29666   NaN   \n",
       "4  8cfdfe5ca59f3a55d7ab1cd8553033ea  45c26cad534913f18a8b6758dab1ac80   NaN   \n",
       "\n",
       "   blob                   timestamp  \n",
       "0   NaN  2023-04-08 21:27:42.594872  \n",
       "1   NaN  2023-04-08 21:27:42.594872  \n",
       "2   NaN  2023-04-08 21:27:42.594872  \n",
       "3   NaN  2023-04-08 21:27:42.594872  \n",
       "4   NaN  2023-04-08 21:27:42.594872  "
      ]
     },
     "execution_count": 52,
     "metadata": {},
     "output_type": "execute_result"
    }
   ],
   "source": [
    "df = kb.db.pandas(\"select * from relationships\")\n",
    "df.head()"
   ]
  },
  {
   "cell_type": "code",
   "execution_count": 30,
   "id": "4e246d96-ba8a-4071-a16a-3e8a43f3aaac",
   "metadata": {
    "tags": []
   },
   "outputs": [
    {
     "data": {
      "text/plain": [
       "src\n",
       "389eaa8b15330b691cea040ffb1de703    794\n",
       "8cfdfe5ca59f3a55d7ab1cd8553033ea    249\n",
       "b031510499c4661b1e60a4c6b4b7b822    821\n",
       "eb4e2880f7a969a7d7b5d10f70e56823    971\n",
       "dtype: int64"
      ]
     },
     "execution_count": 30,
     "metadata": {},
     "output_type": "execute_result"
    }
   ],
   "source": [
    "df.groupby('src').size()"
   ]
  },
  {
   "cell_type": "code",
   "execution_count": 33,
   "id": "be75fa25-70c8-495b-afa3-40933fb72eea",
   "metadata": {
    "tags": []
   },
   "outputs": [
    {
     "data": {
      "text/html": [
       "<div>\n",
       "<style scoped>\n",
       "    .dataframe tbody tr th:only-of-type {\n",
       "        vertical-align: middle;\n",
       "    }\n",
       "\n",
       "    .dataframe tbody tr th {\n",
       "        vertical-align: top;\n",
       "    }\n",
       "\n",
       "    .dataframe thead th {\n",
       "        text-align: right;\n",
       "    }\n",
       "</style>\n",
       "<table border=\"1\" class=\"dataframe\">\n",
       "  <thead>\n",
       "    <tr style=\"text-align: right;\">\n",
       "      <th></th>\n",
       "      <th>relationship_id</th>\n",
       "      <th>group</th>\n",
       "      <th>type</th>\n",
       "      <th>src</th>\n",
       "      <th>dst</th>\n",
       "      <th>data</th>\n",
       "      <th>blob</th>\n",
       "      <th>timestamp</th>\n",
       "    </tr>\n",
       "  </thead>\n",
       "  <tbody>\n",
       "    <tr>\n",
       "      <th>0</th>\n",
       "      <td>2cbb34ea576dbfe3c9dd1a7bc1ce5bca</td>\n",
       "      <td>vk.com</td>\n",
       "      <td>friend</td>\n",
       "      <td>8cfdfe5ca59f3a55d7ab1cd8553033ea</td>\n",
       "      <td>5801c74b1b7635d6dbcb0946e2bf4726</td>\n",
       "      <td>NaN</td>\n",
       "      <td>NaN</td>\n",
       "      <td>2023-04-08 21:27:42.594872</td>\n",
       "    </tr>\n",
       "    <tr>\n",
       "      <th>1</th>\n",
       "      <td>0796bf87dd477a260fc573e3c06d5671</td>\n",
       "      <td>vk.com</td>\n",
       "      <td>friend</td>\n",
       "      <td>8cfdfe5ca59f3a55d7ab1cd8553033ea</td>\n",
       "      <td>389eaa8b15330b691cea040ffb1de703</td>\n",
       "      <td>NaN</td>\n",
       "      <td>NaN</td>\n",
       "      <td>2023-04-08 21:27:42.594872</td>\n",
       "    </tr>\n",
       "    <tr>\n",
       "      <th>2</th>\n",
       "      <td>424d1be79f0731734968238e7d501300</td>\n",
       "      <td>vk.com</td>\n",
       "      <td>friend</td>\n",
       "      <td>8cfdfe5ca59f3a55d7ab1cd8553033ea</td>\n",
       "      <td>3b7cbab686c8a5ff7eb31bfbf3fbbbf3</td>\n",
       "      <td>NaN</td>\n",
       "      <td>NaN</td>\n",
       "      <td>2023-04-08 21:27:42.594872</td>\n",
       "    </tr>\n",
       "    <tr>\n",
       "      <th>3</th>\n",
       "      <td>fb3be2f40cf82c829493c89f737d617a</td>\n",
       "      <td>vk.com</td>\n",
       "      <td>friend</td>\n",
       "      <td>8cfdfe5ca59f3a55d7ab1cd8553033ea</td>\n",
       "      <td>bd2f67c2d046e1b2252058fc11e29666</td>\n",
       "      <td>NaN</td>\n",
       "      <td>NaN</td>\n",
       "      <td>2023-04-08 21:27:42.594872</td>\n",
       "    </tr>\n",
       "    <tr>\n",
       "      <th>4</th>\n",
       "      <td>78e412cf1a0e70b0854deeeb70968994</td>\n",
       "      <td>vk.com</td>\n",
       "      <td>friend</td>\n",
       "      <td>8cfdfe5ca59f3a55d7ab1cd8553033ea</td>\n",
       "      <td>45c26cad534913f18a8b6758dab1ac80</td>\n",
       "      <td>NaN</td>\n",
       "      <td>NaN</td>\n",
       "      <td>2023-04-08 21:27:42.594872</td>\n",
       "    </tr>\n",
       "    <tr>\n",
       "      <th>...</th>\n",
       "      <td>...</td>\n",
       "      <td>...</td>\n",
       "      <td>...</td>\n",
       "      <td>...</td>\n",
       "      <td>...</td>\n",
       "      <td>...</td>\n",
       "      <td>...</td>\n",
       "      <td>...</td>\n",
       "    </tr>\n",
       "    <tr>\n",
       "      <th>2830</th>\n",
       "      <td>3302d5497ddcc0a585980d37a5f7769e</td>\n",
       "      <td>vk.com</td>\n",
       "      <td>friend</td>\n",
       "      <td>b031510499c4661b1e60a4c6b4b7b822</td>\n",
       "      <td>557e08a0480d1c4cf7c9d7bfbd30ed3b</td>\n",
       "      <td>NaN</td>\n",
       "      <td>NaN</td>\n",
       "      <td>2023-04-08 21:14:49.341511</td>\n",
       "    </tr>\n",
       "    <tr>\n",
       "      <th>2831</th>\n",
       "      <td>e6fc3817916b6ed7a359a8633d1d8d67</td>\n",
       "      <td>vk.com</td>\n",
       "      <td>friend</td>\n",
       "      <td>b031510499c4661b1e60a4c6b4b7b822</td>\n",
       "      <td>9200673aee52542c96530c214db28e06</td>\n",
       "      <td>NaN</td>\n",
       "      <td>NaN</td>\n",
       "      <td>2023-04-08 21:14:49.341511</td>\n",
       "    </tr>\n",
       "    <tr>\n",
       "      <th>2832</th>\n",
       "      <td>dad6e3590796c00c9d8e9469c9570c2c</td>\n",
       "      <td>vk.com</td>\n",
       "      <td>friend</td>\n",
       "      <td>b031510499c4661b1e60a4c6b4b7b822</td>\n",
       "      <td>ecca8db47d595c297bfd04e42c83141f</td>\n",
       "      <td>NaN</td>\n",
       "      <td>NaN</td>\n",
       "      <td>2023-04-08 21:14:49.341511</td>\n",
       "    </tr>\n",
       "    <tr>\n",
       "      <th>2833</th>\n",
       "      <td>271620e4ee4d7afd0f0c282df960784e</td>\n",
       "      <td>vk.com</td>\n",
       "      <td>friend</td>\n",
       "      <td>b031510499c4661b1e60a4c6b4b7b822</td>\n",
       "      <td>2354d4532b0dbbb34830348f4f96fa40</td>\n",
       "      <td>NaN</td>\n",
       "      <td>NaN</td>\n",
       "      <td>2023-04-08 21:14:49.341511</td>\n",
       "    </tr>\n",
       "    <tr>\n",
       "      <th>2834</th>\n",
       "      <td>84690eb453dc45182333ef7c723d3df0</td>\n",
       "      <td>vk.com</td>\n",
       "      <td>friend</td>\n",
       "      <td>b031510499c4661b1e60a4c6b4b7b822</td>\n",
       "      <td>ae43c59961952025af19ea0fed544698</td>\n",
       "      <td>NaN</td>\n",
       "      <td>NaN</td>\n",
       "      <td>2023-04-08 21:14:49.341511</td>\n",
       "    </tr>\n",
       "  </tbody>\n",
       "</table>\n",
       "<p>2835 rows × 8 columns</p>\n",
       "</div>"
      ],
      "text/plain": [
       "                       relationship_id   group    type  \\\n",
       "0     2cbb34ea576dbfe3c9dd1a7bc1ce5bca  vk.com  friend   \n",
       "1     0796bf87dd477a260fc573e3c06d5671  vk.com  friend   \n",
       "2     424d1be79f0731734968238e7d501300  vk.com  friend   \n",
       "3     fb3be2f40cf82c829493c89f737d617a  vk.com  friend   \n",
       "4     78e412cf1a0e70b0854deeeb70968994  vk.com  friend   \n",
       "...                                ...     ...     ...   \n",
       "2830  3302d5497ddcc0a585980d37a5f7769e  vk.com  friend   \n",
       "2831  e6fc3817916b6ed7a359a8633d1d8d67  vk.com  friend   \n",
       "2832  dad6e3590796c00c9d8e9469c9570c2c  vk.com  friend   \n",
       "2833  271620e4ee4d7afd0f0c282df960784e  vk.com  friend   \n",
       "2834  84690eb453dc45182333ef7c723d3df0  vk.com  friend   \n",
       "\n",
       "                                   src                               dst  \\\n",
       "0     8cfdfe5ca59f3a55d7ab1cd8553033ea  5801c74b1b7635d6dbcb0946e2bf4726   \n",
       "1     8cfdfe5ca59f3a55d7ab1cd8553033ea  389eaa8b15330b691cea040ffb1de703   \n",
       "2     8cfdfe5ca59f3a55d7ab1cd8553033ea  3b7cbab686c8a5ff7eb31bfbf3fbbbf3   \n",
       "3     8cfdfe5ca59f3a55d7ab1cd8553033ea  bd2f67c2d046e1b2252058fc11e29666   \n",
       "4     8cfdfe5ca59f3a55d7ab1cd8553033ea  45c26cad534913f18a8b6758dab1ac80   \n",
       "...                                ...                               ...   \n",
       "2830  b031510499c4661b1e60a4c6b4b7b822  557e08a0480d1c4cf7c9d7bfbd30ed3b   \n",
       "2831  b031510499c4661b1e60a4c6b4b7b822  9200673aee52542c96530c214db28e06   \n",
       "2832  b031510499c4661b1e60a4c6b4b7b822  ecca8db47d595c297bfd04e42c83141f   \n",
       "2833  b031510499c4661b1e60a4c6b4b7b822  2354d4532b0dbbb34830348f4f96fa40   \n",
       "2834  b031510499c4661b1e60a4c6b4b7b822  ae43c59961952025af19ea0fed544698   \n",
       "\n",
       "      data  blob                   timestamp  \n",
       "0      NaN   NaN  2023-04-08 21:27:42.594872  \n",
       "1      NaN   NaN  2023-04-08 21:27:42.594872  \n",
       "2      NaN   NaN  2023-04-08 21:27:42.594872  \n",
       "3      NaN   NaN  2023-04-08 21:27:42.594872  \n",
       "4      NaN   NaN  2023-04-08 21:27:42.594872  \n",
       "...    ...   ...                         ...  \n",
       "2830   NaN   NaN  2023-04-08 21:14:49.341511  \n",
       "2831   NaN   NaN  2023-04-08 21:14:49.341511  \n",
       "2832   NaN   NaN  2023-04-08 21:14:49.341511  \n",
       "2833   NaN   NaN  2023-04-08 21:14:49.341511  \n",
       "2834   NaN   NaN  2023-04-08 21:14:49.341511  \n",
       "\n",
       "[2835 rows x 8 columns]"
      ]
     },
     "execution_count": 33,
     "metadata": {},
     "output_type": "execute_result"
    }
   ],
   "source": [
    "df"
   ]
  },
  {
   "cell_type": "code",
   "execution_count": 40,
   "id": "3eaf9453-bf00-4511-9986-8a5ad1fbb850",
   "metadata": {
    "tags": []
   },
   "outputs": [
    {
     "data": {
      "text/html": [
       "<div>\n",
       "<style scoped>\n",
       "    .dataframe tbody tr th:only-of-type {\n",
       "        vertical-align: middle;\n",
       "    }\n",
       "\n",
       "    .dataframe tbody tr th {\n",
       "        vertical-align: top;\n",
       "    }\n",
       "\n",
       "    .dataframe thead th {\n",
       "        text-align: right;\n",
       "    }\n",
       "</style>\n",
       "<table border=\"1\" class=\"dataframe\">\n",
       "  <thead>\n",
       "    <tr style=\"text-align: right;\">\n",
       "      <th></th>\n",
       "      <th>data</th>\n",
       "      <th>name_surname</th>\n",
       "    </tr>\n",
       "  </thead>\n",
       "  <tbody>\n",
       "    <tr>\n",
       "      <th>0</th>\n",
       "      <td>{\"id\": \"68870871\"}</td>\n",
       "      <td>None</td>\n",
       "    </tr>\n",
       "    <tr>\n",
       "      <th>1</th>\n",
       "      <td>{\"id\": 2083437, \"url_picture\": \"https://sun6-21.userapi.com/s/v1/ig2/wVIZNjZ9OW8Enoaz03ibkL2rlvO...</td>\n",
       "      <td>Oleg Kvitsinia</td>\n",
       "    </tr>\n",
       "    <tr>\n",
       "      <th>2</th>\n",
       "      <td>{\"id\": 2460541, \"url_picture\": \"https://sun6-22.userapi.com/s/v1/if1/p-wnQCT8yyYYODKTUPKV_MPB-WN...</td>\n",
       "      <td>Alexander Ponomarev</td>\n",
       "    </tr>\n",
       "    <tr>\n",
       "      <th>3</th>\n",
       "      <td>{\"id\": 3190606, \"url_picture\": \"https://sun6-22.userapi.com/s/v1/ig2/FobApx7Z3PPVwBOzpLiLLd-w9jR...</td>\n",
       "      <td>Roman Kiryunov</td>\n",
       "    </tr>\n",
       "    <tr>\n",
       "      <th>4</th>\n",
       "      <td>{\"id\": 3522545, \"url_picture\": \"https://sun6-20.userapi.com/s/v1/ig2/zdg9xpSxOE0KYWk8owrb9Yvizy6...</td>\n",
       "      <td>Konstantin Konorev</td>\n",
       "    </tr>\n",
       "    <tr>\n",
       "      <th>...</th>\n",
       "      <td>...</td>\n",
       "      <td>...</td>\n",
       "    </tr>\n",
       "    <tr>\n",
       "      <th>2806</th>\n",
       "      <td>{\"id\": 709236107, \"url_picture\": \"https://sun6-22.userapi.com/s/v1/ig2/BU-YLgx2GnPkQ9mlRChHzTSni...</td>\n",
       "      <td>Neon Print</td>\n",
       "    </tr>\n",
       "    <tr>\n",
       "      <th>2807</th>\n",
       "      <td>{\"id\": 709571845, \"url_picture\": \"https://sun6-21.userapi.com/s/v1/ig2/YezZIA1rmUlwNcuUR1aGrbX1V...</td>\n",
       "      <td>Elena Gvozdilina</td>\n",
       "    </tr>\n",
       "    <tr>\n",
       "      <th>2808</th>\n",
       "      <td>{\"id\": 747224980, \"url_picture\": \"https://sun6-20.userapi.com/s/v1/ig2/zWw-EtSsCr9ZqEQyXGleouu89...</td>\n",
       "      <td>Kurskaya Filarmonia</td>\n",
       "    </tr>\n",
       "    <tr>\n",
       "      <th>2809</th>\n",
       "      <td>{\"id\": 749026519, \"url_picture\": \"https://sun6-23.userapi.com/s/v1/ig2/-wpNLpZtI7ZjwIgADEB030JDO...</td>\n",
       "      <td>&amp;#45796;&amp;#49380; &amp;#48708;&amp;#45768;&amp;#50864;&amp;#53076;&amp;#48148;</td>\n",
       "    </tr>\n",
       "    <tr>\n",
       "      <th>2810</th>\n",
       "      <td>{\"id\": 766081532, \"url_picture\": \"https://sun6-21.userapi.com/s/v1/ig2/PizPH5jJRjQkWjShIsC_13q5t...</td>\n",
       "      <td>Dmitry Arkhipov</td>\n",
       "    </tr>\n",
       "  </tbody>\n",
       "</table>\n",
       "<p>2811 rows × 2 columns</p>\n",
       "</div>"
      ],
      "text/plain": [
       "                                                                                                     data  \\\n",
       "0                                                                                      {\"id\": \"68870871\"}   \n",
       "1     {\"id\": 2083437, \"url_picture\": \"https://sun6-21.userapi.com/s/v1/ig2/wVIZNjZ9OW8Enoaz03ibkL2rlvO...   \n",
       "2     {\"id\": 2460541, \"url_picture\": \"https://sun6-22.userapi.com/s/v1/if1/p-wnQCT8yyYYODKTUPKV_MPB-WN...   \n",
       "3     {\"id\": 3190606, \"url_picture\": \"https://sun6-22.userapi.com/s/v1/ig2/FobApx7Z3PPVwBOzpLiLLd-w9jR...   \n",
       "4     {\"id\": 3522545, \"url_picture\": \"https://sun6-20.userapi.com/s/v1/ig2/zdg9xpSxOE0KYWk8owrb9Yvizy6...   \n",
       "...                                                                                                   ...   \n",
       "2806  {\"id\": 709236107, \"url_picture\": \"https://sun6-22.userapi.com/s/v1/ig2/BU-YLgx2GnPkQ9mlRChHzTSni...   \n",
       "2807  {\"id\": 709571845, \"url_picture\": \"https://sun6-21.userapi.com/s/v1/ig2/YezZIA1rmUlwNcuUR1aGrbX1V...   \n",
       "2808  {\"id\": 747224980, \"url_picture\": \"https://sun6-20.userapi.com/s/v1/ig2/zWw-EtSsCr9ZqEQyXGleouu89...   \n",
       "2809  {\"id\": 749026519, \"url_picture\": \"https://sun6-23.userapi.com/s/v1/ig2/-wpNLpZtI7ZjwIgADEB030JDO...   \n",
       "2810  {\"id\": 766081532, \"url_picture\": \"https://sun6-21.userapi.com/s/v1/ig2/PizPH5jJRjQkWjShIsC_13q5t...   \n",
       "\n",
       "                                                   name_surname  \n",
       "0                                                          None  \n",
       "1                                                Oleg Kvitsinia  \n",
       "2                                           Alexander Ponomarev  \n",
       "3                                                Roman Kiryunov  \n",
       "4                                            Konstantin Konorev  \n",
       "...                                                         ...  \n",
       "2806                                                 Neon Print  \n",
       "2807                                           Elena Gvozdilina  \n",
       "2808                                        Kurskaya Filarmonia  \n",
       "2809  &#45796;&#49380; &#48708;&#45768;&#50864;&#53076;&#48148;  \n",
       "2810                                            Dmitry Arkhipov  \n",
       "\n",
       "[2811 rows x 2 columns]"
      ]
     },
     "execution_count": 40,
     "metadata": {},
     "output_type": "execute_result"
    }
   ],
   "source": [
    "df = kb.db.pandas(\"select data, json_extract(data, '$.name_surname') as name_surname from entities\")\n",
    "df"
   ]
  },
  {
   "cell_type": "code",
   "execution_count": null,
   "id": "38b09a0b-149b-4235-8094-25fbbaab4efd",
   "metadata": {},
   "outputs": [],
   "source": []
  }
 ],
 "metadata": {
  "kernelspec": {
   "display_name": "Python 3 (ipykernel)",
   "language": "python",
   "name": "python3"
  },
  "language_info": {
   "codemirror_mode": {
    "name": "ipython",
    "version": 3
   },
   "file_extension": ".py",
   "mimetype": "text/x-python",
   "name": "python",
   "nbconvert_exporter": "python",
   "pygments_lexer": "ipython3",
   "version": "3.10.6"
  }
 },
 "nbformat": 4,
 "nbformat_minor": 5
}
