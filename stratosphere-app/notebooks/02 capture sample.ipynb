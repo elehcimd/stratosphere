{
 "cells": [
  {
   "cell_type": "code",
   "execution_count": 1,
   "id": "53101b65-c193-4ba3-8a07-9dfdfb37ea8a",
   "metadata": {
    "tags": []
   },
   "outputs": [],
   "source": [
    "%load_ext autoreload\n",
    "%autoreload 2\n",
    "%reload_ext autoreload"
   ]
  },
  {
   "cell_type": "code",
   "execution_count": 2,
   "id": "8a0a8bf4-3c40-42a4-845c-b922b72ab31f",
   "metadata": {
    "tags": []
   },
   "outputs": [],
   "source": [
    "import pandas as pd\n",
    "from stratosphere import Stratosphere, options\n",
    "from stratosphere.utils.inspect_flows import InspectFlows"
   ]
  },
  {
   "cell_type": "code",
   "execution_count": 3,
   "id": "443d11a3-8722-4b60-8e2c-bd11c78dfa79",
   "metadata": {
    "tags": []
   },
   "outputs": [],
   "source": [
    "pd.options.display.max_rows = 2\n",
    "pd.options.display.max_columns = 100\n",
    "pd.options.display.max_colwidth = 100"
   ]
  },
  {
   "cell_type": "code",
   "execution_count": 4,
   "id": "638ec30b-3701-4342-b123-9c0f52129a73",
   "metadata": {
    "tags": []
   },
   "outputs": [
    {
     "name": "stdout",
     "output_type": "stream",
     "text": [
      "Available flows in current probe file within these timestamps:\n",
      "2023-04-21 10:01:29.743150\n",
      "2023-04-21 10:26:17.129003\n"
     ]
    }
   ],
   "source": [
    "s = Stratosphere(options.get(\"db.url_probe\"))\n",
    "print(\"Available flows in current probe file within these timestamps:\")\n",
    "print(s.db.pandas(\"select flow_capture_timestamp from flows\").flow_capture_timestamp.min())\n",
    "print(s.db.pandas(\"select flow_capture_timestamp from flows\").flow_capture_timestamp.max())"
   ]
  },
  {
   "cell_type": "code",
   "execution_count": 5,
   "id": "715d130f-07f7-449e-9e8b-b5c727c92391",
   "metadata": {
    "tags": []
   },
   "outputs": [
    {
     "name": "stdout",
     "output_type": "stream",
     "text": [
      "\u001b[32m■\u001b[0m Starting flows capture\n"
     ]
    },
    {
     "name": "stdin",
     "output_type": "stream",
     "text": [
      "Enter to complete .... \n"
     ]
    },
    {
     "name": "stdout",
     "output_type": "stream",
     "text": [
      "\u001b[32m■\u001b[0m Captured 140 flows\n",
      "\u001b[32m■\u001b[0m VACUUM executed.\n"
     ]
    }
   ],
   "source": [
    "s = Stratosphere(options.get(\"db.url_probe\"))\n",
    "df = s.capture(options.get(\"db.url_sample\"))"
   ]
  },
  {
   "cell_type": "code",
   "execution_count": 6,
   "id": "9a86f233-34a5-47bf-bd30-0262562aa97d",
   "metadata": {
    "tags": []
   },
   "outputs": [
    {
     "name": "stdout",
     "output_type": "stream",
     "text": [
      "3.1M\t/shared/data/sample.db\n"
     ]
    }
   ],
   "source": [
    "!du -h /shared/data/sample.db"
   ]
  },
  {
   "cell_type": "code",
   "execution_count": 7,
   "id": "baa56753-bef1-4306-9350-e9187d09dbac",
   "metadata": {
    "tags": []
   },
   "outputs": [],
   "source": [
    "!cp /shared/data/sample.db /shared/data/sample-likes-linkedin.db"
   ]
  },
  {
   "cell_type": "code",
   "execution_count": 8,
   "id": "4e8df7c2-1383-4d7f-8917-dc687d6ff78a",
   "metadata": {
    "tags": []
   },
   "outputs": [
    {
     "name": "stdout",
     "output_type": "stream",
     "text": [
      "Overview: 140 flows (67.13 seconds) distributed as follows:\n"
     ]
    },
    {
     "data": {
      "text/html": [
       "<div>\n",
       "<style scoped>\n",
       "    .dataframe tbody tr th:only-of-type {\n",
       "        vertical-align: middle;\n",
       "    }\n",
       "\n",
       "    .dataframe tbody tr th {\n",
       "        vertical-align: top;\n",
       "    }\n",
       "\n",
       "    .dataframe thead th {\n",
       "        text-align: right;\n",
       "    }\n",
       "</style>\n",
       "<table border=\"1\" class=\"dataframe\">\n",
       "  <thead>\n",
       "    <tr style=\"text-align: right;\">\n",
       "      <th></th>\n",
       "      <th>host</th>\n",
       "      <th>port</th>\n",
       "      <th>method</th>\n",
       "      <th>flow_request_headers_content_type</th>\n",
       "      <th>flow_response_headers_content_type</th>\n",
       "      <th>count</th>\n",
       "    </tr>\n",
       "  </thead>\n",
       "  <tbody>\n",
       "    <tr>\n",
       "      <th>0</th>\n",
       "      <td>www.linkedin.com</td>\n",
       "      <td>443</td>\n",
       "      <td>POST</td>\n",
       "      <td>text/plain;charset=UTF-8</td>\n",
       "      <td>text/plain; charset=utf-8</td>\n",
       "      <td>83</td>\n",
       "    </tr>\n",
       "    <tr>\n",
       "      <th>...</th>\n",
       "      <td>...</td>\n",
       "      <td>...</td>\n",
       "      <td>...</td>\n",
       "      <td>...</td>\n",
       "      <td>...</td>\n",
       "      <td>...</td>\n",
       "    </tr>\n",
       "    <tr>\n",
       "      <th>6</th>\n",
       "      <td>static.licdn.com</td>\n",
       "      <td>443</td>\n",
       "      <td>GET</td>\n",
       "      <td></td>\n",
       "      <td>text/javascript</td>\n",
       "      <td>1</td>\n",
       "    </tr>\n",
       "  </tbody>\n",
       "</table>\n",
       "<p>7 rows × 6 columns</p>\n",
       "</div>"
      ],
      "text/plain": [
       "                host  port method flow_request_headers_content_type  \\\n",
       "0   www.linkedin.com   443   POST          text/plain;charset=UTF-8   \n",
       "..               ...   ...    ...                               ...   \n",
       "6   static.licdn.com   443    GET                                     \n",
       "\n",
       "   flow_response_headers_content_type  count  \n",
       "0           text/plain; charset=utf-8     83  \n",
       "..                                ...    ...  \n",
       "6                     text/javascript      1  \n",
       "\n",
       "[7 rows x 6 columns]"
      ]
     },
     "metadata": {},
     "output_type": "display_data"
    }
   ],
   "source": [
    "s = Stratosphere(\"sqlite:////shared/data/sample.db\")\n",
    "df = s.db.pandas(\"select * from flows\").fillna(\"\")\n",
    "ifs = InspectFlows(df)\n",
    "ifs.overview()"
   ]
  },
  {
   "cell_type": "code",
   "execution_count": null,
   "id": "e684b891-e182-4e1e-ba61-0356eea500b6",
   "metadata": {},
   "outputs": [],
   "source": []
  }
 ],
 "metadata": {
  "kernelspec": {
   "display_name": "Python 3 (ipykernel)",
   "language": "python",
   "name": "python3"
  },
  "language_info": {
   "codemirror_mode": {
    "name": "ipython",
    "version": 3
   },
   "file_extension": ".py",
   "mimetype": "text/x-python",
   "name": "python",
   "nbconvert_exporter": "python",
   "pygments_lexer": "ipython3",
   "version": "3.10.6"
  }
 },
 "nbformat": 4,
 "nbformat_minor": 5
}
