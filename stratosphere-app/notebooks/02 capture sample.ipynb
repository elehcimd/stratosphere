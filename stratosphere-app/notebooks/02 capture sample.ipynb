{
 "cells": [
  {
   "cell_type": "code",
   "execution_count": 1,
   "id": "53101b65-c193-4ba3-8a07-9dfdfb37ea8a",
   "metadata": {
    "tags": []
   },
   "outputs": [],
   "source": [
    "%load_ext autoreload\n",
    "%autoreload 2\n",
    "%reload_ext autoreload"
   ]
  },
  {
   "cell_type": "code",
   "execution_count": 2,
   "id": "8a0a8bf4-3c40-42a4-845c-b922b72ab31f",
   "metadata": {
    "tags": []
   },
   "outputs": [],
   "source": [
    "import pandas as pd\n",
    "from stratosphere import Stratosphere\n",
    "from stratosphere.utils.inspect_flows import InspectFlows\n",
    "from stratosphere import options"
   ]
  },
  {
   "cell_type": "code",
   "execution_count": 5,
   "id": "443d11a3-8722-4b60-8e2c-bd11c78dfa79",
   "metadata": {
    "tags": []
   },
   "outputs": [],
   "source": [
    "pd.options.display.max_rows = 2\n",
    "pd.options.display.max_columns = 100\n",
    "pd.options.display.max_colwidth = 100"
   ]
  },
  {
   "cell_type": "code",
   "execution_count": 12,
   "id": "638ec30b-3701-4342-b123-9c0f52129a73",
   "metadata": {
    "tags": []
   },
   "outputs": [
    {
     "name": "stdout",
     "output_type": "stream",
     "text": [
      "Available flows in current probe file within these timestamps:\n",
      "2023-04-13 15:44:35.281849\n",
      "2023-04-13 15:54:35.562531\n"
     ]
    }
   ],
   "source": [
    "s = Stratosphere(options.get(\"db.url_probe\"))\n",
    "print(\"Available flows in current probe file within these timestamps:\")\n",
    "print(s.db.pandas(\"select flow_capture_timestamp from flows\").flow_capture_timestamp.min())\n",
    "print(s.db.pandas(\"select flow_capture_timestamp from flows\").flow_capture_timestamp.max())"
   ]
  },
  {
   "cell_type": "code",
   "execution_count": 5,
   "id": "715d130f-07f7-449e-9e8b-b5c727c92391",
   "metadata": {
    "tags": []
   },
   "outputs": [
    {
     "name": "stdout",
     "output_type": "stream",
     "text": [
      "\u001b[32m■\u001b[0m Starting flows capture\n"
     ]
    },
    {
     "name": "stdin",
     "output_type": "stream",
     "text": [
      "Enter to complete .... \n"
     ]
    },
    {
     "name": "stdout",
     "output_type": "stream",
     "text": [
      "\u001b[32m■\u001b[0m Captured 1 flows\n",
      "\u001b[32m■\u001b[0m VACUUM executed.\n"
     ]
    }
   ],
   "source": [
    "s = Stratosphere(options.get(\"db.url_probe\"))\n",
    "df = s.capture(options.get(\"db.url_sample\"))"
   ]
  },
  {
   "cell_type": "code",
   "execution_count": 6,
   "id": "9a86f233-34a5-47bf-bd30-0262562aa97d",
   "metadata": {
    "tags": []
   },
   "outputs": [
    {
     "name": "stdout",
     "output_type": "stream",
     "text": [
      "28K\t/shared/data/sample.db\n"
     ]
    }
   ],
   "source": [
    "!du -h /shared/data/sample.db"
   ]
  },
  {
   "cell_type": "code",
   "execution_count": null,
   "id": "4e8df7c2-1383-4d7f-8917-dc687d6ff78a",
   "metadata": {},
   "outputs": [],
   "source": []
  }
 ],
 "metadata": {
  "kernelspec": {
   "display_name": "Python 3 (ipykernel)",
   "language": "python",
   "name": "python3"
  },
  "language_info": {
   "codemirror_mode": {
    "name": "ipython",
    "version": 3
   },
   "file_extension": ".py",
   "mimetype": "text/x-python",
   "name": "python",
   "nbconvert_exporter": "python",
   "pygments_lexer": "ipython3",
   "version": "3.10.6"
  }
 },
 "nbformat": 4,
 "nbformat_minor": 5
}
