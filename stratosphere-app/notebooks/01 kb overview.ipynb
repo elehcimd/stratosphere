{
 "cells": [
  {
   "cell_type": "code",
   "execution_count": null,
   "id": "25862956-2466-4ce0-a6d0-96be5a7c8af2",
   "metadata": {},
   "outputs": [],
   "source": [
    "%load_ext autoreload\n",
    "%autoreload 2\n",
    "%reload_ext autoreload"
   ]
  },
  {
   "cell_type": "code",
   "execution_count": 2,
   "id": "d5a767b6-ec52-416b-b319-45c476b242e2",
   "metadata": {
    "tags": []
   },
   "outputs": [],
   "source": [
    "from stratosphere import Stratosphere\n",
    "from stratosphere import options"
   ]
  },
  {
   "cell_type": "code",
   "execution_count": 3,
   "id": "6e3ade50-4bf2-4c0f-89b0-776db7a02e5a",
   "metadata": {
    "tags": []
   },
   "outputs": [
    {
     "data": {
      "text/plain": [
       "{'db': {'url': 'sqlite:///:memory:',\n",
       "  'url_probe': 'sqlite:////shared/data/probe.db',\n",
       "  'url_sample': 'sqlite:////shared/data/sample.db',\n",
       "  'url_kb': 'sqlite:////shared/data/kb.db',\n",
       "  'echo': False,\n",
       "  'pool_pre_ping': True,\n",
       "  'ask_password': False,\n",
       "  'query_read_chunk_size': 1000,\n",
       "  'query_write_chunk_size': 1000,\n",
       "  'enable_compression': False},\n",
       " 'tqdm': {'disable': False, 'delay': 0.2},\n",
       " 'logging': {'stdout': True,\n",
       "  'level': 'INFO',\n",
       "  'catch_exceptions': False,\n",
       "  'clear_handlers_default_logger': True}}"
      ]
     },
     "execution_count": 3,
     "metadata": {},
     "output_type": "execute_result"
    }
   ],
   "source": [
    "options.options"
   ]
  },
  {
   "cell_type": "code",
   "execution_count": 4,
   "id": "712a5ca5-686a-4dfc-8888-f2fdf202c12e",
   "metadata": {
    "tags": []
   },
   "outputs": [
    {
     "name": "stdout",
     "output_type": "stream",
     "text": [
      "The knowledge base contains 11663 entities and 12496 relationships.\n"
     ]
    }
   ],
   "source": [
    "kb = Stratosphere(options.get(\"db.url_kb\"))\n",
    "count_entities = kb.db.pandas(\"SELECT count(*) as cnt FROM entities\").cnt.iloc[0]\n",
    "count_relationships = kb.db.pandas(\"SELECT count(*) as cnt FROM relationships\").cnt.iloc[0]\n",
    "\n",
    "print(f\"The knowledge base contains {count_entities} entities and {count_relationships} relationships.\")\n"
   ]
  },
  {
   "cell_type": "code",
   "execution_count": null,
   "id": "6aa16f4d-c4eb-4935-9b92-8221ea712273",
   "metadata": {},
   "outputs": [],
   "source": []
  },
  {
   "cell_type": "code",
   "execution_count": null,
   "id": "a3919e27-ab33-46e2-b312-98dfff6b9b81",
   "metadata": {},
   "outputs": [],
   "source": []
  }
 ],
 "metadata": {
  "kernelspec": {
   "display_name": "Python 3 (ipykernel)",
   "language": "python",
   "name": "python3"
  },
  "language_info": {
   "codemirror_mode": {
    "name": "ipython",
    "version": 3
   },
   "file_extension": ".py",
   "mimetype": "text/x-python",
   "name": "python",
   "nbconvert_exporter": "python",
   "pygments_lexer": "ipython3",
   "version": "3.10.6"
  }
 },
 "nbformat": 4,
 "nbformat_minor": 5
}
