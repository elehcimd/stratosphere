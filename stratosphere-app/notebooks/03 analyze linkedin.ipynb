{
 "cells": [
  {
   "cell_type": "code",
   "execution_count": 1,
   "id": "53101b65-c193-4ba3-8a07-9dfdfb37ea8a",
   "metadata": {
    "tags": []
   },
   "outputs": [],
   "source": [
    "%load_ext autoreload\n",
    "%autoreload 2\n",
    "%reload_ext autoreload"
   ]
  },
  {
   "cell_type": "code",
   "execution_count": 2,
   "id": "8a0a8bf4-3c40-42a4-845c-b922b72ab31f",
   "metadata": {
    "tags": []
   },
   "outputs": [],
   "source": [
    "import pandas as pd\n",
    "from stratosphere import Stratosphere\n",
    "from stratosphere.utils.inspect_flows import InspectFlows"
   ]
  },
  {
   "cell_type": "code",
   "execution_count": 3,
   "id": "443d11a3-8722-4b60-8e2c-bd11c78dfa79",
   "metadata": {
    "tags": []
   },
   "outputs": [],
   "source": [
    "pd.options.display.max_rows = 10\n",
    "pd.options.display.max_columns = 100\n",
    "pd.options.display.max_colwidth = 100"
   ]
  },
  {
   "cell_type": "code",
   "execution_count": 4,
   "id": "6a736b1b-edd6-49be-8843-f2dcaca99d68",
   "metadata": {
    "tags": []
   },
   "outputs": [
    {
     "name": "stdout",
     "output_type": "stream",
     "text": [
      "search-bing-hello-bellingcat.db     vk.com-chain-of-friends.db\n",
      "search-google-bellingcattools.db    vk.com-visiting-friend-from-friend.db\n",
      "search-google.db\t\t    vk-friends.db\n",
      "search-google-multiple-pages.db     vk-person.db\n",
      "search-google-multiple-searches.db  vk-person_friend.db\n"
     ]
    }
   ],
   "source": [
    "!ls /shared/data/samples"
   ]
  },
  {
   "cell_type": "code",
   "execution_count": 5,
   "id": "64e8fcf3-7fc4-45ce-b3d6-5ccb7e729d04",
   "metadata": {
    "tags": []
   },
   "outputs": [
    {
     "name": "stdout",
     "output_type": "stream",
     "text": [
      "Overview: 140 flows (67.13 seconds) distributed as follows:\n"
     ]
    },
    {
     "data": {
      "text/html": [
       "<div>\n",
       "<style scoped>\n",
       "    .dataframe tbody tr th:only-of-type {\n",
       "        vertical-align: middle;\n",
       "    }\n",
       "\n",
       "    .dataframe tbody tr th {\n",
       "        vertical-align: top;\n",
       "    }\n",
       "\n",
       "    .dataframe thead th {\n",
       "        text-align: right;\n",
       "    }\n",
       "</style>\n",
       "<table border=\"1\" class=\"dataframe\">\n",
       "  <thead>\n",
       "    <tr style=\"text-align: right;\">\n",
       "      <th></th>\n",
       "      <th>host</th>\n",
       "      <th>port</th>\n",
       "      <th>method</th>\n",
       "      <th>flow_request_headers_content_type</th>\n",
       "      <th>flow_response_headers_content_type</th>\n",
       "      <th>count</th>\n",
       "    </tr>\n",
       "  </thead>\n",
       "  <tbody>\n",
       "    <tr>\n",
       "      <th>0</th>\n",
       "      <td>www.linkedin.com</td>\n",
       "      <td>443</td>\n",
       "      <td>POST</td>\n",
       "      <td>text/plain;charset=UTF-8</td>\n",
       "      <td>text/plain; charset=utf-8</td>\n",
       "      <td>83</td>\n",
       "    </tr>\n",
       "    <tr>\n",
       "      <th>1</th>\n",
       "      <td>www.linkedin.com</td>\n",
       "      <td>443</td>\n",
       "      <td>GET</td>\n",
       "      <td></td>\n",
       "      <td>application/vnd.linkedin.normalized+json+2.1; charset=UTF-8</td>\n",
       "      <td>45</td>\n",
       "    </tr>\n",
       "    <tr>\n",
       "      <th>2</th>\n",
       "      <td>www.linkedin.com</td>\n",
       "      <td>443</td>\n",
       "      <td>POST</td>\n",
       "      <td>application/json; charset=UTF-8</td>\n",
       "      <td>application/json</td>\n",
       "      <td>6</td>\n",
       "    </tr>\n",
       "    <tr>\n",
       "      <th>3</th>\n",
       "      <td>platform.linkedin.com</td>\n",
       "      <td>443</td>\n",
       "      <td>GET</td>\n",
       "      <td></td>\n",
       "      <td>application/json</td>\n",
       "      <td>2</td>\n",
       "    </tr>\n",
       "    <tr>\n",
       "      <th>4</th>\n",
       "      <td>www.linkedin.com</td>\n",
       "      <td>443</td>\n",
       "      <td>POST</td>\n",
       "      <td>application/x-www-form-urlencoded</td>\n",
       "      <td>application/vnd.linkedin.normalized+json+2.1; charset=UTF-8</td>\n",
       "      <td>2</td>\n",
       "    </tr>\n",
       "    <tr>\n",
       "      <th>5</th>\n",
       "      <td>platform.linkedin.com</td>\n",
       "      <td>443</td>\n",
       "      <td>GET</td>\n",
       "      <td></td>\n",
       "      <td>application/javascript; charset=utf-8</td>\n",
       "      <td>1</td>\n",
       "    </tr>\n",
       "    <tr>\n",
       "      <th>6</th>\n",
       "      <td>static.licdn.com</td>\n",
       "      <td>443</td>\n",
       "      <td>GET</td>\n",
       "      <td></td>\n",
       "      <td>text/javascript</td>\n",
       "      <td>1</td>\n",
       "    </tr>\n",
       "  </tbody>\n",
       "</table>\n",
       "</div>"
      ],
      "text/plain": [
       "                    host  port method  flow_request_headers_content_type  \\\n",
       "0       www.linkedin.com   443   POST           text/plain;charset=UTF-8   \n",
       "1       www.linkedin.com   443    GET                                      \n",
       "2       www.linkedin.com   443   POST    application/json; charset=UTF-8   \n",
       "3  platform.linkedin.com   443    GET                                      \n",
       "4       www.linkedin.com   443   POST  application/x-www-form-urlencoded   \n",
       "5  platform.linkedin.com   443    GET                                      \n",
       "6       static.licdn.com   443    GET                                      \n",
       "\n",
       "                            flow_response_headers_content_type  count  \n",
       "0                                    text/plain; charset=utf-8     83  \n",
       "1  application/vnd.linkedin.normalized+json+2.1; charset=UTF-8     45  \n",
       "2                                             application/json      6  \n",
       "3                                             application/json      2  \n",
       "4  application/vnd.linkedin.normalized+json+2.1; charset=UTF-8      2  \n",
       "5                        application/javascript; charset=utf-8      1  \n",
       "6                                              text/javascript      1  "
      ]
     },
     "metadata": {},
     "output_type": "display_data"
    }
   ],
   "source": [
    "s = Stratosphere(\"sqlite:////shared/data/sample-likes-linkedin.db\")\n",
    "df = s.db.pandas(\"select * from flows\").fillna(\"\")\n",
    "ifs = InspectFlows(df)\n",
    "ifs.overview()"
   ]
  },
  {
   "cell_type": "code",
   "execution_count": 6,
   "id": "fc51a6dd-a3c0-45b0-9555-63fcd9b480d1",
   "metadata": {
    "tags": []
   },
   "outputs": [
    {
     "data": {
      "text/html": [
       "<div>\n",
       "<style scoped>\n",
       "    .dataframe tbody tr th:only-of-type {\n",
       "        vertical-align: middle;\n",
       "    }\n",
       "\n",
       "    .dataframe tbody tr th {\n",
       "        vertical-align: top;\n",
       "    }\n",
       "\n",
       "    .dataframe thead th {\n",
       "        text-align: right;\n",
       "    }\n",
       "</style>\n",
       "<table border=\"1\" class=\"dataframe\">\n",
       "  <thead>\n",
       "    <tr style=\"text-align: right;\">\n",
       "      <th></th>\n",
       "      <th>flow_capture_timestamp</th>\n",
       "      <th>host_port_method</th>\n",
       "      <th>url_path_beginswith</th>\n",
       "      <th>response_is_text</th>\n",
       "      <th>response_is_json</th>\n",
       "      <th>flow_response_content_startswith</th>\n",
       "      <th>n_matches</th>\n",
       "    </tr>\n",
       "  </thead>\n",
       "  <tbody>\n",
       "    <tr>\n",
       "      <th>115</th>\n",
       "      <td>2023-04-21 10:34:01.530668</td>\n",
       "      <td>www.linkedin.com:443@GET</td>\n",
       "      <td>/voyager/api/graphql</td>\n",
       "      <td>True</td>\n",
       "      <td>True</td>\n",
       "      <td>b'{\"data\":{\"data\":{\"$recipeTypes'</td>\n",
       "      <td>1</td>\n",
       "    </tr>\n",
       "    <tr>\n",
       "      <th>118</th>\n",
       "      <td>2023-04-21 10:34:01.967795</td>\n",
       "      <td>www.linkedin.com:443@GET</td>\n",
       "      <td>/voyager/api/graphql</td>\n",
       "      <td>True</td>\n",
       "      <td>True</td>\n",
       "      <td>b'{\"data\":{\"data\":{\"$recipeTypes'</td>\n",
       "      <td>1</td>\n",
       "    </tr>\n",
       "  </tbody>\n",
       "</table>\n",
       "</div>"
      ],
      "text/plain": [
       "        flow_capture_timestamp          host_port_method  \\\n",
       "115 2023-04-21 10:34:01.530668  www.linkedin.com:443@GET   \n",
       "118 2023-04-21 10:34:01.967795  www.linkedin.com:443@GET   \n",
       "\n",
       "      url_path_beginswith  response_is_text  response_is_json  \\\n",
       "115  /voyager/api/graphql              True              True   \n",
       "118  /voyager/api/graphql              True              True   \n",
       "\n",
       "      flow_response_content_startswith  n_matches  \n",
       "115  b'{\"data\":{\"data\":{\"$recipeTypes'          1  \n",
       "118  b'{\"data\":{\"data\":{\"$recipeTypes'          1  "
      ]
     },
     "execution_count": 6,
     "metadata": {},
     "output_type": "execute_result"
    }
   ],
   "source": [
    "ifs.analyze(patterns=['CHARUDATTA'])"
   ]
  },
  {
   "cell_type": "code",
   "execution_count": 20,
   "id": "a8123342-21d9-4ae2-bf52-9400f71d5b29",
   "metadata": {
    "tags": []
   },
   "outputs": [
    {
     "name": "stdout",
     "output_type": "stream",
     "text": [
      "================================[URL]===========================================\n",
      "METHOD: GET\n",
      "URL: https://www.linkedin.com/voyager/api/graphql?includeWebMetadata=true&variables=(count:10,start:0,threadUrn:urn%3Ali%3Aactivity%3A7054070071043710977,reactionType:LIKE)&&queryId=voyagerSocialDashReactions.84d90faa9817170f14967a1ab991a76e\n",
      "Query:\n"
     ]
    },
    {
     "data": {
      "application/json": {
       "includeWebMetadata": [
        "true"
       ],
       "queryId": [
        "voyagerSocialDashReactions.84d90faa9817170f14967a1ab991a76e"
       ],
       "variables": [
        "(count:10,start:0,threadUrn:urn:li:activity:7054070071043710977,reactionType:LIKE)"
       ]
      },
      "text/plain": [
       "<IPython.core.display.JSON object>"
      ]
     },
     "metadata": {
      "application/json": {
       "expanded": true,
       "root": "root"
      }
     },
     "output_type": "display_data"
    },
    {
     "name": "stdout",
     "output_type": "stream",
     "text": [
      "================================[request-content]==============================\n",
      "content-type: \n",
      "JSON-parsable? False\n",
      "================================[request-response]============================\n",
      "content-type: application/vnd.linkedin.normalized+json+2.1; charset=UTF-8\n",
      "JSON-parsable? True\n",
      "--\n"
     ]
    },
    {
     "data": {
      "application/json": {
       "data": {
        "data": {
         "$recipeTypes": [
          "com.linkedin.719d1a789b53d132eb666f89333b854a"
         ],
         "$type": "com.linkedin.719d1a789b53d132eb666f89333b854a",
         "socialDashReactionsByReactionType": {
          "$recipeTypes": [
           "com.linkedin.d34226ba14d7569363e729f024e5c36e"
          ],
          "$type": "com.linkedin.restli.common.CollectionResponse",
          "*elements": [
           "urn:li:fsd_reaction:(urn:li:fsd_profile:ACoAAAok4V8BQg5iGWF-C3BjV-6CPDjXXcdlBYA,urn:li:activity:7054070071043710977,0)",
           "urn:li:fsd_reaction:(urn:li:fsd_profile:ACoAAANiH2MBAySw1_me4WzXVIz36igT_BPBLts,urn:li:activity:7054070071043710977,0)",
           "urn:li:fsd_reaction:(urn:li:fsd_profile:ACoAAATIt2MBjIn3cbZRj1sptDvMhrdwt9E3phI,urn:li:activity:7054070071043710977,0)",
           "urn:li:fsd_reaction:(urn:li:fsd_company:71507933,urn:li:activity:7054070071043710977,0)",
           "urn:li:fsd_reaction:(urn:li:fsd_company:405958,urn:li:activity:7054070071043710977,0)",
           "urn:li:fsd_reaction:(urn:li:fsd_profile:ACoAABTkdRgB7h-EfjpeVsbgC8cnPJ6SI1oRIwE,urn:li:activity:7054070071043710977,0)",
           "urn:li:fsd_reaction:(urn:li:fsd_profile:ACoAABG6mN0B8c5TTljG05KOcMF0ljgMxh9c5BY,urn:li:activity:7054070071043710977,0)",
           "urn:li:fsd_reaction:(urn:li:fsd_profile:ACoAABWRgBkB0uDGGK1lQnSb3w-2Bpzkg1_Mn7k,urn:li:activity:7054070071043710977,0)",
           "urn:li:fsd_reaction:(urn:li:fsd_profile:ACoAAAe-IHEBqkhk7C7F2CYL8AJmPc8HzLmMbX8,urn:li:activity:7054070071043710977,0)",
           "urn:li:fsd_reaction:(urn:li:fsd_profile:ACoAAAUs9swBW3iGNNiR2487BQZslSKMK65zQpY,urn:li:activity:7054070071043710977,0)"
          ],
          "metadata": {
           "$recipeTypes": [
            "com.linkedin.72f9194816661062cb04c917354fa210"
           ],
           "$type": "com.linkedin.voyager.dash.social.ReactionsMetadata",
           "nextStartOffset": null,
           "paginationToken": "5a3ef127c24a1d78053bc817aced6ec5",
           "socialActivityCounts": null,
           "updatedReactionTypeCounts": []
          },
          "paging": {
           "$recipeTypes": [
            "com.linkedin.b50259d37125aebe5a937a579bb67345"
           ],
           "$type": "com.linkedin.restli.common.CollectionMetadata",
           "count": 10,
           "start": 0,
           "total": 16
          }
         }
        },
        "extensions": {
         "webMetadata": {}
        }
       },
       "included": [
        {
         "$recipeTypes": [
          "com.linkedin.4e40620a1546ec1ea7b74f1ac7db436e"
         ],
         "$type": "com.linkedin.voyager.dash.identity.profile.Profile",
         "entityUrn": "urn:li:fsd_profile:ACoAAAok4V8BQg5iGWF-C3BjV-6CPDjXXcdlBYA",
         "profilePicture": {
          "$recipeTypes": [
           "com.linkedin.95ee6262e2e99e1e02206cc342278924"
          ],
          "$type": "com.linkedin.voyager.dash.identity.profile.PhotoFilterPicture",
          "displayImageReferenceResolutionResult": {
           "url": null,
           "vectorImage": {
            "$recipeTypes": [
             "com.linkedin.05ad6e1019bd9c0c2f02aff5e281ea2a"
            ],
            "$type": "com.linkedin.common.VectorImage",
            "artifacts": [
             {
              "$recipeTypes": [
               "com.linkedin.df089b9d683fa734528ad3707694a3bc"
              ],
              "$type": "com.linkedin.common.VectorArtifact",
              "expiresAt": 1687392000000,
              "fileIdentifyingUrlPathSegment": "100_100/0/1673017308310?e=1687392000&v=beta&t=MS20GWpEF3WTGLHIF7N223btZ5oUjlVv_o2jfvvNP9A",
              "height": 100,
              "width": 100
             },
             {
              "$recipeTypes": [
               "com.linkedin.df089b9d683fa734528ad3707694a3bc"
              ],
              "$type": "com.linkedin.common.VectorArtifact",
              "expiresAt": 1687392000000,
              "fileIdentifyingUrlPathSegment": "200_200/0/1673017308310?e=1687392000&v=beta&t=hR09AYdBYx7tUzJ5O8o3XYTk-TAHVlukfyrl9C0z4xg",
              "height": 200,
              "width": 200
             },
             {
              "$recipeTypes": [
               "com.linkedin.df089b9d683fa734528ad3707694a3bc"
              ],
              "$type": "com.linkedin.common.VectorArtifact",
              "expiresAt": 1687392000000,
              "fileIdentifyingUrlPathSegment": "400_400/0/1673017308310?e=1687392000&v=beta&t=6kFoOonmfsSAGCMR1Tyfg40DeXaIz5uzUTj2zYH6Rgo",
              "height": 400,
              "width": 400
             },
             {
              "$recipeTypes": [
               "com.linkedin.df089b9d683fa734528ad3707694a3bc"
              ],
              "$type": "com.linkedin.common.VectorArtifact",
              "expiresAt": 1687392000000,
              "fileIdentifyingUrlPathSegment": "800_800/0/1673017308310?e=1687392000&v=beta&t=KSgwgOiCySOU5-OplQgwj8peTwQHS0DfeDgkyfrf60I",
              "height": 800,
              "width": 800
             }
            ],
            "attribution": null,
            "digitalmediaAsset": null,
            "rootUrl": "https://media.licdn.com/dms/image/D4D03AQElFrHHO4lggw/profile-displayphoto-shrink_"
           }
          },
          "displayImageUrn": "urn:li:digitalmediaAsset:D4D03AQElFrHHO4lggw",
          "displayImageWithFrameReference": null
         }
        },
        {
         "$recipeTypes": [
          "com.linkedin.4e40620a1546ec1ea7b74f1ac7db436e"
         ],
         "$type": "com.linkedin.voyager.dash.identity.profile.Profile",
         "entityUrn": "urn:li:fsd_profile:ACoAAANiH2MBAySw1_me4WzXVIz36igT_BPBLts",
         "profilePicture": null
        },
        {
         "$recipeTypes": [
          "com.linkedin.4e40620a1546ec1ea7b74f1ac7db436e"
         ],
         "$type": "com.linkedin.voyager.dash.identity.profile.Profile",
         "entityUrn": "urn:li:fsd_profile:ACoAAATIt2MBjIn3cbZRj1sptDvMhrdwt9E3phI",
         "profilePicture": {
          "$recipeTypes": [
           "com.linkedin.95ee6262e2e99e1e02206cc342278924"
          ],
          "$type": "com.linkedin.voyager.dash.identity.profile.PhotoFilterPicture",
          "displayImageReferenceResolutionResult": {
           "url": null,
           "vectorImage": {
            "$recipeTypes": [
             "com.linkedin.05ad6e1019bd9c0c2f02aff5e281ea2a"
            ],
            "$type": "com.linkedin.common.VectorImage",
            "artifacts": [
             {
              "$recipeTypes": [
               "com.linkedin.df089b9d683fa734528ad3707694a3bc"
              ],
              "$type": "com.linkedin.common.VectorArtifact",
              "expiresAt": 1687392000000,
              "fileIdentifyingUrlPathSegment": "100_100/0/1586926624956?e=1687392000&v=beta&t=md8PSlV9o7wtrfFTBH7PMjDs9RJ08HxV5zpNtQsXDSk",
              "height": 100,
              "width": 100
             },
             {
              "$recipeTypes": [
               "com.linkedin.df089b9d683fa734528ad3707694a3bc"
              ],
              "$type": "com.linkedin.common.VectorArtifact",
              "expiresAt": 1687392000000,
              "fileIdentifyingUrlPathSegment": "200_200/0/1586926624956?e=1687392000&v=beta&t=x0LBslj7qga7w5P93Oyz04GidUy-_cm09ZJKJKQiW-Q",
              "height": 200,
              "width": 200
             },
             {
              "$recipeTypes": [
               "com.linkedin.df089b9d683fa734528ad3707694a3bc"
              ],
              "$type": "com.linkedin.common.VectorArtifact",
              "expiresAt": 1687392000000,
              "fileIdentifyingUrlPathSegment": "400_400/0/1586926624956?e=1687392000&v=beta&t=BpObcDDF7Kt4rUrFuIkbdxetTEi5bF6uUJG3expwH4Y",
              "height": 400,
              "width": 400
             },
             {
              "$recipeTypes": [
               "com.linkedin.df089b9d683fa734528ad3707694a3bc"
              ],
              "$type": "com.linkedin.common.VectorArtifact",
              "expiresAt": 1687392000000,
              "fileIdentifyingUrlPathSegment": "800_800/0/1586926624956?e=1687392000&v=beta&t=XR6ylf9b2GIJYSldzvZzzeQfZ88nkVuBZknz0pxhnN4",
              "height": 800,
              "width": 800
             }
            ],
            "attribution": null,
            "digitalmediaAsset": null,
            "rootUrl": "https://media.licdn.com/dms/image/C5603AQHyCymYYLgPUg/profile-displayphoto-shrink_"
           }
          },
          "displayImageUrn": "urn:li:digitalmediaAsset:C5603AQHyCymYYLgPUg",
          "displayImageWithFrameReference": null
         }
        },
        {
         "$recipeTypes": [
          "com.linkedin.4e40620a1546ec1ea7b74f1ac7db436e"
         ],
         "$type": "com.linkedin.voyager.dash.identity.profile.Profile",
         "entityUrn": "urn:li:fsd_profile:ACoAABTkdRgB7h-EfjpeVsbgC8cnPJ6SI1oRIwE",
         "profilePicture": {
          "$recipeTypes": [
           "com.linkedin.95ee6262e2e99e1e02206cc342278924"
          ],
          "$type": "com.linkedin.voyager.dash.identity.profile.PhotoFilterPicture",
          "displayImageReferenceResolutionResult": {
           "url": null,
           "vectorImage": {
            "$recipeTypes": [
             "com.linkedin.05ad6e1019bd9c0c2f02aff5e281ea2a"
            ],
            "$type": "com.linkedin.common.VectorImage",
            "artifacts": [
             {
              "$recipeTypes": [
               "com.linkedin.df089b9d683fa734528ad3707694a3bc"
              ],
              "$type": "com.linkedin.common.VectorArtifact",
              "expiresAt": 1687392000000,
              "fileIdentifyingUrlPathSegment": "100_100/0/1526771697543?e=1687392000&v=beta&t=RHNn7fMC3-6d1CfsxSn--4BQ-KyZhjb9ILAtNbsE5qk",
              "height": 100,
              "width": 100
             },
             {
              "$recipeTypes": [
               "com.linkedin.df089b9d683fa734528ad3707694a3bc"
              ],
              "$type": "com.linkedin.common.VectorArtifact",
              "expiresAt": 1687392000000,
              "fileIdentifyingUrlPathSegment": "200_200/0/1526771697543?e=1687392000&v=beta&t=SGOlqCOxuWdpfpLejxNMMmMhBImBf0Xys_czKx1Rso4",
              "height": 200,
              "width": 200
             },
             {
              "$recipeTypes": [
               "com.linkedin.df089b9d683fa734528ad3707694a3bc"
              ],
              "$type": "com.linkedin.common.VectorArtifact",
              "expiresAt": 1687392000000,
              "fileIdentifyingUrlPathSegment": "400_400/0/1526771697543?e=1687392000&v=beta&t=2sy3i1JB2qXIb3JUTzFi8dcF54gbNjtkzKGE3yKBexo",
              "height": 400,
              "width": 400
             },
             {
              "$recipeTypes": [
               "com.linkedin.df089b9d683fa734528ad3707694a3bc"
              ],
              "$type": "com.linkedin.common.VectorArtifact",
              "expiresAt": 1687392000000,
              "fileIdentifyingUrlPathSegment": "800_800/0/1526771697543?e=1687392000&v=beta&t=tEGP3QcIxRcRA7GZ4Hi9fLTWC7W-KlOn1ZCo8VeWM6Y",
              "height": 800,
              "width": 800
             }
            ],
            "attribution": null,
            "digitalmediaAsset": null,
            "rootUrl": "https://media.licdn.com/dms/image/C5103AQEHZdmJWNXIaQ/profile-displayphoto-shrink_"
           }
          },
          "displayImageUrn": "urn:li:digitalmediaAsset:C5103AQEHZdmJWNXIaQ",
          "displayImageWithFrameReference": null
         }
        },
        {
         "$recipeTypes": [
          "com.linkedin.4e40620a1546ec1ea7b74f1ac7db436e"
         ],
         "$type": "com.linkedin.voyager.dash.identity.profile.Profile",
         "entityUrn": "urn:li:fsd_profile:ACoAABWRgBkB0uDGGK1lQnSb3w-2Bpzkg1_Mn7k",
         "profilePicture": {
          "$recipeTypes": [
           "com.linkedin.95ee6262e2e99e1e02206cc342278924"
          ],
          "$type": "com.linkedin.voyager.dash.identity.profile.PhotoFilterPicture",
          "displayImageReferenceResolutionResult": {
           "url": null,
           "vectorImage": {
            "$recipeTypes": [
             "com.linkedin.05ad6e1019bd9c0c2f02aff5e281ea2a"
            ],
            "$type": "com.linkedin.common.VectorImage",
            "artifacts": [
             {
              "$recipeTypes": [
               "com.linkedin.df089b9d683fa734528ad3707694a3bc"
              ],
              "$type": "com.linkedin.common.VectorArtifact",
              "expiresAt": 1687392000000,
              "fileIdentifyingUrlPathSegment": "100_100/0/1664346528131?e=1687392000&v=beta&t=u7WRiPO2ucBymz-mFErOMwdqqP-XGVos29KFC3xp41E",
              "height": 100,
              "width": 100
             },
             {
              "$recipeTypes": [
               "com.linkedin.df089b9d683fa734528ad3707694a3bc"
              ],
              "$type": "com.linkedin.common.VectorArtifact",
              "expiresAt": 1687392000000,
              "fileIdentifyingUrlPathSegment": "200_200/0/1664346528131?e=1687392000&v=beta&t=vcq5uB36Bcgq2sOrSOWWt5ZguGy-YmL580Ip-P52wGY",
              "height": 200,
              "width": 200
             },
             {
              "$recipeTypes": [
               "com.linkedin.df089b9d683fa734528ad3707694a3bc"
              ],
              "$type": "com.linkedin.common.VectorArtifact",
              "expiresAt": 1687392000000,
              "fileIdentifyingUrlPathSegment": "400_400/0/1664346528131?e=1687392000&v=beta&t=7cSHiBtXJetWlkrXdoUfI1mcR8OnUNidWaFmw0WwVh0",
              "height": 400,
              "width": 400
             },
             {
              "$recipeTypes": [
               "com.linkedin.df089b9d683fa734528ad3707694a3bc"
              ],
              "$type": "com.linkedin.common.VectorArtifact",
              "expiresAt": 1687392000000,
              "fileIdentifyingUrlPathSegment": "800_800/0/1664346528131?e=1687392000&v=beta&t=R652AMHkXGcK4q9AlXi14hXFbvhPtmyzmWuPItWuejQ",
              "height": 800,
              "width": 800
             }
            ],
            "attribution": null,
            "digitalmediaAsset": null,
            "rootUrl": "https://media.licdn.com/dms/image/D4E03AQHAMbRpaS-RPQ/profile-displayphoto-shrink_"
           }
          },
          "displayImageUrn": "urn:li:digitalmediaAsset:D4E03AQHAMbRpaS-RPQ",
          "displayImageWithFrameReference": null
         }
        },
        {
         "$recipeTypes": [
          "com.linkedin.4e40620a1546ec1ea7b74f1ac7db436e"
         ],
         "$type": "com.linkedin.voyager.dash.identity.profile.Profile",
         "entityUrn": "urn:li:fsd_profile:ACoAAAe-IHEBqkhk7C7F2CYL8AJmPc8HzLmMbX8",
         "profilePicture": {
          "$recipeTypes": [
           "com.linkedin.95ee6262e2e99e1e02206cc342278924"
          ],
          "$type": "com.linkedin.voyager.dash.identity.profile.PhotoFilterPicture",
          "displayImageReferenceResolutionResult": {
           "url": null,
           "vectorImage": {
            "$recipeTypes": [
             "com.linkedin.05ad6e1019bd9c0c2f02aff5e281ea2a"
            ],
            "$type": "com.linkedin.common.VectorImage",
            "artifacts": [
             {
              "$recipeTypes": [
               "com.linkedin.df089b9d683fa734528ad3707694a3bc"
              ],
              "$type": "com.linkedin.common.VectorArtifact",
              "expiresAt": 1687392000000,
              "fileIdentifyingUrlPathSegment": "100_100/0/1680890714065?e=1687392000&v=beta&t=4kt4TaYpqQHUD9YWRGc4LnnM1U-2MxNGDom6xVqc3NY",
              "height": 100,
              "width": 100
             },
             {
              "$recipeTypes": [
               "com.linkedin.df089b9d683fa734528ad3707694a3bc"
              ],
              "$type": "com.linkedin.common.VectorArtifact",
              "expiresAt": 1687392000000,
              "fileIdentifyingUrlPathSegment": "200_200/0/1680890714065?e=1687392000&v=beta&t=AkH_gS54WucMAJFedhlydvOBSC3L05Tmvnu7sey6YJc",
              "height": 200,
              "width": 200
             },
             {
              "$recipeTypes": [
               "com.linkedin.df089b9d683fa734528ad3707694a3bc"
              ],
              "$type": "com.linkedin.common.VectorArtifact",
              "expiresAt": 1687392000000,
              "fileIdentifyingUrlPathSegment": "400_400/0/1680890714065?e=1687392000&v=beta&t=T17v0qM5a0z7KVkznntEQzQLVRcF4Ao_5mtVsoMYwCE",
              "height": 400,
              "width": 400
             },
             {
              "$recipeTypes": [
               "com.linkedin.df089b9d683fa734528ad3707694a3bc"
              ],
              "$type": "com.linkedin.common.VectorArtifact",
              "expiresAt": 1687392000000,
              "fileIdentifyingUrlPathSegment": "800_800/0/1680890714065?e=1687392000&v=beta&t=4a8PnEQLBn7v5FPMp_6I5Dpiz8jPq0Wa1ebuUlU0xA4",
              "height": 800,
              "width": 800
             }
            ],
            "attribution": null,
            "digitalmediaAsset": null,
            "rootUrl": "https://media.licdn.com/dms/image/D4D03AQEWm_COkSlWqA/profile-displayphoto-shrink_"
           }
          },
          "displayImageUrn": "urn:li:digitalmediaAsset:D4D03AQEWm_COkSlWqA",
          "displayImageWithFrameReference": null
         }
        },
        {
         "$recipeTypes": [
          "com.linkedin.4e40620a1546ec1ea7b74f1ac7db436e"
         ],
         "$type": "com.linkedin.voyager.dash.identity.profile.Profile",
         "entityUrn": "urn:li:fsd_profile:ACoAAAUs9swBW3iGNNiR2487BQZslSKMK65zQpY",
         "profilePicture": {
          "$recipeTypes": [
           "com.linkedin.95ee6262e2e99e1e02206cc342278924"
          ],
          "$type": "com.linkedin.voyager.dash.identity.profile.PhotoFilterPicture",
          "displayImageReferenceResolutionResult": {
           "url": null,
           "vectorImage": {
            "$recipeTypes": [
             "com.linkedin.05ad6e1019bd9c0c2f02aff5e281ea2a"
            ],
            "$type": "com.linkedin.common.VectorImage",
            "artifacts": [
             {
              "$recipeTypes": [
               "com.linkedin.df089b9d683fa734528ad3707694a3bc"
              ],
              "$type": "com.linkedin.common.VectorArtifact",
              "expiresAt": 1687392000000,
              "fileIdentifyingUrlPathSegment": "100_100/0/1517251207761?e=1687392000&v=beta&t=x6fPTfmiDQQP8Joi8gUCMojYmK0ejHM6qVuxnmoHGtA",
              "height": 100,
              "width": 100
             },
             {
              "$recipeTypes": [
               "com.linkedin.df089b9d683fa734528ad3707694a3bc"
              ],
              "$type": "com.linkedin.common.VectorArtifact",
              "expiresAt": 1687392000000,
              "fileIdentifyingUrlPathSegment": "200_200/0/1517251207761?e=1687392000&v=beta&t=c5SDANmyUD1vchOhtgSB8SRr8Y08mwrs-1qZ8r-57hc",
              "height": 200,
              "width": 200
             },
             {
              "$recipeTypes": [
               "com.linkedin.df089b9d683fa734528ad3707694a3bc"
              ],
              "$type": "com.linkedin.common.VectorArtifact",
              "expiresAt": 1687392000000,
              "fileIdentifyingUrlPathSegment": "400_400/0/1517251207761?e=1687392000&v=beta&t=d1IybEtlMSsVh03JgWA4FE1srz3j1b43z6r3nWrAwzA",
              "height": 400,
              "width": 400
             },
             {
              "$recipeTypes": [
               "com.linkedin.df089b9d683fa734528ad3707694a3bc"
              ],
              "$type": "com.linkedin.common.VectorArtifact",
              "expiresAt": 1687392000000,
              "fileIdentifyingUrlPathSegment": "800_800/0/1517251207761?e=1687392000&v=beta&t=gjezcJbLWgF78eJ8M3I59XHOsv_kyc_t7X1lDVpafLw",
              "height": 800,
              "width": 800
             }
            ],
            "attribution": null,
            "digitalmediaAsset": null,
            "rootUrl": "https://media.licdn.com/dms/image/C4D03AQFBoT0v7meyFA/profile-displayphoto-shrink_"
           }
          },
          "displayImageUrn": "urn:li:digitalmediaAsset:C4D03AQFBoT0v7meyFA",
          "displayImageWithFrameReference": null
         }
        },
        {
         "$recipeTypes": [
          "com.linkedin.4e40620a1546ec1ea7b74f1ac7db436e"
         ],
         "$type": "com.linkedin.voyager.dash.identity.profile.Profile",
         "entityUrn": "urn:li:fsd_profile:ACoAABG6mN0B8c5TTljG05KOcMF0ljgMxh9c5BY",
         "profilePicture": {
          "$recipeTypes": [
           "com.linkedin.95ee6262e2e99e1e02206cc342278924"
          ],
          "$type": "com.linkedin.voyager.dash.identity.profile.PhotoFilterPicture",
          "displayImageReferenceResolutionResult": {
           "url": null,
           "vectorImage": {
            "$recipeTypes": [
             "com.linkedin.05ad6e1019bd9c0c2f02aff5e281ea2a"
            ],
            "$type": "com.linkedin.common.VectorImage",
            "artifacts": [
             {
              "$recipeTypes": [
               "com.linkedin.df089b9d683fa734528ad3707694a3bc"
              ],
              "$type": "com.linkedin.common.VectorArtifact",
              "expiresAt": 1687392000000,
              "fileIdentifyingUrlPathSegment": "100_100/0/1604929454578?e=1687392000&v=beta&t=nxwO4vanAGtV7l4DXBK6qwVVZBNHxeku2ylT3R7_ZfQ",
              "height": 100,
              "width": 100
             },
             {
              "$recipeTypes": [
               "com.linkedin.df089b9d683fa734528ad3707694a3bc"
              ],
              "$type": "com.linkedin.common.VectorArtifact",
              "expiresAt": 1687392000000,
              "fileIdentifyingUrlPathSegment": "200_200/0/1604929454578?e=1687392000&v=beta&t=b3ZR7VrWCqDTv0M2IBzZuXcP_e7YdHr8BODqZ7TApYw",
              "height": 200,
              "width": 200
             },
             {
              "$recipeTypes": [
               "com.linkedin.df089b9d683fa734528ad3707694a3bc"
              ],
              "$type": "com.linkedin.common.VectorArtifact",
              "expiresAt": 1687392000000,
              "fileIdentifyingUrlPathSegment": "400_400/0/1604929454578?e=1687392000&v=beta&t=reFMGPMtjZIqywbzvfHUjFoH52XhRjg4J1udwW-GfCI",
              "height": 400,
              "width": 400
             },
             {
              "$recipeTypes": [
               "com.linkedin.df089b9d683fa734528ad3707694a3bc"
              ],
              "$type": "com.linkedin.common.VectorArtifact",
              "expiresAt": 1687392000000,
              "fileIdentifyingUrlPathSegment": "800_800/0/1604929454578?e=1687392000&v=beta&t=7WjmdQyj29njw2GaTt5rhUZOEmAvkHz90EcnUY75Ry8",
              "height": 800,
              "width": 800
             }
            ],
            "attribution": null,
            "digitalmediaAsset": null,
            "rootUrl": "https://media.licdn.com/dms/image/C4D03AQE6DtTHpgj_Vg/profile-displayphoto-shrink_"
           }
          },
          "displayImageUrn": "urn:li:digitalmediaAsset:C4D03AQE6DtTHpgj_Vg",
          "displayImageWithFrameReference": null
         }
        },
        {
         "$recipeTypes": [
          "com.linkedin.8f7ab3fcf458b406365003e4bf5b02b2"
         ],
         "$type": "com.linkedin.voyager.dash.organization.Company",
         "entityUrn": "urn:li:fsd_company:405958",
         "logoResolutionResult": {
          "url": null,
          "vectorImage": {
           "$recipeTypes": [
            "com.linkedin.05ad6e1019bd9c0c2f02aff5e281ea2a"
           ],
           "$type": "com.linkedin.common.VectorImage",
           "artifacts": [
            {
             "$recipeTypes": [
              "com.linkedin.df089b9d683fa734528ad3707694a3bc"
             ],
             "$type": "com.linkedin.common.VectorArtifact",
             "expiresAt": 1690416000000,
             "fileIdentifyingUrlPathSegment": "200_200/0/1649774864658?e=1690416000&v=beta&t=-fH0K_9gBOPJI1BLs3GDOby24D5a-Y9hBZafQ46bdLo",
             "height": 200,
             "width": 200
            },
            {
             "$recipeTypes": [
              "com.linkedin.df089b9d683fa734528ad3707694a3bc"
             ],
             "$type": "com.linkedin.common.VectorArtifact",
             "expiresAt": 1690416000000,
             "fileIdentifyingUrlPathSegment": "100_100/0/1649774864658?e=1690416000&v=beta&t=TXb_xT4sI9jOuVZ7lyOTv-NltxVEawYmEFLcPjeDTxw",
             "height": 100,
             "width": 100
            },
            {
             "$recipeTypes": [
              "com.linkedin.df089b9d683fa734528ad3707694a3bc"
             ],
             "$type": "com.linkedin.common.VectorArtifact",
             "expiresAt": 1690416000000,
             "fileIdentifyingUrlPathSegment": "400_400/0/1649774864658?e=1690416000&v=beta&t=54CXCDdYu2OnaA1VUn1-Ruo0ZDsSqNkd-ZTO_Fz1iKw",
             "height": 400,
             "width": 400
            }
           ],
           "attribution": null,
           "digitalmediaAsset": "urn:li:digitalmediaAsset:C4D0BAQGH52vy3NLMJQ",
           "rootUrl": "https://media.licdn.com/dms/image/C4D0BAQGH52vy3NLMJQ/company-logo_"
          }
         }
        },
        {
         "$recipeTypes": [
          "com.linkedin.8f7ab3fcf458b406365003e4bf5b02b2"
         ],
         "$type": "com.linkedin.voyager.dash.organization.Company",
         "entityUrn": "urn:li:fsd_company:71507933",
         "logoResolutionResult": {
          "url": null,
          "vectorImage": {
           "$recipeTypes": [
            "com.linkedin.05ad6e1019bd9c0c2f02aff5e281ea2a"
           ],
           "$type": "com.linkedin.common.VectorImage",
           "artifacts": [
            {
             "$recipeTypes": [
              "com.linkedin.df089b9d683fa734528ad3707694a3bc"
             ],
             "$type": "com.linkedin.common.VectorArtifact",
             "expiresAt": 1690416000000,
             "fileIdentifyingUrlPathSegment": "200_200/0/1613128702855?e=1690416000&v=beta&t=bsO380NvrWD0xC8H_KiNy-Ov-zjqAmyE3L3ikwudfyk",
             "height": 200,
             "width": 200
            },
            {
             "$recipeTypes": [
              "com.linkedin.df089b9d683fa734528ad3707694a3bc"
             ],
             "$type": "com.linkedin.common.VectorArtifact",
             "expiresAt": 1690416000000,
             "fileIdentifyingUrlPathSegment": "100_100/0/1613128702855?e=1690416000&v=beta&t=DT1n5P9e-QsAuKKSMJAejXmAF7A_I49kjjJzkbD5VXE",
             "height": 100,
             "width": 100
            },
            {
             "$recipeTypes": [
              "com.linkedin.df089b9d683fa734528ad3707694a3bc"
             ],
             "$type": "com.linkedin.common.VectorArtifact",
             "expiresAt": 1690416000000,
             "fileIdentifyingUrlPathSegment": "400_400/0/1613128702855?e=1690416000&v=beta&t=QX9-bJ1SL2lYM-vzqRP1Hz63158h5lkUALx8yImaMrY",
             "height": 400,
             "width": 400
            }
           ],
           "attribution": null,
           "digitalmediaAsset": "urn:li:digitalmediaAsset:C4D0BAQHGUXU1P_HouA",
           "rootUrl": "https://media.licdn.com/dms/image/C4D0BAQHGUXU1P_HouA/company-logo_"
          }
         }
        },
        {
         "$recipeTypes": [
          "com.linkedin.dab74ef19bdb8a4c518ddf2dca563c96"
         ],
         "$type": "com.linkedin.voyager.dash.social.Reaction",
         "actor": {
          "*profileUrn": "urn:li:fsd_profile:ACoAABG6mN0B8c5TTljG05KOcMF0ljgMxh9c5BY",
          "companyUrn": null
         },
         "actorUrn": null,
         "entityUrn": "urn:li:fsd_reaction:(urn:li:fsd_profile:ACoAABG6mN0B8c5TTljG05KOcMF0ljgMxh9c5BY,urn:li:activity:7054070071043710977,0)",
         "followingState": null,
         "preDashActorUrn": "urn:li:fs_miniProfile:ACoAABG6mN0B8c5TTljG05KOcMF0ljgMxh9c5BY",
         "preDashEntityUrn": "urn:li:fs_reaction:(urn:li:member:297441501,urn:li:activity:7054070071043710977)",
         "reactionType": "LIKE",
         "reactorLockup": {
          "$recipeTypes": [
           "com.linkedin.22e03a59aebea3440a4e02a98d83e7bd"
          ],
          "$type": "com.linkedin.voyager.dash.common.ux.EntityLockupViewModel",
          "accessibilityText": "View Camilla Risposi’s profile",
          "image": {
           "$recipeTypes": [
            "com.linkedin.9bf954b551982091ba62c4d2fe807451"
           ],
           "$type": "com.linkedin.voyager.dash.common.image.ImageViewModel",
           "accessibilityText": null,
           "accessibilityTextAttributes": [],
           "actionTarget": null,
           "attributes": [
            {
             "$recipeTypes": [
              "com.linkedin.b57b9f6e942a4d58515eb1c80578fea1"
             ],
             "$type": "com.linkedin.voyager.dash.common.image.ImageAttribute",
             "detailData": {
              "*profilePicture": "urn:li:fsd_profile:ACoAABG6mN0B8c5TTljG05KOcMF0ljgMxh9c5BY",
              "companyLogo": null,
              "ghostImage": null,
              "groupLogo": null,
              "icon": null,
              "imageUrl": null,
              "nonEntityCompanyLogo": null,
              "nonEntityGroupLogo": null,
              "nonEntityProfessionalEventLogo": null,
              "nonEntityProfilePicture": null,
              "nonEntitySchoolLogo": null,
              "professionalEventLogo": null,
              "profilePictureWithRingStatus": null,
              "profilePictureWithoutFrame": null,
              "schoolLogo": null,
              "systemImage": null,
              "vectorImage": null
             },
             "displayAspectRatio": null,
             "scalingType": null,
             "tapTargets": [],
             "tintColor": null
            }
           ],
           "totalCount": null
          },
          "label": {
           "$recipeTypes": [
            "com.linkedin.c032efb3f96704e1ccdaafaf7d4d29df"
           ],
           "$type": "com.linkedin.voyager.dash.common.text.TextViewModel",
           "accessibilityText": null,
           "accessibilityTextAttributesV2": [],
           "attributesV2": [],
           "text": "3rd+",
           "textDirection": "USER_LOCALE"
          },
          "navigationUrl": "https://www.linkedin.com/in/ACoAABG6mN0B8c5TTljG05KOcMF0ljgMxh9c5BY",
          "subtitle": {
           "$recipeTypes": [
            "com.linkedin.c032efb3f96704e1ccdaafaf7d4d29df"
           ],
           "$type": "com.linkedin.voyager.dash.common.text.TextViewModel",
           "accessibilityText": null,
           "accessibilityTextAttributesV2": [],
           "attributesV2": [],
           "text": "Gualapack S.p.A",
           "textDirection": "USER_LOCALE"
          },
          "title": {
           "$recipeTypes": [
            "com.linkedin.c032efb3f96704e1ccdaafaf7d4d29df"
           ],
           "$type": "com.linkedin.voyager.dash.common.text.TextViewModel",
           "accessibilityText": "View Camilla Risposi’s profile",
           "accessibilityTextAttributesV2": [],
           "attributesV2": [],
           "text": "Camilla Risposi",
           "textDirection": "FIRST_STRONG"
          }
         }
        },
        {
         "$recipeTypes": [
          "com.linkedin.dab74ef19bdb8a4c518ddf2dca563c96"
         ],
         "$type": "com.linkedin.voyager.dash.social.Reaction",
         "actor": {
          "*profileUrn": "urn:li:fsd_profile:ACoAAAUs9swBW3iGNNiR2487BQZslSKMK65zQpY",
          "companyUrn": null
         },
         "actorUrn": null,
         "entityUrn": "urn:li:fsd_reaction:(urn:li:fsd_profile:ACoAAAUs9swBW3iGNNiR2487BQZslSKMK65zQpY,urn:li:activity:7054070071043710977,0)",
         "followingState": null,
         "preDashActorUrn": "urn:li:fs_miniProfile:ACoAAAUs9swBW3iGNNiR2487BQZslSKMK65zQpY",
         "preDashEntityUrn": "urn:li:fs_reaction:(urn:li:member:86832844,urn:li:activity:7054070071043710977)",
         "reactionType": "LIKE",
         "reactorLockup": {
          "$recipeTypes": [
           "com.linkedin.22e03a59aebea3440a4e02a98d83e7bd"
          ],
          "$type": "com.linkedin.voyager.dash.common.ux.EntityLockupViewModel",
          "accessibilityText": "View Frank Trimboli’s profile",
          "image": {
           "$recipeTypes": [
            "com.linkedin.9bf954b551982091ba62c4d2fe807451"
           ],
           "$type": "com.linkedin.voyager.dash.common.image.ImageViewModel",
           "accessibilityText": null,
           "accessibilityTextAttributes": [],
           "actionTarget": null,
           "attributes": [
            {
             "$recipeTypes": [
              "com.linkedin.b57b9f6e942a4d58515eb1c80578fea1"
             ],
             "$type": "com.linkedin.voyager.dash.common.image.ImageAttribute",
             "detailData": {
              "*profilePicture": "urn:li:fsd_profile:ACoAAAUs9swBW3iGNNiR2487BQZslSKMK65zQpY",
              "companyLogo": null,
              "ghostImage": null,
              "groupLogo": null,
              "icon": null,
              "imageUrl": null,
              "nonEntityCompanyLogo": null,
              "nonEntityGroupLogo": null,
              "nonEntityProfessionalEventLogo": null,
              "nonEntityProfilePicture": null,
              "nonEntitySchoolLogo": null,
              "professionalEventLogo": null,
              "profilePictureWithRingStatus": null,
              "profilePictureWithoutFrame": null,
              "schoolLogo": null,
              "systemImage": null,
              "vectorImage": null
             },
             "displayAspectRatio": null,
             "scalingType": null,
             "tapTargets": [],
             "tintColor": null
            }
           ],
           "totalCount": null
          },
          "label": {
           "$recipeTypes": [
            "com.linkedin.c032efb3f96704e1ccdaafaf7d4d29df"
           ],
           "$type": "com.linkedin.voyager.dash.common.text.TextViewModel",
           "accessibilityText": null,
           "accessibilityTextAttributesV2": [],
           "attributesV2": [],
           "text": "3rd+",
           "textDirection": "USER_LOCALE"
          },
          "navigationUrl": "https://www.linkedin.com/in/ACoAAAUs9swBW3iGNNiR2487BQZslSKMK65zQpY",
          "subtitle": {
           "$recipeTypes": [
            "com.linkedin.c032efb3f96704e1ccdaafaf7d4d29df"
           ],
           "$type": "com.linkedin.voyager.dash.common.text.TextViewModel",
           "accessibilityText": null,
           "accessibilityTextAttributesV2": [],
           "attributesV2": [],
           "text": "Flexible Packaging Solutions | Packaging Machinery",
           "textDirection": "USER_LOCALE"
          },
          "title": {
           "$recipeTypes": [
            "com.linkedin.c032efb3f96704e1ccdaafaf7d4d29df"
           ],
           "$type": "com.linkedin.voyager.dash.common.text.TextViewModel",
           "accessibilityText": "View Frank Trimboli’s profile",
           "accessibilityTextAttributesV2": [],
           "attributesV2": [],
           "text": "Frank Trimboli",
           "textDirection": "FIRST_STRONG"
          }
         }
        },
        {
         "$recipeTypes": [
          "com.linkedin.dab74ef19bdb8a4c518ddf2dca563c96"
         ],
         "$type": "com.linkedin.voyager.dash.social.Reaction",
         "actor": {
          "*profileUrn": "urn:li:fsd_profile:ACoAAATIt2MBjIn3cbZRj1sptDvMhrdwt9E3phI",
          "companyUrn": null
         },
         "actorUrn": null,
         "entityUrn": "urn:li:fsd_reaction:(urn:li:fsd_profile:ACoAAATIt2MBjIn3cbZRj1sptDvMhrdwt9E3phI,urn:li:activity:7054070071043710977,0)",
         "followingState": null,
         "preDashActorUrn": "urn:li:fs_miniProfile:ACoAAATIt2MBjIn3cbZRj1sptDvMhrdwt9E3phI",
         "preDashEntityUrn": "urn:li:fs_reaction:(urn:li:member:80263011,urn:li:activity:7054070071043710977)",
         "reactionType": "LIKE",
         "reactorLockup": {
          "$recipeTypes": [
           "com.linkedin.22e03a59aebea3440a4e02a98d83e7bd"
          ],
          "$type": "com.linkedin.voyager.dash.common.ux.EntityLockupViewModel",
          "accessibilityText": "View Mrunal Joshi’s profile",
          "image": {
           "$recipeTypes": [
            "com.linkedin.9bf954b551982091ba62c4d2fe807451"
           ],
           "$type": "com.linkedin.voyager.dash.common.image.ImageViewModel",
           "accessibilityText": null,
           "accessibilityTextAttributes": [],
           "actionTarget": null,
           "attributes": [
            {
             "$recipeTypes": [
              "com.linkedin.b57b9f6e942a4d58515eb1c80578fea1"
             ],
             "$type": "com.linkedin.voyager.dash.common.image.ImageAttribute",
             "detailData": {
              "*profilePicture": "urn:li:fsd_profile:ACoAAATIt2MBjIn3cbZRj1sptDvMhrdwt9E3phI",
              "companyLogo": null,
              "ghostImage": null,
              "groupLogo": null,
              "icon": null,
              "imageUrl": null,
              "nonEntityCompanyLogo": null,
              "nonEntityGroupLogo": null,
              "nonEntityProfessionalEventLogo": null,
              "nonEntityProfilePicture": null,
              "nonEntitySchoolLogo": null,
              "professionalEventLogo": null,
              "profilePictureWithRingStatus": null,
              "profilePictureWithoutFrame": null,
              "schoolLogo": null,
              "systemImage": null,
              "vectorImage": null
             },
             "displayAspectRatio": null,
             "scalingType": null,
             "tapTargets": [],
             "tintColor": null
            }
           ],
           "totalCount": null
          },
          "label": {
           "$recipeTypes": [
            "com.linkedin.c032efb3f96704e1ccdaafaf7d4d29df"
           ],
           "$type": "com.linkedin.voyager.dash.common.text.TextViewModel",
           "accessibilityText": null,
           "accessibilityTextAttributesV2": [],
           "attributesV2": [],
           "text": "3rd+",
           "textDirection": "USER_LOCALE"
          },
          "navigationUrl": "https://www.linkedin.com/in/ACoAAATIt2MBjIn3cbZRj1sptDvMhrdwt9E3phI",
          "subtitle": {
           "$recipeTypes": [
            "com.linkedin.c032efb3f96704e1ccdaafaf7d4d29df"
           ],
           "$type": "com.linkedin.voyager.dash.common.text.TextViewModel",
           "accessibilityText": null,
           "accessibilityTextAttributesV2": [],
           "attributesV2": [],
           "text": "CEO and Vice Chairperson at NICHROME INDIA LTD.",
           "textDirection": "USER_LOCALE"
          },
          "title": {
           "$recipeTypes": [
            "com.linkedin.c032efb3f96704e1ccdaafaf7d4d29df"
           ],
           "$type": "com.linkedin.voyager.dash.common.text.TextViewModel",
           "accessibilityText": "View Mrunal Joshi’s profile",
           "accessibilityTextAttributesV2": [],
           "attributesV2": [],
           "text": "Mrunal Joshi",
           "textDirection": "FIRST_STRONG"
          }
         }
        },
        {
         "$recipeTypes": [
          "com.linkedin.dab74ef19bdb8a4c518ddf2dca563c96"
         ],
         "$type": "com.linkedin.voyager.dash.social.Reaction",
         "actor": {
          "*profileUrn": "urn:li:fsd_profile:ACoAABTkdRgB7h-EfjpeVsbgC8cnPJ6SI1oRIwE",
          "companyUrn": null
         },
         "actorUrn": null,
         "entityUrn": "urn:li:fsd_reaction:(urn:li:fsd_profile:ACoAABTkdRgB7h-EfjpeVsbgC8cnPJ6SI1oRIwE,urn:li:activity:7054070071043710977,0)",
         "followingState": null,
         "preDashActorUrn": "urn:li:fs_miniProfile:ACoAABTkdRgB7h-EfjpeVsbgC8cnPJ6SI1oRIwE",
         "preDashEntityUrn": "urn:li:fs_reaction:(urn:li:member:350516504,urn:li:activity:7054070071043710977)",
         "reactionType": "LIKE",
         "reactorLockup": {
          "$recipeTypes": [
           "com.linkedin.22e03a59aebea3440a4e02a98d83e7bd"
          ],
          "$type": "com.linkedin.voyager.dash.common.ux.EntityLockupViewModel",
          "accessibilityText": "View Maithilee Joshi’s profile",
          "image": {
           "$recipeTypes": [
            "com.linkedin.9bf954b551982091ba62c4d2fe807451"
           ],
           "$type": "com.linkedin.voyager.dash.common.image.ImageViewModel",
           "accessibilityText": null,
           "accessibilityTextAttributes": [],
           "actionTarget": null,
           "attributes": [
            {
             "$recipeTypes": [
              "com.linkedin.b57b9f6e942a4d58515eb1c80578fea1"
             ],
             "$type": "com.linkedin.voyager.dash.common.image.ImageAttribute",
             "detailData": {
              "*profilePicture": "urn:li:fsd_profile:ACoAABTkdRgB7h-EfjpeVsbgC8cnPJ6SI1oRIwE",
              "companyLogo": null,
              "ghostImage": null,
              "groupLogo": null,
              "icon": null,
              "imageUrl": null,
              "nonEntityCompanyLogo": null,
              "nonEntityGroupLogo": null,
              "nonEntityProfessionalEventLogo": null,
              "nonEntityProfilePicture": null,
              "nonEntitySchoolLogo": null,
              "professionalEventLogo": null,
              "profilePictureWithRingStatus": null,
              "profilePictureWithoutFrame": null,
              "schoolLogo": null,
              "systemImage": null,
              "vectorImage": null
             },
             "displayAspectRatio": null,
             "scalingType": null,
             "tapTargets": [],
             "tintColor": null
            }
           ],
           "totalCount": null
          },
          "label": {
           "$recipeTypes": [
            "com.linkedin.c032efb3f96704e1ccdaafaf7d4d29df"
           ],
           "$type": "com.linkedin.voyager.dash.common.text.TextViewModel",
           "accessibilityText": null,
           "accessibilityTextAttributesV2": [],
           "attributesV2": [],
           "text": "3rd+",
           "textDirection": "USER_LOCALE"
          },
          "navigationUrl": "https://www.linkedin.com/in/ACoAABTkdRgB7h-EfjpeVsbgC8cnPJ6SI1oRIwE",
          "subtitle": {
           "$recipeTypes": [
            "com.linkedin.c032efb3f96704e1ccdaafaf7d4d29df"
           ],
           "$type": "com.linkedin.voyager.dash.common.text.TextViewModel",
           "accessibilityText": null,
           "accessibilityTextAttributesV2": [],
           "attributesV2": [],
           "text": "Business Development & Marketing at NICHROME INDIA LTD.",
           "textDirection": "USER_LOCALE"
          },
          "title": {
           "$recipeTypes": [
            "com.linkedin.c032efb3f96704e1ccdaafaf7d4d29df"
           ],
           "$type": "com.linkedin.voyager.dash.common.text.TextViewModel",
           "accessibilityText": "View Maithilee Joshi’s profile",
           "accessibilityTextAttributesV2": [],
           "attributesV2": [],
           "text": "Maithilee Joshi",
           "textDirection": "FIRST_STRONG"
          }
         }
        },
        {
         "$recipeTypes": [
          "com.linkedin.dab74ef19bdb8a4c518ddf2dca563c96"
         ],
         "$type": "com.linkedin.voyager.dash.social.Reaction",
         "actor": {
          "*profileUrn": "urn:li:fsd_profile:ACoAAAe-IHEBqkhk7C7F2CYL8AJmPc8HzLmMbX8",
          "companyUrn": null
         },
         "actorUrn": null,
         "entityUrn": "urn:li:fsd_reaction:(urn:li:fsd_profile:ACoAAAe-IHEBqkhk7C7F2CYL8AJmPc8HzLmMbX8,urn:li:activity:7054070071043710977,0)",
         "followingState": null,
         "preDashActorUrn": "urn:li:fs_miniProfile:ACoAAAe-IHEBqkhk7C7F2CYL8AJmPc8HzLmMbX8",
         "preDashEntityUrn": "urn:li:fs_reaction:(urn:li:member:129900657,urn:li:activity:7054070071043710977)",
         "reactionType": "LIKE",
         "reactorLockup": {
          "$recipeTypes": [
           "com.linkedin.22e03a59aebea3440a4e02a98d83e7bd"
          ],
          "$type": "com.linkedin.voyager.dash.common.ux.EntityLockupViewModel",
          "accessibilityText": "View Valentyna Bashtova’s profile",
          "image": {
           "$recipeTypes": [
            "com.linkedin.9bf954b551982091ba62c4d2fe807451"
           ],
           "$type": "com.linkedin.voyager.dash.common.image.ImageViewModel",
           "accessibilityText": null,
           "accessibilityTextAttributes": [],
           "actionTarget": null,
           "attributes": [
            {
             "$recipeTypes": [
              "com.linkedin.b57b9f6e942a4d58515eb1c80578fea1"
             ],
             "$type": "com.linkedin.voyager.dash.common.image.ImageAttribute",
             "detailData": {
              "*profilePicture": "urn:li:fsd_profile:ACoAAAe-IHEBqkhk7C7F2CYL8AJmPc8HzLmMbX8",
              "companyLogo": null,
              "ghostImage": null,
              "groupLogo": null,
              "icon": null,
              "imageUrl": null,
              "nonEntityCompanyLogo": null,
              "nonEntityGroupLogo": null,
              "nonEntityProfessionalEventLogo": null,
              "nonEntityProfilePicture": null,
              "nonEntitySchoolLogo": null,
              "professionalEventLogo": null,
              "profilePictureWithRingStatus": null,
              "profilePictureWithoutFrame": null,
              "schoolLogo": null,
              "systemImage": null,
              "vectorImage": null
             },
             "displayAspectRatio": null,
             "scalingType": null,
             "tapTargets": [],
             "tintColor": null
            }
           ],
           "totalCount": null
          },
          "label": {
           "$recipeTypes": [
            "com.linkedin.c032efb3f96704e1ccdaafaf7d4d29df"
           ],
           "$type": "com.linkedin.voyager.dash.common.text.TextViewModel",
           "accessibilityText": null,
           "accessibilityTextAttributesV2": [],
           "attributesV2": [],
           "text": "3rd+",
           "textDirection": "USER_LOCALE"
          },
          "navigationUrl": "https://www.linkedin.com/in/ACoAAAe-IHEBqkhk7C7F2CYL8AJmPc8HzLmMbX8",
          "subtitle": {
           "$recipeTypes": [
            "com.linkedin.c032efb3f96704e1ccdaafaf7d4d29df"
           ],
           "$type": "com.linkedin.voyager.dash.common.text.TextViewModel",
           "accessibilityText": null,
           "accessibilityTextAttributesV2": [],
           "attributesV2": [],
           "text": "Head of Marketing",
           "textDirection": "USER_LOCALE"
          },
          "title": {
           "$recipeTypes": [
            "com.linkedin.c032efb3f96704e1ccdaafaf7d4d29df"
           ],
           "$type": "com.linkedin.voyager.dash.common.text.TextViewModel",
           "accessibilityText": "View Valentyna Bashtova’s profile",
           "accessibilityTextAttributesV2": [],
           "attributesV2": [],
           "text": "Valentyna Bashtova",
           "textDirection": "FIRST_STRONG"
          }
         }
        },
        {
         "$recipeTypes": [
          "com.linkedin.dab74ef19bdb8a4c518ddf2dca563c96"
         ],
         "$type": "com.linkedin.voyager.dash.social.Reaction",
         "actor": {
          "*companyUrn": "urn:li:fsd_company:405958",
          "profileUrn": null
         },
         "actorUrn": null,
         "entityUrn": "urn:li:fsd_reaction:(urn:li:fsd_company:405958,urn:li:activity:7054070071043710977,0)",
         "followingState": null,
         "preDashActorUrn": "urn:li:fs_normalized_company:405958",
         "preDashEntityUrn": "urn:li:fs_reaction:(urn:li:company:405958,urn:li:activity:7054070071043710977)",
         "reactionType": "LIKE",
         "reactorLockup": {
          "$recipeTypes": [
           "com.linkedin.22e03a59aebea3440a4e02a98d83e7bd"
          ],
          "$type": "com.linkedin.voyager.dash.common.ux.EntityLockupViewModel",
          "accessibilityText": "View company: Eclettica Akura - Agenzia di comunicazione e marketing",
          "image": {
           "$recipeTypes": [
            "com.linkedin.9bf954b551982091ba62c4d2fe807451"
           ],
           "$type": "com.linkedin.voyager.dash.common.image.ImageViewModel",
           "accessibilityText": null,
           "accessibilityTextAttributes": [],
           "actionTarget": null,
           "attributes": [
            {
             "$recipeTypes": [
              "com.linkedin.b57b9f6e942a4d58515eb1c80578fea1"
             ],
             "$type": "com.linkedin.voyager.dash.common.image.ImageAttribute",
             "detailData": {
              "*companyLogo": "urn:li:fsd_company:405958",
              "ghostImage": null,
              "groupLogo": null,
              "icon": null,
              "imageUrl": null,
              "nonEntityCompanyLogo": null,
              "nonEntityGroupLogo": null,
              "nonEntityProfessionalEventLogo": null,
              "nonEntityProfilePicture": null,
              "nonEntitySchoolLogo": null,
              "professionalEventLogo": null,
              "profilePicture": null,
              "profilePictureWithRingStatus": null,
              "profilePictureWithoutFrame": null,
              "schoolLogo": null,
              "systemImage": null,
              "vectorImage": null
             },
             "displayAspectRatio": null,
             "scalingType": null,
             "tapTargets": [],
             "tintColor": null
            }
           ],
           "totalCount": null
          },
          "label": null,
          "navigationUrl": "https://www.linkedin.com/company/eclettica-akura/",
          "subtitle": {
           "$recipeTypes": [
            "com.linkedin.c032efb3f96704e1ccdaafaf7d4d29df"
           ],
           "$type": "com.linkedin.voyager.dash.common.text.TextViewModel",
           "accessibilityText": null,
           "accessibilityTextAttributesV2": [],
           "attributesV2": [],
           "text": "614 followers",
           "textDirection": "USER_LOCALE"
          },
          "title": {
           "$recipeTypes": [
            "com.linkedin.c032efb3f96704e1ccdaafaf7d4d29df"
           ],
           "$type": "com.linkedin.voyager.dash.common.text.TextViewModel",
           "accessibilityText": null,
           "accessibilityTextAttributesV2": [],
           "attributesV2": [],
           "text": "Eclettica Akura - Agenzia di comunicazione e marketing",
           "textDirection": "USER_LOCALE"
          }
         }
        },
        {
         "$recipeTypes": [
          "com.linkedin.dab74ef19bdb8a4c518ddf2dca563c96"
         ],
         "$type": "com.linkedin.voyager.dash.social.Reaction",
         "actor": {
          "*profileUrn": "urn:li:fsd_profile:ACoAAAok4V8BQg5iGWF-C3BjV-6CPDjXXcdlBYA",
          "companyUrn": null
         },
         "actorUrn": null,
         "entityUrn": "urn:li:fsd_reaction:(urn:li:fsd_profile:ACoAAAok4V8BQg5iGWF-C3BjV-6CPDjXXcdlBYA,urn:li:activity:7054070071043710977,0)",
         "followingState": null,
         "preDashActorUrn": "urn:li:fs_miniProfile:ACoAAAok4V8BQg5iGWF-C3BjV-6CPDjXXcdlBYA",
         "preDashEntityUrn": "urn:li:fs_reaction:(urn:li:member:170189151,urn:li:activity:7054070071043710977)",
         "reactionType": "LIKE",
         "reactorLockup": {
          "$recipeTypes": [
           "com.linkedin.22e03a59aebea3440a4e02a98d83e7bd"
          ],
          "$type": "com.linkedin.voyager.dash.common.ux.EntityLockupViewModel",
          "accessibilityText": "View CHARUDATTA SALUNKE’s profile",
          "image": {
           "$recipeTypes": [
            "com.linkedin.9bf954b551982091ba62c4d2fe807451"
           ],
           "$type": "com.linkedin.voyager.dash.common.image.ImageViewModel",
           "accessibilityText": null,
           "accessibilityTextAttributes": [],
           "actionTarget": null,
           "attributes": [
            {
             "$recipeTypes": [
              "com.linkedin.b57b9f6e942a4d58515eb1c80578fea1"
             ],
             "$type": "com.linkedin.voyager.dash.common.image.ImageAttribute",
             "detailData": {
              "*profilePicture": "urn:li:fsd_profile:ACoAAAok4V8BQg5iGWF-C3BjV-6CPDjXXcdlBYA",
              "companyLogo": null,
              "ghostImage": null,
              "groupLogo": null,
              "icon": null,
              "imageUrl": null,
              "nonEntityCompanyLogo": null,
              "nonEntityGroupLogo": null,
              "nonEntityProfessionalEventLogo": null,
              "nonEntityProfilePicture": null,
              "nonEntitySchoolLogo": null,
              "professionalEventLogo": null,
              "profilePictureWithRingStatus": null,
              "profilePictureWithoutFrame": null,
              "schoolLogo": null,
              "systemImage": null,
              "vectorImage": null
             },
             "displayAspectRatio": null,
             "scalingType": null,
             "tapTargets": [],
             "tintColor": null
            }
           ],
           "totalCount": null
          },
          "label": {
           "$recipeTypes": [
            "com.linkedin.c032efb3f96704e1ccdaafaf7d4d29df"
           ],
           "$type": "com.linkedin.voyager.dash.common.text.TextViewModel",
           "accessibilityText": null,
           "accessibilityTextAttributesV2": [],
           "attributesV2": [],
           "text": "3rd+",
           "textDirection": "USER_LOCALE"
          },
          "navigationUrl": "https://www.linkedin.com/in/ACoAAAok4V8BQg5iGWF-C3BjV-6CPDjXXcdlBYA",
          "subtitle": {
           "$recipeTypes": [
            "com.linkedin.c032efb3f96704e1ccdaafaf7d4d29df"
           ],
           "$type": "com.linkedin.voyager.dash.common.text.TextViewModel",
           "accessibilityText": null,
           "accessibilityTextAttributesV2": [],
           "attributesV2": [],
           "text": "Vice President - Technical at NICHROME INDIA LTD.",
           "textDirection": "USER_LOCALE"
          },
          "title": {
           "$recipeTypes": [
            "com.linkedin.c032efb3f96704e1ccdaafaf7d4d29df"
           ],
           "$type": "com.linkedin.voyager.dash.common.text.TextViewModel",
           "accessibilityText": "View CHARUDATTA SALUNKE’s profile",
           "accessibilityTextAttributesV2": [],
           "attributesV2": [],
           "text": "CHARUDATTA SALUNKE",
           "textDirection": "FIRST_STRONG"
          }
         }
        },
        {
         "$recipeTypes": [
          "com.linkedin.dab74ef19bdb8a4c518ddf2dca563c96"
         ],
         "$type": "com.linkedin.voyager.dash.social.Reaction",
         "actor": {
          "*profileUrn": "urn:li:fsd_profile:ACoAAANiH2MBAySw1_me4WzXVIz36igT_BPBLts",
          "companyUrn": null
         },
         "actorUrn": null,
         "entityUrn": "urn:li:fsd_reaction:(urn:li:fsd_profile:ACoAAANiH2MBAySw1_me4WzXVIz36igT_BPBLts,urn:li:activity:7054070071043710977,0)",
         "followingState": null,
         "preDashActorUrn": "urn:li:fs_miniProfile:ACoAAANiH2MBAySw1_me4WzXVIz36igT_BPBLts",
         "preDashEntityUrn": "urn:li:fs_reaction:(urn:li:member:56762211,urn:li:activity:7054070071043710977)",
         "reactionType": "LIKE",
         "reactorLockup": {
          "$recipeTypes": [
           "com.linkedin.22e03a59aebea3440a4e02a98d83e7bd"
          ],
          "$type": "com.linkedin.voyager.dash.common.ux.EntityLockupViewModel",
          "accessibilityText": "View Rodrigo Arismendi’s profile",
          "image": {
           "$recipeTypes": [
            "com.linkedin.9bf954b551982091ba62c4d2fe807451"
           ],
           "$type": "com.linkedin.voyager.dash.common.image.ImageViewModel",
           "accessibilityText": null,
           "accessibilityTextAttributes": [],
           "actionTarget": null,
           "attributes": [
            {
             "$recipeTypes": [
              "com.linkedin.b57b9f6e942a4d58515eb1c80578fea1"
             ],
             "$type": "com.linkedin.voyager.dash.common.image.ImageAttribute",
             "detailData": {
              "*profilePicture": "urn:li:fsd_profile:ACoAAANiH2MBAySw1_me4WzXVIz36igT_BPBLts",
              "companyLogo": null,
              "ghostImage": null,
              "groupLogo": null,
              "icon": null,
              "imageUrl": null,
              "nonEntityCompanyLogo": null,
              "nonEntityGroupLogo": null,
              "nonEntityProfessionalEventLogo": null,
              "nonEntityProfilePicture": null,
              "nonEntitySchoolLogo": null,
              "professionalEventLogo": null,
              "profilePictureWithRingStatus": null,
              "profilePictureWithoutFrame": null,
              "schoolLogo": null,
              "systemImage": null,
              "vectorImage": null
             },
             "displayAspectRatio": null,
             "scalingType": null,
             "tapTargets": [],
             "tintColor": null
            }
           ],
           "totalCount": null
          },
          "label": {
           "$recipeTypes": [
            "com.linkedin.c032efb3f96704e1ccdaafaf7d4d29df"
           ],
           "$type": "com.linkedin.voyager.dash.common.text.TextViewModel",
           "accessibilityText": null,
           "accessibilityTextAttributesV2": [],
           "attributesV2": [],
           "text": "3rd+",
           "textDirection": "USER_LOCALE"
          },
          "navigationUrl": "https://www.linkedin.com/in/ACoAAANiH2MBAySw1_me4WzXVIz36igT_BPBLts",
          "subtitle": {
           "$recipeTypes": [
            "com.linkedin.c032efb3f96704e1ccdaafaf7d4d29df"
           ],
           "$type": "com.linkedin.voyager.dash.common.text.TextViewModel",
           "accessibilityText": null,
           "accessibilityTextAttributesV2": [],
           "attributesV2": [],
           "text": "My Passion: Transform challenges into opportunities, and Profits. Experience in Business with Manufacturing Processes.",
           "textDirection": "USER_LOCALE"
          },
          "title": {
           "$recipeTypes": [
            "com.linkedin.c032efb3f96704e1ccdaafaf7d4d29df"
           ],
           "$type": "com.linkedin.voyager.dash.common.text.TextViewModel",
           "accessibilityText": "View Rodrigo Arismendi’s profile",
           "accessibilityTextAttributesV2": [],
           "attributesV2": [],
           "text": "Rodrigo Arismendi",
           "textDirection": "FIRST_STRONG"
          }
         }
        },
        {
         "$recipeTypes": [
          "com.linkedin.dab74ef19bdb8a4c518ddf2dca563c96"
         ],
         "$type": "com.linkedin.voyager.dash.social.Reaction",
         "actor": {
          "*companyUrn": "urn:li:fsd_company:71507933",
          "profileUrn": null
         },
         "actorUrn": null,
         "entityUrn": "urn:li:fsd_reaction:(urn:li:fsd_company:71507933,urn:li:activity:7054070071043710977,0)",
         "followingState": null,
         "preDashActorUrn": "urn:li:fs_normalized_company:71507933",
         "preDashEntityUrn": "urn:li:fs_reaction:(urn:li:company:71507933,urn:li:activity:7054070071043710977)",
         "reactionType": "LIKE",
         "reactorLockup": {
          "$recipeTypes": [
           "com.linkedin.22e03a59aebea3440a4e02a98d83e7bd"
          ],
          "$type": "com.linkedin.voyager.dash.common.ux.EntityLockupViewModel",
          "accessibilityText": "View company: interpack",
          "image": {
           "$recipeTypes": [
            "com.linkedin.9bf954b551982091ba62c4d2fe807451"
           ],
           "$type": "com.linkedin.voyager.dash.common.image.ImageViewModel",
           "accessibilityText": null,
           "accessibilityTextAttributes": [],
           "actionTarget": null,
           "attributes": [
            {
             "$recipeTypes": [
              "com.linkedin.b57b9f6e942a4d58515eb1c80578fea1"
             ],
             "$type": "com.linkedin.voyager.dash.common.image.ImageAttribute",
             "detailData": {
              "*companyLogo": "urn:li:fsd_company:71507933",
              "ghostImage": null,
              "groupLogo": null,
              "icon": null,
              "imageUrl": null,
              "nonEntityCompanyLogo": null,
              "nonEntityGroupLogo": null,
              "nonEntityProfessionalEventLogo": null,
              "nonEntityProfilePicture": null,
              "nonEntitySchoolLogo": null,
              "professionalEventLogo": null,
              "profilePicture": null,
              "profilePictureWithRingStatus": null,
              "profilePictureWithoutFrame": null,
              "schoolLogo": null,
              "systemImage": null,
              "vectorImage": null
             },
             "displayAspectRatio": null,
             "scalingType": null,
             "tapTargets": [],
             "tintColor": null
            }
           ],
           "totalCount": null
          },
          "label": null,
          "navigationUrl": "https://www.linkedin.com/company/interpack-tradefair/",
          "subtitle": {
           "$recipeTypes": [
            "com.linkedin.c032efb3f96704e1ccdaafaf7d4d29df"
           ],
           "$type": "com.linkedin.voyager.dash.common.text.TextViewModel",
           "accessibilityText": null,
           "accessibilityTextAttributesV2": [],
           "attributesV2": [],
           "text": "5,496 followers",
           "textDirection": "USER_LOCALE"
          },
          "title": {
           "$recipeTypes": [
            "com.linkedin.c032efb3f96704e1ccdaafaf7d4d29df"
           ],
           "$type": "com.linkedin.voyager.dash.common.text.TextViewModel",
           "accessibilityText": null,
           "accessibilityTextAttributesV2": [],
           "attributesV2": [],
           "text": "interpack",
           "textDirection": "USER_LOCALE"
          }
         }
        },
        {
         "$recipeTypes": [
          "com.linkedin.dab74ef19bdb8a4c518ddf2dca563c96"
         ],
         "$type": "com.linkedin.voyager.dash.social.Reaction",
         "actor": {
          "*profileUrn": "urn:li:fsd_profile:ACoAABWRgBkB0uDGGK1lQnSb3w-2Bpzkg1_Mn7k",
          "companyUrn": null
         },
         "actorUrn": null,
         "entityUrn": "urn:li:fsd_reaction:(urn:li:fsd_profile:ACoAABWRgBkB0uDGGK1lQnSb3w-2Bpzkg1_Mn7k,urn:li:activity:7054070071043710977,0)",
         "followingState": null,
         "preDashActorUrn": "urn:li:fs_miniProfile:ACoAABWRgBkB0uDGGK1lQnSb3w-2Bpzkg1_Mn7k",
         "preDashEntityUrn": "urn:li:fs_reaction:(urn:li:member:361857049,urn:li:activity:7054070071043710977)",
         "reactionType": "LIKE",
         "reactorLockup": {
          "$recipeTypes": [
           "com.linkedin.22e03a59aebea3440a4e02a98d83e7bd"
          ],
          "$type": "com.linkedin.voyager.dash.common.ux.EntityLockupViewModel",
          "accessibilityText": "View Massimiliano Maestri’s profile",
          "image": {
           "$recipeTypes": [
            "com.linkedin.9bf954b551982091ba62c4d2fe807451"
           ],
           "$type": "com.linkedin.voyager.dash.common.image.ImageViewModel",
           "accessibilityText": null,
           "accessibilityTextAttributes": [],
           "actionTarget": null,
           "attributes": [
            {
             "$recipeTypes": [
              "com.linkedin.b57b9f6e942a4d58515eb1c80578fea1"
             ],
             "$type": "com.linkedin.voyager.dash.common.image.ImageAttribute",
             "detailData": {
              "*profilePicture": "urn:li:fsd_profile:ACoAABWRgBkB0uDGGK1lQnSb3w-2Bpzkg1_Mn7k",
              "companyLogo": null,
              "ghostImage": null,
              "groupLogo": null,
              "icon": null,
              "imageUrl": null,
              "nonEntityCompanyLogo": null,
              "nonEntityGroupLogo": null,
              "nonEntityProfessionalEventLogo": null,
              "nonEntityProfilePicture": null,
              "nonEntitySchoolLogo": null,
              "professionalEventLogo": null,
              "profilePictureWithRingStatus": null,
              "profilePictureWithoutFrame": null,
              "schoolLogo": null,
              "systemImage": null,
              "vectorImage": null
             },
             "displayAspectRatio": null,
             "scalingType": null,
             "tapTargets": [],
             "tintColor": null
            }
           ],
           "totalCount": null
          },
          "label": {
           "$recipeTypes": [
            "com.linkedin.c032efb3f96704e1ccdaafaf7d4d29df"
           ],
           "$type": "com.linkedin.voyager.dash.common.text.TextViewModel",
           "accessibilityText": null,
           "accessibilityTextAttributesV2": [],
           "attributesV2": [],
           "text": "3rd+",
           "textDirection": "USER_LOCALE"
          },
          "navigationUrl": "https://www.linkedin.com/in/ACoAABWRgBkB0uDGGK1lQnSb3w-2Bpzkg1_Mn7k",
          "subtitle": {
           "$recipeTypes": [
            "com.linkedin.c032efb3f96704e1ccdaafaf7d4d29df"
           ],
           "$type": "com.linkedin.voyager.dash.common.text.TextViewModel",
           "accessibilityText": null,
           "accessibilityTextAttributesV2": [],
           "attributesV2": [],
           "text": "Production Manager presso Dietopack SRL",
           "textDirection": "USER_LOCALE"
          },
          "title": {
           "$recipeTypes": [
            "com.linkedin.c032efb3f96704e1ccdaafaf7d4d29df"
           ],
           "$type": "com.linkedin.voyager.dash.common.text.TextViewModel",
           "accessibilityText": "View Massimiliano Maestri’s profile",
           "accessibilityTextAttributesV2": [],
           "attributesV2": [],
           "text": "Massimiliano Maestri",
           "textDirection": "FIRST_STRONG"
          }
         }
        }
       ],
       "meta": {
        "microSchema": {
         "isGraphQL": true,
         "types": {
          "com.linkedin.05ad6e1019bd9c0c2f02aff5e281ea2a": {
           "baseType": "com.linkedin.common.VectorImage",
           "fields": {
            "artifacts": {
             "type": {
              "array": "com.linkedin.df089b9d683fa734528ad3707694a3bc"
             }
            },
            "attribution": {
             "type": "string"
            },
            "digitalmediaAsset": {
             "type": "com.linkedin.common.DigitalmediaAssetUrn"
            },
            "rootUrl": {
             "type": "string"
            }
           }
          },
          "com.linkedin.07eff9c6a856b77c53f8eda1cdbe70d4": {
           "baseType": "com.linkedin.voyager.dash.feed.Hashtag",
           "fields": {
            "actionTarget": {
             "type": "com.linkedin.common.Url"
            },
            "entityUrn": {
             "type": "com.linkedin.voyager.dash.common.HashtagUrn"
            },
            "trackingUrn": {
             "type": "com.linkedin.common.Urn"
            }
           }
          },
          "com.linkedin.1a57807c65335d86daac72be136b5b0e": {
           "baseType": "com.linkedin.voyager.dash.feed.social.ReactionTypeCount",
           "fields": {
            "count": {
             "type": "long"
            },
            "reactionType": {
             "type": "com.linkedin.voyager.dash.feed.social.ReactionType"
            }
           }
          },
          "com.linkedin.22e03a59aebea3440a4e02a98d83e7bd": {
           "baseType": "com.linkedin.voyager.dash.common.ux.EntityLockupViewModel",
           "fields": {
            "accessibilityText": {
             "type": "string"
            },
            "image": {
             "type": "com.linkedin.9bf954b551982091ba62c4d2fe807451"
            },
            "label": {
             "type": "com.linkedin.c032efb3f96704e1ccdaafaf7d4d29df"
            },
            "navigationUrl": {
             "type": "com.linkedin.common.Url"
            },
            "subtitle": {
             "type": "com.linkedin.c032efb3f96704e1ccdaafaf7d4d29df"
            },
            "title": {
             "type": "com.linkedin.c032efb3f96704e1ccdaafaf7d4d29df"
            }
           }
          },
          "com.linkedin.355b4fee2ae4ec6efb141bd500fab7bb": {
           "baseType": "com.linkedin.voyager.dash.common.image.NonEntityCompanyLogo",
           "fields": {
            "company": {
             "resolvedFrom": "companyUrn",
             "type": "com.linkedin.8f7ab3fcf458b406365003e4bf5b02b2"
            },
            "companyUrn": {
             "type": "string"
            },
            "vectorImage": {
             "type": "com.linkedin.05ad6e1019bd9c0c2f02aff5e281ea2a"
            }
           }
          },
          "com.linkedin.3693ab96e43df75661ffa7d08c848856": {
           "baseType": "com.linkedin.voyager.dash.common.StringFieldReference",
           "fields": {
            "fieldName": {
             "type": "string"
            },
            "modelName": {
             "type": "string"
            },
            "urn": {
             "type": "com.linkedin.common.Urn"
            },
            "value": {
             "type": "string"
            }
           }
          },
          "com.linkedin.3e367726b803588b70add554ed721f1e": {
           "baseType": "com.linkedin.voyager.dash.feed.FollowingState",
           "fields": {
            "entityUrn": {
             "type": "com.linkedin.voyager.dash.common.FollowingStateUrn"
            },
            "following": {
             "type": "boolean"
            },
            "followingType": {
             "type": "com.linkedin.voyager.dash.feed.FollowingType"
            },
            "preDashFollowingInfoUrn": {
             "type": "com.linkedin.voyager.dash.common.PreDashUrn"
            }
           }
          },
          "com.linkedin.4c71f2cf0cab64ad969ec4baf4b0e355": {
           "baseType": "com.linkedin.voyager.dash.common.media.StickerLinkLargeTemplateView",
           "fields": {
            "backgroundImage": {
             "derivedFrom": "backgroundImageUnion",
             "type": {
              "union": {
               "url": "com.linkedin.common.Url",
               "vectorImage": "com.linkedin.05ad6e1019bd9c0c2f02aff5e281ea2a"
              }
             }
            },
            "backgroundImageUnion": {
             "type": {
              "union": {
               "url": "com.linkedin.common.Url",
               "vectorImage": "com.linkedin.05ad6e1019bd9c0c2f02aff5e281ea2a"
              }
             }
            },
            "footerText": {
             "type": "com.linkedin.c032efb3f96704e1ccdaafaf7d4d29df"
            },
            "headline": {
             "type": "com.linkedin.c032efb3f96704e1ccdaafaf7d4d29df"
            },
            "image": {
             "derivedFrom": "imageUnion",
             "type": {
              "union": {
               "url": "com.linkedin.common.Url",
               "vectorImage": "com.linkedin.05ad6e1019bd9c0c2f02aff5e281ea2a"
              }
             }
            },
            "imageUnion": {
             "type": {
              "union": {
               "url": "com.linkedin.common.Url",
               "vectorImage": "com.linkedin.05ad6e1019bd9c0c2f02aff5e281ea2a"
              }
             }
            },
            "insightText": {
             "type": "com.linkedin.c032efb3f96704e1ccdaafaf7d4d29df"
            },
            "name": {
             "type": "com.linkedin.c032efb3f96704e1ccdaafaf7d4d29df"
            },
            "nameSupplementaryInfo": {
             "type": "com.linkedin.c032efb3f96704e1ccdaafaf7d4d29df"
            },
            "subHeadline": {
             "type": "com.linkedin.c032efb3f96704e1ccdaafaf7d4d29df"
            }
           }
          },
          "com.linkedin.4e40620a1546ec1ea7b74f1ac7db436e": {
           "baseType": "com.linkedin.voyager.dash.identity.profile.Profile",
           "fields": {
            "entityUrn": {
             "type": "com.linkedin.voyager.dash.common.ProfileUrn"
            },
            "firstName": {
             "type": "string"
            },
            "lastName": {
             "type": "string"
            },
            "profilePicture": {
             "type": "com.linkedin.95ee6262e2e99e1e02206cc342278924"
            }
           }
          },
          "com.linkedin.4f3ba7ecaaf7d604ff732c55336a65bf": {
           "baseType": "com.linkedin.voyager.dash.common.media.StickerLinkMediumTemplateView",
           "fields": {
            "headline": {
             "type": "com.linkedin.c032efb3f96704e1ccdaafaf7d4d29df"
            },
            "image": {
             "derivedFrom": "imageUnion",
             "type": {
              "union": {
               "url": "com.linkedin.common.Url",
               "vectorImage": "com.linkedin.05ad6e1019bd9c0c2f02aff5e281ea2a"
              }
             }
            },
            "imageUnion": {
             "type": {
              "union": {
               "url": "com.linkedin.common.Url",
               "vectorImage": "com.linkedin.05ad6e1019bd9c0c2f02aff5e281ea2a"
              }
             }
            },
            "name": {
             "type": "com.linkedin.c032efb3f96704e1ccdaafaf7d4d29df"
            },
            "nameSupplementaryInfo": {
             "type": "com.linkedin.c032efb3f96704e1ccdaafaf7d4d29df"
            },
            "subHeadline": {
             "type": "com.linkedin.c032efb3f96704e1ccdaafaf7d4d29df"
            }
           }
          },
          "com.linkedin.52e2b1e28bdce85d1d5012ccc85ff5f6": {
           "baseType": "com.linkedin.voyager.dash.common.TapTarget",
           "fields": {
            "firstCornerXOffsetPercentage": {
             "type": "float"
            },
            "firstCornerYOffsetPercentage": {
             "type": "float"
            },
            "fourthCornerXOffsetPercentage": {
             "type": "float"
            },
            "fourthCornerYOffsetPercentage": {
             "type": "float"
            },
            "rank": {
             "type": "int"
            },
            "secondCornerXOffsetPercentage": {
             "type": "float"
            },
            "secondCornerYOffsetPercentage": {
             "type": "float"
            },
            "stickerLinkTemplateSize": {
             "type": "com.linkedin.voyager.dash.common.media.StickerLinkTemplateSize"
            },
            "stickerLinkView": {
             "derivedFrom": "stickerLinkViewUnion",
             "type": {
              "union": {
               "largeTemplate": "com.linkedin.4c71f2cf0cab64ad969ec4baf4b0e355",
               "mediumTemplate": "com.linkedin.4f3ba7ecaaf7d604ff732c55336a65bf",
               "smallTemplate": "com.linkedin.e07b7124346d9e0db9a67d0e5d77c37a"
              }
             }
            },
            "stickerLinkViewUnion": {
             "type": {
              "union": {
               "largeTemplate": "com.linkedin.4c71f2cf0cab64ad969ec4baf4b0e355",
               "mediumTemplate": "com.linkedin.4f3ba7ecaaf7d604ff732c55336a65bf",
               "smallTemplate": "com.linkedin.e07b7124346d9e0db9a67d0e5d77c37a"
              }
             }
            },
            "text": {
             "type": "string"
            },
            "thirdCornerXOffsetPercentage": {
             "type": "float"
            },
            "thirdCornerYOffsetPercentage": {
             "type": "float"
            },
            "type": {
             "type": "com.linkedin.voyager.dash.common.TapTargetAttributeType"
            },
            "untaggable": {
             "type": "boolean"
            },
            "url": {
             "type": "com.linkedin.common.Url"
            },
            "urn": {
             "type": "com.linkedin.common.Urn"
            }
           }
          },
          "com.linkedin.54002c008546511447a16a771cca8f6b": {
           "baseType": "com.linkedin.voyager.dash.common.text.EpochTime",
           "fields": {
            "epochAt": {
             "type": "com.linkedin.common.Time"
            },
            "type": {
             "type": "com.linkedin.voyager.dash.common.text.EpochFormat"
            }
           }
          },
          "com.linkedin.719d1a789b53d132eb666f89333b854a": {
           "baseType": "com.linkedin.graphql.Query",
           "fields": {
            "socialDashReactionsByReactionType": {
             "type": "com.linkedin.d34226ba14d7569363e729f024e5c36e"
            }
           }
          },
          "com.linkedin.72f9194816661062cb04c917354fa210": {
           "baseType": "com.linkedin.voyager.dash.social.ReactionsMetadata",
           "fields": {
            "nextStartOffset": {
             "type": "long"
            },
            "paginationToken": {
             "type": "string"
            },
            "socialActivityCounts": {
             "resolvedFrom": "socialActivityCountsUrn",
             "type": "com.linkedin.bc5a443581c9a4b8e93099b38a624e1a"
            },
            "socialActivityCountsUrn": {
             "type": "string"
            },
            "updatedReactionTypeCounts": {
             "type": {
              "array": "com.linkedin.1a57807c65335d86daac72be136b5b0e"
             }
            }
           }
          },
          "com.linkedin.73618de96c485faac096a5f62a486151": {
           "baseType": "com.linkedin.voyager.dash.common.image.RingStatus",
           "fields": {
            "actionTarget": {
             "type": "com.linkedin.common.Url"
            },
            "emphasized": {
             "type": "boolean"
            },
            "entityUrn": {
             "type": "com.linkedin.voyager.dash.common.RingStatusUrn"
            },
            "preDashEntityUrn": {
             "type": "com.linkedin.voyager.dash.common.PreDashUrn"
            },
            "ringContentType": {
             "type": "com.linkedin.voyager.dash.common.image.RingContentType"
            }
           }
          },
          "com.linkedin.76b3c37fa3c4de86fbe71902b24c2ffd": {
           "baseType": "com.linkedin.voyager.dash.organization.School",
           "fields": {
            "entityUrn": {
             "type": "com.linkedin.voyager.dash.common.SchoolUrn"
            },
            "logo": {
             "type": {
              "union": {
               "url": "com.linkedin.common.Url",
               "vectorImage": "com.linkedin.05ad6e1019bd9c0c2f02aff5e281ea2a"
              }
             }
            },
            "logoResolutionResult": {
             "derivedFrom": "logo",
             "type": {
              "union": {
               "url": "com.linkedin.common.Url",
               "vectorImage": "com.linkedin.05ad6e1019bd9c0c2f02aff5e281ea2a"
              }
             }
            },
            "name": {
             "type": "string"
            }
           }
          },
          "com.linkedin.8f7ab3fcf458b406365003e4bf5b02b2": {
           "baseType": "com.linkedin.voyager.dash.organization.Company",
           "fields": {
            "entityUrn": {
             "type": "com.linkedin.voyager.dash.common.CompanyUrn"
            },
            "logo": {
             "type": {
              "union": {
               "url": "com.linkedin.common.Url",
               "vectorImage": "com.linkedin.05ad6e1019bd9c0c2f02aff5e281ea2a"
              }
             }
            },
            "logoResolutionResult": {
             "derivedFrom": "logo",
             "type": {
              "union": {
               "url": "com.linkedin.common.Url",
               "vectorImage": "com.linkedin.05ad6e1019bd9c0c2f02aff5e281ea2a"
              }
             }
            },
            "name": {
             "type": "string"
            }
           }
          },
          "com.linkedin.9068368318c57ab44cc7013ddbf007e1": {
           "baseType": "com.linkedin.voyager.dash.common.image.NonEntityProfessionalEventLogo",
           "fields": {
            "professionalEvent": {
             "resolvedFrom": "professionalEventUrn",
             "type": "com.linkedin.db9f75f34edce25202d7dfdd1fbfeccf"
            },
            "professionalEventUrn": {
             "type": "string"
            },
            "vectorImage": {
             "type": "com.linkedin.05ad6e1019bd9c0c2f02aff5e281ea2a"
            }
           }
          },
          "com.linkedin.917c91ffd9f5ac22aebeda80857aedb9": {
           "baseType": "com.linkedin.voyager.dash.common.image.NonEntitySchoolLogo",
           "fields": {
            "school": {
             "resolvedFrom": "schoolUrn",
             "type": "com.linkedin.76b3c37fa3c4de86fbe71902b24c2ffd"
            },
            "schoolUrn": {
             "type": "string"
            },
            "vectorImage": {
             "type": "com.linkedin.05ad6e1019bd9c0c2f02aff5e281ea2a"
            }
           }
          },
          "com.linkedin.95ee6262e2e99e1e02206cc342278924": {
           "baseType": "com.linkedin.voyager.dash.identity.profile.PhotoFilterPicture",
           "fields": {
            "displayImageReference": {
             "type": {
              "union": {
               "url": "com.linkedin.common.Url",
               "vectorImage": "com.linkedin.05ad6e1019bd9c0c2f02aff5e281ea2a"
              }
             }
            },
            "displayImageReferenceResolutionResult": {
             "derivedFrom": "displayImageReference",
             "type": {
              "union": {
               "url": "com.linkedin.common.Url",
               "vectorImage": "com.linkedin.05ad6e1019bd9c0c2f02aff5e281ea2a"
              }
             }
            },
            "displayImageUrn": {
             "type": "com.linkedin.common.Urn"
            },
            "displayImageWithFrameReference": {
             "derivedFrom": "displayImageWithFrameReferenceUnion",
             "type": {
              "union": {
               "url": "com.linkedin.common.Url",
               "vectorImage": "com.linkedin.05ad6e1019bd9c0c2f02aff5e281ea2a"
              }
             }
            },
            "displayImageWithFrameReferenceUnion": {
             "type": {
              "union": {
               "url": "com.linkedin.common.Url",
               "vectorImage": "com.linkedin.05ad6e1019bd9c0c2f02aff5e281ea2a"
              }
             }
            }
           }
          },
          "com.linkedin.9bf954b551982091ba62c4d2fe807451": {
           "baseType": "com.linkedin.voyager.dash.common.image.ImageViewModel",
           "fields": {
            "accessibilityText": {
             "type": "string"
            },
            "accessibilityTextAttributes": {
             "type": {
              "array": "com.linkedin.fea4e140107d270370a138cb4ff8e272"
             }
            },
            "actionTarget": {
             "type": "com.linkedin.common.Url"
            },
            "attributes": {
             "type": {
              "array": "com.linkedin.b57b9f6e942a4d58515eb1c80578fea1"
             }
            },
            "totalCount": {
             "type": "int"
            }
           }
          },
          "com.linkedin.a23e234b8757a3751dc828ab6851763f": {
           "baseType": "com.linkedin.voyager.dash.common.ImageUrl",
           "fields": {
            "originalHeight": {
             "type": "int"
            },
            "originalImageUrl": {
             "type": "com.linkedin.common.Url"
            },
            "originalWidth": {
             "type": "int"
            },
            "url": {
             "type": "com.linkedin.common.Url"
            }
           }
          },
          "com.linkedin.b46afcc0ec7218fd38177b0786887563": {
           "baseType": "com.linkedin.voyager.dash.common.image.NonEntityGroupLogo",
           "fields": {
            "group": {
             "resolvedFrom": "groupUrn",
             "type": "com.linkedin.f1c9040bf311931ed34cd3d6ccfffbbd"
            },
            "groupUrn": {
             "type": "string"
            },
            "vectorImage": {
             "type": "com.linkedin.05ad6e1019bd9c0c2f02aff5e281ea2a"
            }
           }
          },
          "com.linkedin.b4c9fdb45362a26d1223b4df8ba6fc24": {
           "baseType": "com.linkedin.voyager.dash.jobs.JobPosting",
           "fields": {
            "entityUrn": {
             "type": "com.linkedin.voyager.dash.common.JobPostingUrn"
            },
            "title": {
             "type": "string"
            }
           }
          },
          "com.linkedin.b50259d37125aebe5a937a579bb67345": {
           "baseType": "com.linkedin.restli.common.CollectionMetadata",
           "fields": {
            "count": {
             "type": "int"
            },
            "start": {
             "type": "int"
            },
            "total": {
             "type": "int"
            }
           }
          },
          "com.linkedin.b540c4989c7c02783bcb663819ab095e": {
           "baseType": "com.linkedin.voyager.dash.common.image.NonEntityProfilePicture",
           "fields": {
            "profile": {
             "resolvedFrom": "profileUrn",
             "type": "com.linkedin.4e40620a1546ec1ea7b74f1ac7db436e"
            },
            "profileUrn": {
             "type": "string"
            },
            "ringStatus": {
             "type": "com.linkedin.73618de96c485faac096a5f62a486151"
            },
            "vectorImage": {
             "type": "com.linkedin.05ad6e1019bd9c0c2f02aff5e281ea2a"
            }
           }
          },
          "com.linkedin.b57b9f6e942a4d58515eb1c80578fea1": {
           "baseType": "com.linkedin.voyager.dash.common.image.ImageAttribute",
           "fields": {
            "detailData": {
             "resolvedFrom": "detailDataUnion",
             "type": {
              "union": {
               "companyLogo": "com.linkedin.8f7ab3fcf458b406365003e4bf5b02b2",
               "ghostImage": "com.linkedin.voyager.dash.common.image.GhostImageType",
               "groupLogo": "com.linkedin.f1c9040bf311931ed34cd3d6ccfffbbd",
               "icon": "com.linkedin.voyager.dash.common.ArtDecoIconName",
               "imageUrl": "com.linkedin.a23e234b8757a3751dc828ab6851763f",
               "nonEntityCompanyLogo": "com.linkedin.355b4fee2ae4ec6efb141bd500fab7bb",
               "nonEntityGroupLogo": "com.linkedin.b46afcc0ec7218fd38177b0786887563",
               "nonEntityProfessionalEventLogo": "com.linkedin.9068368318c57ab44cc7013ddbf007e1",
               "nonEntityProfilePicture": "com.linkedin.b540c4989c7c02783bcb663819ab095e",
               "nonEntitySchoolLogo": "com.linkedin.917c91ffd9f5ac22aebeda80857aedb9",
               "professionalEventLogo": "com.linkedin.db9f75f34edce25202d7dfdd1fbfeccf",
               "profilePicture": "com.linkedin.4e40620a1546ec1ea7b74f1ac7db436e",
               "profilePictureWithRingStatus": "com.linkedin.4e40620a1546ec1ea7b74f1ac7db436e",
               "profilePictureWithoutFrame": "com.linkedin.4e40620a1546ec1ea7b74f1ac7db436e",
               "schoolLogo": "com.linkedin.76b3c37fa3c4de86fbe71902b24c2ffd",
               "systemImage": "com.linkedin.voyager.dash.common.SystemImageName",
               "vectorImage": "com.linkedin.05ad6e1019bd9c0c2f02aff5e281ea2a"
              }
             }
            },
            "detailDataUnion": {
             "type": {
              "union": {
               "companyLogo": "string",
               "ghostImage": "com.linkedin.voyager.dash.common.image.GhostImageType",
               "groupLogo": "string",
               "icon": "com.linkedin.voyager.dash.common.ArtDecoIconName",
               "imageUrl": "com.linkedin.a23e234b8757a3751dc828ab6851763f",
               "nonEntityCompanyLogo": "com.linkedin.355b4fee2ae4ec6efb141bd500fab7bb",
               "nonEntityGroupLogo": "com.linkedin.b46afcc0ec7218fd38177b0786887563",
               "nonEntityProfessionalEventLogo": "com.linkedin.9068368318c57ab44cc7013ddbf007e1",
               "nonEntityProfilePicture": "com.linkedin.b540c4989c7c02783bcb663819ab095e",
               "nonEntitySchoolLogo": "com.linkedin.917c91ffd9f5ac22aebeda80857aedb9",
               "professionalEventLogo": "string",
               "profilePicture": "string",
               "profilePictureWithRingStatus": "string",
               "profilePictureWithoutFrame": "string",
               "schoolLogo": "string",
               "systemImage": "com.linkedin.voyager.dash.common.SystemImageName",
               "vectorImage": "com.linkedin.05ad6e1019bd9c0c2f02aff5e281ea2a"
              }
             }
            },
            "displayAspectRatio": {
             "type": "double"
            },
            "scalingType": {
             "type": "com.linkedin.voyager.dash.common.image.ScalingType"
            },
            "tapTargets": {
             "type": {
              "array": "com.linkedin.52e2b1e28bdce85d1d5012ccc85ff5f6"
             }
            },
            "tintColor": {
             "type": "com.linkedin.voyager.dash.common.SystemImageTintColor"
            }
           }
          },
          "com.linkedin.bc5a443581c9a4b8e93099b38a624e1a": {
           "baseType": "com.linkedin.voyager.dash.feed.SocialActivityCounts",
           "fields": {
            "entityUrn": {
             "type": "com.linkedin.voyager.dash.common.SocialActivityCountsUrn"
            }
           }
          },
          "com.linkedin.bcbeebb4db5a10659411ab15ca44f55a": {
           "baseType": "com.linkedin.voyager.dash.learning.LearningCourse",
           "fields": {
            "entityUrn": {
             "type": "com.linkedin.voyager.dash.common.LearningCourseUrn"
            },
            "title": {
             "type": "string"
            }
           }
          },
          "com.linkedin.c032efb3f96704e1ccdaafaf7d4d29df": {
           "baseType": "com.linkedin.voyager.dash.common.text.TextViewModel",
           "fields": {
            "accessibilityText": {
             "type": "string"
            },
            "accessibilityTextAttributesV2": {
             "type": {
              "array": "com.linkedin.fea4e140107d270370a138cb4ff8e272"
             }
            },
            "attributesV2": {
             "type": {
              "array": "com.linkedin.fea4e140107d270370a138cb4ff8e272"
             }
            },
            "text": {
             "type": "string"
            },
            "textDirection": {
             "type": "com.linkedin.voyager.dash.common.text.TextDirection"
            }
           }
          },
          "com.linkedin.cc156a934a261db0899734cd6a480911": {
           "baseType": "com.linkedin.voyager.dash.common.text.ListItemStyle",
           "fields": {
            "index": {
             "type": "int"
            },
            "type": {
             "type": "com.linkedin.voyager.dash.common.text.ListStyleType"
            }
           }
          },
          "com.linkedin.d34226ba14d7569363e729f024e5c36e": {
           "baseType": "com.linkedin.restli.common.CollectionResponse",
           "fields": {
            "elements": {
             "type": {
              "array": "com.linkedin.dab74ef19bdb8a4c518ddf2dca563c96"
             }
            },
            "metadata": {
             "type": "com.linkedin.72f9194816661062cb04c917354fa210"
            },
            "paging": {
             "type": "com.linkedin.b50259d37125aebe5a937a579bb67345"
            }
           }
          },
          "com.linkedin.dab74ef19bdb8a4c518ddf2dca563c96": {
           "baseType": "com.linkedin.voyager.dash.social.Reaction",
           "fields": {
            "actor": {
             "resolvedFrom": "actorUnion",
             "type": {
              "union": {
               "companyUrn": "com.linkedin.8f7ab3fcf458b406365003e4bf5b02b2",
               "profileUrn": "com.linkedin.4e40620a1546ec1ea7b74f1ac7db436e"
              }
             }
            },
            "actorUnion": {
             "type": {
              "union": {
               "companyUrn": "string",
               "profileUrn": "string"
              }
             }
            },
            "actorUrn": {
             "type": "com.linkedin.common.Urn"
            },
            "entityUrn": {
             "type": "com.linkedin.voyager.dash.common.ReactionUrn"
            },
            "followingState": {
             "type": "com.linkedin.3e367726b803588b70add554ed721f1e"
            },
            "preDashActorUrn": {
             "type": "com.linkedin.voyager.dash.common.PreDashUrn"
            },
            "preDashEntityUrn": {
             "type": "com.linkedin.voyager.dash.common.PreDashUrn"
            },
            "reactionType": {
             "type": "com.linkedin.voyager.dash.feed.social.ReactionType"
            },
            "reactorLockup": {
             "type": "com.linkedin.22e03a59aebea3440a4e02a98d83e7bd"
            }
           }
          },
          "com.linkedin.db9f75f34edce25202d7dfdd1fbfeccf": {
           "baseType": "com.linkedin.voyager.dash.events.ProfessionalEvent",
           "fields": {
            "entityUrn": {
             "type": "com.linkedin.voyager.dash.common.ProfessionalEventUrn"
            },
            "logoImage": {
             "type": {
              "union": {
               "url": "com.linkedin.common.Url",
               "vectorImage": "com.linkedin.05ad6e1019bd9c0c2f02aff5e281ea2a"
              }
             }
            },
            "logoImageResolutionResult": {
             "derivedFrom": "logoImage",
             "type": {
              "union": {
               "url": "com.linkedin.common.Url",
               "vectorImage": "com.linkedin.05ad6e1019bd9c0c2f02aff5e281ea2a"
              }
             }
            }
           }
          },
          "com.linkedin.df089b9d683fa734528ad3707694a3bc": {
           "baseType": "com.linkedin.common.VectorArtifact",
           "fields": {
            "expiresAt": {
             "type": "com.linkedin.common.Time"
            },
            "fileIdentifyingUrlPathSegment": {
             "type": "string"
            },
            "height": {
             "type": "int"
            },
            "width": {
             "type": "int"
            }
           }
          },
          "com.linkedin.e07b7124346d9e0db9a67d0e5d77c37a": {
           "baseType": "com.linkedin.voyager.dash.common.media.StickerLinkSmallTemplateView",
           "fields": {
            "image": {
             "derivedFrom": "imageUnion",
             "type": {
              "union": {
               "url": "com.linkedin.common.Url",
               "vectorImage": "com.linkedin.05ad6e1019bd9c0c2f02aff5e281ea2a"
              }
             }
            },
            "imageUnion": {
             "type": {
              "union": {
               "url": "com.linkedin.common.Url",
               "vectorImage": "com.linkedin.05ad6e1019bd9c0c2f02aff5e281ea2a"
              }
             }
            },
            "name": {
             "type": "com.linkedin.c032efb3f96704e1ccdaafaf7d4d29df"
            }
           }
          },
          "com.linkedin.f1c9040bf311931ed34cd3d6ccfffbbd": {
           "baseType": "com.linkedin.voyager.dash.groups.Group",
           "fields": {
            "entityUrn": {
             "type": "com.linkedin.voyager.dash.common.GroupUrn"
            },
            "logo": {
             "type": {
              "union": {
               "url": "com.linkedin.common.Url",
               "vectorImage": "com.linkedin.05ad6e1019bd9c0c2f02aff5e281ea2a"
              }
             }
            },
            "logoResolutionResult": {
             "derivedFrom": "logo",
             "type": {
              "union": {
               "url": "com.linkedin.common.Url",
               "vectorImage": "com.linkedin.05ad6e1019bd9c0c2f02aff5e281ea2a"
              }
             }
            },
            "name": {
             "type": "string"
            }
           }
          },
          "com.linkedin.fea4e140107d270370a138cb4ff8e272": {
           "baseType": "com.linkedin.voyager.dash.common.text.TextAttribute",
           "fields": {
            "detailData": {
             "resolvedFrom": "detailDataUnion",
             "type": {
              "union": {
               "color": "com.linkedin.voyager.dash.common.text.TextColor",
               "companyName": "com.linkedin.8f7ab3fcf458b406365003e4bf5b02b2",
               "epoch": "com.linkedin.54002c008546511447a16a771cca8f6b",
               "groupName": "com.linkedin.f1c9040bf311931ed34cd3d6ccfffbbd",
               "hashtag": "com.linkedin.07eff9c6a856b77c53f8eda1cdbe70d4",
               "hyperlink": "com.linkedin.common.Url",
               "hyperlinkOpenExternally": "com.linkedin.common.Url",
               "icon": "com.linkedin.voyager.dash.common.ArtDecoIconName",
               "jobPostingName": "com.linkedin.b4c9fdb45362a26d1223b4df8ba6fc24",
               "learningCourseName": "com.linkedin.bcbeebb4db5a10659411ab15ca44f55a",
               "listItemStyle": "com.linkedin.cc156a934a261db0899734cd6a480911",
               "listStyle": "com.linkedin.voyager.dash.common.text.ListStyleType",
               "profileFamiliarName": "com.linkedin.4e40620a1546ec1ea7b74f1ac7db436e",
               "profileFullName": "com.linkedin.4e40620a1546ec1ea7b74f1ac7db436e",
               "profileMention": "com.linkedin.4e40620a1546ec1ea7b74f1ac7db436e",
               "schoolName": "com.linkedin.76b3c37fa3c4de86fbe71902b24c2ffd",
               "stringFieldReference": "com.linkedin.3693ab96e43df75661ffa7d08c848856",
               "style": "com.linkedin.voyager.dash.common.text.TextStyle",
               "systemImage": "com.linkedin.voyager.dash.common.SystemImageName"
              }
             }
            },
            "detailDataUnion": {
             "type": {
              "union": {
               "color": "com.linkedin.voyager.dash.common.text.TextColor",
               "companyName": "string",
               "epoch": "com.linkedin.54002c008546511447a16a771cca8f6b",
               "groupName": "string",
               "hashtag": "string",
               "hyperlink": "com.linkedin.common.Url",
               "hyperlinkOpenExternally": "com.linkedin.common.Url",
               "icon": "com.linkedin.voyager.dash.common.ArtDecoIconName",
               "jobPostingName": "string",
               "learningCourseName": "string",
               "listItemStyle": "com.linkedin.cc156a934a261db0899734cd6a480911",
               "listStyle": "com.linkedin.voyager.dash.common.text.ListStyleType",
               "profileFamiliarName": "string",
               "profileFullName": "string",
               "profileMention": "string",
               "schoolName": "string",
               "stringFieldReference": "com.linkedin.3693ab96e43df75661ffa7d08c848856",
               "style": "com.linkedin.voyager.dash.common.text.TextStyle",
               "systemImage": "com.linkedin.voyager.dash.common.SystemImageName"
              }
             }
            },
            "length": {
             "type": "int"
            },
            "start": {
             "type": "int"
            }
           }
          }
         },
         "version": "2.1"
        }
       }
      },
      "text/plain": [
       "<IPython.core.display.JSON object>"
      ]
     },
     "metadata": {
      "application/json": {
       "expanded": true,
       "root": "root"
      }
     },
     "output_type": "display_data"
    },
    {
     "name": "stdout",
     "output_type": "stream",
     "text": [
      "--\n"
     ]
    }
   ],
   "source": [
    "ifs.flow(118).overview(response_content_expaned=True)"
   ]
  },
  {
   "cell_type": "code",
   "execution_count": null,
   "id": "ef765b97-b6f4-4a96-9ae7-52f4fb714229",
   "metadata": {
    "tags": []
   },
   "outputs": [],
   "source": []
  },
  {
   "cell_type": "code",
   "execution_count": 16,
   "id": "4a21a56d-2baf-44d5-97c3-c75e0f290113",
   "metadata": {
    "tags": []
   },
   "outputs": [
    {
     "name": "stdout",
     "output_type": "stream",
     "text": [
      "Line 444 matches for patterns ['charudatta']\n",
      "Line 445 matches for patterns ['charudatta']\n",
      "Line 447 matches for patterns ['charudatta']\n",
      "\n",
      "[ ]     0: {\"data\":{\"data\":{\"$recipetypes\":[\"com.linkedin.719d1a789b53d132eb666f89333b854a\"],\"socialdashreactionsbyreactiontype\":{\"metadata\":\n",
      "[ ]     1: {\"paginationtoken\":\"5a3ef127c24a1d78053bc817aced6ec5\",\"nextstartoffset\":null,\"socialactivitycounts\":null,\"$recipetypes\":[\"com.link\n",
      "[ ]     2: edin.72f9194816661062cb04c917354fa210\"],\"updatedreactiontypecounts\":[],\"$type\":\"com.linkedin.voyager.dash.social.reactionsmetadata\n",
      "[ ]     3: \"},\"paging\":{\"count\":10,\"start\":0,\"total\":16,\"$recipetypes\":[\"com.linkedin.b50259d37125aebe5a937a579bb67345\"],\"$type\":\"com.linkedi\n",
      "[ ]     4: n.restli.common.collectionmetadata\"},\"*elements\":[\"urn:li:fsd_reaction:(urn:li:fsd_profile:acoaaaok4v8bqg5igwf-c3bjv-\n",
      "[ ]     5: 6cpdjxxcdlbya,urn:li:activity:7054070071043710977,0)\",\"urn:li:fsd_reaction:(urn:li:fsd_profile:acoaaanih2mbaysw1_me4wzxviz36igt_bp\n",
      "[ ]     6: blts,urn:li:activity:7054070071043710977,0)\",\"urn:li:fsd_reaction:(urn:li:fsd_profile:acoaaatit2mbjin3cbzrj1sptdvmhrdwt9e3phi,urn:\n",
      "[ ]     7: li:activity:7054070071043710977,0)\",\"urn:li:fsd_reaction:(urn:li:fsd_company:71507933,urn:li:activity:7054070071043710977,0)\",\"urn\n",
      "[ ]     8: :li:fsd_reaction:(urn:li:fsd_company:405958,urn:li:activity:7054070071043710977,0)\",\"urn:li:fsd_reaction:(urn:li:fsd_profile:acoaa\n",
      "[ ]     9: btkdrgb7h-\n",
      "[ ]    10: efjpevsbgc8cnpj6si1oriwe,urn:li:activity:7054070071043710977,0)\",\"urn:li:fsd_reaction:(urn:li:fsd_profile:acoaabg6mn0b8c5ttljg05ko\n",
      "[ ]    11: cmf0ljgmxh9c5by,urn:li:activity:7054070071043710977,0)\",\"urn:li:fsd_reaction:(urn:li:fsd_profile:acoaabwrgbkb0udggk1lqnsb3w-\n",
      "[ ]    12: 2bpzkg1_mn7k,urn:li:activity:7054070071043710977,0)\",\"urn:li:fsd_reaction:(urn:li:fsd_profile:acoaaae-ihebqkhk7c7f2cyl8ajmpc8hzlmm\n",
      "[ ]    13: bx8,urn:li:activity:7054070071043710977,0)\",\"urn:li:fsd_reaction:(urn:li:fsd_profile:acoaaaus9swbw3ignnir2487bqzslskmk65zqpy,urn:l\n",
      "[ ]    14: i:activity:7054070071043710977,0)\"],\"$recipetypes\":[\"com.linkedin.d34226ba14d7569363e729f024e5c36e\"],\"$type\":\"com.linkedin.restli.\n",
      "[ ]    15: common.collectionresponse\"},\"$type\":\"com.linkedin.719d1a789b53d132eb666f89333b854a\"},\"extensions\":{\"webmetadata\":{}}},\"meta\":{\"mic\n",
      "[ ]    16: roschema\":{\"isgraphql\":true,\"version\":\"2.1\",\"types\":{\"com.linkedin.9068368318c57ab44cc7013ddbf007e1\":{\"fields\":{\"professionalevent\n",
      "[ ]    17: \":{\"resolvedfrom\":\"professionaleventurn\",\"type\":\"com.linkedin.db9f75f34edce25202d7dfdd1fbfeccf\"},\"vectorimage\":{\"type\":\"com.linked\n",
      "[ ]    18: in.05ad6e1019bd9c0c2f02aff5e281ea2a\"},\"professionaleventurn\":{\"type\":\"string\"}},\"basetype\":\"com.linkedin.voyager.dash.common.image\n",
      "[ ]    19: .nonentityprofessionaleventlogo\"},\"com.linkedin.3693ab96e43df75661ffa7d08c848856\":{\"fields\":{\"urn\":{\"type\":\"com.linkedin.common.ur\n",
      "[ ]    20: n\"},\"modelname\":{\"type\":\"string\"},\"fieldname\":{\"type\":\"string\"},\"value\":{\"type\":\"string\"}},\"basetype\":\"com.linkedin.voyager.dash.c\n",
      "[ ]    21: ommon.stringfieldreference\"},\"com.linkedin.d34226ba14d7569363e729f024e5c36e\":{\"fields\":{\"paging\":{\"type\":\"com.linkedin.b50259d3712\n",
      "[ ]    22: 5aebe5a937a579bb67345\"},\"metadata\":{\"type\":\"com.linkedin.72f9194816661062cb04c917354fa210\"},\"elements\":{\"type\":{\"array\":\"com.linke\n",
      "[ ]    23: din.dab74ef19bdb8a4c518ddf2dca563c96\"}}},\"basetype\":\"com.linkedin.restli.common.collectionresponse\"},\"com.linkedin.22e03a59aebea34\n",
      "[ ]    24: 40a4e02a98d83e7bd\":{\"fields\":{\"image\":{\"type\":\"com.linkedin.9bf954b551982091ba62c4d2fe807451\"},\"label\":{\"type\":\"com.linkedin.c032e\n",
      "[ ]    25: fb3f96704e1ccdaafaf7d4d29df\"},\"navigationurl\":{\"type\":\"com.linkedin.common.url\"},\"title\":{\"type\":\"com.linkedin.c032efb3f96704e1ccd\n",
      "[ ]    26: aafaf7d4d29df\"},\"accessibilitytext\":{\"type\":\"string\"},\"subtitle\":{\"type\":\"com.linkedin.c032efb3f96704e1ccdaafaf7d4d29df\"}},\"basety\n",
      "[ ]    27: pe\":\"com.linkedin.voyager.dash.common.ux.entitylockupviewmodel\"},\"com.linkedin.b50259d37125aebe5a937a579bb67345\":{\"fields\":{\"start\n",
      "[ ]    28: \":{\"type\":\"int\"},\"count\":{\"type\":\"int\"},\"total\":{\"type\":\"int\"}},\"basetype\":\"com.linkedin.restli.common.collectionmetadata\"},\"com.l\n",
      "[ ]    29: inkedin.76b3c37fa3c4de86fbe71902b24c2ffd\":{\"fields\":{\"name\":{\"type\":\"string\"},\"logo\":{\"type\":{\"union\":{\"url\":\"com.linkedin.common.\n",
      "[ ]    30: url\",\"vectorimage\":\"com.linkedin.05ad6e1019bd9c0c2f02aff5e281ea2a\"}}},\"logoresolutionresult\":{\"derivedfrom\":\"logo\",\"type\":{\"union\"\n",
      "[ ]    31: :{\"url\":\"com.linkedin.common.url\",\"vectorimage\":\"com.linkedin.05ad6e1019bd9c0c2f02aff5e281ea2a\"}}},\"entityurn\":{\"type\":\"com.linked\n",
      "[ ]    32: in.voyager.dash.common.schoolurn\"}},\"basetype\":\"com.linkedin.voyager.dash.organization.school\"},\"com.linkedin.4e40620a1546ec1ea7b7\n",
      "[ ]    33: 4f1ac7db436e\":{\"fields\":{\"profilepicture\":{\"type\":\"com.linkedin.95ee6262e2e99e1e02206cc342278924\"},\"lastname\":{\"type\":\"string\"},\"f\n",
      "[ ]    34: irstname\":{\"type\":\"string\"},\"entityurn\":{\"type\":\"com.linkedin.voyager.dash.common.profileurn\"}},\"basetype\":\"com.linkedin.voyager.d\n",
      "[ ]    35: ash.identity.profile.profile\"},\"com.linkedin.b46afcc0ec7218fd38177b0786887563\":{\"fields\":{\"groupurn\":{\"type\":\"string\"},\"vectorimag\n",
      "[ ]    36: e\":{\"type\":\"com.linkedin.05ad6e1019bd9c0c2f02aff5e281ea2a\"},\"group\":{\"resolvedfrom\":\"groupurn\",\"type\":\"com.linkedin.f1c9040bf31193\n",
      "[ ]    37: 1ed34cd3d6ccfffbbd\"}},\"basetype\":\"com.linkedin.voyager.dash.common.image.nonentitygrouplogo\"},\"com.linkedin.917c91ffd9f5ac22aebeda\n",
      "[ ]    38: 80857aedb9\":{\"fields\":{\"school\":{\"resolvedfrom\":\"schoolurn\",\"type\":\"com.linkedin.76b3c37fa3c4de86fbe71902b24c2ffd\"},\"vectorimage\":\n",
      "[ ]    39: {\"type\":\"com.linkedin.05ad6e1019bd9c0c2f02aff5e281ea2a\"},\"schoolurn\":{\"type\":\"string\"}},\"basetype\":\"com.linkedin.voyager.dash.comm\n",
      "[ ]    40: on.image.nonentityschoollogo\"},\"com.linkedin.07eff9c6a856b77c53f8eda1cdbe70d4\":{\"fields\":{\"entityurn\":{\"type\":\"com.linkedin.voyage\n",
      "[ ]    41: r.dash.common.hashtagurn\"},\"trackingurn\":{\"type\":\"com.linkedin.common.urn\"},\"actiontarget\":{\"type\":\"com.linkedin.common.url\"}},\"ba\n",
      "[ ]    42: setype\":\"com.linkedin.voyager.dash.feed.hashtag\"},\"com.linkedin.e07b7124346d9e0db9a67d0e5d77c37a\":{\"fields\":{\"name\":{\"type\":\"com.l\n",
      "[ ]    43: inkedin.c032efb3f96704e1ccdaafaf7d4d29df\"},\"imageunion\":{\"type\":{\"union\":{\"url\":\"com.linkedin.common.url\",\"vectorimage\":\"com.linke\n",
      "[ ]    44: din.05ad6e1019bd9c0c2f02aff5e281ea2a\"}}},\"image\":{\"derivedfrom\":\"imageunion\",\"type\":{\"union\":{\"url\":\"com.linkedin.common.url\",\"vec\n",
      "[ ]    45: torimage\":\"com.linkedin.05ad6e1019bd9c0c2f02aff5e281ea2a\"}}}},\"basetype\":\"com.linkedin.voyager.dash.common.media.stickerlinksmallt\n",
      "[ ]    46: emplateview\"},\"com.linkedin.72f9194816661062cb04c917354fa210\":{\"fields\":{\"nextstartoffset\":{\"type\":\"long\"},\"paginationtoken\":{\"typ\n",
      "[ ]    47: e\":\"string\"},\"socialactivitycounts\":{\"resolvedfrom\":\"socialactivitycountsurn\",\"type\":\"com.linkedin.bc5a443581c9a4b8e93099b38a624e1\n",
      "[ ]    48: a\"},\"socialactivitycountsurn\":{\"type\":\"string\"},\"updatedreactiontypecounts\":{\"type\":{\"array\":\"com.linkedin.1a57807c65335d86daac72b\n",
      "[ ]    49: e136b5b0e\"}}},\"basetype\":\"com.linkedin.voyager.dash.social.reactionsmetadata\"},\"com.linkedin.95ee6262e2e99e1e02206cc342278924\":{\"f\n",
      "[ ]    50: ields\":{\"displayimagewithframereferenceunion\":{\"type\":{\"union\":{\"url\":\"com.linkedin.common.url\",\"vectorimage\":\"com.linkedin.05ad6e\n",
      "[ ]    51: 1019bd9c0c2f02aff5e281ea2a\"}}},\"displayimagereferenceresolutionresult\":{\"derivedfrom\":\"displayimagereference\",\"type\":{\"union\":{\"ur\n",
      "[ ]    52: l\":\"com.linkedin.common.url\",\"vectorimage\":\"com.linkedin.05ad6e1019bd9c0c2f02aff5e281ea2a\"}}},\"displayimagewithframereference\":{\"d\n",
      "[ ]    53: erivedfrom\":\"displayimagewithframereferenceunion\",\"type\":{\"union\":{\"url\":\"com.linkedin.common.url\",\"vectorimage\":\"com.linkedin.05a\n",
      "[ ]    54: d6e1019bd9c0c2f02aff5e281ea2a\"}}},\"displayimagereference\":{\"type\":{\"union\":{\"url\":\"com.linkedin.common.url\",\"vectorimage\":\"com.lin\n",
      "[ ]    55: kedin.05ad6e1019bd9c0c2f02aff5e281ea2a\"}}},\"displayimageurn\":{\"type\":\"com.linkedin.common.urn\"}},\"basetype\":\"com.linkedin.voyager.\n",
      "[ ]    56: dash.identity.profile.photofilterpicture\"},\"com.linkedin.52e2b1e28bdce85d1d5012ccc85ff5f6\":{\"fields\":{\"stickerlinkviewunion\":{\"typ\n",
      "[ ]    57: e\":{\"union\":{\"mediumtemplate\":\"com.linkedin.4f3ba7ecaaf7d604ff732c55336a65bf\",\"largetemplate\":\"com.linkedin.4c71f2cf0cab64ad969ec4\n",
      "[ ]    58: baf4b0e355\",\"smalltemplate\":\"com.linkedin.e07b7124346d9e0db9a67d0e5d77c37a\"}}},\"stickerlinktemplatesize\":{\"type\":\"com.linkedin.voy\n",
      "[ ]    59: ager.dash.common.media.stickerlinktemplatesize\"},\"firstcornerxoffsetpercentage\":{\"type\":\"float\"},\"type\":{\"type\":\"com.linkedin.voya\n",
      "[ ]    60: ger.dash.common.taptargetattributetype\"},\"thirdcorneryoffsetpercentage\":{\"type\":\"float\"},\"url\":{\"type\":\"com.linkedin.common.url\"},\n",
      "[ ]    61: \"stickerlinkview\":{\"derivedfrom\":\"stickerlinkviewunion\",\"type\":{\"union\":{\"mediumtemplate\":\"com.linkedin.4f3ba7ecaaf7d604ff732c5533\n",
      "[ ]    62: 6a65bf\",\"largetemplate\":\"com.linkedin.4c71f2cf0cab64ad969ec4baf4b0e355\",\"smalltemplate\":\"com.linkedin.e07b7124346d9e0db9a67d0e5d77\n",
      "[ ]    63: c37a\"}}},\"urn\":{\"type\":\"com.linkedin.common.urn\"},\"thirdcornerxoffsetpercentage\":{\"type\":\"float\"},\"secondcorneryoffsetpercentage\":\n",
      "[ ]    64: {\"type\":\"float\"},\"fourthcornerxoffsetpercentage\":{\"type\":\"float\"},\"firstcorneryoffsetpercentage\":{\"type\":\"float\"},\"untaggable\":{\"t\n",
      "[ ]    65: ype\":\"boolean\"},\"rank\":{\"type\":\"int\"},\"fourthcorneryoffsetpercentage\":{\"type\":\"float\"},\"text\":{\"type\":\"string\"},\"secondcornerxoffs\n",
      "[ ]    66: etpercentage\":{\"type\":\"float\"}},\"basetype\":\"com.linkedin.voyager.dash.common.taptarget\"},\"com.linkedin.dab74ef19bdb8a4c518ddf2dca5\n",
      "[ ]    67: 63c96\":{\"fields\":{\"actor\":{\"resolvedfrom\":\"actorunion\",\"type\":{\"union\":{\"companyurn\":\"com.linkedin.8f7ab3fcf458b406365003e4bf5b02b\n",
      "[ ]    68: 2\",\"profileurn\":\"com.linkedin.4e40620a1546ec1ea7b74f1ac7db436e\"}}},\"actorurn\":{\"type\":\"com.linkedin.common.urn\"},\"reactiontype\":{\"\n",
      "[ ]    69: type\":\"com.linkedin.voyager.dash.feed.social.reactiontype\"},\"entityurn\":{\"type\":\"com.linkedin.voyager.dash.common.reactionurn\"},\"f\n",
      "[ ]    70: ollowingstate\":{\"type\":\"com.linkedin.3e367726b803588b70add554ed721f1e\"},\"actorunion\":{\"type\":{\"union\":{\"companyurn\":\"string\",\"prof\n",
      "[ ]    71: ileurn\":\"string\"}}},\"reactorlockup\":{\"type\":\"com.linkedin.22e03a59aebea3440a4e02a98d83e7bd\"},\"predashentityurn\":{\"type\":\"com.linke\n",
      "[ ]    72: din.voyager.dash.common.predashurn\"},\"predashactorurn\":{\"type\":\"com.linkedin.voyager.dash.common.predashurn\"}},\"basetype\":\"com.lin\n",
      "[ ]    73: kedin.voyager.dash.social.reaction\"},\"com.linkedin.db9f75f34edce25202d7dfdd1fbfeccf\":{\"fields\":{\"logoimage\":{\"type\":{\"union\":{\"url\n",
      "[ ]    74: \":\"com.linkedin.common.url\",\"vectorimage\":\"com.linkedin.05ad6e1019bd9c0c2f02aff5e281ea2a\"}}},\"logoimageresolutionresult\":{\"derived\n",
      "[ ]    75: from\":\"logoimage\",\"type\":{\"union\":{\"url\":\"com.linkedin.common.url\",\"vectorimage\":\"com.linkedin.05ad6e1019bd9c0c2f02aff5e281ea2a\"}}\n",
      "[ ]    76: },\"entityurn\":{\"type\":\"com.linkedin.voyager.dash.common.professionaleventurn\"}},\"basetype\":\"com.linkedin.voyager.dash.events.profe\n",
      "[ ]    77: ssionalevent\"},\"com.linkedin.a23e234b8757a3751dc828ab6851763f\":{\"fields\":{\"originalimageurl\":{\"type\":\"com.linkedin.common.url\"},\"o\n",
      "[ ]    78: riginalheight\":{\"type\":\"int\"},\"originalwidth\":{\"type\":\"int\"},\"url\":{\"type\":\"com.linkedin.common.url\"}},\"basetype\":\"com.linkedin.vo\n",
      "[ ]    79: yager.dash.common.imageurl\"},\"com.linkedin.b4c9fdb45362a26d1223b4df8ba6fc24\":{\"fields\":{\"title\":{\"type\":\"string\"},\"entityurn\":{\"ty\n",
      "[ ]    80: pe\":\"com.linkedin.voyager.dash.common.jobpostingurn\"}},\"basetype\":\"com.linkedin.voyager.dash.jobs.jobposting\"},\"com.linkedin.cc156\n",
      "[ ]    81: a934a261db0899734cd6a480911\":{\"fields\":{\"type\":{\"type\":\"com.linkedin.voyager.dash.common.text.liststyletype\"},\"index\":{\"type\":\"int\n",
      "[ ]    82: \"}},\"basetype\":\"com.linkedin.voyager.dash.common.text.listitemstyle\"},\"com.linkedin.fea4e140107d270370a138cb4ff8e272\":{\"fields\":{\"\n",
      "[ ]    83: detaildata\":{\"resolvedfrom\":\"detaildataunion\",\"type\":{\"union\":{\"jobpostingname\":\"com.linkedin.b4c9fdb45362a26d1223b4df8ba6fc24\",\"p\n",
      "[ ]    84: rofilefamiliarname\":\"com.linkedin.4e40620a1546ec1ea7b74f1ac7db436e\",\"hyperlink\":\"com.linkedin.common.url\",\"color\":\"com.linkedin.vo\n",
      "[ ]    85: yager.dash.common.text.textcolor\",\"companyname\":\"com.linkedin.8f7ab3fcf458b406365003e4bf5b02b2\",\"icon\":\"com.linkedin.voyager.dash.\n",
      "[ ]    86: common.artdecoiconname\",\"epoch\":\"com.linkedin.54002c008546511447a16a771cca8f6b\",\"systemimage\":\"com.linkedin.voyager.dash.common.sy\n",
      "[ ]    87: stemimagename\",\"listitemstyle\":\"com.linkedin.cc156a934a261db0899734cd6a480911\",\"liststyle\":\"com.linkedin.voyager.dash.common.text.\n",
      "[ ]    88: liststyletype\",\"groupname\":\"com.linkedin.f1c9040bf311931ed34cd3d6ccfffbbd\",\"hyperlinkopenexternally\":\"com.linkedin.common.url\",\"st\n",
      "[ ]    89: ringfieldreference\":\"com.linkedin.3693ab96e43df75661ffa7d08c848856\",\"profilefullname\":\"com.linkedin.4e40620a1546ec1ea7b74f1ac7db43\n",
      "[ ]    90: 6e\",\"learningcoursename\":\"com.linkedin.bcbeebb4db5a10659411ab15ca44f55a\",\"profilemention\":\"com.linkedin.4e40620a1546ec1ea7b74f1ac7\n",
      "[ ]    91: db436e\",\"style\":\"com.linkedin.voyager.dash.common.text.textstyle\",\"schoolname\":\"com.linkedin.76b3c37fa3c4de86fbe71902b24c2ffd\",\"ha\n",
      "[ ]    92: shtag\":\"com.linkedin.07eff9c6a856b77c53f8eda1cdbe70d4\"}}},\"length\":{\"type\":\"int\"},\"start\":{\"type\":\"int\"},\"detaildataunion\":{\"type\"\n",
      "[ ]    93: :{\"union\":{\"jobpostingname\":\"string\",\"profilefamiliarname\":\"string\",\"hyperlink\":\"com.linkedin.common.url\",\"color\":\"com.linkedin.vo\n",
      "[ ]    94: yager.dash.common.text.textcolor\",\"companyname\":\"string\",\"icon\":\"com.linkedin.voyager.dash.common.artdecoiconname\",\"epoch\":\"com.li\n",
      "[ ]    95: nkedin.54002c008546511447a16a771cca8f6b\",\"systemimage\":\"com.linkedin.voyager.dash.common.systemimagename\",\"listitemstyle\":\"com.lin\n",
      "[ ]    96: kedin.cc156a934a261db0899734cd6a480911\",\"liststyle\":\"com.linkedin.voyager.dash.common.text.liststyletype\",\"groupname\":\"string\",\"hy\n",
      "[ ]    97: perlinkopenexternally\":\"com.linkedin.common.url\",\"stringfieldreference\":\"com.linkedin.3693ab96e43df75661ffa7d08c848856\",\"profilefu\n",
      "[ ]    98: llname\":\"string\",\"learningcoursename\":\"string\",\"profilemention\":\"string\",\"style\":\"com.linkedin.voyager.dash.common.text.textstyle\"\n",
      "[ ]    99: ,\"schoolname\":\"string\",\"hashtag\":\"string\"}}}},\"basetype\":\"com.linkedin.voyager.dash.common.text.textattribute\"},\"com.linkedin.4f3b\n",
      "[ ]   100: a7ecaaf7d604ff732c55336a65bf\":{\"fields\":{\"name\":{\"type\":\"com.linkedin.c032efb3f96704e1ccdaafaf7d4d29df\"},\"image\":{\"derivedfrom\":\"i\n",
      "[ ]   101: mageunion\",\"type\":{\"union\":{\"url\":\"com.linkedin.common.url\",\"vectorimage\":\"com.linkedin.05ad6e1019bd9c0c2f02aff5e281ea2a\"}}},\"name\n",
      "[ ]   102: supplementaryinfo\":{\"type\":\"com.linkedin.c032efb3f96704e1ccdaafaf7d4d29df\"},\"headline\":{\"type\":\"com.linkedin.c032efb3f96704e1ccdaa\n",
      "[ ]   103: faf7d4d29df\"},\"imageunion\":{\"type\":{\"union\":{\"url\":\"com.linkedin.common.url\",\"vectorimage\":\"com.linkedin.05ad6e1019bd9c0c2f02aff5e\n",
      "[ ]   104: 281ea2a\"}}},\"subheadline\":{\"type\":\"com.linkedin.c032efb3f96704e1ccdaafaf7d4d29df\"}},\"basetype\":\"com.linkedin.voyager.dash.common.m\n",
      "[ ]   105: edia.stickerlinkmediumtemplateview\"},\"com.linkedin.df089b9d683fa734528ad3707694a3bc\":{\"fields\":{\"width\":{\"type\":\"int\"},\"fileidenti\n",
      "[ ]   106: fyingurlpathsegment\":{\"type\":\"string\"},\"expiresat\":{\"type\":\"com.linkedin.common.time\"},\"height\":{\"type\":\"int\"}},\"basetype\":\"com.li\n",
      "[ ]   107: nkedin.common.vectorartifact\"},\"com.linkedin.c032efb3f96704e1ccdaafaf7d4d29df\":{\"fields\":{\"textdirection\":{\"type\":\"com.linkedin.vo\n",
      "[ ]   108: yager.dash.common.text.textdirection\"},\"attributesv2\":{\"type\":{\"array\":\"com.linkedin.fea4e140107d270370a138cb4ff8e272\"}},\"text\":{\"\n",
      "[ ]   109: type\":\"string\"},\"accessibilitytextattributesv2\":{\"type\":{\"array\":\"com.linkedin.fea4e140107d270370a138cb4ff8e272\"}},\"accessibilityt\n",
      "[ ]   110: ext\":{\"type\":\"string\"}},\"basetype\":\"com.linkedin.voyager.dash.common.text.textviewmodel\"},\"com.linkedin.54002c008546511447a16a771c\n",
      "[ ]   111: ca8f6b\":{\"fields\":{\"type\":{\"type\":\"com.linkedin.voyager.dash.common.text.epochformat\"},\"epochat\":{\"type\":\"com.linkedin.common.time\n",
      "[ ]   112: \"}},\"basetype\":\"com.linkedin.voyager.dash.common.text.epochtime\"},\"com.linkedin.719d1a789b53d132eb666f89333b854a\":{\"fields\":{\"soci\n",
      "[ ]   113: aldashreactionsbyreactiontype\":{\"type\":\"com.linkedin.d34226ba14d7569363e729f024e5c36e\"}},\"basetype\":\"com.linkedin.graphql.query\"},\n",
      "[ ]   114: \"com.linkedin.b57b9f6e942a4d58515eb1c80578fea1\":{\"fields\":{\"detaildata\":{\"resolvedfrom\":\"detaildataunion\",\"type\":{\"union\":{\"profil\n",
      "[ ]   115: epicturewithoutframe\":\"com.linkedin.4e40620a1546ec1ea7b74f1ac7db436e\",\"profilepicturewithringstatus\":\"com.linkedin.4e40620a1546ec1\n",
      "[ ]   116: ea7b74f1ac7db436e\",\"companylogo\":\"com.linkedin.8f7ab3fcf458b406365003e4bf5b02b2\",\"icon\":\"com.linkedin.voyager.dash.common.artdecoi\n",
      "[ ]   117: conname\",\"systemimage\":\"com.linkedin.voyager.dash.common.systemimagename\",\"nonentitygrouplogo\":\"com.linkedin.b46afcc0ec7218fd38177\n",
      "[ ]   118: b0786887563\",\"vectorimage\":\"com.linkedin.05ad6e1019bd9c0c2f02aff5e281ea2a\",\"nonentityprofessionaleventlogo\":\"com.linkedin.90683683\n",
      "[ ]   119: 18c57ab44cc7013ddbf007e1\",\"profilepicture\":\"com.linkedin.4e40620a1546ec1ea7b74f1ac7db436e\",\"imageurl\":\"com.linkedin.a23e234b8757a3\n",
      "[ ]   120: 751dc828ab6851763f\",\"professionaleventlogo\":\"com.linkedin.db9f75f34edce25202d7dfdd1fbfeccf\",\"nonentityschoollogo\":\"com.linkedin.91\n",
      "[ ]   121: 7c91ffd9f5ac22aebeda80857aedb9\",\"nonentitycompanylogo\":\"com.linkedin.355b4fee2ae4ec6efb141bd500fab7bb\",\"schoollogo\":\"com.linkedin.\n",
      "[ ]   122: 76b3c37fa3c4de86fbe71902b24c2ffd\",\"grouplogo\":\"com.linkedin.f1c9040bf311931ed34cd3d6ccfffbbd\",\"ghostimage\":\"com.linkedin.voyager.d\n",
      "[ ]   123: ash.common.image.ghostimagetype\",\"nonentityprofilepicture\":\"com.linkedin.b540c4989c7c02783bcb663819ab095e\"}}},\"tintcolor\":{\"type\":\n",
      "[ ]   124: \"com.linkedin.voyager.dash.common.systemimagetintcolor\"},\"detaildataunion\":{\"type\":{\"union\":{\"profilepicturewithoutframe\":\"string\"\n",
      "[ ]   125: ,\"profilepicturewithringstatus\":\"string\",\"companylogo\":\"string\",\"icon\":\"com.linkedin.voyager.dash.common.artdecoiconname\",\"systemi\n",
      "[ ]   126: mage\":\"com.linkedin.voyager.dash.common.systemimagename\",\"nonentitygrouplogo\":\"com.linkedin.b46afcc0ec7218fd38177b0786887563\",\"vec\n",
      "[ ]   127: torimage\":\"com.linkedin.05ad6e1019bd9c0c2f02aff5e281ea2a\",\"nonentityprofessionaleventlogo\":\"com.linkedin.9068368318c57ab44cc7013dd\n",
      "[ ]   128: bf007e1\",\"profilepicture\":\"string\",\"imageurl\":\"com.linkedin.a23e234b8757a3751dc828ab6851763f\",\"professionaleventlogo\":\"string\",\"no\n",
      "[ ]   129: nentityschoollogo\":\"com.linkedin.917c91ffd9f5ac22aebeda80857aedb9\",\"nonentitycompanylogo\":\"com.linkedin.355b4fee2ae4ec6efb141bd500\n",
      "[ ]   130: fab7bb\",\"schoollogo\":\"string\",\"grouplogo\":\"string\",\"ghostimage\":\"com.linkedin.voyager.dash.common.image.ghostimagetype\",\"nonentity\n",
      "[ ]   131: profilepicture\":\"com.linkedin.b540c4989c7c02783bcb663819ab095e\"}}},\"taptargets\":{\"type\":{\"array\":\"com.linkedin.52e2b1e28bdce85d1d5\n",
      "[ ]   132: 012ccc85ff5f6\"}},\"scalingtype\":{\"type\":\"com.linkedin.voyager.dash.common.image.scalingtype\"},\"displayaspectratio\":{\"type\":\"double\"\n",
      "[ ]   133: }},\"basetype\":\"com.linkedin.voyager.dash.common.image.imageattribute\"},\"com.linkedin.f1c9040bf311931ed34cd3d6ccfffbbd\":{\"fields\":{\n",
      "[ ]   134: \"name\":{\"type\":\"string\"},\"logo\":{\"type\":{\"union\":{\"url\":\"com.linkedin.common.url\",\"vectorimage\":\"com.linkedin.05ad6e1019bd9c0c2f02\n",
      "[ ]   135: aff5e281ea2a\"}}},\"logoresolutionresult\":{\"derivedfrom\":\"logo\",\"type\":{\"union\":{\"url\":\"com.linkedin.common.url\",\"vectorimage\":\"com.\n",
      "[ ]   136: linkedin.05ad6e1019bd9c0c2f02aff5e281ea2a\"}}},\"entityurn\":{\"type\":\"com.linkedin.voyager.dash.common.groupurn\"}},\"basetype\":\"com.li\n",
      "[ ]   137: nkedin.voyager.dash.groups.group\"},\"com.linkedin.9bf954b551982091ba62c4d2fe807451\":{\"fields\":{\"attributes\":{\"type\":{\"array\":\"com.l\n",
      "[ ]   138: inkedin.b57b9f6e942a4d58515eb1c80578fea1\"}},\"actiontarget\":{\"type\":\"com.linkedin.common.url\"},\"accessibilitytextattributes\":{\"type\n",
      "[ ]   139: \":{\"array\":\"com.linkedin.fea4e140107d270370a138cb4ff8e272\"}},\"totalcount\":{\"type\":\"int\"},\"accessibilitytext\":{\"type\":\"string\"}},\"b\n",
      "[ ]   140: asetype\":\"com.linkedin.voyager.dash.common.image.imageviewmodel\"},\"com.linkedin.bcbeebb4db5a10659411ab15ca44f55a\":{\"fields\":{\"titl\n",
      "[ ]   141: e\":{\"type\":\"string\"},\"entityurn\":{\"type\":\"com.linkedin.voyager.dash.common.learningcourseurn\"}},\"basetype\":\"com.linkedin.voyager.d\n",
      "[ ]   142: ash.learning.learningcourse\"},\"com.linkedin.05ad6e1019bd9c0c2f02aff5e281ea2a\":{\"fields\":{\"attribution\":{\"type\":\"string\"},\"digitalm\n",
      "[ ]   143: ediaasset\":{\"type\":\"com.linkedin.common.digitalmediaasseturn\"},\"rooturl\":{\"type\":\"string\"},\"artifacts\":{\"type\":{\"array\":\"com.linke\n",
      "[ ]   144: din.df089b9d683fa734528ad3707694a3bc\"}}},\"basetype\":\"com.linkedin.common.vectorimage\"},\"com.linkedin.355b4fee2ae4ec6efb141bd500fab\n",
      "[ ]   145: 7bb\":{\"fields\":{\"companyurn\":{\"type\":\"string\"},\"company\":{\"resolvedfrom\":\"companyurn\",\"type\":\"com.linkedin.8f7ab3fcf458b406365003e\n",
      "[ ]   146: 4bf5b02b2\"},\"vectorimage\":{\"type\":\"com.linkedin.05ad6e1019bd9c0c2f02aff5e281ea2a\"}},\"basetype\":\"com.linkedin.voyager.dash.common.i\n",
      "[ ]   147: mage.nonentitycompanylogo\"},\"com.linkedin.3e367726b803588b70add554ed721f1e\":{\"fields\":{\"followingtype\":{\"type\":\"com.linkedin.voyag\n",
      "[ ]   148: er.dash.feed.followingtype\"},\"entityurn\":{\"type\":\"com.linkedin.voyager.dash.common.followingstateurn\"},\"predashfollowinginfourn\":{\n",
      "[ ]   149: \"type\":\"com.linkedin.voyager.dash.common.predashurn\"},\"following\":{\"type\":\"boolean\"}},\"basetype\":\"com.linkedin.voyager.dash.feed.f\n",
      "[ ]   150: ollowingstate\"},\"com.linkedin.4c71f2cf0cab64ad969ec4baf4b0e355\":{\"fields\":{\"image\":{\"derivedfrom\":\"imageunion\",\"type\":{\"union\":{\"u\n",
      "[ ]   151: rl\":\"com.linkedin.common.url\",\"vectorimage\":\"com.linkedin.05ad6e1019bd9c0c2f02aff5e281ea2a\"}}},\"namesupplementaryinfo\":{\"type\":\"co\n",
      "[ ]   152: m.linkedin.c032efb3f96704e1ccdaafaf7d4d29df\"},\"footertext\":{\"type\":\"com.linkedin.c032efb3f96704e1ccdaafaf7d4d29df\"},\"imageunion\":{\n",
      "[ ]   153: \"type\":{\"union\":{\"url\":\"com.linkedin.common.url\",\"vectorimage\":\"com.linkedin.05ad6e1019bd9c0c2f02aff5e281ea2a\"}}},\"backgroundimage\n",
      "[ ]   154: \":{\"derivedfrom\":\"backgroundimageunion\",\"type\":{\"union\":{\"url\":\"com.linkedin.common.url\",\"vectorimage\":\"com.linkedin.05ad6e1019bd9\n",
      "[ ]   155: c0c2f02aff5e281ea2a\"}}},\"subheadline\":{\"type\":\"com.linkedin.c032efb3f96704e1ccdaafaf7d4d29df\"},\"name\":{\"type\":\"com.linkedin.c032ef\n",
      "[ ]   156: b3f96704e1ccdaafaf7d4d29df\"},\"insighttext\":{\"type\":\"com.linkedin.c032efb3f96704e1ccdaafaf7d4d29df\"},\"headline\":{\"type\":\"com.linked\n",
      "[ ]   157: in.c032efb3f96704e1ccdaafaf7d4d29df\"},\"backgroundimageunion\":{\"type\":{\"union\":{\"url\":\"com.linkedin.common.url\",\"vectorimage\":\"com.\n",
      "[ ]   158: linkedin.05ad6e1019bd9c0c2f02aff5e281ea2a\"}}}},\"basetype\":\"com.linkedin.voyager.dash.common.media.stickerlinklargetemplateview\"},\"\n",
      "[ ]   159: com.linkedin.bc5a443581c9a4b8e93099b38a624e1a\":{\"fields\":{\"entityurn\":{\"type\":\"com.linkedin.voyager.dash.common.socialactivitycoun\n",
      "[ ]   160: tsurn\"}},\"basetype\":\"com.linkedin.voyager.dash.feed.socialactivitycounts\"},\"com.linkedin.1a57807c65335d86daac72be136b5b0e\":{\"field\n",
      "[ ]   161: s\":{\"reactiontype\":{\"type\":\"com.linkedin.voyager.dash.feed.social.reactiontype\"},\"count\":{\"type\":\"long\"}},\"basetype\":\"com.linkedin\n",
      "[ ]   162: .voyager.dash.feed.social.reactiontypecount\"},\"com.linkedin.8f7ab3fcf458b406365003e4bf5b02b2\":{\"fields\":{\"name\":{\"type\":\"string\"},\n",
      "[ ]   163: \"logo\":{\"type\":{\"union\":{\"url\":\"com.linkedin.common.url\",\"vectorimage\":\"com.linkedin.05ad6e1019bd9c0c2f02aff5e281ea2a\"}}},\"logores\n",
      "[ ]   164: olutionresult\":{\"derivedfrom\":\"logo\",\"type\":{\"union\":{\"url\":\"com.linkedin.common.url\",\"vectorimage\":\"com.linkedin.05ad6e1019bd9c0c\n",
      "[ ]   165: 2f02aff5e281ea2a\"}}},\"entityurn\":{\"type\":\"com.linkedin.voyager.dash.common.companyurn\"}},\"basetype\":\"com.linkedin.voyager.dash.org\n",
      "[ ]   166: anization.company\"},\"com.linkedin.b540c4989c7c02783bcb663819ab095e\":{\"fields\":{\"ringstatus\":{\"type\":\"com.linkedin.73618de96c485faa\n",
      "[ ]   167: c096a5f62a486151\"},\"profileurn\":{\"type\":\"string\"},\"vectorimage\":{\"type\":\"com.linkedin.05ad6e1019bd9c0c2f02aff5e281ea2a\"},\"profile\"\n",
      "[ ]   168: :{\"resolvedfrom\":\"profileurn\",\"type\":\"com.linkedin.4e40620a1546ec1ea7b74f1ac7db436e\"}},\"basetype\":\"com.linkedin.voyager.dash.commo\n",
      "[ ]   169: n.image.nonentityprofilepicture\"},\"com.linkedin.73618de96c485faac096a5f62a486151\":{\"fields\":{\"ringcontenttype\":{\"type\":\"com.linked\n",
      "[ ]   170: in.voyager.dash.common.image.ringcontenttype\"},\"actiontarget\":{\"type\":\"com.linkedin.common.url\"},\"predashentityurn\":{\"type\":\"com.l\n",
      "[ ]   171: inkedin.voyager.dash.common.predashurn\"},\"entityurn\":{\"type\":\"com.linkedin.voyager.dash.common.ringstatusurn\"},\"emphasized\":{\"type\n",
      "[ ]   172: \":\"boolean\"}},\"basetype\":\"com.linkedin.voyager.dash.common.image.ringstatus\"}}}},\"included\":[{\"profilepicture\":{\"displayimagerefer\n",
      "[ ]   173: enceresolutionresult\":{\"url\":null,\"vectorimage\":{\"digitalmediaasset\":null,\"attribution\":null,\"$recipetypes\":[\"com.linkedin.05ad6e1\n",
      "[ ]   174: 019bd9c0c2f02aff5e281ea2a\"],\"artifacts\":[{\"width\":100,\"$recipetypes\":[\"com.linkedin.df089b9d683fa734528ad3707694a3bc\"],\"fileidenti\n",
      "[ ]   175: fyingurlpathsegment\":\"100_100/0/1673017308310?e=1687392000&v=beta&t=ms20gwpef3wtglhif7n223btz5oujlvv_o2jfvvnp9a\",\"expiresat\":16873\n",
      "[ ]   176: 92000000,\"height\":100,\"$type\":\"com.linkedin.common.vectorartifact\"},{\"width\":200,\"$recipetypes\":[\"com.linkedin.df089b9d683fa734528\n",
      "[ ]   177: ad3707694a3bc\"],\"fileidentifyingurlpathsegment\":\"200_200/0/1673017308310?e=1687392000&v=beta&t=hr09aydbyx7tuzj5o8o3xytk-tahvlukfyr\n",
      "[ ]   178: l9c0z4xg\",\"expiresat\":1687392000000,\"height\":200,\"$type\":\"com.linkedin.common.vectorartifact\"},{\"width\":400,\"$recipetypes\":[\"com.l\n",
      "[ ]   179: inkedin.df089b9d683fa734528ad3707694a3bc\"],\"fileidentifyingurlpathsegment\":\"400_400/0/1673017308310?e=1687392000&v=beta&t=6kfooonm\n",
      "[ ]   180: fssagcmr1tyfg40dexaiz5uzutj2zyh6rgo\",\"expiresat\":1687392000000,\"height\":400,\"$type\":\"com.linkedin.common.vectorartifact\"},{\"width\"\n",
      "[ ]   181: :800,\"$recipetypes\":[\"com.linkedin.df089b9d683fa734528ad3707694a3bc\"],\"fileidentifyingurlpathsegment\":\"800_800/0/1673017308310?e=1\n",
      "[ ]   182: 687392000&v=beta&t=ksgwgoicysou5-\n",
      "[ ]   183: oplqgwj8petwqhs0dfedgkyfrf60i\",\"expiresat\":1687392000000,\"height\":800,\"$type\":\"com.linkedin.common.vectorartifact\"}],\"rooturl\":\"ht\n",
      "[ ]   184: tps://media.licdn.com/dms/image/d4d03aqelfrhho4lggw/profile-displayphoto-shrink_\",\"$type\":\"com.linkedin.common.vectorimage\"}},\"dis\n",
      "[ ]   185: playimagewithframereference\":null,\"$recipetypes\":[\"com.linkedin.95ee6262e2e99e1e02206cc342278924\"],\"displayimageurn\":\"urn:li:digit\n",
      "[ ]   186: almediaasset:d4d03aqelfrhho4lggw\",\"$type\":\"com.linkedin.voyager.dash.identity.profile.photofilterpicture\"},\"entityurn\":\"urn:li:fsd\n",
      "[ ]   187: _profile:acoaaaok4v8bqg5igwf-c3bjv-\n",
      "[ ]   188: 6cpdjxxcdlbya\",\"$recipetypes\":[\"com.linkedin.4e40620a1546ec1ea7b74f1ac7db436e\"],\"$type\":\"com.linkedin.voyager.dash.identity.profil\n",
      "[ ]   189: e.profile\"},{\"profilepicture\":null,\"entityurn\":\"urn:li:fsd_profile:acoaaanih2mbaysw1_me4wzxviz36igt_bpblts\",\"$recipetypes\":[\"com.l\n",
      "[ ]   190: inkedin.4e40620a1546ec1ea7b74f1ac7db436e\"],\"$type\":\"com.linkedin.voyager.dash.identity.profile.profile\"},{\"profilepicture\":{\"displ\n",
      "[ ]   191: ayimagereferenceresolutionresult\":{\"url\":null,\"vectorimage\":{\"digitalmediaasset\":null,\"attribution\":null,\"$recipetypes\":[\"com.link\n",
      "[ ]   192: edin.05ad6e1019bd9c0c2f02aff5e281ea2a\"],\"artifacts\":[{\"width\":100,\"$recipetypes\":[\"com.linkedin.df089b9d683fa734528ad3707694a3bc\"]\n",
      "[ ]   193: ,\"fileidentifyingurlpathsegment\":\"100_100/0/1586926624956?e=1687392000&v=beta&t=md8pslv9o7wtrfftbh7pmjds9rj08hxv5zpntqsxdsk\",\"expi\n",
      "[ ]   194: resat\":1687392000000,\"height\":100,\"$type\":\"com.linkedin.common.vectorartifact\"},{\"width\":200,\"$recipetypes\":[\"com.linkedin.df089b9\n",
      "[ ]   195: d683fa734528ad3707694a3bc\"],\"fileidentifyingurlpathsegment\":\"200_200/0/1586926624956?e=1687392000&v=beta&t=x0lbslj7qga7w5p93oyz04g\n",
      "[ ]   196: iduy-_cm09zjkjkqiw-\n",
      "[ ]   197: q\",\"expiresat\":1687392000000,\"height\":200,\"$type\":\"com.linkedin.common.vectorartifact\"},{\"width\":400,\"$recipetypes\":[\"com.linkedin\n",
      "[ ]   198: .df089b9d683fa734528ad3707694a3bc\"],\"fileidentifyingurlpathsegment\":\"400_400/0/1586926624956?e=1687392000&v=beta&t=bpobcddf7kt4rur\n",
      "[ ]   199: fuikbdxettei5bf6uujg3expwh4y\",\"expiresat\":1687392000000,\"height\":400,\"$type\":\"com.linkedin.common.vectorartifact\"},{\"width\":800,\"$\n",
      "[ ]   200: recipetypes\":[\"com.linkedin.df089b9d683fa734528ad3707694a3bc\"],\"fileidentifyingurlpathsegment\":\"800_800/0/1586926624956?e=16873920\n",
      "[ ]   201: 00&v=beta&t=xr6ylf9b2gijysldzvzzzeqfz88nkvubzknz0pxhnn4\",\"expiresat\":1687392000000,\"height\":800,\"$type\":\"com.linkedin.common.vecto\n",
      "[ ]   202: rartifact\"}],\"rooturl\":\"https://media.licdn.com/dms/image/c5603aqhycymyylgpug/profile-displayphoto-shrink_\",\"$type\":\"com.linkedin.\n",
      "[ ]   203: common.vectorimage\"}},\"displayimagewithframereference\":null,\"$recipetypes\":[\"com.linkedin.95ee6262e2e99e1e02206cc342278924\"],\"disp\n",
      "[ ]   204: layimageurn\":\"urn:li:digitalmediaasset:c5603aqhycymyylgpug\",\"$type\":\"com.linkedin.voyager.dash.identity.profile.photofilterpicture\n",
      "[ ]   205: \"},\"entityurn\":\"urn:li:fsd_profile:acoaaatit2mbjin3cbzrj1sptdvmhrdwt9e3phi\",\"$recipetypes\":[\"com.linkedin.4e40620a1546ec1ea7b74f1a\n",
      "[ ]   206: c7db436e\"],\"$type\":\"com.linkedin.voyager.dash.identity.profile.profile\"},{\"profilepicture\":{\"displayimagereferenceresolutionresult\n",
      "[ ]   207: \":{\"url\":null,\"vectorimage\":{\"digitalmediaasset\":null,\"attribution\":null,\"$recipetypes\":[\"com.linkedin.05ad6e1019bd9c0c2f02aff5e28\n",
      "[ ]   208: 1ea2a\"],\"artifacts\":[{\"width\":100,\"$recipetypes\":[\"com.linkedin.df089b9d683fa734528ad3707694a3bc\"],\"fileidentifyingurlpathsegment\"\n",
      "[ ]   209: :\"100_100/0/1526771697543?e=1687392000&v=beta&t=rhnn7fmc3-6d1cfsxsn--4bq-kyzhjb9ilatnbse5qk\",\"expiresat\":1687392000000,\"height\":10\n",
      "[ ]   210: 0,\"$type\":\"com.linkedin.common.vectorartifact\"},{\"width\":200,\"$recipetypes\":[\"com.linkedin.df089b9d683fa734528ad3707694a3bc\"],\"fil\n",
      "[ ]   211: eidentifyingurlpathsegment\":\"200_200/0/1526771697543?e=1687392000&v=beta&t=sgolqcoxuwdpfplejxnmmmmhbimbf0xys_czkx1rso4\",\"expiresat\n",
      "[ ]   212: \":1687392000000,\"height\":200,\"$type\":\"com.linkedin.common.vectorartifact\"},{\"width\":400,\"$recipetypes\":[\"com.linkedin.df089b9d683f\n",
      "[ ]   213: a734528ad3707694a3bc\"],\"fileidentifyingurlpathsegment\":\"400_400/0/1526771697543?e=1687392000&v=beta&t=2sy3i1jb2qxib3jutzfi8dcf54gb\n",
      "[ ]   214: njtkzkge3ykbexo\",\"expiresat\":1687392000000,\"height\":400,\"$type\":\"com.linkedin.common.vectorartifact\"},{\"width\":800,\"$recipetypes\":\n",
      "[ ]   215: [\"com.linkedin.df089b9d683fa734528ad3707694a3bc\"],\"fileidentifyingurlpathsegment\":\"800_800/0/1526771697543?e=1687392000&v=beta&t=t\n",
      "[ ]   216: egp3qcixrcra7gz4hi9fltwc7w-\n",
      "[ ]   217: klon1zco8vewm6y\",\"expiresat\":1687392000000,\"height\":800,\"$type\":\"com.linkedin.common.vectorartifact\"}],\"rooturl\":\"https://media.li\n",
      "[ ]   218: cdn.com/dms/image/c5103aqehzdmjwnxiaq/profile-displayphoto-shrink_\",\"$type\":\"com.linkedin.common.vectorimage\"}},\"displayimagewithf\n",
      "[ ]   219: ramereference\":null,\"$recipetypes\":[\"com.linkedin.95ee6262e2e99e1e02206cc342278924\"],\"displayimageurn\":\"urn:li:digitalmediaasset:c\n",
      "[ ]   220: 5103aqehzdmjwnxiaq\",\"$type\":\"com.linkedin.voyager.dash.identity.profile.photofilterpicture\"},\"entityurn\":\"urn:li:fsd_profile:acoaa\n",
      "[ ]   221: btkdrgb7h-\n",
      "[ ]   222: efjpevsbgc8cnpj6si1oriwe\",\"$recipetypes\":[\"com.linkedin.4e40620a1546ec1ea7b74f1ac7db436e\"],\"$type\":\"com.linkedin.voyager.dash.iden\n",
      "[ ]   223: tity.profile.profile\"},{\"profilepicture\":{\"displayimagereferenceresolutionresult\":{\"url\":null,\"vectorimage\":{\"digitalmediaasset\":n\n",
      "[ ]   224: ull,\"attribution\":null,\"$recipetypes\":[\"com.linkedin.05ad6e1019bd9c0c2f02aff5e281ea2a\"],\"artifacts\":[{\"width\":100,\"$recipetypes\":[\n",
      "[ ]   225: \"com.linkedin.df089b9d683fa734528ad3707694a3bc\"],\"fileidentifyingurlpathsegment\":\"100_100/0/1664346528131?e=1687392000&v=beta&t=u7\n",
      "[ ]   226: wripo2ucbymz-mferomwdqqp-xgvos29kfc3xp41e\",\"expiresat\":1687392000000,\"height\":100,\"$type\":\"com.linkedin.common.vectorartifact\"},{\"\n",
      "[ ]   227: width\":200,\"$recipetypes\":[\"com.linkedin.df089b9d683fa734528ad3707694a3bc\"],\"fileidentifyingurlpathsegment\":\"200_200/0/16643465281\n",
      "[ ]   228: 31?e=1687392000&v=beta&t=vcq5ub36bcgq2sorsowwt5zgugy-yml580ip-\n",
      "[ ]   229: p52wgy\",\"expiresat\":1687392000000,\"height\":200,\"$type\":\"com.linkedin.common.vectorartifact\"},{\"width\":400,\"$recipetypes\":[\"com.lin\n",
      "[ ]   230: kedin.df089b9d683fa734528ad3707694a3bc\"],\"fileidentifyingurlpathsegment\":\"400_400/0/1664346528131?e=1687392000&v=beta&t=7cshibtxje\n",
      "[ ]   231: twlkrxdoufi1mcr8onunidwafmw0wwvh0\",\"expiresat\":1687392000000,\"height\":400,\"$type\":\"com.linkedin.common.vectorartifact\"},{\"width\":8\n",
      "[ ]   232: 00,\"$recipetypes\":[\"com.linkedin.df089b9d683fa734528ad3707694a3bc\"],\"fileidentifyingurlpathsegment\":\"800_800/0/1664346528131?e=168\n",
      "[ ]   233: 7392000&v=beta&t=r652amhkxgck4q9alxi14hxfbvhptmyzmwupitwuejq\",\"expiresat\":1687392000000,\"height\":800,\"$type\":\"com.linkedin.common.\n",
      "[ ]   234: vectorartifact\"}],\"rooturl\":\"https://media.licdn.com/dms/image/d4e03aqhambrpas-rpq/profile-displayphoto-shrink_\",\"$type\":\"com.link\n",
      "[ ]   235: edin.common.vectorimage\"}},\"displayimagewithframereference\":null,\"$recipetypes\":[\"com.linkedin.95ee6262e2e99e1e02206cc342278924\"],\n",
      "[ ]   236: \"displayimageurn\":\"urn:li:digitalmediaasset:d4e03aqhambrpas-rpq\",\"$type\":\"com.linkedin.voyager.dash.identity.profile.photofilterpi\n",
      "[ ]   237: cture\"},\"entityurn\":\"urn:li:fsd_profile:acoaabwrgbkb0udggk1lqnsb3w-\n",
      "[ ]   238: 2bpzkg1_mn7k\",\"$recipetypes\":[\"com.linkedin.4e40620a1546ec1ea7b74f1ac7db436e\"],\"$type\":\"com.linkedin.voyager.dash.identity.profile\n",
      "[ ]   239: .profile\"},{\"profilepicture\":{\"displayimagereferenceresolutionresult\":{\"url\":null,\"vectorimage\":{\"digitalmediaasset\":null,\"attribu\n",
      "[ ]   240: tion\":null,\"$recipetypes\":[\"com.linkedin.05ad6e1019bd9c0c2f02aff5e281ea2a\"],\"artifacts\":[{\"width\":100,\"$recipetypes\":[\"com.linkedi\n",
      "[ ]   241: n.df089b9d683fa734528ad3707694a3bc\"],\"fileidentifyingurlpathsegment\":\"100_100/0/1680890714065?e=1687392000&v=beta&t=4kt4taypqqhud9\n",
      "[ ]   242: ywrgc4lnnm1u-\n",
      "[ ]   243: 2mxngdom6xvqc3ny\",\"expiresat\":1687392000000,\"height\":100,\"$type\":\"com.linkedin.common.vectorartifact\"},{\"width\":200,\"$recipetypes\"\n",
      "[ ]   244: :[\"com.linkedin.df089b9d683fa734528ad3707694a3bc\"],\"fileidentifyingurlpathsegment\":\"200_200/0/1680890714065?e=1687392000&v=beta&t=\n",
      "[ ]   245: akh_gs54wucmajfedhlydvobsc3l05tmvnu7sey6yjc\",\"expiresat\":1687392000000,\"height\":200,\"$type\":\"com.linkedin.common.vectorartifact\"},\n",
      "[ ]   246: {\"width\":400,\"$recipetypes\":[\"com.linkedin.df089b9d683fa734528ad3707694a3bc\"],\"fileidentifyingurlpathsegment\":\"400_400/0/168089071\n",
      "[ ]   247: 4065?e=1687392000&v=beta&t=t17v0qm5a0z7kvkznnteqzqlvrcf4ao_5mtvsomywce\",\"expiresat\":1687392000000,\"height\":400,\"$type\":\"com.linked\n",
      "[ ]   248: in.common.vectorartifact\"},{\"width\":800,\"$recipetypes\":[\"com.linkedin.df089b9d683fa734528ad3707694a3bc\"],\"fileidentifyingurlpathse\n",
      "[ ]   249: gment\":\"800_800/0/1680890714065?e=1687392000&v=beta&t=4a8pneqlbn7v5fpmp_6i5dpiz8jpq0wa1ebuulu0xa4\",\"expiresat\":1687392000000,\"heig\n",
      "[ ]   250: ht\":800,\"$type\":\"com.linkedin.common.vectorartifact\"}],\"rooturl\":\"https://media.licdn.com/dms/image/d4d03aqewm_cokslwqa/profile-\n",
      "[ ]   251: displayphoto-shrink_\",\"$type\":\"com.linkedin.common.vectorimage\"}},\"displayimagewithframereference\":null,\"$recipetypes\":[\"com.linke\n",
      "[ ]   252: din.95ee6262e2e99e1e02206cc342278924\"],\"displayimageurn\":\"urn:li:digitalmediaasset:d4d03aqewm_cokslwqa\",\"$type\":\"com.linkedin.voya\n",
      "[ ]   253: ger.dash.identity.profile.photofilterpicture\"},\"entityurn\":\"urn:li:fsd_profile:acoaaae-ihebqkhk7c7f2cyl8ajmpc8hzlmmbx8\",\"$recipety\n",
      "[ ]   254: pes\":[\"com.linkedin.4e40620a1546ec1ea7b74f1ac7db436e\"],\"$type\":\"com.linkedin.voyager.dash.identity.profile.profile\"},{\"profilepict\n",
      "[ ]   255: ure\":{\"displayimagereferenceresolutionresult\":{\"url\":null,\"vectorimage\":{\"digitalmediaasset\":null,\"attribution\":null,\"$recipetypes\n",
      "[ ]   256: \":[\"com.linkedin.05ad6e1019bd9c0c2f02aff5e281ea2a\"],\"artifacts\":[{\"width\":100,\"$recipetypes\":[\"com.linkedin.df089b9d683fa734528ad3\n",
      "[ ]   257: 707694a3bc\"],\"fileidentifyingurlpathsegment\":\"100_100/0/1517251207761?e=1687392000&v=beta&t=x6fptfmidqqp8joi8gucmojymk0ejhm6qvuxnm\n",
      "[ ]   258: ohgta\",\"expiresat\":1687392000000,\"height\":100,\"$type\":\"com.linkedin.common.vectorartifact\"},{\"width\":200,\"$recipetypes\":[\"com.link\n",
      "[ ]   259: edin.df089b9d683fa734528ad3707694a3bc\"],\"fileidentifyingurlpathsegment\":\"200_200/0/1517251207761?e=1687392000&v=beta&t=c5sdanmyud1\n",
      "[ ]   260: vchohtgsb8srr8y08mwrs-1qz8r-\n",
      "[ ]   261: 57hc\",\"expiresat\":1687392000000,\"height\":200,\"$type\":\"com.linkedin.common.vectorartifact\"},{\"width\":400,\"$recipetypes\":[\"com.linke\n",
      "[ ]   262: din.df089b9d683fa734528ad3707694a3bc\"],\"fileidentifyingurlpathsegment\":\"400_400/0/1517251207761?e=1687392000&v=beta&t=d1iybetlmssv\n",
      "[ ]   263: h03jgwa4fe1srz3j1b43z6r3nwrawza\",\"expiresat\":1687392000000,\"height\":400,\"$type\":\"com.linkedin.common.vectorartifact\"},{\"width\":800\n",
      "[ ]   264: ,\"$recipetypes\":[\"com.linkedin.df089b9d683fa734528ad3707694a3bc\"],\"fileidentifyingurlpathsegment\":\"800_800/0/1517251207761?e=16873\n",
      "[ ]   265: 92000&v=beta&t=gjezcjblwgf78ej8m3i59xhosv_kyc_t7x1ldvpaflw\",\"expiresat\":1687392000000,\"height\":800,\"$type\":\"com.linkedin.common.ve\n",
      "[ ]   266: ctorartifact\"}],\"rooturl\":\"https://media.licdn.com/dms/image/c4d03aqfbot0v7meyfa/profile-displayphoto-shrink_\",\"$type\":\"com.linked\n",
      "[ ]   267: in.common.vectorimage\"}},\"displayimagewithframereference\":null,\"$recipetypes\":[\"com.linkedin.95ee6262e2e99e1e02206cc342278924\"],\"d\n",
      "[ ]   268: isplayimageurn\":\"urn:li:digitalmediaasset:c4d03aqfbot0v7meyfa\",\"$type\":\"com.linkedin.voyager.dash.identity.profile.photofilterpict\n",
      "[ ]   269: ure\"},\"entityurn\":\"urn:li:fsd_profile:acoaaaus9swbw3ignnir2487bqzslskmk65zqpy\",\"$recipetypes\":[\"com.linkedin.4e40620a1546ec1ea7b74\n",
      "[ ]   270: f1ac7db436e\"],\"$type\":\"com.linkedin.voyager.dash.identity.profile.profile\"},{\"profilepicture\":{\"displayimagereferenceresolutionres\n",
      "[ ]   271: ult\":{\"url\":null,\"vectorimage\":{\"digitalmediaasset\":null,\"attribution\":null,\"$recipetypes\":[\"com.linkedin.05ad6e1019bd9c0c2f02aff5\n",
      "[ ]   272: e281ea2a\"],\"artifacts\":[{\"width\":100,\"$recipetypes\":[\"com.linkedin.df089b9d683fa734528ad3707694a3bc\"],\"fileidentifyingurlpathsegme\n",
      "[ ]   273: nt\":\"100_100/0/1604929454578?e=1687392000&v=beta&t=nxwo4vanagtv7l4dxbk6qwvvzbnhxeku2ylt3r7_zfq\",\"expiresat\":1687392000000,\"height\"\n",
      "[ ]   274: :100,\"$type\":\"com.linkedin.common.vectorartifact\"},{\"width\":200,\"$recipetypes\":[\"com.linkedin.df089b9d683fa734528ad3707694a3bc\"],\"\n",
      "[ ]   275: fileidentifyingurlpathsegment\":\"200_200/0/1604929454578?e=1687392000&v=beta&t=b3zr7vrwcqdtv0m2ibzzuxcp_e7ydhr8bodqz7tapyw\",\"expire\n",
      "[ ]   276: sat\":1687392000000,\"height\":200,\"$type\":\"com.linkedin.common.vectorartifact\"},{\"width\":400,\"$recipetypes\":[\"com.linkedin.df089b9d6\n",
      "[ ]   277: 83fa734528ad3707694a3bc\"],\"fileidentifyingurlpathsegment\":\"400_400/0/1604929454578?e=1687392000&v=beta&t=refmgpmtjziqywbzvfhujfoh5\n",
      "[ ]   278: 2xhrjg4j1udww-gfci\",\"expiresat\":1687392000000,\"height\":400,\"$type\":\"com.linkedin.common.vectorartifact\"},{\"width\":800,\"$recipetype\n",
      "[ ]   279: s\":[\"com.linkedin.df089b9d683fa734528ad3707694a3bc\"],\"fileidentifyingurlpathsegment\":\"800_800/0/1604929454578?e=1687392000&v=beta&\n",
      "[ ]   280: t=7wjmdqyj29njw2gatt5rhuzoemavkhz90ecnuy75ry8\",\"expiresat\":1687392000000,\"height\":800,\"$type\":\"com.linkedin.common.vectorartifact\"\n",
      "[ ]   281: }],\"rooturl\":\"https://media.licdn.com/dms/image/c4d03aqe6dtthpgj_vg/profile-displayphoto-shrink_\",\"$type\":\"com.linkedin.common.vec\n",
      "[ ]   282: torimage\"}},\"displayimagewithframereference\":null,\"$recipetypes\":[\"com.linkedin.95ee6262e2e99e1e02206cc342278924\"],\"displayimageur\n",
      "[ ]   283: n\":\"urn:li:digitalmediaasset:c4d03aqe6dtthpgj_vg\",\"$type\":\"com.linkedin.voyager.dash.identity.profile.photofilterpicture\"},\"entity\n",
      "[ ]   284: urn\":\"urn:li:fsd_profile:acoaabg6mn0b8c5ttljg05kocmf0ljgmxh9c5by\",\"$recipetypes\":[\"com.linkedin.4e40620a1546ec1ea7b74f1ac7db436e\"]\n",
      "[ ]   285: ,\"$type\":\"com.linkedin.voyager.dash.identity.profile.profile\"},{\"logoresolutionresult\":{\"url\":null,\"vectorimage\":{\"digitalmediaass\n",
      "[ ]   286: et\":\"urn:li:digitalmediaasset:c4d0baqgh52vy3nlmjq\",\"attribution\":null,\"$recipetypes\":[\"com.linkedin.05ad6e1019bd9c0c2f02aff5e281ea\n",
      "[ ]   287: 2a\"],\"artifacts\":[{\"width\":200,\"$recipetypes\":[\"com.linkedin.df089b9d683fa734528ad3707694a3bc\"],\"fileidentifyingurlpathsegment\":\"2\n",
      "[ ]   288: 00_200/0/1649774864658?e=1690416000&v=beta&t=-fh0k_9gbopji1bls3gdoby24d5a-\n",
      "[ ]   289: y9hbzafq46bdlo\",\"expiresat\":1690416000000,\"height\":200,\"$type\":\"com.linkedin.common.vectorartifact\"},{\"width\":100,\"$recipetypes\":[\n",
      "[ ]   290: \"com.linkedin.df089b9d683fa734528ad3707694a3bc\"],\"fileidentifyingurlpathsegment\":\"100_100/0/1649774864658?e=1690416000&v=beta&t=tx\n",
      "[ ]   291: b_xt4si9jouvz7lyotv-nltxveawymeflcpjedtxw\",\"expiresat\":1690416000000,\"height\":100,\"$type\":\"com.linkedin.common.vectorartifact\"},{\"\n",
      "[ ]   292: width\":400,\"$recipetypes\":[\"com.linkedin.df089b9d683fa734528ad3707694a3bc\"],\"fileidentifyingurlpathsegment\":\"400_400/0/16497748646\n",
      "[ ]   293: 58?e=1690416000&v=beta&t=54cxcddyu2onaa1vun1-ruo0zdssqnkd-zto_fz1ikw\",\"expiresat\":1690416000000,\"height\":400,\"$type\":\"com.linkedin\n",
      "[ ]   294: .common.vectorartifact\"}],\"rooturl\":\"https://media.licdn.com/dms/image/c4d0baqgh52vy3nlmjq/company-logo_\",\"$type\":\"com.linkedin.co\n",
      "[ ]   295: mmon.vectorimage\"}},\"entityurn\":\"urn:li:fsd_company:405958\",\"$recipetypes\":[\"com.linkedin.8f7ab3fcf458b406365003e4bf5b02b2\"],\"$typ\n",
      "[ ]   296: e\":\"com.linkedin.voyager.dash.organization.company\"},{\"logoresolutionresult\":{\"url\":null,\"vectorimage\":{\"digitalmediaasset\":\"urn:l\n",
      "[ ]   297: i:digitalmediaasset:c4d0baqhguxu1p_houa\",\"attribution\":null,\"$recipetypes\":[\"com.linkedin.05ad6e1019bd9c0c2f02aff5e281ea2a\"],\"arti\n",
      "[ ]   298: facts\":[{\"width\":200,\"$recipetypes\":[\"com.linkedin.df089b9d683fa734528ad3707694a3bc\"],\"fileidentifyingurlpathsegment\":\"200_200/0/1\n",
      "[ ]   299: 613128702855?e=1690416000&v=beta&t=bso380nvrwd0xc8h_kiny-ov-zjqamye3l3ikwudfyk\",\"expiresat\":1690416000000,\"height\":200,\"$type\":\"co\n",
      "[ ]   300: m.linkedin.common.vectorartifact\"},{\"width\":100,\"$recipetypes\":[\"com.linkedin.df089b9d683fa734528ad3707694a3bc\"],\"fileidentifyingu\n",
      "[ ]   301: rlpathsegment\":\"100_100/0/1613128702855?e=1690416000&v=beta&t=dt1n5p9e-\n",
      "[ ]   302: qsaukksmjaejxmaf7a_i49kjjjzkbd5vxe\",\"expiresat\":1690416000000,\"height\":100,\"$type\":\"com.linkedin.common.vectorartifact\"},{\"width\":\n",
      "[ ]   303: 400,\"$recipetypes\":[\"com.linkedin.df089b9d683fa734528ad3707694a3bc\"],\"fileidentifyingurlpathsegment\":\"400_400/0/1613128702855?e=16\n",
      "[ ]   304: 90416000&v=beta&t=qx9-bj1sl2lym-vzqrp1hz63158h5lkualx8yimamry\",\"expiresat\":1690416000000,\"height\":400,\"$type\":\"com.linkedin.common\n",
      "[ ]   305: .vectorartifact\"}],\"rooturl\":\"https://media.licdn.com/dms/image/c4d0baqhguxu1p_houa/company-logo_\",\"$type\":\"com.linkedin.common.ve\n",
      "[ ]   306: ctorimage\"}},\"entityurn\":\"urn:li:fsd_company:71507933\",\"$recipetypes\":[\"com.linkedin.8f7ab3fcf458b406365003e4bf5b02b2\"],\"$type\":\"c\n",
      "[ ]   307: om.linkedin.voyager.dash.organization.company\"},{\"actorurn\":null,\"reactorlockup\":{\"image\":{\"attributes\":[{\"scalingtype\":null,\"deta\n",
      "[ ]   308: ildata\":{\"profilepicturewithoutframe\":null,\"profilepicturewithringstatus\":null,\"companylogo\":null,\"icon\":null,\"systemimage\":null,\"\n",
      "[ ]   309: nonentitygrouplogo\":null,\"vectorimage\":null,\"nonentityprofessionaleventlogo\":null,\"imageurl\":null,\"professionaleventlogo\":null,\"no\n",
      "[ ]   310: nentitycompanylogo\":null,\"nonentityschoollogo\":null,\"*profilepicture\":\"urn:li:fsd_profile:acoaabg6mn0b8c5ttljg05kocmf0ljgmxh9c5by\"\n",
      "[ ]   311: ,\"grouplogo\":null,\"schoollogo\":null,\"ghostimage\":null,\"nonentityprofilepicture\":null},\"tintcolor\":null,\"$recipetypes\":[\"com.linked\n",
      "[ ]   312: in.b57b9f6e942a4d58515eb1c80578fea1\"],\"taptargets\":[],\"displayaspectratio\":null,\"$type\":\"com.linkedin.voyager.dash.common.image.im\n",
      "[ ]   313: ageattribute\"}],\"actiontarget\":null,\"accessibilitytextattributes\":[],\"totalcount\":null,\"accessibilitytext\":null,\"$recipetypes\":[\"c\n",
      "[ ]   314: om.linkedin.9bf954b551982091ba62c4d2fe807451\"],\"$type\":\"com.linkedin.voyager.dash.common.image.imageviewmodel\"},\"subtitle\":{\"textd\n",
      "[ ]   315: irection\":\"user_locale\",\"text\":\"gualapack s.p.a\",\"attributesv2\":[],\"accessibilitytextattributesv2\":[],\"accessibilitytext\":null,\"$r\n",
      "[ ]   316: ecipetypes\":[\"com.linkedin.c032efb3f96704e1ccdaafaf7d4d29df\"],\"$type\":\"com.linkedin.voyager.dash.common.text.textviewmodel\"},\"navi\n",
      "[ ]   317: gationurl\":\"https://www.linkedin.com/in/acoaabg6mn0b8c5ttljg05kocmf0ljgmxh9c5by\",\"label\":{\"textdirection\":\"user_locale\",\"text\":\"3r\n",
      "[ ]   318: d+\",\"attributesv2\":[],\"accessibilitytextattributesv2\":[],\"accessibilitytext\":null,\"$recipetypes\":[\"com.linkedin.c032efb3f96704e1cc\n",
      "[ ]   319: daafaf7d4d29df\"],\"$type\":\"com.linkedin.voyager.dash.common.text.textviewmodel\"},\"title\":{\"textdirection\":\"first_strong\",\"text\":\"ca\n",
      "[ ]   320: milla risposi\",\"attributesv2\":[],\"accessibilitytextattributesv2\":[],\"accessibilitytext\":\"view camilla risposi’s profile\",\"$recipet\n",
      "[ ]   321: ypes\":[\"com.linkedin.c032efb3f96704e1ccdaafaf7d4d29df\"],\"$type\":\"com.linkedin.voyager.dash.common.text.textviewmodel\"},\"accessibil\n",
      "[ ]   322: itytext\":\"view camilla risposi’s profile\",\"$recipetypes\":[\"com.linkedin.22e03a59aebea3440a4e02a98d83e7bd\"],\"$type\":\"com.linkedin.v\n",
      "[ ]   323: oyager.dash.common.ux.entitylockupviewmodel\"},\"$recipetypes\":[\"com.linkedin.dab74ef19bdb8a4c518ddf2dca563c96\"],\"$type\":\"com.linked\n",
      "[ ]   324: in.voyager.dash.social.reaction\",\"actor\":{\"companyurn\":null,\"*profileurn\":\"urn:li:fsd_profile:acoaabg6mn0b8c5ttljg05kocmf0ljgmxh9c\n",
      "[ ]   325: 5by\"},\"reactiontype\":\"like\",\"entityurn\":\"urn:li:fsd_reaction:(urn:li:fsd_profile:acoaabg6mn0b8c5ttljg05kocmf0ljgmxh9c5by,urn:li:ac\n",
      "[ ]   326: tivity:7054070071043710977,0)\",\"followingstate\":null,\"predashentityurn\":\"urn:li:fs_reaction:(urn:li:member:297441501,urn:li:activi\n",
      "[ ]   327: ty:7054070071043710977)\",\"predashactorurn\":\"urn:li:fs_miniprofile:acoaabg6mn0b8c5ttljg05kocmf0ljgmxh9c5by\"},{\"actorurn\":null,\"reac\n",
      "[ ]   328: torlockup\":{\"image\":{\"attributes\":[{\"scalingtype\":null,\"detaildata\":{\"profilepicturewithoutframe\":null,\"profilepicturewithringstat\n",
      "[ ]   329: us\":null,\"companylogo\":null,\"icon\":null,\"systemimage\":null,\"nonentitygrouplogo\":null,\"vectorimage\":null,\"nonentityprofessionaleven\n",
      "[ ]   330: tlogo\":null,\"imageurl\":null,\"professionaleventlogo\":null,\"nonentitycompanylogo\":null,\"nonentityschoollogo\":null,\"*profilepicture\":\n",
      "[ ]   331: \"urn:li:fsd_profile:acoaaaus9swbw3ignnir2487bqzslskmk65zqpy\",\"grouplogo\":null,\"schoollogo\":null,\"ghostimage\":null,\"nonentityprofil\n",
      "[ ]   332: epicture\":null},\"tintcolor\":null,\"$recipetypes\":[\"com.linkedin.b57b9f6e942a4d58515eb1c80578fea1\"],\"taptargets\":[],\"displayaspectra\n",
      "[ ]   333: tio\":null,\"$type\":\"com.linkedin.voyager.dash.common.image.imageattribute\"}],\"actiontarget\":null,\"accessibilitytextattributes\":[],\"\n",
      "[ ]   334: totalcount\":null,\"accessibilitytext\":null,\"$recipetypes\":[\"com.linkedin.9bf954b551982091ba62c4d2fe807451\"],\"$type\":\"com.linkedin.v\n",
      "[ ]   335: oyager.dash.common.image.imageviewmodel\"},\"subtitle\":{\"textdirection\":\"user_locale\",\"text\":\"flexible packaging solutions |\n",
      "[ ]   336: packaging machinery\",\"attributesv2\":[],\"accessibilitytextattributesv2\":[],\"accessibilitytext\":null,\"$recipetypes\":[\"com.linkedin.c\n",
      "[ ]   337: 032efb3f96704e1ccdaafaf7d4d29df\"],\"$type\":\"com.linkedin.voyager.dash.common.text.textviewmodel\"},\"navigationurl\":\"https://www.link\n",
      "[ ]   338: edin.com/in/acoaaaus9swbw3ignnir2487bqzslskmk65zqpy\",\"label\":{\"textdirection\":\"user_locale\",\"text\":\"3rd+\",\"attributesv2\":[],\"acces\n",
      "[ ]   339: sibilitytextattributesv2\":[],\"accessibilitytext\":null,\"$recipetypes\":[\"com.linkedin.c032efb3f96704e1ccdaafaf7d4d29df\"],\"$type\":\"co\n",
      "[ ]   340: m.linkedin.voyager.dash.common.text.textviewmodel\"},\"title\":{\"textdirection\":\"first_strong\",\"text\":\"frank\n",
      "[ ]   341: trimboli\",\"attributesv2\":[],\"accessibilitytextattributesv2\":[],\"accessibilitytext\":\"view frank trimboli’s profile\",\"$recipetypes\":\n",
      "[ ]   342: [\"com.linkedin.c032efb3f96704e1ccdaafaf7d4d29df\"],\"$type\":\"com.linkedin.voyager.dash.common.text.textviewmodel\"},\"accessibilitytex\n",
      "[ ]   343: t\":\"view frank trimboli’s profile\",\"$recipetypes\":[\"com.linkedin.22e03a59aebea3440a4e02a98d83e7bd\"],\"$type\":\"com.linkedin.voyager.\n",
      "[ ]   344: dash.common.ux.entitylockupviewmodel\"},\"$recipetypes\":[\"com.linkedin.dab74ef19bdb8a4c518ddf2dca563c96\"],\"$type\":\"com.linkedin.voya\n",
      "[ ]   345: ger.dash.social.reaction\",\"actor\":{\"companyurn\":null,\"*profileurn\":\"urn:li:fsd_profile:acoaaaus9swbw3ignnir2487bqzslskmk65zqpy\"},\"\n",
      "[ ]   346: reactiontype\":\"like\",\"entityurn\":\"urn:li:fsd_reaction:(urn:li:fsd_profile:acoaaaus9swbw3ignnir2487bqzslskmk65zqpy,urn:li:activity:\n",
      "[ ]   347: 7054070071043710977,0)\",\"followingstate\":null,\"predashentityurn\":\"urn:li:fs_reaction:(urn:li:member:86832844,urn:li:activity:70540\n",
      "[ ]   348: 70071043710977)\",\"predashactorurn\":\"urn:li:fs_miniprofile:acoaaaus9swbw3ignnir2487bqzslskmk65zqpy\"},{\"actorurn\":null,\"reactorlocku\n",
      "[ ]   349: p\":{\"image\":{\"attributes\":[{\"scalingtype\":null,\"detaildata\":{\"profilepicturewithoutframe\":null,\"profilepicturewithringstatus\":null\n",
      "[ ]   350: ,\"companylogo\":null,\"icon\":null,\"systemimage\":null,\"nonentitygrouplogo\":null,\"vectorimage\":null,\"nonentityprofessionaleventlogo\":n\n",
      "[ ]   351: ull,\"imageurl\":null,\"professionaleventlogo\":null,\"nonentitycompanylogo\":null,\"nonentityschoollogo\":null,\"*profilepicture\":\"urn:li:\n",
      "[ ]   352: fsd_profile:acoaaatit2mbjin3cbzrj1sptdvmhrdwt9e3phi\",\"grouplogo\":null,\"schoollogo\":null,\"ghostimage\":null,\"nonentityprofilepicture\n",
      "[ ]   353: \":null},\"tintcolor\":null,\"$recipetypes\":[\"com.linkedin.b57b9f6e942a4d58515eb1c80578fea1\"],\"taptargets\":[],\"displayaspectratio\":nul\n",
      "[ ]   354: l,\"$type\":\"com.linkedin.voyager.dash.common.image.imageattribute\"}],\"actiontarget\":null,\"accessibilitytextattributes\":[],\"totalcou\n",
      "[ ]   355: nt\":null,\"accessibilitytext\":null,\"$recipetypes\":[\"com.linkedin.9bf954b551982091ba62c4d2fe807451\"],\"$type\":\"com.linkedin.voyager.d\n",
      "[ ]   356: ash.common.image.imageviewmodel\"},\"subtitle\":{\"textdirection\":\"user_locale\",\"text\":\"ceo and vice chairperson at nichrome india ltd\n",
      "[ ]   357: .\",\"attributesv2\":[],\"accessibilitytextattributesv2\":[],\"accessibilitytext\":null,\"$recipetypes\":[\"com.linkedin.c032efb3f96704e1ccd\n",
      "[ ]   358: aafaf7d4d29df\"],\"$type\":\"com.linkedin.voyager.dash.common.text.textviewmodel\"},\"navigationurl\":\"https://www.linkedin.com/in/acoaaa\n",
      "[ ]   359: tit2mbjin3cbzrj1sptdvmhrdwt9e3phi\",\"label\":{\"textdirection\":\"user_locale\",\"text\":\"3rd+\",\"attributesv2\":[],\"accessibilitytextattrib\n",
      "[ ]   360: utesv2\":[],\"accessibilitytext\":null,\"$recipetypes\":[\"com.linkedin.c032efb3f96704e1ccdaafaf7d4d29df\"],\"$type\":\"com.linkedin.voyager\n",
      "[ ]   361: .dash.common.text.textviewmodel\"},\"title\":{\"textdirection\":\"first_strong\",\"text\":\"mrunal\n",
      "[ ]   362: joshi\",\"attributesv2\":[],\"accessibilitytextattributesv2\":[],\"accessibilitytext\":\"view mrunal joshi’s profile\",\"$recipetypes\":[\"com\n",
      "[ ]   363: .linkedin.c032efb3f96704e1ccdaafaf7d4d29df\"],\"$type\":\"com.linkedin.voyager.dash.common.text.textviewmodel\"},\"accessibilitytext\":\"v\n",
      "[ ]   364: iew mrunal joshi’s profile\",\"$recipetypes\":[\"com.linkedin.22e03a59aebea3440a4e02a98d83e7bd\"],\"$type\":\"com.linkedin.voyager.dash.co\n",
      "[ ]   365: mmon.ux.entitylockupviewmodel\"},\"$recipetypes\":[\"com.linkedin.dab74ef19bdb8a4c518ddf2dca563c96\"],\"$type\":\"com.linkedin.voyager.das\n",
      "[ ]   366: h.social.reaction\",\"actor\":{\"companyurn\":null,\"*profileurn\":\"urn:li:fsd_profile:acoaaatit2mbjin3cbzrj1sptdvmhrdwt9e3phi\"},\"reactio\n",
      "[ ]   367: ntype\":\"like\",\"entityurn\":\"urn:li:fsd_reaction:(urn:li:fsd_profile:acoaaatit2mbjin3cbzrj1sptdvmhrdwt9e3phi,urn:li:activity:7054070\n",
      "[ ]   368: 071043710977,0)\",\"followingstate\":null,\"predashentityurn\":\"urn:li:fs_reaction:(urn:li:member:80263011,urn:li:activity:705407007104\n",
      "[ ]   369: 3710977)\",\"predashactorurn\":\"urn:li:fs_miniprofile:acoaaatit2mbjin3cbzrj1sptdvmhrdwt9e3phi\"},{\"actorurn\":null,\"reactorlockup\":{\"im\n",
      "[ ]   370: age\":{\"attributes\":[{\"scalingtype\":null,\"detaildata\":{\"profilepicturewithoutframe\":null,\"profilepicturewithringstatus\":null,\"compa\n",
      "[ ]   371: nylogo\":null,\"icon\":null,\"systemimage\":null,\"nonentitygrouplogo\":null,\"vectorimage\":null,\"nonentityprofessionaleventlogo\":null,\"im\n",
      "[ ]   372: ageurl\":null,\"professionaleventlogo\":null,\"nonentitycompanylogo\":null,\"nonentityschoollogo\":null,\"*profilepicture\":\"urn:li:fsd_pro\n",
      "[ ]   373: file:acoaabtkdrgb7h-\n",
      "[ ]   374: efjpevsbgc8cnpj6si1oriwe\",\"grouplogo\":null,\"schoollogo\":null,\"ghostimage\":null,\"nonentityprofilepicture\":null},\"tintcolor\":null,\"$\n",
      "[ ]   375: recipetypes\":[\"com.linkedin.b57b9f6e942a4d58515eb1c80578fea1\"],\"taptargets\":[],\"displayaspectratio\":null,\"$type\":\"com.linkedin.voy\n",
      "[ ]   376: ager.dash.common.image.imageattribute\"}],\"actiontarget\":null,\"accessibilitytextattributes\":[],\"totalcount\":null,\"accessibilitytext\n",
      "[ ]   377: \":null,\"$recipetypes\":[\"com.linkedin.9bf954b551982091ba62c4d2fe807451\"],\"$type\":\"com.linkedin.voyager.dash.common.image.imageviewm\n",
      "[ ]   378: odel\"},\"subtitle\":{\"textdirection\":\"user_locale\",\"text\":\"business development & marketing at nichrome india ltd.\",\"attributesv2\":[\n",
      "[ ]   379: ],\"accessibilitytextattributesv2\":[],\"accessibilitytext\":null,\"$recipetypes\":[\"com.linkedin.c032efb3f96704e1ccdaafaf7d4d29df\"],\"$t\n",
      "[ ]   380: ype\":\"com.linkedin.voyager.dash.common.text.textviewmodel\"},\"navigationurl\":\"https://www.linkedin.com/in/acoaabtkdrgb7h-\n",
      "[ ]   381: efjpevsbgc8cnpj6si1oriwe\",\"label\":{\"textdirection\":\"user_locale\",\"text\":\"3rd+\",\"attributesv2\":[],\"accessibilitytextattributesv2\":[\n",
      "[ ]   382: ],\"accessibilitytext\":null,\"$recipetypes\":[\"com.linkedin.c032efb3f96704e1ccdaafaf7d4d29df\"],\"$type\":\"com.linkedin.voyager.dash.com\n",
      "[ ]   383: mon.text.textviewmodel\"},\"title\":{\"textdirection\":\"first_strong\",\"text\":\"maithilee\n",
      "[ ]   384: joshi\",\"attributesv2\":[],\"accessibilitytextattributesv2\":[],\"accessibilitytext\":\"view maithilee joshi’s profile\",\"$recipetypes\":[\"\n",
      "[ ]   385: com.linkedin.c032efb3f96704e1ccdaafaf7d4d29df\"],\"$type\":\"com.linkedin.voyager.dash.common.text.textviewmodel\"},\"accessibilitytext\"\n",
      "[ ]   386: :\"view maithilee joshi’s profile\",\"$recipetypes\":[\"com.linkedin.22e03a59aebea3440a4e02a98d83e7bd\"],\"$type\":\"com.linkedin.voyager.d\n",
      "[ ]   387: ash.common.ux.entitylockupviewmodel\"},\"$recipetypes\":[\"com.linkedin.dab74ef19bdb8a4c518ddf2dca563c96\"],\"$type\":\"com.linkedin.voyag\n",
      "[ ]   388: er.dash.social.reaction\",\"actor\":{\"companyurn\":null,\"*profileurn\":\"urn:li:fsd_profile:acoaabtkdrgb7h-\n",
      "[ ]   389: efjpevsbgc8cnpj6si1oriwe\"},\"reactiontype\":\"like\",\"entityurn\":\"urn:li:fsd_reaction:(urn:li:fsd_profile:acoaabtkdrgb7h-\n",
      "[ ]   390: efjpevsbgc8cnpj6si1oriwe,urn:li:activity:7054070071043710977,0)\",\"followingstate\":null,\"predashentityurn\":\"urn:li:fs_reaction:(urn\n",
      "[ ]   391: :li:member:350516504,urn:li:activity:7054070071043710977)\",\"predashactorurn\":\"urn:li:fs_miniprofile:acoaabtkdrgb7h-\n",
      "[ ]   392: efjpevsbgc8cnpj6si1oriwe\"},{\"actorurn\":null,\"reactorlockup\":{\"image\":{\"attributes\":[{\"scalingtype\":null,\"detaildata\":{\"profilepict\n",
      "[ ]   393: urewithoutframe\":null,\"profilepicturewithringstatus\":null,\"companylogo\":null,\"icon\":null,\"systemimage\":null,\"nonentitygrouplogo\":n\n",
      "[ ]   394: ull,\"vectorimage\":null,\"nonentityprofessionaleventlogo\":null,\"imageurl\":null,\"professionaleventlogo\":null,\"nonentitycompanylogo\":n\n",
      "[ ]   395: ull,\"nonentityschoollogo\":null,\"*profilepicture\":\"urn:li:fsd_profile:acoaaae-ihebqkhk7c7f2cyl8ajmpc8hzlmmbx8\",\"grouplogo\":null,\"sc\n",
      "[ ]   396: hoollogo\":null,\"ghostimage\":null,\"nonentityprofilepicture\":null},\"tintcolor\":null,\"$recipetypes\":[\"com.linkedin.b57b9f6e942a4d5851\n",
      "[ ]   397: 5eb1c80578fea1\"],\"taptargets\":[],\"displayaspectratio\":null,\"$type\":\"com.linkedin.voyager.dash.common.image.imageattribute\"}],\"acti\n",
      "[ ]   398: ontarget\":null,\"accessibilitytextattributes\":[],\"totalcount\":null,\"accessibilitytext\":null,\"$recipetypes\":[\"com.linkedin.9bf954b55\n",
      "[ ]   399: 1982091ba62c4d2fe807451\"],\"$type\":\"com.linkedin.voyager.dash.common.image.imageviewmodel\"},\"subtitle\":{\"textdirection\":\"user_local\n",
      "[ ]   400: e\",\"text\":\"head of marketing\",\"attributesv2\":[],\"accessibilitytextattributesv2\":[],\"accessibilitytext\":null,\"$recipetypes\":[\"com.l\n",
      "[ ]   401: inkedin.c032efb3f96704e1ccdaafaf7d4d29df\"],\"$type\":\"com.linkedin.voyager.dash.common.text.textviewmodel\"},\"navigationurl\":\"https:/\n",
      "[ ]   402: /www.linkedin.com/in/acoaaae-ihebqkhk7c7f2cyl8ajmpc8hzlmmbx8\",\"label\":{\"textdirection\":\"user_locale\",\"text\":\"3rd+\",\"attributesv2\":\n",
      "[ ]   403: [],\"accessibilitytextattributesv2\":[],\"accessibilitytext\":null,\"$recipetypes\":[\"com.linkedin.c032efb3f96704e1ccdaafaf7d4d29df\"],\"$\n",
      "[ ]   404: type\":\"com.linkedin.voyager.dash.common.text.textviewmodel\"},\"title\":{\"textdirection\":\"first_strong\",\"text\":\"valentyna\n",
      "[ ]   405: bashtova\",\"attributesv2\":[],\"accessibilitytextattributesv2\":[],\"accessibilitytext\":\"view valentyna bashtova’s profile\",\"$recipetyp\n",
      "[ ]   406: es\":[\"com.linkedin.c032efb3f96704e1ccdaafaf7d4d29df\"],\"$type\":\"com.linkedin.voyager.dash.common.text.textviewmodel\"},\"accessibilit\n",
      "[ ]   407: ytext\":\"view valentyna bashtova’s profile\",\"$recipetypes\":[\"com.linkedin.22e03a59aebea3440a4e02a98d83e7bd\"],\"$type\":\"com.linkedin.\n",
      "[ ]   408: voyager.dash.common.ux.entitylockupviewmodel\"},\"$recipetypes\":[\"com.linkedin.dab74ef19bdb8a4c518ddf2dca563c96\"],\"$type\":\"com.linke\n",
      "[ ]   409: din.voyager.dash.social.reaction\",\"actor\":{\"companyurn\":null,\"*profileurn\":\"urn:li:fsd_profile:acoaaae-\n",
      "[ ]   410: ihebqkhk7c7f2cyl8ajmpc8hzlmmbx8\"},\"reactiontype\":\"like\",\"entityurn\":\"urn:li:fsd_reaction:(urn:li:fsd_profile:acoaaae-ihebqkhk7c7f2\n",
      "[ ]   411: cyl8ajmpc8hzlmmbx8,urn:li:activity:7054070071043710977,0)\",\"followingstate\":null,\"predashentityurn\":\"urn:li:fs_reaction:(urn:li:me\n",
      "[ ]   412: mber:129900657,urn:li:activity:7054070071043710977)\",\"predashactorurn\":\"urn:li:fs_miniprofile:acoaaae-ihebqkhk7c7f2cyl8ajmpc8hzlmm\n",
      "[ ]   413: bx8\"},{\"actorurn\":null,\"reactorlockup\":{\"image\":{\"attributes\":[{\"scalingtype\":null,\"detaildata\":{\"profilepicturewithoutframe\":null\n",
      "[ ]   414: ,\"profilepicturewithringstatus\":null,\"icon\":null,\"systemimage\":null,\"*companylogo\":\"urn:li:fsd_company:405958\",\"nonentitygrouplogo\n",
      "[ ]   415: \":null,\"vectorimage\":null,\"nonentityprofessionaleventlogo\":null,\"profilepicture\":null,\"imageurl\":null,\"professionaleventlogo\":null\n",
      "[ ]   416: ,\"nonentitycompanylogo\":null,\"nonentityschoollogo\":null,\"grouplogo\":null,\"schoollogo\":null,\"ghostimage\":null,\"nonentityprofilepict\n",
      "[ ]   417: ure\":null},\"tintcolor\":null,\"$recipetypes\":[\"com.linkedin.b57b9f6e942a4d58515eb1c80578fea1\"],\"taptargets\":[],\"displayaspectratio\":\n",
      "[ ]   418: null,\"$type\":\"com.linkedin.voyager.dash.common.image.imageattribute\"}],\"actiontarget\":null,\"accessibilitytextattributes\":[],\"total\n",
      "[ ]   419: count\":null,\"accessibilitytext\":null,\"$recipetypes\":[\"com.linkedin.9bf954b551982091ba62c4d2fe807451\"],\"$type\":\"com.linkedin.voyage\n",
      "[ ]   420: r.dash.common.image.imageviewmodel\"},\"subtitle\":{\"textdirection\":\"user_locale\",\"text\":\"614 followers\",\"attributesv2\":[],\"accessibi\n",
      "[ ]   421: litytextattributesv2\":[],\"accessibilitytext\":null,\"$recipetypes\":[\"com.linkedin.c032efb3f96704e1ccdaafaf7d4d29df\"],\"$type\":\"com.li\n",
      "[ ]   422: nkedin.voyager.dash.common.text.textviewmodel\"},\"navigationurl\":\"https://www.linkedin.com/company/eclettica-\n",
      "[ ]   423: akura/\",\"label\":null,\"title\":{\"textdirection\":\"user_locale\",\"text\":\"eclettica akura - agenzia di comunicazione e marketing\",\"attri\n",
      "[ ]   424: butesv2\":[],\"accessibilitytextattributesv2\":[],\"accessibilitytext\":null,\"$recipetypes\":[\"com.linkedin.c032efb3f96704e1ccdaafaf7d4d\n",
      "[ ]   425: 29df\"],\"$type\":\"com.linkedin.voyager.dash.common.text.textviewmodel\"},\"accessibilitytext\":\"view company: eclettica akura - agenzia\n",
      "[ ]   426: di comunicazione e marketing\",\"$recipetypes\":[\"com.linkedin.22e03a59aebea3440a4e02a98d83e7bd\"],\"$type\":\"com.linkedin.voyager.dash.\n",
      "[ ]   427: common.ux.entitylockupviewmodel\"},\"$recipetypes\":[\"com.linkedin.dab74ef19bdb8a4c518ddf2dca563c96\"],\"$type\":\"com.linkedin.voyager.d\n",
      "[ ]   428: ash.social.reaction\",\"actor\":{\"*companyurn\":\"urn:li:fsd_company:405958\",\"profileurn\":null},\"reactiontype\":\"like\",\"entityurn\":\"urn:\n",
      "[ ]   429: li:fsd_reaction:(urn:li:fsd_company:405958,urn:li:activity:7054070071043710977,0)\",\"followingstate\":null,\"predashentityurn\":\"urn:l\n",
      "[ ]   430: i:fs_reaction:(urn:li:company:405958,urn:li:activity:7054070071043710977)\",\"predashactorurn\":\"urn:li:fs_normalized_company:405958\"\n",
      "[ ]   431: },{\"actorurn\":null,\"reactorlockup\":{\"image\":{\"attributes\":[{\"scalingtype\":null,\"detaildata\":{\"profilepicturewithoutframe\":null,\"pr\n",
      "[ ]   432: ofilepicturewithringstatus\":null,\"companylogo\":null,\"icon\":null,\"systemimage\":null,\"nonentitygrouplogo\":null,\"vectorimage\":null,\"n\n",
      "[ ]   433: onentityprofessionaleventlogo\":null,\"imageurl\":null,\"professionaleventlogo\":null,\"nonentitycompanylogo\":null,\"nonentityschoollogo\"\n",
      "[ ]   434: :null,\"*profilepicture\":\"urn:li:fsd_profile:acoaaaok4v8bqg5igwf-c3bjv-\n",
      "[ ]   435: 6cpdjxxcdlbya\",\"grouplogo\":null,\"schoollogo\":null,\"ghostimage\":null,\"nonentityprofilepicture\":null},\"tintcolor\":null,\"$recipetypes\n",
      "[ ]   436: \":[\"com.linkedin.b57b9f6e942a4d58515eb1c80578fea1\"],\"taptargets\":[],\"displayaspectratio\":null,\"$type\":\"com.linkedin.voyager.dash.c\n",
      "[ ]   437: ommon.image.imageattribute\"}],\"actiontarget\":null,\"accessibilitytextattributes\":[],\"totalcount\":null,\"accessibilitytext\":null,\"$re\n",
      "[ ]   438: cipetypes\":[\"com.linkedin.9bf954b551982091ba62c4d2fe807451\"],\"$type\":\"com.linkedin.voyager.dash.common.image.imageviewmodel\"},\"sub\n",
      "[ ]   439: title\":{\"textdirection\":\"user_locale\",\"text\":\"vice president - technical at nichrome india ltd.\",\"attributesv2\":[],\"accessibilityt\n",
      "[ ]   440: extattributesv2\":[],\"accessibilitytext\":null,\"$recipetypes\":[\"com.linkedin.c032efb3f96704e1ccdaafaf7d4d29df\"],\"$type\":\"com.linkedi\n",
      "[ ]   441: n.voyager.dash.common.text.textviewmodel\"},\"navigationurl\":\"https://www.linkedin.com/in/acoaaaok4v8bqg5igwf-c3bjv-\n",
      "[ ]   442: 6cpdjxxcdlbya\",\"label\":{\"textdirection\":\"user_locale\",\"text\":\"3rd+\",\"attributesv2\":[],\"accessibilitytextattributesv2\":[],\"accessib\n",
      "[ ]   443: ilitytext\":null,\"$recipetypes\":[\"com.linkedin.c032efb3f96704e1ccdaafaf7d4d29df\"],\"$type\":\"com.linkedin.voyager.dash.common.text.te\n",
      "[X]   444: xtviewmodel\"},\"title\":{\"textdirection\":\"first_strong\",\"text\":\"charudatta\n",
      "[X]   445: salunke\",\"attributesv2\":[],\"accessibilitytextattributesv2\":[],\"accessibilitytext\":\"view charudatta salunke’s profile\",\"$recipetype\n",
      "[ ]   446: s\":[\"com.linkedin.c032efb3f96704e1ccdaafaf7d4d29df\"],\"$type\":\"com.linkedin.voyager.dash.common.text.textviewmodel\"},\"accessibility\n",
      "[X]   447: text\":\"view charudatta salunke’s profile\",\"$recipetypes\":[\"com.linkedin.22e03a59aebea3440a4e02a98d83e7bd\"],\"$type\":\"com.linkedin.v\n",
      "[ ]   448: oyager.dash.common.ux.entitylockupviewmodel\"},\"$recipetypes\":[\"com.linkedin.dab74ef19bdb8a4c518ddf2dca563c96\"],\"$type\":\"com.linked\n",
      "[ ]   449: in.voyager.dash.social.reaction\",\"actor\":{\"companyurn\":null,\"*profileurn\":\"urn:li:fsd_profile:acoaaaok4v8bqg5igwf-c3bjv-\n",
      "[ ]   450: 6cpdjxxcdlbya\"},\"reactiontype\":\"like\",\"entityurn\":\"urn:li:fsd_reaction:(urn:li:fsd_profile:acoaaaok4v8bqg5igwf-c3bjv-\n",
      "[ ]   451: 6cpdjxxcdlbya,urn:li:activity:7054070071043710977,0)\",\"followingstate\":null,\"predashentityurn\":\"urn:li:fs_reaction:(urn:li:member:\n",
      "[ ]   452: 170189151,urn:li:activity:7054070071043710977)\",\"predashactorurn\":\"urn:li:fs_miniprofile:acoaaaok4v8bqg5igwf-c3bjv-\n",
      "[ ]   453: 6cpdjxxcdlbya\"},{\"actorurn\":null,\"reactorlockup\":{\"image\":{\"attributes\":[{\"scalingtype\":null,\"detaildata\":{\"profilepicturewithoutf\n",
      "[ ]   454: rame\":null,\"profilepicturewithringstatus\":null,\"companylogo\":null,\"icon\":null,\"systemimage\":null,\"nonentitygrouplogo\":null,\"vector\n",
      "[ ]   455: image\":null,\"nonentityprofessionaleventlogo\":null,\"imageurl\":null,\"professionaleventlogo\":null,\"nonentitycompanylogo\":null,\"nonent\n",
      "[ ]   456: ityschoollogo\":null,\"*profilepicture\":\"urn:li:fsd_profile:acoaaanih2mbaysw1_me4wzxviz36igt_bpblts\",\"grouplogo\":null,\"schoollogo\":n\n",
      "[ ]   457: ull,\"ghostimage\":null,\"nonentityprofilepicture\":null},\"tintcolor\":null,\"$recipetypes\":[\"com.linkedin.b57b9f6e942a4d58515eb1c80578f\n",
      "[ ]   458: ea1\"],\"taptargets\":[],\"displayaspectratio\":null,\"$type\":\"com.linkedin.voyager.dash.common.image.imageattribute\"}],\"actiontarget\":n\n",
      "[ ]   459: ull,\"accessibilitytextattributes\":[],\"totalcount\":null,\"accessibilitytext\":null,\"$recipetypes\":[\"com.linkedin.9bf954b551982091ba62\n",
      "[ ]   460: c4d2fe807451\"],\"$type\":\"com.linkedin.voyager.dash.common.image.imageviewmodel\"},\"subtitle\":{\"textdirection\":\"user_locale\",\"text\":\"\n",
      "[ ]   461: my passion: transform challenges into opportunities, and profits. experience in business with manufacturing processes.\",\"attribute\n",
      "[ ]   462: sv2\":[],\"accessibilitytextattributesv2\":[],\"accessibilitytext\":null,\"$recipetypes\":[\"com.linkedin.c032efb3f96704e1ccdaafaf7d4d29df\n",
      "[ ]   463: \"],\"$type\":\"com.linkedin.voyager.dash.common.text.textviewmodel\"},\"navigationurl\":\"https://www.linkedin.com/in/acoaaanih2mbaysw1_m\n",
      "[ ]   464: e4wzxviz36igt_bpblts\",\"label\":{\"textdirection\":\"user_locale\",\"text\":\"3rd+\",\"attributesv2\":[],\"accessibilitytextattributesv2\":[],\"a\n",
      "[ ]   465: ccessibilitytext\":null,\"$recipetypes\":[\"com.linkedin.c032efb3f96704e1ccdaafaf7d4d29df\"],\"$type\":\"com.linkedin.voyager.dash.common.\n",
      "[ ]   466: text.textviewmodel\"},\"title\":{\"textdirection\":\"first_strong\",\"text\":\"rodrigo\n",
      "[ ]   467: arismendi\",\"attributesv2\":[],\"accessibilitytextattributesv2\":[],\"accessibilitytext\":\"view rodrigo arismendi’s profile\",\"$recipetyp\n",
      "[ ]   468: es\":[\"com.linkedin.c032efb3f96704e1ccdaafaf7d4d29df\"],\"$type\":\"com.linkedin.voyager.dash.common.text.textviewmodel\"},\"accessibilit\n",
      "[ ]   469: ytext\":\"view rodrigo arismendi’s profile\",\"$recipetypes\":[\"com.linkedin.22e03a59aebea3440a4e02a98d83e7bd\"],\"$type\":\"com.linkedin.v\n",
      "[ ]   470: oyager.dash.common.ux.entitylockupviewmodel\"},\"$recipetypes\":[\"com.linkedin.dab74ef19bdb8a4c518ddf2dca563c96\"],\"$type\":\"com.linked\n",
      "[ ]   471: in.voyager.dash.social.reaction\",\"actor\":{\"companyurn\":null,\"*profileurn\":\"urn:li:fsd_profile:acoaaanih2mbaysw1_me4wzxviz36igt_bpb\n",
      "[ ]   472: lts\"},\"reactiontype\":\"like\",\"entityurn\":\"urn:li:fsd_reaction:(urn:li:fsd_profile:acoaaanih2mbaysw1_me4wzxviz36igt_bpblts,urn:li:ac\n",
      "[ ]   473: tivity:7054070071043710977,0)\",\"followingstate\":null,\"predashentityurn\":\"urn:li:fs_reaction:(urn:li:member:56762211,urn:li:activit\n",
      "[ ]   474: y:7054070071043710977)\",\"predashactorurn\":\"urn:li:fs_miniprofile:acoaaanih2mbaysw1_me4wzxviz36igt_bpblts\"},{\"actorurn\":null,\"react\n",
      "[ ]   475: orlockup\":{\"image\":{\"attributes\":[{\"scalingtype\":null,\"detaildata\":{\"profilepicturewithoutframe\":null,\"profilepicturewithringstatu\n",
      "[ ]   476: s\":null,\"icon\":null,\"systemimage\":null,\"*companylogo\":\"urn:li:fsd_company:71507933\",\"nonentitygrouplogo\":null,\"vectorimage\":null,\"\n",
      "[ ]   477: nonentityprofessionaleventlogo\":null,\"profilepicture\":null,\"imageurl\":null,\"professionaleventlogo\":null,\"nonentitycompanylogo\":nul\n",
      "[ ]   478: l,\"nonentityschoollogo\":null,\"grouplogo\":null,\"schoollogo\":null,\"ghostimage\":null,\"nonentityprofilepicture\":null},\"tintcolor\":null\n",
      "[ ]   479: ,\"$recipetypes\":[\"com.linkedin.b57b9f6e942a4d58515eb1c80578fea1\"],\"taptargets\":[],\"displayaspectratio\":null,\"$type\":\"com.linkedin.\n",
      "[ ]   480: voyager.dash.common.image.imageattribute\"}],\"actiontarget\":null,\"accessibilitytextattributes\":[],\"totalcount\":null,\"accessibilityt\n",
      "[ ]   481: ext\":null,\"$recipetypes\":[\"com.linkedin.9bf954b551982091ba62c4d2fe807451\"],\"$type\":\"com.linkedin.voyager.dash.common.image.imagevi\n",
      "[ ]   482: ewmodel\"},\"subtitle\":{\"textdirection\":\"user_locale\",\"text\":\"5,496 followers\",\"attributesv2\":[],\"accessibilitytextattributesv2\":[],\n",
      "[ ]   483: \"accessibilitytext\":null,\"$recipetypes\":[\"com.linkedin.c032efb3f96704e1ccdaafaf7d4d29df\"],\"$type\":\"com.linkedin.voyager.dash.commo\n",
      "[ ]   484: n.text.textviewmodel\"},\"navigationurl\":\"https://www.linkedin.com/company/interpack-tradefair/\",\"label\":null,\"title\":{\"textdirectio\n",
      "[ ]   485: n\":\"user_locale\",\"text\":\"interpack\",\"attributesv2\":[],\"accessibilitytextattributesv2\":[],\"accessibilitytext\":null,\"$recipetypes\":[\n",
      "[ ]   486: \"com.linkedin.c032efb3f96704e1ccdaafaf7d4d29df\"],\"$type\":\"com.linkedin.voyager.dash.common.text.textviewmodel\"},\"accessibilitytext\n",
      "[ ]   487: \":\"view company: interpack\",\"$recipetypes\":[\"com.linkedin.22e03a59aebea3440a4e02a98d83e7bd\"],\"$type\":\"com.linkedin.voyager.dash.co\n",
      "[ ]   488: mmon.ux.entitylockupviewmodel\"},\"$recipetypes\":[\"com.linkedin.dab74ef19bdb8a4c518ddf2dca563c96\"],\"$type\":\"com.linkedin.voyager.das\n",
      "[ ]   489: h.social.reaction\",\"actor\":{\"*companyurn\":\"urn:li:fsd_company:71507933\",\"profileurn\":null},\"reactiontype\":\"like\",\"entityurn\":\"urn:\n",
      "[ ]   490: li:fsd_reaction:(urn:li:fsd_company:71507933,urn:li:activity:7054070071043710977,0)\",\"followingstate\":null,\"predashentityurn\":\"urn\n",
      "[ ]   491: :li:fs_reaction:(urn:li:company:71507933,urn:li:activity:7054070071043710977)\",\"predashactorurn\":\"urn:li:fs_normalized_company:715\n",
      "[ ]   492: 07933\"},{\"actorurn\":null,\"reactorlockup\":{\"image\":{\"attributes\":[{\"scalingtype\":null,\"detaildata\":{\"profilepicturewithoutframe\":nu\n",
      "[ ]   493: ll,\"profilepicturewithringstatus\":null,\"companylogo\":null,\"icon\":null,\"systemimage\":null,\"nonentitygrouplogo\":null,\"vectorimage\":n\n",
      "[ ]   494: ull,\"nonentityprofessionaleventlogo\":null,\"imageurl\":null,\"professionaleventlogo\":null,\"nonentitycompanylogo\":null,\"nonentityschoo\n",
      "[ ]   495: llogo\":null,\"*profilepicture\":\"urn:li:fsd_profile:acoaabwrgbkb0udggk1lqnsb3w-\n",
      "[ ]   496: 2bpzkg1_mn7k\",\"grouplogo\":null,\"schoollogo\":null,\"ghostimage\":null,\"nonentityprofilepicture\":null},\"tintcolor\":null,\"$recipetypes\"\n",
      "[ ]   497: :[\"com.linkedin.b57b9f6e942a4d58515eb1c80578fea1\"],\"taptargets\":[],\"displayaspectratio\":null,\"$type\":\"com.linkedin.voyager.dash.co\n",
      "[ ]   498: mmon.image.imageattribute\"}],\"actiontarget\":null,\"accessibilitytextattributes\":[],\"totalcount\":null,\"accessibilitytext\":null,\"$rec\n",
      "[ ]   499: ipetypes\":[\"com.linkedin.9bf954b551982091ba62c4d2fe807451\"],\"$type\":\"com.linkedin.voyager.dash.common.image.imageviewmodel\"},\"subt\n",
      "[ ]   500: itle\":{\"textdirection\":\"user_locale\",\"text\":\"production manager presso dietopack srl\",\"attributesv2\":[],\"accessibilitytextattribut\n",
      "[ ]   501: esv2\":[],\"accessibilitytext\":null,\"$recipetypes\":[\"com.linkedin.c032efb3f96704e1ccdaafaf7d4d29df\"],\"$type\":\"com.linkedin.voyager.d\n",
      "[ ]   502: ash.common.text.textviewmodel\"},\"navigationurl\":\"https://www.linkedin.com/in/acoaabwrgbkb0udggk1lqnsb3w-\n",
      "[ ]   503: 2bpzkg1_mn7k\",\"label\":{\"textdirection\":\"user_locale\",\"text\":\"3rd+\",\"attributesv2\":[],\"accessibilitytextattributesv2\":[],\"accessibi\n",
      "[ ]   504: litytext\":null,\"$recipetypes\":[\"com.linkedin.c032efb3f96704e1ccdaafaf7d4d29df\"],\"$type\":\"com.linkedin.voyager.dash.common.text.tex\n",
      "[ ]   505: tviewmodel\"},\"title\":{\"textdirection\":\"first_strong\",\"text\":\"massimiliano\n",
      "[ ]   506: maestri\",\"attributesv2\":[],\"accessibilitytextattributesv2\":[],\"accessibilitytext\":\"view massimiliano maestri’s profile\",\"$recipety\n",
      "[ ]   507: pes\":[\"com.linkedin.c032efb3f96704e1ccdaafaf7d4d29df\"],\"$type\":\"com.linkedin.voyager.dash.common.text.textviewmodel\"},\"accessibili\n",
      "[ ]   508: tytext\":\"view massimiliano maestri’s profile\",\"$recipetypes\":[\"com.linkedin.22e03a59aebea3440a4e02a98d83e7bd\"],\"$type\":\"com.linked\n",
      "[ ]   509: in.voyager.dash.common.ux.entitylockupviewmodel\"},\"$recipetypes\":[\"com.linkedin.dab74ef19bdb8a4c518ddf2dca563c96\"],\"$type\":\"com.li\n",
      "[ ]   510: nkedin.voyager.dash.social.reaction\",\"actor\":{\"companyurn\":null,\"*profileurn\":\"urn:li:fsd_profile:acoaabwrgbkb0udggk1lqnsb3w-\n",
      "[ ]   511: 2bpzkg1_mn7k\"},\"reactiontype\":\"like\",\"entityurn\":\"urn:li:fsd_reaction:(urn:li:fsd_profile:acoaabwrgbkb0udggk1lqnsb3w-\n",
      "[ ]   512: 2bpzkg1_mn7k,urn:li:activity:7054070071043710977,0)\",\"followingstate\":null,\"predashentityurn\":\"urn:li:fs_reaction:(urn:li:member:3\n",
      "[ ]   513: 61857049,urn:li:activity:7054070071043710977)\",\"predashactorurn\":\"urn:li:fs_miniprofile:acoaabwrgbkb0udggk1lqnsb3w-\n",
      "[ ]   514: 2bpzkg1_mn7k\"}]}\n"
     ]
    }
   ],
   "source": [
    "ifs.flow(118).search(patterns=['CHARUDATTA'], is_json=False)"
   ]
  },
  {
   "cell_type": "code",
   "execution_count": null,
   "id": "4000bddb-96f4-4124-8d36-fdea9c29ec83",
   "metadata": {},
   "outputs": [],
   "source": []
  }
 ],
 "metadata": {
  "kernelspec": {
   "display_name": "Python 3 (ipykernel)",
   "language": "python",
   "name": "python3"
  },
  "language_info": {
   "codemirror_mode": {
    "name": "ipython",
    "version": 3
   },
   "file_extension": ".py",
   "mimetype": "text/x-python",
   "name": "python",
   "nbconvert_exporter": "python",
   "pygments_lexer": "ipython3",
   "version": "3.10.6"
  }
 },
 "nbformat": 4,
 "nbformat_minor": 5
}
