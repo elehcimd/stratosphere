{
 "cells": [
  {
   "cell_type": "code",
   "execution_count": 1,
   "id": "51188371-a9b0-4f62-ae26-f09d931336a2",
   "metadata": {
    "tags": []
   },
   "outputs": [],
   "source": [
    "%load_ext autoreload\n",
    "%autoreload 2\n",
    "%reload_ext autoreload"
   ]
  },
  {
   "cell_type": "markdown",
   "id": "cd5762a1-387a-4b98-8599-45d9fe49ce27",
   "metadata": {},
   "source": [
    "[[Home](/)]\n",
    "[[Webapps](/jupyter/voila/tree/webapps)]\n",
    "\n",
    "# System overview\n",
    "\n"
   ]
  },
  {
   "cell_type": "code",
   "execution_count": 6,
   "id": "4d6a92a9-a242-4bb7-ad58-49f8a4166635",
   "metadata": {
    "tags": []
   },
   "outputs": [],
   "source": [
    "from stratosphere import Stratosphere\n",
    "from stratosphere.services.extractor import get_list_extractors\n",
    "from stratosphere import options\n",
    "from IPython.display import HTML\n",
    "from markdown import markdown\n",
    "import os\n",
    "\n",
    "def first_or_null(s):\n",
    "    if len(s) >0:\n",
    "        return s.iloc[0]\n",
    "    else:\n",
    "        return \"N/A\"\n",
    "\n",
    "    \n"
   ]
  },
  {
   "cell_type": "code",
   "execution_count": 11,
   "id": "c44a4567-d0c5-4440-baab-716399ed99ef",
   "metadata": {
    "tags": []
   },
   "outputs": [
    {
     "data": {
      "text/html": [
       "<p>Overview:</p>\n",
       "<ul>\n",
       "<li>The knowledge base contains <strong>1062</strong> entities and <strong>1115</strong> relationships</li>\n",
       "<li>Timestamp of last inserted entity: <strong>2023-04-14 08:06:12.927356</strong></li>\n",
       "<li>Timestamp of last inserted relationship: <strong>2023-04-14 08:06:12.928926</strong></li>\n",
       "<li>Timestamp of last intercepted flow: <strong>2023-04-14 08:13:39.357319</strong></li>\n",
       "<li>Count of (not deleted) flows in probe.db: <strong>0</strong></li>\n",
       "<li>Size (MiB) of probe.db: <strong>31.89</strong></li>\n",
       "<li>Size (MiB) of kb.db: <strong>0.70</strong></li>\n",
       "</ul>\n",
       "<p>Registered extractors:</p>\n",
       "<ul>\n",
       "<li>extractor_google_search</li>\n",
       "<li>extractor_vkontakte</li>\n",
       "</ul>"
      ],
      "text/plain": [
       "<IPython.core.display.HTML object>"
      ]
     },
     "execution_count": 11,
     "metadata": {},
     "output_type": "execute_result"
    }
   ],
   "source": [
    "kb = Stratosphere(options.get(\"db.url_kb\"))\n",
    "probe = Stratosphere(options.get(\"db.url_probe\"))\n",
    "count_entities = kb.db.pandas(\"SELECT count(*) as cnt FROM entities\").cnt.iloc[0]\n",
    "count_relationships = kb.db.pandas(\"SELECT count(*) as cnt FROM relationships\").cnt.iloc[0]\n",
    "last_entity_ts = kb.db.pandas(\"SELECT ts FROM entities ORDER BY ts DESC LIMIT 1\").ts.iloc[0]\n",
    "last_relationship_ts = kb.db.pandas(\"SELECT ts FROM relationships ORDER BY ts DESC LIMIT 1\").ts.iloc[0]\n",
    "last_flow_ts = first_or_null(probe.db.pandas(\"SELECT flow_capture_timestamp FROM flows ORDER BY flow_capture_timestamp DESC LIMIT 1\").flow_capture_timestamp)\n",
    "count_flows = kb.db.pandas(\"SELECT count(*) as cnt FROM flows\").cnt.iloc[0]\n",
    "size_mb_probe = probe.db.size()\n",
    "size_mb_kb = kb.db.size()\n",
    "\n",
    "registered_extractors = \"\"\n",
    "for modname in get_list_extractors():\n",
    "    registered_extractors += f\"* **{modname}**\\n\"\n",
    "\n",
    "mkd = f\"\"\"\n",
    "Overview:\n",
    "\n",
    "* The knowledge base contains **{count_entities}** entities and **{count_relationships}** relationships\n",
    "* Timestamp of last inserted entity: **{last_entity_ts}**\n",
    "* Timestamp of last inserted relationship: **{last_relationship_ts}**\n",
    "* Timestamp of last intercepted flow: **{last_flow_ts}**\n",
    "* Count of (not deleted) flows in probe.db: **{count_flows}**\n",
    "* Size (MiB) of probe.db: **{size_mb_probe:.2f}**\n",
    "* Size (MiB) of kb.db: **{size_mb_kb:.2f}**\n",
    "\n",
    "Registered extractors:\n",
    "\n",
    "{registered_extractors}\n",
    "\"\"\"\n",
    "\n",
    "HTML(markdown(mkd))"
   ]
  },
  {
   "cell_type": "markdown",
   "id": "6bd4edf1-b4c7-4366-b099-f3942792a0eb",
   "metadata": {},
   "source": [
    "Recent system logs:\n"
   ]
  },
  {
   "cell_type": "code",
   "execution_count": 12,
   "id": "84b66480-7a0d-4468-b955-f0c833f79a65",
   "metadata": {
    "tags": []
   },
   "outputs": [
    {
     "name": "stdout",
     "output_type": "stream",
     "text": [
      "2023-04-14 08:02:39,426 INFO Set uid to user 0 succeeded\n",
      "2023-04-14 08:02:39,428 INFO RPC interface 'supervisor' initialized\n",
      "2023-04-14 08:02:39,428 CRIT Server 'unix_http_server' running without any HTTP authentication checking\n",
      "2023-04-14 08:02:39,428 INFO supervisord started with pid 1\n",
      "2023-04-14 08:02:40,451 INFO spawned: 'extractor' with pid 7\n",
      "2023-04-14 08:02:40,455 INFO spawned: 'jupyter' with pid 8\n",
      "2023-04-14 08:02:40,465 INFO spawned: 'mitmproxy' with pid 9\n",
      "2023-04-14 08:02:40,476 INFO spawned: 'nginx' with pid 10\n",
      "2023-04-14 08:02:40,489 INFO spawned: 'sqliteweb' with pid 11\n",
      "2023-04-14 08:02:42,409 INFO success: extractor entered RUNNING state, process has stayed up for > than 1 seconds (startsecs)\n",
      "2023-04-14 08:02:42,409 INFO success: jupyter entered RUNNING state, process has stayed up for > than 1 seconds (startsecs)\n",
      "2023-04-14 08:02:42,410 INFO success: mitmproxy entered RUNNING state, process has stayed up for > than 1 seconds (startsecs)\n",
      "2023-04-14 08:02:42,410 INFO success: nginx entered RUNNING state, process has stayed up for > than 1 seconds (startsecs)\n",
      "2023-04-14 08:02:42,410 INFO success: sqliteweb entered RUNNING state, process has stayed up for > than 1 seconds (startsecs)\n",
      "2023-04-14 08:06:12,465 WARN exited: extractor (exit status 1; not expected)\n",
      "2023-04-14 08:06:12,466 INFO spawned: 'extractor' with pid 487\n",
      "2023-04-14 08:06:13,719 INFO success: extractor entered RUNNING state, process has stayed up for > than 1 seconds (startsecs)\n"
     ]
    }
   ],
   "source": [
    "!tail -100 /tmp/supervisord.log"
   ]
  },
  {
   "cell_type": "code",
   "execution_count": 14,
   "id": "c234d0a3-dc41-4d0c-97f5-86b77719acea",
   "metadata": {},
   "outputs": [
    {
     "name": "stdout",
     "output_type": "stream",
     "text": [
      "Uptime (hh:mm:ss): 05:16\n"
     ]
    }
   ],
   "source": [
    "!echo \"Uptime (hh:mm:ss): $(ps -o etime= -p 1 | tr -d ' ')\""
   ]
  },
  {
   "cell_type": "code",
   "execution_count": null,
   "id": "67cbb3de-7694-4302-907a-8956407e6731",
   "metadata": {},
   "outputs": [],
   "source": []
  }
 ],
 "metadata": {
  "kernelspec": {
   "display_name": "Python 3 (ipykernel)",
   "language": "python",
   "name": "python3"
  },
  "language_info": {
   "codemirror_mode": {
    "name": "ipython",
    "version": 3
   },
   "file_extension": ".py",
   "mimetype": "text/x-python",
   "name": "python",
   "nbconvert_exporter": "python",
   "pygments_lexer": "ipython3",
   "version": "3.10.6"
  }
 },
 "nbformat": 4,
 "nbformat_minor": 5
}
