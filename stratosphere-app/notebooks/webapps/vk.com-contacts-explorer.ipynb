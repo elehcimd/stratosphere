{
 "cells": [
  {
   "cell_type": "code",
   "execution_count": 1,
   "id": "d13c7d97-3120-4457-b73e-cbd963cde0b8",
   "metadata": {
    "tags": []
   },
   "outputs": [],
   "source": [
    "%load_ext autoreload\n",
    "%autoreload 2\n",
    "%reload_ext autoreload"
   ]
  },
  {
   "cell_type": "markdown",
   "id": "ede1b164-87c5-4721-8e25-a5af1a2647dd",
   "metadata": {
    "tags": []
   },
   "source": [
    "[[Home](/)]\n",
    "[[Webapps](/jupyter/voila/tree/webapps)]\n",
    "\n",
    "# People at vk.com\n",
    "\n"
   ]
  },
  {
   "cell_type": "code",
   "execution_count": null,
   "id": "842d3b16-58a2-41d0-b684-bd246f05755c",
   "metadata": {
    "tags": []
   },
   "outputs": [],
   "source": []
  },
  {
   "cell_type": "code",
   "execution_count": 2,
   "id": "72829545-2de0-47b1-bf30-7061cc0d4254",
   "metadata": {
    "tags": []
   },
   "outputs": [],
   "source": [
    "import pandas as pd\n",
    "from stratosphere import Stratosphere\n",
    "from stratosphere.utils.inspect_flows import InspectFlows\n",
    "from stratosphere import options\n",
    "from stratosphere.services.extractor import Extractor\n",
    "from stratosphere.storage.models import Flow\n",
    "import json\n",
    "from IPython.display import Image, HTML\n",
    "\n"
   ]
  },
  {
   "cell_type": "code",
   "execution_count": 3,
   "id": "551df643-bb9d-4687-9471-abbec10dc36e",
   "metadata": {
    "tags": []
   },
   "outputs": [],
   "source": [
    "pd.options.display.max_rows = 10\n",
    "pd.options.display.max_columns = 100\n",
    "pd.options.display.max_colwidth = 100"
   ]
  },
  {
   "cell_type": "code",
   "execution_count": 4,
   "id": "068851d9-b8c0-4d51-bee9-a0fb0635bfda",
   "metadata": {
    "tags": []
   },
   "outputs": [],
   "source": [
    "kb = Stratosphere(options.get(\"db.url_kb\"))\n"
   ]
  },
  {
   "cell_type": "code",
   "execution_count": 9,
   "id": "bcf8b7cc-da25-4c5d-bf1d-beb7434b391d",
   "metadata": {
    "tags": []
   },
   "outputs": [],
   "source": [
    "q = \"\"\"\n",
    "SELECT\n",
    "    *\n",
    "FROM entities\n",
    "where type is 'vk.com/person'\n",
    "order by length(data) desc\n",
    "\"\"\"\n",
    "\n",
    "def get_df_people():\n",
    "    df_people = kb.db.pandas(q)\n",
    "    df_people_data = pd.json_normalize(df_people.data.apply(lambda t: json.loads(t)).values)\n",
    "    df_people_data['id'] = df_people['id']\n",
    "    df_people = df_people.merge(df_people_data, on='id')\n",
    "    return df_people\n",
    "\n",
    "#get_df_people().head()\n"
   ]
  },
  {
   "cell_type": "code",
   "execution_count": 10,
   "id": "30df6cd8-6e55-4569-9ad2-aedf3fda083e",
   "metadata": {
    "tags": []
   },
   "outputs": [],
   "source": [
    "import pandas as pd\n",
    "from IPython.display import Image, HTML\n",
    "import pandas as pd\n",
    "import textwrap\n",
    "from datetime import datetime\n",
    "#from ipywidgets import HTML\n",
    "from ipywidgets import GridspecLayout, Layout, Button, Textarea\n",
    "import ipywidgets as widgets\n",
    "\n",
    "import ipywidgets as widgets\n",
    "\n",
    "def render_img_url(url):\n",
    "    if not url:\n",
    "        return \"\"\n",
    "    return '<img src=\"'+ url + '\" style=max-height:124px;\"/>'\n",
    "\n",
    "def render_href(href_col):    \n",
    "    if not href_col[1]:\n",
    "        return \"\"\n",
    "    return f'<a target=\"_blank\" href={href_col[1]}>{href_col[0]}</a>'\n",
    "\n",
    "\n",
    "def render_df(df):\n",
    "    if len(df) == 0:\n",
    "        print('No matches.')\n",
    "        return\n",
    "    \n",
    "    print(f\"Found {len(df)} matching profiles (limit 100)\")\n",
    "    print()\n",
    "    \n",
    "    df = df.head(100)\n",
    "\n",
    "    df = df.copy()\n",
    "    df['user_id'] = df.user_ids.apply(lambda x: json.loads(x)[0])\n",
    "\n",
    "   \n",
    "    df['bdate'] = df.bdate.fillna(\"\").apply(lambda x: f'\"{x}\"' if x else \"\")\n",
    "    df['user_page'] = df.apply(lambda row: [row.full_name, f'https://vk.com/id{row.user_id}'], axis=1)\n",
    "    df['friends_page'] = df.apply(lambda row: ['friends', f'https://vk.com/friends?id={row.user_id}&section=all'], axis=1)\n",
    "    df['entity'] = df.apply(lambda row: ['e', f'/jupyter/voila/render/webapps/entity-overview.ipynb?entity_id={row.id}'], axis=1)\n",
    "    cols = ['entity', 'user_page', 'friends_page', 'country', 'city', 'bdate', 'skype', 'url_picture']\n",
    "    df = df[cols]\n",
    "    df = df.fillna(\"\")\n",
    "    \n",
    "    display(HTML(df.to_html(escape=False, formatters=dict(entity=render_href, friends_page=render_href, user_page=render_href, url_picture=render_img_url)))) # escape=False ,formatters=dict(url_picture=render_img_url))\n",
    "    \n",
    "    #display_network(df)\n",
    "#render_df(df_people.head(5))"
   ]
  },
  {
   "cell_type": "code",
   "execution_count": null,
   "id": "775bb7c2-00a8-4fa3-a174-3f0a832862d0",
   "metadata": {
    "tags": []
   },
   "outputs": [],
   "source": []
  },
  {
   "cell_type": "code",
   "execution_count": 25,
   "id": "1c835303-b871-4d14-9bc1-7c2e5730b529",
   "metadata": {
    "tags": []
   },
   "outputs": [],
   "source": [
    "from pyvis.network import Network\n",
    "from IPython.display import display\n",
    "import ipywidgets as widgets\n",
    "from IPython.display import display, IFrame\n",
    "\n",
    "    \n",
    "def display_network(df):\n",
    "    entity_ids = ','.join(f'\"{entity_id}\"' for entity_id in df.id.values)\n",
    "\n",
    "    def get_ents_rels(min_conn=2):\n",
    "    \n",
    "        while True:\n",
    "            q = f\"\"\"\n",
    "with entities as (\n",
    "select src as id from relationships where type = 'friend'\n",
    "union all\n",
    "select dst as id from relationships where type = 'friend'\n",
    "),\n",
    "\n",
    "target_entities as (\n",
    "select id\n",
    "from entities\n",
    "group by 1\n",
    "having count(*) >={min_conn})\n",
    "\n",
    "select * from relationships \n",
    "    where dst in (select id from target_entities) \n",
    "    and  src in (select id from target_entities)\n",
    "\n",
    "    \"\"\"\n",
    "\n",
    "            df_rels = kb.db.pandas(q)\n",
    "    \n",
    "    \n",
    "            q = f\"\"\"\n",
    "with entities as (\n",
    "select src as id from relationships where type = 'friend'\n",
    "union all\n",
    "select dst as id from relationships where type = 'friend'\n",
    "),\n",
    "\n",
    "target_entities as (\n",
    "select id\n",
    "from entities\n",
    "group by 1\n",
    "having count(*) >={min_conn})\n",
    "\n",
    "select * from target_entities\n",
    "\n",
    "    \"\"\"\n",
    "    \n",
    "            df_ents = kb.db.pandas(q)\n",
    "        \n",
    "            if len(df_rels) < 100:\n",
    "                return df_rels, df_ents\n",
    "            \n",
    "            min_conn+=1\n",
    "            \n",
    "    \n",
    "    df_rels, df_ents  = get_ents_rels()\n",
    "    \n",
    "#    display(df_rels)       \n",
    "#    nodes = list(set(df_rels.src.tolist()).union(set(df_rels.dst.tolist())))\n",
    "    nodes = df_ents.id.tolist()\n",
    "    \n",
    "    net = Network(notebook=True, height='450px', cdn_resources='in_line', neighborhood_highlight=True, directed=False) #, select_menu=True, filter_menu=True)\n",
    "#    net.show_buttons(filter_='physics')\n",
    "#    net.show_buttons()    \n",
    "    net.set_options('{\"layout\": {\"randomSeed\":5}}')\n",
    "    for idx, row in df.iterrows():\n",
    "        if row.id in nodes:\n",
    "            net.add_node(row.id, label=row.full_name.replace(' ', \"\\n\").replace('-', \"\\n\"))\n",
    "    \n",
    "    for idx, row in df_rels.iterrows():\n",
    "        net.add_edge(row.src, row.dst)\n",
    "        #print(row.src, row.dst)\n",
    "        \n",
    "    net.show('network-overview.html', notebook=False)\n",
    "     \n",
    "    display(IFrame(src='/jupyter/files/webapps/network-overview.html',width='100%', height='500px'))    \n",
    "    \n",
    "#display_network(get_df_people())"
   ]
  },
  {
   "cell_type": "code",
   "execution_count": 26,
   "id": "f6042b66-0ddf-4bd5-9f52-accd82398ec2",
   "metadata": {
    "tags": []
   },
   "outputs": [],
   "source": [
    "\n",
    "\n",
    "w_textsearch = widgets.Text(\n",
    "    value='',\n",
    "    placeholder='',\n",
    "    description='Filter:',\n",
    "    style = {'description_width': 'initial'},\n",
    "    layout=Layout(width=\"99%\"),\n",
    "    disabled=False\n",
    ")\n",
    "\n",
    "\n",
    "\n",
    "#w_textsearch.value = \"asd\""
   ]
  },
  {
   "cell_type": "code",
   "execution_count": 27,
   "id": "c5c90ab2-2301-47e4-b720-f8882fff0928",
   "metadata": {
    "tags": []
   },
   "outputs": [],
   "source": [
    "w_out_list = widgets.Output()\n",
    "w_out_graph = widgets.Output()"
   ]
  },
  {
   "cell_type": "code",
   "execution_count": 28,
   "id": "042abe95-9438-4dda-b5ca-8984765f386e",
   "metadata": {
    "tags": []
   },
   "outputs": [],
   "source": [
    "def w_textsearch_onchange(change):\n",
    "    \n",
    "    mks = []\n",
    "    \n",
    "    if change['name'] == 'value':\n",
    "        w_out_list.clear_output()\n",
    "        df_people = get_df_people()\n",
    "        df = df_people[df_people.data.str.lower().str.contains(w_textsearch.value.lower())]\n",
    "        with w_out_list:            \n",
    "            render_df(df)\n"
   ]
  },
  {
   "cell_type": "code",
   "execution_count": 29,
   "id": "109f5fca-d867-42f4-9076-d7dd19f34e48",
   "metadata": {
    "tags": []
   },
   "outputs": [],
   "source": [
    "w_textsearch.observe(w_textsearch_onchange)\n",
    "w_textsearch_onchange({'name':'value'})"
   ]
  },
  {
   "cell_type": "code",
   "execution_count": 30,
   "id": "6b3f4485-3d0e-444b-a97b-d6bfe5b46ea4",
   "metadata": {
    "tags": []
   },
   "outputs": [],
   "source": [
    "with w_out_graph:\n",
    "    display_network(get_df_people())"
   ]
  },
  {
   "cell_type": "code",
   "execution_count": 31,
   "id": "8aac6841-d8b6-4a8c-b6b9-df5b7e267b8c",
   "metadata": {
    "tags": []
   },
   "outputs": [
    {
     "data": {
      "application/vnd.jupyter.widget-view+json": {
       "model_id": "feb91dd3ca2941799691bcb972351b62",
       "version_major": 2,
       "version_minor": 0
      },
      "text/plain": [
       "Text(value='', description='Filter:', layout=Layout(width='99%'), placeholder='', style=TextStyle(description_…"
      ]
     },
     "metadata": {},
     "output_type": "display_data"
    },
    {
     "data": {
      "application/vnd.jupyter.widget-view+json": {
       "model_id": "27a34c6f58df49babb51dfbbf370600c",
       "version_major": 2,
       "version_minor": 0
      },
      "text/plain": [
       "GridspecLayout(children=(GridspecLayout(children=(Output(layout=Layout(grid_area='widget001'), outputs=({'name…"
      ]
     },
     "metadata": {},
     "output_type": "display_data"
    }
   ],
   "source": [
    "# row, column\n",
    "\n",
    "g1 = GridspecLayout(1, 1,  height='500px')\n",
    "g1[0,:] = w_out_list\n",
    "g2 = GridspecLayout(1, 2,  height='550px')\n",
    "g2[:,0] = g1\n",
    "g2[:,1] = w_out_graph\n",
    "\n",
    "display(w_textsearch)\n",
    "display(g2)"
   ]
  },
  {
   "cell_type": "code",
   "execution_count": null,
   "id": "caa7aff9-e70e-45ee-86a4-9bdb53fc9686",
   "metadata": {},
   "outputs": [],
   "source": []
  }
 ],
 "metadata": {
  "kernelspec": {
   "display_name": "Python 3 (ipykernel)",
   "language": "python",
   "name": "python3"
  },
  "language_info": {
   "codemirror_mode": {
    "name": "ipython",
    "version": 3
   },
   "file_extension": ".py",
   "mimetype": "text/x-python",
   "name": "python",
   "nbconvert_exporter": "python",
   "pygments_lexer": "ipython3",
   "version": "3.10.6"
  }
 },
 "nbformat": 4,
 "nbformat_minor": 5
}
