{
 "cells": [
  {
   "cell_type": "code",
   "execution_count": 1,
   "id": "d13c7d97-3120-4457-b73e-cbd963cde0b8",
   "metadata": {
    "tags": []
   },
   "outputs": [],
   "source": [
    "%load_ext autoreload\n",
    "%autoreload 2\n",
    "%reload_ext autoreload"
   ]
  },
  {
   "cell_type": "code",
   "execution_count": 2,
   "id": "72829545-2de0-47b1-bf30-7061cc0d4254",
   "metadata": {
    "tags": []
   },
   "outputs": [],
   "source": [
    "import pandas as pd\n",
    "from stratosphere import Stratosphere\n",
    "from stratosphere.utils.inspect_flows import InspectFlows\n",
    "from stratosphere import options\n",
    "from stratosphere.services.extractor import Extractor\n",
    "from stratosphere.storage.models import Flow"
   ]
  },
  {
   "cell_type": "code",
   "execution_count": 3,
   "id": "551df643-bb9d-4687-9471-abbec10dc36e",
   "metadata": {
    "tags": []
   },
   "outputs": [],
   "source": [
    "pd.options.display.max_rows = 10\n",
    "pd.options.display.max_columns = 100\n",
    "pd.options.display.max_colwidth = 100"
   ]
  },
  {
   "cell_type": "markdown",
   "id": "d390678b-944d-4845-89d7-927903ad4233",
   "metadata": {},
   "source": [
    "[[Home](http://127.0.0.1/)]\n",
    "[[Webapps](http://127.0.0.1/jupyter/voila/tree/webapps)]\n",
    "\n",
    "# Entity overview\n",
    "\n"
   ]
  },
  {
   "cell_type": "code",
   "execution_count": 4,
   "id": "fcbdc374-3eca-47aa-8569-dc51d6159322",
   "metadata": {
    "tags": []
   },
   "outputs": [],
   "source": [
    "kb = Stratosphere(options.get(\"db.url_kb\"))\n"
   ]
  },
  {
   "cell_type": "code",
   "execution_count": 5,
   "id": "6eb7847c-4282-4ede-9d93-4e79fec702c6",
   "metadata": {
    "tags": []
   },
   "outputs": [],
   "source": [
    "import os\n",
    "from urllib.parse import parse_qs\n",
    "\n",
    "params = parse_qs(os.environ.get(\"QUERY_STRING\"), keep_blank_values=True)\n",
    "\n",
    "if 'entity_id' not in params:\n",
    "    params['entity_id'] = '268acd531d7668dbdb79f33bbfb4575c'\n"
   ]
  },
  {
   "cell_type": "code",
   "execution_count": 6,
   "id": "af25d6c0-84c2-414b-96e4-bc089b67eb0c",
   "metadata": {
    "tags": []
   },
   "outputs": [],
   "source": [
    "entity_id = params['entity_id'][0]"
   ]
  },
  {
   "cell_type": "code",
   "execution_count": 7,
   "id": "2bb1a1b1-54da-45dc-89d1-0211be505683",
   "metadata": {
    "tags": []
   },
   "outputs": [
    {
     "data": {
      "text/html": [
       "<div>\n",
       "<style scoped>\n",
       "    .dataframe tbody tr th:only-of-type {\n",
       "        vertical-align: middle;\n",
       "    }\n",
       "\n",
       "    .dataframe tbody tr th {\n",
       "        vertical-align: top;\n",
       "    }\n",
       "\n",
       "    .dataframe thead th {\n",
       "        text-align: right;\n",
       "    }\n",
       "</style>\n",
       "<table border=\"1\" class=\"dataframe\">\n",
       "  <thead>\n",
       "    <tr style=\"text-align: right;\">\n",
       "      <th></th>\n",
       "      <th>entity_id</th>\n",
       "      <th>group</th>\n",
       "      <th>type</th>\n",
       "      <th>data</th>\n",
       "      <th>blob</th>\n",
       "      <th>timestamp</th>\n",
       "    </tr>\n",
       "  </thead>\n",
       "  <tbody>\n",
       "  </tbody>\n",
       "</table>\n",
       "</div>"
      ],
      "text/plain": [
       "Empty DataFrame\n",
       "Columns: [entity_id, group, type, data, blob, timestamp]\n",
       "Index: []"
      ]
     },
     "execution_count": 7,
     "metadata": {},
     "output_type": "execute_result"
    }
   ],
   "source": [
    "def get_entity(entity_id):\n",
    "    \n",
    "    q = f\"\"\"\n",
    "        SELECT\n",
    "            *\n",
    "        FROM entities\n",
    "        WHERE entity_id = \"{entity_id}\"\n",
    "    \"\"\"\n",
    "    df = kb.db.pandas(q)\n",
    "    \n",
    "    \n",
    "    return df\n",
    "\n",
    "get_entity(entity_id)"
   ]
  },
  {
   "cell_type": "code",
   "execution_count": 8,
   "id": "5fd3b045-2929-43cf-a21e-ceb42dda11d4",
   "metadata": {
    "tags": []
   },
   "outputs": [
    {
     "ename": "IndexError",
     "evalue": "single positional indexer is out-of-bounds",
     "output_type": "error",
     "traceback": [
      "\u001b[0;31m---------------------------------------------------------------------------\u001b[0m",
      "\u001b[0;31mIndexError\u001b[0m                                Traceback (most recent call last)",
      "Cell \u001b[0;32mIn[8], line 23\u001b[0m\n\u001b[1;32m     20\u001b[0m     html \u001b[38;5;241m=\u001b[39m markdown(\u001b[38;5;124m'\u001b[39m\u001b[38;5;130;01m\\n\u001b[39;00m\u001b[38;5;124m'\u001b[39m\u001b[38;5;241m.\u001b[39mjoin(mks))\n\u001b[1;32m     21\u001b[0m     display(HTML(html))\n\u001b[0;32m---> 23\u001b[0m \u001b[43mrender_entity\u001b[49m\u001b[43m(\u001b[49m\u001b[43mentity_id\u001b[49m\u001b[43m)\u001b[49m\n",
      "Cell \u001b[0;32mIn[8], line 9\u001b[0m, in \u001b[0;36mrender_entity\u001b[0;34m(entity_id)\u001b[0m\n\u001b[1;32m      5\u001b[0m \u001b[38;5;28;01mdef\u001b[39;00m \u001b[38;5;21mrender_entity\u001b[39m(entity_id):\n\u001b[1;32m      7\u001b[0m     mks\u001b[38;5;241m=\u001b[39m []\n\u001b[0;32m----> 9\u001b[0m     \u001b[38;5;28;01mfor\u001b[39;00m key, value \u001b[38;5;129;01min\u001b[39;00m \u001b[43mget_entity\u001b[49m\u001b[43m(\u001b[49m\u001b[43mentity_id\u001b[49m\u001b[43m)\u001b[49m\u001b[38;5;241;43m.\u001b[39;49m\u001b[43miloc\u001b[49m\u001b[43m[\u001b[49m\u001b[38;5;241;43m0\u001b[39;49m\u001b[43m]\u001b[49m\u001b[38;5;241m.\u001b[39mto_dict()\u001b[38;5;241m.\u001b[39mitems():    \n\u001b[1;32m     10\u001b[0m         \u001b[38;5;28;01mif\u001b[39;00m key \u001b[38;5;241m==\u001b[39m \u001b[38;5;124m\"\u001b[39m\u001b[38;5;124mblob\u001b[39m\u001b[38;5;124m\"\u001b[39m:\n\u001b[1;32m     11\u001b[0m             \u001b[38;5;28;01mcontinue\u001b[39;00m\n",
      "File \u001b[0;32m/usr/local/lib/python3.10/dist-packages/pandas/core/indexing.py:1073\u001b[0m, in \u001b[0;36m_LocationIndexer.__getitem__\u001b[0;34m(self, key)\u001b[0m\n\u001b[1;32m   1070\u001b[0m axis \u001b[38;5;241m=\u001b[39m \u001b[38;5;28mself\u001b[39m\u001b[38;5;241m.\u001b[39maxis \u001b[38;5;129;01mor\u001b[39;00m \u001b[38;5;241m0\u001b[39m\n\u001b[1;32m   1072\u001b[0m maybe_callable \u001b[38;5;241m=\u001b[39m com\u001b[38;5;241m.\u001b[39mapply_if_callable(key, \u001b[38;5;28mself\u001b[39m\u001b[38;5;241m.\u001b[39mobj)\n\u001b[0;32m-> 1073\u001b[0m \u001b[38;5;28;01mreturn\u001b[39;00m \u001b[38;5;28;43mself\u001b[39;49m\u001b[38;5;241;43m.\u001b[39;49m\u001b[43m_getitem_axis\u001b[49m\u001b[43m(\u001b[49m\u001b[43mmaybe_callable\u001b[49m\u001b[43m,\u001b[49m\u001b[43m \u001b[49m\u001b[43maxis\u001b[49m\u001b[38;5;241;43m=\u001b[39;49m\u001b[43maxis\u001b[49m\u001b[43m)\u001b[49m\n",
      "File \u001b[0;32m/usr/local/lib/python3.10/dist-packages/pandas/core/indexing.py:1625\u001b[0m, in \u001b[0;36m_iLocIndexer._getitem_axis\u001b[0;34m(self, key, axis)\u001b[0m\n\u001b[1;32m   1622\u001b[0m     \u001b[38;5;28;01mraise\u001b[39;00m \u001b[38;5;167;01mTypeError\u001b[39;00m(\u001b[38;5;124m\"\u001b[39m\u001b[38;5;124mCannot index by location index with a non-integer key\u001b[39m\u001b[38;5;124m\"\u001b[39m)\n\u001b[1;32m   1624\u001b[0m \u001b[38;5;66;03m# validate the location\u001b[39;00m\n\u001b[0;32m-> 1625\u001b[0m \u001b[38;5;28;43mself\u001b[39;49m\u001b[38;5;241;43m.\u001b[39;49m\u001b[43m_validate_integer\u001b[49m\u001b[43m(\u001b[49m\u001b[43mkey\u001b[49m\u001b[43m,\u001b[49m\u001b[43m \u001b[49m\u001b[43maxis\u001b[49m\u001b[43m)\u001b[49m\n\u001b[1;32m   1627\u001b[0m \u001b[38;5;28;01mreturn\u001b[39;00m \u001b[38;5;28mself\u001b[39m\u001b[38;5;241m.\u001b[39mobj\u001b[38;5;241m.\u001b[39m_ixs(key, axis\u001b[38;5;241m=\u001b[39maxis)\n",
      "File \u001b[0;32m/usr/local/lib/python3.10/dist-packages/pandas/core/indexing.py:1557\u001b[0m, in \u001b[0;36m_iLocIndexer._validate_integer\u001b[0;34m(self, key, axis)\u001b[0m\n\u001b[1;32m   1555\u001b[0m len_axis \u001b[38;5;241m=\u001b[39m \u001b[38;5;28mlen\u001b[39m(\u001b[38;5;28mself\u001b[39m\u001b[38;5;241m.\u001b[39mobj\u001b[38;5;241m.\u001b[39m_get_axis(axis))\n\u001b[1;32m   1556\u001b[0m \u001b[38;5;28;01mif\u001b[39;00m key \u001b[38;5;241m>\u001b[39m\u001b[38;5;241m=\u001b[39m len_axis \u001b[38;5;129;01mor\u001b[39;00m key \u001b[38;5;241m<\u001b[39m \u001b[38;5;241m-\u001b[39mlen_axis:\n\u001b[0;32m-> 1557\u001b[0m     \u001b[38;5;28;01mraise\u001b[39;00m \u001b[38;5;167;01mIndexError\u001b[39;00m(\u001b[38;5;124m\"\u001b[39m\u001b[38;5;124msingle positional indexer is out-of-bounds\u001b[39m\u001b[38;5;124m\"\u001b[39m)\n",
      "\u001b[0;31mIndexError\u001b[0m: single positional indexer is out-of-bounds"
     ]
    }
   ],
   "source": [
    "import json\n",
    "from IPython.display import HTML\n",
    "from markdown import markdown\n",
    "\n",
    "def render_entity(entity_id):\n",
    "\n",
    "    mks= []\n",
    "\n",
    "    for key, value in get_entity(entity_id).iloc[0].to_dict().items():    \n",
    "        if key == \"blob\":\n",
    "            continue\n",
    "        if key == 'data':\n",
    "            mks.append(\"* **data**\")\n",
    "            data = json.loads(value)\n",
    "            for data_key, data_value in data.items():\n",
    "                mks.append(f'    * **{data_key}**: {data_value}')                    \n",
    "        else:\n",
    "            mks.append(f'* **{key}**: {value}')\n",
    "\n",
    "    html = markdown('\\n'.join(mks))\n",
    "    display(HTML(html))\n",
    "\n",
    "render_entity(entity_id)"
   ]
  },
  {
   "cell_type": "code",
   "execution_count": 77,
   "id": "6d8a9b18-d2b2-4326-b032-0e9f2d0cf9a6",
   "metadata": {
    "tags": []
   },
   "outputs": [
    {
     "data": {
      "text/html": [
       "<div>\n",
       "<style scoped>\n",
       "    .dataframe tbody tr th:only-of-type {\n",
       "        vertical-align: middle;\n",
       "    }\n",
       "\n",
       "    .dataframe tbody tr th {\n",
       "        vertical-align: top;\n",
       "    }\n",
       "\n",
       "    .dataframe thead th {\n",
       "        text-align: right;\n",
       "    }\n",
       "</style>\n",
       "<table border=\"1\" class=\"dataframe\">\n",
       "  <thead>\n",
       "    <tr style=\"text-align: right;\">\n",
       "      <th></th>\n",
       "      <th>relationship_id</th>\n",
       "      <th>group</th>\n",
       "      <th>type</th>\n",
       "      <th>src</th>\n",
       "      <th>dst</th>\n",
       "      <th>data</th>\n",
       "      <th>blob</th>\n",
       "      <th>timestamp</th>\n",
       "    </tr>\n",
       "  </thead>\n",
       "  <tbody>\n",
       "    <tr>\n",
       "      <th>0</th>\n",
       "      <td>c2f1f15e619dc3c63378ff396721cfbd</td>\n",
       "      <td>google_search</td>\n",
       "      <td>search_result</td>\n",
       "      <td>7d0677a38f14268564fe031532d3e86b</td>\n",
       "      <td>85b2824c4b33376e91292b9e0eb023e0</td>\n",
       "      <td>{\"url\": \"https://thegrayzone.com/2021/10/09/bellingcat-intelligence-contractors-extremists-syria...</td>\n",
       "      <td>NaN</td>\n",
       "      <td>2023-04-09 15:25:48.032190</td>\n",
       "    </tr>\n",
       "  </tbody>\n",
       "</table>\n",
       "</div>"
      ],
      "text/plain": [
       "                    relationship_id          group           type  \\\n",
       "0  c2f1f15e619dc3c63378ff396721cfbd  google_search  search_result   \n",
       "\n",
       "                                src                               dst  \\\n",
       "0  7d0677a38f14268564fe031532d3e86b  85b2824c4b33376e91292b9e0eb023e0   \n",
       "\n",
       "                                                                                                  data  \\\n",
       "0  {\"url\": \"https://thegrayzone.com/2021/10/09/bellingcat-intelligence-contractors-extremists-syria...   \n",
       "\n",
       "   blob                   timestamp  \n",
       "0   NaN  2023-04-09 15:25:48.032190  "
      ]
     },
     "execution_count": 77,
     "metadata": {},
     "output_type": "execute_result"
    }
   ],
   "source": [
    "def get_relationships(entity_id):\n",
    "    \n",
    "    q = f\"\"\"\n",
    "        SELECT\n",
    "            *\n",
    "        FROM relationships\n",
    "        WHERE dst = \"{entity_id}\" or src = \"{entity_id}\"\n",
    "    \"\"\"\n",
    "    df = kb.db.pandas(q)\n",
    "    \n",
    "    return df\n",
    "\n",
    "df = get_relationships(entity_id)\n",
    "df.fillna(\"\")\n"
   ]
  },
  {
   "cell_type": "code",
   "execution_count": null,
   "id": "02e8c5c4-9d29-4d6b-89ba-3f9e2b2ccaae",
   "metadata": {},
   "outputs": [],
   "source": []
  },
  {
   "cell_type": "code",
   "execution_count": null,
   "id": "9b620a76-ef6f-455e-8713-ceca67bde964",
   "metadata": {},
   "outputs": [],
   "source": []
  }
 ],
 "metadata": {
  "kernelspec": {
   "display_name": "Python 3 (ipykernel)",
   "language": "python",
   "name": "python3"
  },
  "language_info": {
   "codemirror_mode": {
    "name": "ipython",
    "version": 3
   },
   "file_extension": ".py",
   "mimetype": "text/x-python",
   "name": "python",
   "nbconvert_exporter": "python",
   "pygments_lexer": "ipython3",
   "version": "3.10.6"
  }
 },
 "nbformat": 4,
 "nbformat_minor": 5
}
