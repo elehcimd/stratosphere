{
 "cells": [
  {
   "cell_type": "code",
   "execution_count": 1,
   "id": "d13c7d97-3120-4457-b73e-cbd963cde0b8",
   "metadata": {
    "tags": []
   },
   "outputs": [],
   "source": [
    "%load_ext autoreload\n",
    "%autoreload 2\n",
    "%reload_ext autoreload"
   ]
  },
  {
   "cell_type": "code",
   "execution_count": 2,
   "id": "72829545-2de0-47b1-bf30-7061cc0d4254",
   "metadata": {
    "tags": []
   },
   "outputs": [],
   "source": [
    "import pandas as pd\n",
    "from stratosphere import Stratosphere\n",
    "from stratosphere.utils.inspect_flows import InspectFlows\n",
    "from stratosphere import options\n",
    "from stratosphere.services.extractor import Extractor\n",
    "from stratosphere.storage.models import Flow\n",
    "from stratosphere.services.extractors.dummy import dummy_uuid\n",
    "from stratosphere.services.extractors.dummy import add_dummy"
   ]
  },
  {
   "cell_type": "code",
   "execution_count": 3,
   "id": "551df643-bb9d-4687-9471-abbec10dc36e",
   "metadata": {
    "tags": []
   },
   "outputs": [],
   "source": [
    "pd.options.display.max_rows = 10\n",
    "pd.options.display.max_columns = 100\n",
    "pd.options.display.max_colwidth = 100"
   ]
  },
  {
   "cell_type": "markdown",
   "id": "d390678b-944d-4845-89d7-927903ad4233",
   "metadata": {},
   "source": [
    "[[Home](/)]\n",
    "[[Webapps](/jupyter/voila/tree/webapps)]\n",
    "\n",
    "# Entity overview\n",
    "\n"
   ]
  },
  {
   "cell_type": "code",
   "execution_count": 4,
   "id": "fcbdc374-3eca-47aa-8569-dc51d6159322",
   "metadata": {
    "tags": []
   },
   "outputs": [],
   "source": [
    "add_dummy()\n",
    "kb = Stratosphere(options.get(\"db.url_kb\"))"
   ]
  },
  {
   "cell_type": "code",
   "execution_count": 15,
   "id": "6eb7847c-4282-4ede-9d93-4e79fec702c6",
   "metadata": {
    "tags": []
   },
   "outputs": [],
   "source": [
    "import os\n",
    "from urllib.parse import parse_qs\n",
    "\n",
    "params = parse_qs(os.environ.get(\"QUERY_STRING\"), keep_blank_values=True)\n",
    "\n",
    "if 'entity_id' not in params:\n",
    "    params['entity_id'] =[dummy_uuid]\n"
   ]
  },
  {
   "cell_type": "code",
   "execution_count": 17,
   "id": "af25d6c0-84c2-414b-96e4-bc089b67eb0c",
   "metadata": {
    "tags": []
   },
   "outputs": [],
   "source": [
    "entity_id = params['entity_id'][0]"
   ]
  },
  {
   "cell_type": "code",
   "execution_count": 22,
   "id": "2bb1a1b1-54da-45dc-89d1-0211be505683",
   "metadata": {
    "tags": []
   },
   "outputs": [
    {
     "data": {
      "text/html": [
       "<div>\n",
       "<style scoped>\n",
       "    .dataframe tbody tr th:only-of-type {\n",
       "        vertical-align: middle;\n",
       "    }\n",
       "\n",
       "    .dataframe tbody tr th {\n",
       "        vertical-align: top;\n",
       "    }\n",
       "\n",
       "    .dataframe thead th {\n",
       "        text-align: right;\n",
       "    }\n",
       "</style>\n",
       "<table border=\"1\" class=\"dataframe\">\n",
       "  <thead>\n",
       "    <tr style=\"text-align: right;\">\n",
       "      <th></th>\n",
       "      <th>entity_id</th>\n",
       "      <th>group</th>\n",
       "      <th>type</th>\n",
       "      <th>data</th>\n",
       "      <th>blob</th>\n",
       "      <th>timestamp</th>\n",
       "    </tr>\n",
       "  </thead>\n",
       "  <tbody>\n",
       "    <tr>\n",
       "      <th>0</th>\n",
       "      <td>275876e34cf609db118f3d84b799a790</td>\n",
       "      <td>dummy</td>\n",
       "      <td>dummy</td>\n",
       "      <td>{}</td>\n",
       "      <td></td>\n",
       "      <td>2023-04-12 12:11:21.360329</td>\n",
       "    </tr>\n",
       "  </tbody>\n",
       "</table>\n",
       "</div>"
      ],
      "text/plain": [
       "                          entity_id  group   type data blob  \\\n",
       "0  275876e34cf609db118f3d84b799a790  dummy  dummy   {}        \n",
       "\n",
       "                    timestamp  \n",
       "0  2023-04-12 12:11:21.360329  "
      ]
     },
     "execution_count": 22,
     "metadata": {},
     "output_type": "execute_result"
    }
   ],
   "source": [
    "def get_entity(entity_id):\n",
    "    \n",
    "    q = f\"\"\"\n",
    "        SELECT\n",
    "            *\n",
    "        FROM entities\n",
    "        WHERE entity_id = \"{entity_id}\"\n",
    "    \"\"\"\n",
    "    df = kb.db.pandas(q)\n",
    "    \n",
    "    \n",
    "    return df.fillna(\"\")\n",
    "\n",
    "#get_entity(entity_id)"
   ]
  },
  {
   "cell_type": "markdown",
   "id": "95b46410-c91f-4c7c-b495-094f7ffe0fe4",
   "metadata": {},
   "source": [
    "## Properties"
   ]
  },
  {
   "cell_type": "code",
   "execution_count": 26,
   "id": "5fd3b045-2929-43cf-a21e-ceb42dda11d4",
   "metadata": {
    "tags": []
   },
   "outputs": [
    {
     "data": {
      "text/html": [
       "<ul>\n",
       "<li><strong>entity_id</strong>: 275876e34cf609db118f3d84b799a790</li>\n",
       "<li><strong>group</strong>: dummy</li>\n",
       "<li><strong>type</strong>: dummy</li>\n",
       "<li><strong>data</strong></li>\n",
       "<li><strong>timestamp</strong>: 2023-04-12 12:12:33.220130</li>\n",
       "</ul>"
      ],
      "text/plain": [
       "<IPython.core.display.HTML object>"
      ]
     },
     "metadata": {},
     "output_type": "display_data"
    }
   ],
   "source": [
    "import json\n",
    "from IPython.display import HTML\n",
    "from markdown import markdown\n",
    "\n",
    "def render_entity(entity_id):\n",
    "    \n",
    "    mks= []\n",
    "\n",
    "    for key, value in get_entity(entity_id).iloc[0].to_dict().items():    \n",
    "        if key == \"blob\":\n",
    "            continue\n",
    "        if key == 'data':\n",
    "            mks.append(\"* **data**\")\n",
    "            data = json.loads(value)\n",
    "            for data_key, data_value in data.items():\n",
    "                mks.append(f'    * **{data_key}**: {data_value}')                    \n",
    "        else:\n",
    "            mks.append(f'* **{key}**: {value}')\n",
    "\n",
    "    html = markdown('\\n'.join(mks))\n",
    "    display(HTML(html))\n",
    "\n",
    "render_entity(entity_id)"
   ]
  },
  {
   "cell_type": "markdown",
   "id": "fff97823-96f9-44f8-b69e-fca7b505519a",
   "metadata": {},
   "source": [
    "## Relationships"
   ]
  },
  {
   "cell_type": "code",
   "execution_count": 30,
   "id": "ce3fed2f-7433-456c-8553-05d044efe0cb",
   "metadata": {
    "tags": []
   },
   "outputs": [],
   "source": [
    "def render_href(href_col):    \n",
    "    if not href_col[1]:\n",
    "        return \"\"\n",
    "    return f'<a target=\"_blank\" href={href_col[1]}>{href_col[0]}</a>'\n",
    "\n",
    "\n",
    "def render_df(df):\n",
    "    if len(df) == 0:\n",
    "        print('No matches.')\n",
    "        return\n",
    "    \n",
    "    df = df.copy()\n",
    "\n",
    "    df['src'] =  df.apply(lambda row: [row.src, f'/jupyter/voila/render/webapps/entity-overview.ipynb?entity_id={row.src}'], axis=1)\n",
    "    df['dst'] =  df.apply(lambda row: [row.dst, f'/jupyter/voila/render/webapps/entity-overview.ipynb?entity_id={row.dst}'], axis=1)\n",
    "    \n",
    "    df = df.fillna(\"\")\n",
    "    \n",
    "    display(HTML(df.to_html(escape=False, formatters=dict(src=render_href, dst=render_href)))) # escape=False ,formatters=dict(url_picture=render_img_url))\n",
    "    "
   ]
  },
  {
   "cell_type": "code",
   "execution_count": 31,
   "id": "6d8a9b18-d2b2-4326-b032-0e9f2d0cf9a6",
   "metadata": {
    "tags": []
   },
   "outputs": [
    {
     "data": {
      "text/html": [
       "<table border=\"1\" class=\"dataframe\">\n",
       "  <thead>\n",
       "    <tr style=\"text-align: right;\">\n",
       "      <th></th>\n",
       "      <th>relationship_id</th>\n",
       "      <th>group</th>\n",
       "      <th>type</th>\n",
       "      <th>src</th>\n",
       "      <th>dst</th>\n",
       "      <th>data</th>\n",
       "      <th>blob</th>\n",
       "      <th>timestamp</th>\n",
       "    </tr>\n",
       "  </thead>\n",
       "  <tbody>\n",
       "    <tr>\n",
       "      <th>0</th>\n",
       "      <td>275876e34cf609db118f3d84b799a790</td>\n",
       "      <td>dummy</td>\n",
       "      <td>dummy</td>\n",
       "      <td><a href=/jupyter/voila/render/webapps/entity-overview.ipynb?entity_id=275876e34cf609db118f3d84b799a790>src</a></td>\n",
       "      <td><a href=/jupyter/voila/render/webapps/entity-overview.ipynb?entity_id=275876e34cf609db118f3d84b799a790>src</a></td>\n",
       "      <td>{}</td>\n",
       "      <td></td>\n",
       "      <td>2023-04-12 12:15:48.573458</td>\n",
       "    </tr>\n",
       "  </tbody>\n",
       "</table>"
      ],
      "text/plain": [
       "<IPython.core.display.HTML object>"
      ]
     },
     "metadata": {},
     "output_type": "display_data"
    }
   ],
   "source": [
    "def get_relationships(entity_id):\n",
    "    \n",
    "    q = f\"\"\"\n",
    "        SELECT\n",
    "            *\n",
    "        FROM relationships\n",
    "        WHERE dst = \"{entity_id}\" or src = \"{entity_id}\"\n",
    "    \"\"\"\n",
    "    df = kb.db.pandas(q)\n",
    "    \n",
    "    return df\n",
    "\n",
    "df = get_relationships(entity_id)\n",
    "df.fillna(\"\")\n",
    "\n",
    "render_df(df)"
   ]
  },
  {
   "cell_type": "code",
   "execution_count": 27,
   "id": "02e8c5c4-9d29-4d6b-89ba-3f9e2b2ccaae",
   "metadata": {
    "tags": []
   },
   "outputs": [],
   "source": []
  },
  {
   "cell_type": "code",
   "execution_count": null,
   "id": "9b620a76-ef6f-455e-8713-ceca67bde964",
   "metadata": {},
   "outputs": [],
   "source": []
  }
 ],
 "metadata": {
  "kernelspec": {
   "display_name": "Python 3 (ipykernel)",
   "language": "python",
   "name": "python3"
  },
  "language_info": {
   "codemirror_mode": {
    "name": "ipython",
    "version": 3
   },
   "file_extension": ".py",
   "mimetype": "text/x-python",
   "name": "python",
   "nbconvert_exporter": "python",
   "pygments_lexer": "ipython3",
   "version": "3.10.6"
  }
 },
 "nbformat": 4,
 "nbformat_minor": 5
}
