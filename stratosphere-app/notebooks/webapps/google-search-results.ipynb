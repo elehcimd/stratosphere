{
 "cells": [
  {
   "cell_type": "code",
   "execution_count": 1,
   "id": "d13c7d97-3120-4457-b73e-cbd963cde0b8",
   "metadata": {
    "tags": []
   },
   "outputs": [],
   "source": [
    "%load_ext autoreload\n",
    "%autoreload 2\n",
    "%reload_ext autoreload"
   ]
  },
  {
   "cell_type": "code",
   "execution_count": 2,
   "id": "72829545-2de0-47b1-bf30-7061cc0d4254",
   "metadata": {
    "tags": []
   },
   "outputs": [],
   "source": [
    "import pandas as pd\n",
    "from stratosphere import Stratosphere\n",
    "from stratosphere.utils.inspect_flows import InspectFlows\n",
    "from stratosphere import options\n",
    "from stratosphere.services.extractor import Extractor\n",
    "from stratosphere.storage.models import Flow"
   ]
  },
  {
   "cell_type": "code",
   "execution_count": 3,
   "id": "551df643-bb9d-4687-9471-abbec10dc36e",
   "metadata": {
    "tags": []
   },
   "outputs": [],
   "source": [
    "pd.options.display.max_rows = 10\n",
    "pd.options.display.max_columns = 100\n",
    "pd.options.display.max_colwidth = 100"
   ]
  },
  {
   "cell_type": "markdown",
   "id": "d390678b-944d-4845-89d7-927903ad4233",
   "metadata": {},
   "source": [
    "[[Home](/)]\n",
    "[[Webapps](/jupyter/voila/tree/webapps)]\n",
    "\n",
    "# Google searches\n",
    "\n"
   ]
  },
  {
   "cell_type": "code",
   "execution_count": 4,
   "id": "fcbdc374-3eca-47aa-8569-dc51d6159322",
   "metadata": {
    "tags": []
   },
   "outputs": [],
   "source": [
    "kb = Stratosphere(options.get(\"db.url_kb\"))\n"
   ]
  },
  {
   "cell_type": "code",
   "execution_count": 8,
   "id": "df994b1f-cd42-482d-a1b9-1cd437cf53bc",
   "metadata": {
    "tags": []
   },
   "outputs": [],
   "source": [
    "def get_google_searches():\n",
    "    \n",
    "    q = \"\"\"\n",
    "        SELECT\n",
    "            id,\n",
    "            json_extract(data, '$.q') as query\n",
    "        FROM entities\n",
    "        WHERE type = \"google.com/search_query\"\n",
    "    \"\"\"\n",
    "    df = kb.db.pandas(q)\n",
    "    \n",
    "    return df.set_index('query').to_dict(orient='index')\n",
    "\n",
    "#get_google_searches()"
   ]
  },
  {
   "cell_type": "code",
   "execution_count": 9,
   "id": "a32ce8bd-e166-467d-bbc0-59f9eba3df8e",
   "metadata": {
    "tags": []
   },
   "outputs": [],
   "source": [
    "def get_google_results(entity_id):\n",
    "    \n",
    "    q = f\"\"\"\n",
    "    SELECT\n",
    "        e.id,\n",
    "        e.type,\n",
    "        r.src,\n",
    "        json_extract(e.data, '$.text') as text,\n",
    "        json_extract(e.data, '$.url') as url\n",
    "    FROM entities e\n",
    "    LEFT JOIN relationships r ON e.id = r.dst\n",
    "    WHERE\n",
    "        e.type = \"google.com/search_result\" AND\n",
    "        r.src = \"{entity_id}\"\n",
    "    \"\"\"\n",
    "    df = kb.db.pandas(q)\n",
    "    return df\n",
    "\n",
    "#get_google_results('1d9b08d14cbfb686c2e1e760b017d384')\n",
    "\n"
   ]
  },
  {
   "cell_type": "code",
   "execution_count": 10,
   "id": "ead44dbe-325b-4198-bc6e-2a68da8ec9ac",
   "metadata": {
    "tags": []
   },
   "outputs": [],
   "source": [
    "# Imports\n",
    "import pandas as pd\n",
    "import textwrap\n",
    "from datetime import datetime\n",
    "from ipywidgets import HTML\n",
    "from ipywidgets import GridspecLayout, Layout, Button, Textarea\n",
    "import ipywidgets as widgets\n",
    "\n",
    "options = get_google_searches()\n",
    "\n",
    "\n",
    "if len(options) == 0:\n",
    "    options = {'' : ''}\n",
    "    value = \"\"\n",
    "else:\n",
    "    value = list(options.values())[0]\n",
    "    \n",
    "w_searches = widgets.Select(options=options, value=value, rows=20, disabled=False, layout=Layout(width=\"99%\", height='180px'))\n",
    "\n",
    "\n"
   ]
  },
  {
   "cell_type": "code",
   "execution_count": 13,
   "id": "2b1ddca6-364a-4340-a74f-c596f91e6de9",
   "metadata": {
    "tags": []
   },
   "outputs": [],
   "source": [
    "w_out = widgets.Output()\n"
   ]
  },
  {
   "cell_type": "code",
   "execution_count": 17,
   "id": "6a21af69-8a1e-48a5-9117-b4cb1d0a5474",
   "metadata": {
    "tags": []
   },
   "outputs": [],
   "source": [
    "from IPython.display import HTML\n",
    "from markdown import markdown\n",
    "\n",
    "def render_img_url(url):\n",
    "    return '<img src=\"'+ url + '\" style=max-height:124px;\"/>'\n",
    "\n",
    "def render_href(href):    \n",
    "    return f'<a href={href}>{href}</a>'\n",
    "\n",
    "\n",
    "\n",
    "\n",
    "def w_searches_onchange(change):\n",
    "    \n",
    "    mks = []\n",
    "    \n",
    "    if w_searches.value == \"\":\n",
    "        return\n",
    "    \n",
    "    if change['name'] == 'value':        \n",
    "        w_out.clear_output()\n",
    "        with w_out:\n",
    "            df = get_google_results(w_searches.value['id'])\n",
    "            \n",
    "            for idx, row in df.iterrows():\n",
    "                text = row.text if row.text is not None else row.url\n",
    "                \n",
    "                from urllib.parse import urlparse\n",
    "                domain = urlparse(row.url).netloc\n",
    "                \n",
    "                mks.append(f\"{idx+1}. [[e](/jupyter/voila/render/webapps/entity-overview.ipynb?entity_id={row.id})] [{str(text)}]({row.url}) - **{domain}**\")\n",
    "            \n",
    "            \n",
    "            cols = [\"id\", \"text\", \"url\"]\n",
    "            df = df[cols]    \n",
    "            html = markdown('\\n'.join(mks))\n",
    "            html = html.replace('<ol>', '<ol style=\"list-style-position: inside;\">')\n",
    "            html = html.replace('<a ', '<a target=\"_blank\" ')\n",
    "        \n",
    "            display(HTML(html))\n",
    "            \n",
    "w_searches.observe(w_searches_onchange)\n",
    "\n",
    "w_searches_onchange({'name':'value'})\n"
   ]
  },
  {
   "cell_type": "code",
   "execution_count": 18,
   "id": "b8755d86-d20d-4df4-80be-a316ea1ac43d",
   "metadata": {
    "tags": []
   },
   "outputs": [
    {
     "data": {
      "application/vnd.jupyter.widget-view+json": {
       "model_id": "9440eef1dcbc4ffabd0242d1b1c0b24e",
       "version_major": 2,
       "version_minor": 0
      },
      "text/plain": [
       "Select(layout=Layout(height='180px', width='99%'), options={'bellingcat tools': {'id': '9087537177b531b83175eb…"
      ]
     },
     "execution_count": 18,
     "metadata": {},
     "output_type": "execute_result"
    }
   ],
   "source": [
    "w_searches"
   ]
  },
  {
   "cell_type": "code",
   "execution_count": 19,
   "id": "af25d6c0-84c2-414b-96e4-bc089b67eb0c",
   "metadata": {
    "tags": []
   },
   "outputs": [
    {
     "data": {
      "application/vnd.jupyter.widget-view+json": {
       "model_id": "69ed7a5eb54d460ab6039df7007eaf56",
       "version_major": 2,
       "version_minor": 0
      },
      "text/plain": [
       "Output(outputs=({'output_type': 'display_data', 'data': {'text/plain': '<IPython.core.display.HTML object>', '…"
      ]
     },
     "execution_count": 19,
     "metadata": {},
     "output_type": "execute_result"
    }
   ],
   "source": [
    "w_out"
   ]
  },
  {
   "cell_type": "code",
   "execution_count": null,
   "id": "2bb1a1b1-54da-45dc-89d1-0211be505683",
   "metadata": {},
   "outputs": [],
   "source": []
  },
  {
   "cell_type": "code",
   "execution_count": null,
   "id": "db031915-7590-445c-9f53-390a01a8f478",
   "metadata": {},
   "outputs": [],
   "source": []
  }
 ],
 "metadata": {
  "kernelspec": {
   "display_name": "Python 3 (ipykernel)",
   "language": "python",
   "name": "python3"
  },
  "language_info": {
   "codemirror_mode": {
    "name": "ipython",
    "version": 3
   },
   "file_extension": ".py",
   "mimetype": "text/x-python",
   "name": "python",
   "nbconvert_exporter": "python",
   "pygments_lexer": "ipython3",
   "version": "3.10.6"
  }
 },
 "nbformat": 4,
 "nbformat_minor": 5
}
