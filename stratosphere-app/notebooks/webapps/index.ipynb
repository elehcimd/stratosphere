{
 "cells": [
  {
   "cell_type": "markdown",
   "id": "717ad11e-7534-4b9f-b29e-1639d82195cf",
   "metadata": {},
   "source": [
    "# Welcome!\n",
    "\n",
    "Access the [web apps](/jupyter/voila/tree/webapps):\n",
    "\n",
    "* [Explore the tracked vk.com contacts](http://127.0.0.1:8082/jupyter/voila/render/webapps/vk.com-people.ipynb)\n",
    "* [Review your past Google searches](http://127.0.0.1:8082/jupyter/voila/render/webapps/google-search-results.ipynb)\n",
    "\n",
    "Create new web apps:\n",
    "\n",
    "* [Jupyter lab](/jupyter/lab): create new [Voilà](https://github.com/voila-dashboards/voila) web apps in the `webapps` directory and run ad-hoc analyses\n",
    "* [SQLite web interface](/sqlite/): query the underlying knowledge base with SQL\n",
    "\n",
    "**IMPORTANT**: The captured data and your code additions are lost once you remove the Docker container."
   ]
  },
  {
   "cell_type": "code",
   "execution_count": null,
   "id": "43a07bab-7a28-4b1c-95f2-9473b8507b05",
   "metadata": {},
   "outputs": [],
   "source": []
  }
 ],
 "metadata": {
  "kernelspec": {
   "display_name": "Python 3 (ipykernel)",
   "language": "python",
   "name": "python3"
  },
  "language_info": {
   "codemirror_mode": {
    "name": "ipython",
    "version": 3
   },
   "file_extension": ".py",
   "mimetype": "text/x-python",
   "name": "python",
   "nbconvert_exporter": "python",
   "pygments_lexer": "ipython3",
   "version": "3.10.6"
  }
 },
 "nbformat": 4,
 "nbformat_minor": 5
}
