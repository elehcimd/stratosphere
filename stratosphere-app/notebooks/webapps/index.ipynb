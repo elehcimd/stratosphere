{
 "cells": [
  {
   "cell_type": "markdown",
   "id": "cd5762a1-387a-4b98-8599-45d9fe49ce27",
   "metadata": {},
   "source": [
    "# Welcome to the **stratosphere** dashboard!\n",
    "\n",
    "***"
   ]
  },
  {
   "cell_type": "code",
   "execution_count": 1,
   "id": "4d6a92a9-a242-4bb7-ad58-49f8a4166635",
   "metadata": {
    "tags": []
   },
   "outputs": [],
   "source": [
    "from stratosphere import Stratosphere\n",
    "from stratosphere import options\n",
    "from IPython.display import HTML\n",
    "from markdown import markdown\n",
    "import os\n",
    "\n",
    "warning_msg = \"\"\"\n",
    "> **WARNING**: No mounted volume detected on `/shared`, your knowledge base and modifications\n",
    "are lost if you terminate the Docker container. This is perfectly fine to experiment and try the project.\n",
    "\"\"\"\n",
    "\n",
    "mounted_msg = \"\"\"\n",
    "Persistence of changes is **active**: You mounted a directory of the host on the `/shared` mountoint.\n",
    "\"\"\"\n",
    "\n",
    "if os.path.exists('/shared/warning_no_mounted_volume'):\n",
    "    msg = warning_msg\n",
    "else:\n",
    "    msg = mounted_msg\n",
    "    \n",
    "display(HTML(markdown(msg)))\n"
   ]
  },
  {
   "cell_type": "code",
   "execution_count": 16,
   "id": "c44a4567-d0c5-4440-baab-716399ed99ef",
   "metadata": {
    "tags": []
   },
   "outputs": [
    {
     "data": {
      "text/html": [
       "<ul>\n",
       "<li>The knowledge base contains 561 entities and 558 relationships</li>\n",
       "<li>Timestamp of last inserted entity: 2023-04-13 16:48:04.829130</li>\n",
       "</ul>"
      ],
      "text/plain": [
       "<IPython.core.display.HTML object>"
      ]
     },
     "execution_count": 16,
     "metadata": {},
     "output_type": "execute_result"
    }
   ],
   "source": [
    "kb = Stratosphere(options.get(\"db.url_kb\"))\n",
    "count_entities = kb.db.pandas(\"SELECT count(*) as cnt FROM entities\").cnt.iloc[0]\n",
    "count_relationships = kb.db.pandas(\"SELECT count(*) as cnt FROM relationships\").cnt.iloc[0]\n",
    "last_entity_ts = kb.db.pandas(\"SELECT ts FROM entities ORDER BY TS DESC LIMIT 1\").ts.iloc[0]\n",
    "\n",
    "mkd = f\"\"\"\n",
    "* The knowledge base contains **{count_entities}** entities and **{count_relationships}** relationships\n",
    "* Timestamp of last inserted entity: **{last_entity_ts}**\n",
    "\"\"\"\n",
    "\n",
    "HTML(markdown(mkd))"
   ]
  },
  {
   "cell_type": "markdown",
   "id": "717ad11e-7534-4b9f-b29e-1639d82195cf",
   "metadata": {},
   "source": [
    "Featured web apps:\n",
    "\n",
    "* [vk.com contacts explorer](http://127.0.0.1:8082/jupyter/voila/render/webapps/vk.com-contacts-explorer.ipynb): Explore previously seen vk.com contacts, highlighting their connections\n",
    "* [Google sarch results](http://127.0.0.1:8082/jupyter/voila/render/webapps/google-search-results.ipynb): Review your past Google search results\n",
    "\n",
    "Other resources:\n",
    "\n",
    "* [Jupyter lab](/jupyter/lab): Create new Voilà web apps as notebooks, run ad-hoc analyses, and customize this page\n",
    "* [Web apps directory](/jupyter/voila/tree/webapps): Access the complete list of web apps\n",
    "* [SQLite web interface](/sqlite/): Experiment and query the underlying knowledge base with SQL"
   ]
  },
  {
   "cell_type": "markdown",
   "id": "6bd4edf1-b4c7-4366-b099-f3942792a0eb",
   "metadata": {},
   "source": [
    "Recent system logs:\n"
   ]
  },
  {
   "cell_type": "code",
   "execution_count": 1,
   "id": "84b66480-7a0d-4468-b955-f0c833f79a65",
   "metadata": {
    "tags": []
   },
   "outputs": [
    {
     "name": "stdout",
     "output_type": "stream",
     "text": [
      "2023-04-13 14:48:56,640 INFO spawned: 'extractor' with pid 7\n",
      "2023-04-13 14:48:56,647 INFO spawned: 'jupyter' with pid 8\n",
      "2023-04-13 14:48:56,656 INFO spawned: 'mitmproxy' with pid 9\n",
      "2023-04-13 14:48:56,663 INFO spawned: 'nginx' with pid 10\n",
      "2023-04-13 14:48:56,690 INFO spawned: 'sqliteweb' with pid 12\n",
      "2023-04-13 14:48:57,774 INFO success: extractor entered RUNNING state, process has stayed up for > than 1 seconds (startsecs)\n",
      "2023-04-13 14:48:57,774 INFO success: jupyter entered RUNNING state, process has stayed up for > than 1 seconds (startsecs)\n",
      "2023-04-13 14:48:57,774 INFO success: mitmproxy entered RUNNING state, process has stayed up for > than 1 seconds (startsecs)\n",
      "2023-04-13 14:48:57,774 INFO success: nginx entered RUNNING state, process has stayed up for > than 1 seconds (startsecs)\n",
      "2023-04-13 14:48:57,774 INFO success: sqliteweb entered RUNNING state, process has stayed up for > than 1 seconds (startsecs)\n"
     ]
    }
   ],
   "source": [
    "!tail -10 /tmp/supervisord.log"
   ]
  },
  {
   "cell_type": "code",
   "execution_count": null,
   "id": "d1a98198-5d31-4ab9-8dbe-24deb571c063",
   "metadata": {},
   "outputs": [],
   "source": []
  }
 ],
 "metadata": {
  "kernelspec": {
   "display_name": "Python 3 (ipykernel)",
   "language": "python",
   "name": "python3"
  },
  "language_info": {
   "codemirror_mode": {
    "name": "ipython",
    "version": 3
   },
   "file_extension": ".py",
   "mimetype": "text/x-python",
   "name": "python",
   "nbconvert_exporter": "python",
   "pygments_lexer": "ipython3",
   "version": "3.10.6"
  }
 },
 "nbformat": 4,
 "nbformat_minor": 5
}
