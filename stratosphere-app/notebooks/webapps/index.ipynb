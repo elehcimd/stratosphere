{
 "cells": [
  {
   "cell_type": "code",
   "execution_count": 1,
   "id": "51188371-a9b0-4f62-ae26-f09d931336a2",
   "metadata": {
    "tags": []
   },
   "outputs": [],
   "source": [
    "%load_ext autoreload\n",
    "%autoreload 2\n",
    "%reload_ext autoreload"
   ]
  },
  {
   "cell_type": "markdown",
   "id": "cd5762a1-387a-4b98-8599-45d9fe49ce27",
   "metadata": {},
   "source": [
    "# Welcome to the **stratosphere** dashboard!\n",
    "\n",
    "**stratosphere** is a free and open source OSINT platform that automatically collects every page you visit, building a private knowledge base you can analyze with Jupyter notebooks and an extensible suite of web apps.\n",
    "\n",
    "***"
   ]
  },
  {
   "cell_type": "code",
   "execution_count": 2,
   "id": "4d6a92a9-a242-4bb7-ad58-49f8a4166635",
   "metadata": {
    "tags": []
   },
   "outputs": [
    {
     "data": {
      "text/html": [
       "<p>Persistence of changes is <strong>active</strong>: You mounted a host directory on the <code>/shared</code> mount point.</p>"
      ],
      "text/plain": [
       "<IPython.core.display.HTML object>"
      ]
     },
     "metadata": {},
     "output_type": "display_data"
    }
   ],
   "source": [
    "from stratosphere import Stratosphere\n",
    "from stratosphere.services.extractor import get_list_extractors\n",
    "from stratosphere import options\n",
    "from IPython.display import HTML\n",
    "from markdown import markdown\n",
    "import os\n",
    "\n",
    "warning_msg = \"\"\"\n",
    "> **WARNING**: No mounted volume detected on `/shared`, your knowledge base and modifications\n",
    "are lost if you terminate the Docker container. This is perfectly fine to experiment and try the project.\n",
    "\"\"\"\n",
    "\n",
    "mounted_msg = \"\"\"\n",
    "Persistence of changes is **active**: You mounted a host directory on the `/shared` mount point.\n",
    "\"\"\"\n",
    "\n",
    "if os.path.exists('/shared/warning_no_mounted_volume'):\n",
    "    msg = warning_msg\n",
    "else:\n",
    "    msg = mounted_msg\n",
    "    \n",
    "display(HTML(markdown(msg)))\n",
    "\n",
    "def first_or_null(s):\n",
    "    if len(s) >0:\n",
    "        return s.iloc[0]\n",
    "    else:\n",
    "        return \"N/A\"\n"
   ]
  },
  {
   "cell_type": "code",
   "execution_count": 5,
   "id": "c44a4567-d0c5-4440-baab-716399ed99ef",
   "metadata": {
    "tags": []
   },
   "outputs": [
    {
     "name": "stdout",
     "output_type": "stream",
     "text": [
      "/shared/data/probe.db\n",
      "/shared/data/kb.db\n"
     ]
    },
    {
     "data": {
      "text/html": [
       "<p>Overview:</p>\n",
       "<ul>\n",
       "<li>The knowledge base contains <strong>631</strong> entities and <strong>626</strong> relationships</li>\n",
       "<li>Timestamp of last inserted entity: <strong>2023-04-14 07:06:55.467294</strong></li>\n",
       "<li>Timestamp of last inserted relationship: <strong>2023-04-14 07:06:55.467735</strong></li>\n",
       "<li>Timestamp of last intercepted flow: <strong>2023-04-14 07:07:29.827657</strong></li>\n",
       "<li>Size (MiB) of probe.db: <strong>31.80</strong></li>\n",
       "<li>Size (MiB) of kb.db: <strong>0.41</strong></li>\n",
       "</ul>\n",
       "<p>Registered extractors:</p>\n",
       "<ul>\n",
       "<li>extractor_google_search</li>\n",
       "<li>extractor_vkontakte</li>\n",
       "</ul>"
      ],
      "text/plain": [
       "<IPython.core.display.HTML object>"
      ]
     },
     "execution_count": 5,
     "metadata": {},
     "output_type": "execute_result"
    }
   ],
   "source": [
    "kb = Stratosphere(options.get(\"db.url_kb\"))\n",
    "probe = Stratosphere(options.get(\"db.url_probe\"))\n",
    "count_entities = kb.db.pandas(\"SELECT count(*) as cnt FROM entities\").cnt.iloc[0]\n",
    "count_relationships = kb.db.pandas(\"SELECT count(*) as cnt FROM relationships\").cnt.iloc[0]\n",
    "last_entity_ts = kb.db.pandas(\"SELECT ts FROM entities ORDER BY ts DESC LIMIT 1\").ts.iloc[0]\n",
    "last_relationship_ts = kb.db.pandas(\"SELECT ts FROM relationships ORDER BY ts DESC LIMIT 1\").ts.iloc[0]\n",
    "last_flow_ts = first_or_null(probe.db.pandas(\"SELECT flow_capture_timestamp FROM flows ORDER BY flow_capture_timestamp DESC LIMIT 1\").flow_capture_timestamp)\n",
    "size_mb_probe = probe.db.size()\n",
    "size_mb_kb = kb.db.size()\n",
    "\n",
    "registered_extractors = \"\"\n",
    "for modname in get_list_extractors():\n",
    "    registered_extractors += f\"* {modname}\\n\"\n",
    "\n",
    "mkd = f\"\"\"\n",
    "Overview:\n",
    "\n",
    "* The knowledge base contains **{count_entities}** entities and **{count_relationships}** relationships\n",
    "* Timestamp of last inserted entity: **{last_entity_ts}**\n",
    "* Timestamp of last inserted relationship: **{last_relationship_ts}**\n",
    "* Timestamp of last intercepted flow: **{last_flow_ts}**\n",
    "* Size (MiB) of probe.db: **{size_mb_probe:.2f}**\n",
    "* Size (MiB) of kb.db: **{size_mb_kb:.2f}**\n",
    "\n",
    "Registered extractors:\n",
    "\n",
    "{registered_extractors}\n",
    "\"\"\"\n",
    "\n",
    "HTML(markdown(mkd))"
   ]
  },
  {
   "cell_type": "markdown",
   "id": "717ad11e-7534-4b9f-b29e-1639d82195cf",
   "metadata": {},
   "source": [
    "Featured web apps:\n",
    "\n",
    "* [vk.com contacts explorer](http://127.0.0.1:8082/jupyter/voila/render/webapps/vk.com-contacts-explorer.ipynb): Explore previously seen vk.com contacts, highlighting their connections\n",
    "* [Google sarch results](http://127.0.0.1:8082/jupyter/voila/render/webapps/google-search-results.ipynb): Review your past Google search results\n",
    "\n",
    "Other resources:\n",
    "\n",
    "* [JupyterLab](/jupyter/lab): Create new Voilà web apps as notebooks, run ad-hoc analyses, and customize this page\n",
    "* [Web apps directory](/jupyter/voila/tree/webapps): Access the complete list of web apps\n",
    "* [SQLite web interface](/sqlite/): Experiment and query the underlying knowledge base with SQL"
   ]
  },
  {
   "cell_type": "markdown",
   "id": "6bd4edf1-b4c7-4366-b099-f3942792a0eb",
   "metadata": {},
   "source": [
    "Recent system logs:\n"
   ]
  },
  {
   "cell_type": "code",
   "execution_count": null,
   "id": "84b66480-7a0d-4468-b955-f0c833f79a65",
   "metadata": {
    "tags": []
   },
   "outputs": [],
   "source": [
    "!tail -10 /tmp/supervisord.log"
   ]
  },
  {
   "cell_type": "code",
   "execution_count": null,
   "id": "d1a98198-5d31-4ab9-8dbe-24deb571c063",
   "metadata": {},
   "outputs": [],
   "source": []
  }
 ],
 "metadata": {
  "kernelspec": {
   "display_name": "Python 3 (ipykernel)",
   "language": "python",
   "name": "python3"
  },
  "language_info": {
   "codemirror_mode": {
    "name": "ipython",
    "version": 3
   },
   "file_extension": ".py",
   "mimetype": "text/x-python",
   "name": "python",
   "nbconvert_exporter": "python",
   "pygments_lexer": "ipython3",
   "version": "3.10.6"
  }
 },
 "nbformat": 4,
 "nbformat_minor": 5
}
