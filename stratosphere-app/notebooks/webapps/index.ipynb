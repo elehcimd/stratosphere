{
 "cells": [
  {
   "cell_type": "code",
   "execution_count": 1,
   "id": "51188371-a9b0-4f62-ae26-f09d931336a2",
   "metadata": {
    "tags": []
   },
   "outputs": [],
   "source": [
    "%load_ext autoreload\n",
    "%autoreload 2\n",
    "%reload_ext autoreload"
   ]
  },
  {
   "cell_type": "markdown",
   "id": "cd5762a1-387a-4b98-8599-45d9fe49ce27",
   "metadata": {},
   "source": [
    "# Welcome to the **stratosphere** dashboard!\n",
    "\n",
    "**stratosphere** is a free and open source OSINT platform that automatically collects every page you visit, building a private knowledge base you can analyze with Jupyter notebooks and an extensible suite of web apps.\n",
    "\n",
    "Documentation and source code: [https://github.com/elehcimd/stratosphere](https://github.com/elehcimd/stratosphere)\n",
    "\n",
    "***"
   ]
  },
  {
   "cell_type": "code",
   "execution_count": 1,
   "id": "4d6a92a9-a242-4bb7-ad58-49f8a4166635",
   "metadata": {
    "tags": []
   },
   "outputs": [
    {
     "data": {
      "text/html": [
       "<p>Persistence of changes is <strong>active</strong>: You mounted a host directory on the <code>/shared</code> mount point.</p>"
      ],
      "text/plain": [
       "<IPython.core.display.HTML object>"
      ]
     },
     "metadata": {},
     "output_type": "display_data"
    }
   ],
   "source": [
    "from stratosphere import Stratosphere\n",
    "from stratosphere.services.extractor import get_list_extractors\n",
    "from stratosphere import options\n",
    "from IPython.display import HTML\n",
    "from markdown import markdown\n",
    "import os\n",
    "\n",
    "warning_msg = \"\"\"\n",
    "> **WARNING**: No mounted volume detected on `/shared`: Your knowledge base and modifications\n",
    "are lost if you terminate the Docker container. **This is perfectly fine to experiment and try the project**.\n",
    "\"\"\"\n",
    "\n",
    "mounted_msg = \"\"\"\n",
    "Persistence of changes is **active**: You mounted a host directory on the `/shared` mount point.\n",
    "\"\"\"\n",
    "\n",
    "if os.path.exists('/shared/warning_no_mounted_volume'):\n",
    "    msg = warning_msg\n",
    "else:\n",
    "    msg = mounted_msg\n",
    "    \n",
    "display(HTML(markdown(msg)))\n"
   ]
  },
  {
   "cell_type": "markdown",
   "id": "717ad11e-7534-4b9f-b29e-1639d82195cf",
   "metadata": {},
   "source": [
    "Featured web apps:\n",
    "\n",
    "* [vk.com contacts explorer](http://127.0.0.1:8082/jupyter/voila/render/webapps/vk.com-contacts-explorer.ipynb): Explore previously seen vk.com contacts, highlighting their connections\n",
    "* [Google sarch results](http://127.0.0.1:8082/jupyter/voila/render/webapps/google-search-results.ipynb): Review your past Google search results\n",
    "* [System overview](http://127.0.0.1:8082/jupyter/voila/render/webapps/system-overview.ipynb): Monitor the status of the tracking\n",
    "* [Flows overview](http://127.0.0.1:8082/jupyter/voila/render/webapps/flows-overview.ipynb): Overview of flows captured in the last 10 minutes\n",
    "\n",
    "\n",
    "Other resources:\n",
    "\n",
    "* [JupyterLab](/jupyter/lab): Create new Voilà web apps as notebooks, run ad-hoc analyses, and customize this page\n",
    "* [Web apps directory](/jupyter/voila/tree/webapps): Access the complete list of web apps\n",
    "* [SQLite web interface](/sqlite/): Experiment and query the underlying knowledge base with SQL"
   ]
  },
  {
   "cell_type": "code",
   "execution_count": null,
   "id": "d1a98198-5d31-4ab9-8dbe-24deb571c063",
   "metadata": {},
   "outputs": [],
   "source": []
  }
 ],
 "metadata": {
  "kernelspec": {
   "display_name": "Python 3 (ipykernel)",
   "language": "python",
   "name": "python3"
  },
  "language_info": {
   "codemirror_mode": {
    "name": "ipython",
    "version": 3
   },
   "file_extension": ".py",
   "mimetype": "text/x-python",
   "name": "python",
   "nbconvert_exporter": "python",
   "pygments_lexer": "ipython3",
   "version": "3.10.6"
  }
 },
 "nbformat": 4,
 "nbformat_minor": 5
}
