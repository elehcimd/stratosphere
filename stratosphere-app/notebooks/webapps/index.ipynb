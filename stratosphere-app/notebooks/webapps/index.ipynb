{
 "cells": [
  {
   "cell_type": "markdown",
   "id": "717ad11e-7534-4b9f-b29e-1639d82195cf",
   "metadata": {},
   "source": [
    "# Services\n",
    "\n",
    "* [Jupyter lab](/jupyter/lab)\n",
    "* [Web apps](/jupyter/voila/tree/webapps)\n",
    "* [Web SQLite](/sqlite/)"
   ]
  },
  {
   "cell_type": "code",
   "execution_count": null,
   "id": "43a07bab-7a28-4b1c-95f2-9473b8507b05",
   "metadata": {},
   "outputs": [],
   "source": []
  }
 ],
 "metadata": {
  "kernelspec": {
   "display_name": "Python 3 (ipykernel)",
   "language": "python",
   "name": "python3"
  },
  "language_info": {
   "codemirror_mode": {
    "name": "ipython",
    "version": 3
   },
   "file_extension": ".py",
   "mimetype": "text/x-python",
   "name": "python",
   "nbconvert_exporter": "python",
   "pygments_lexer": "ipython3",
   "version": "3.10.6"
  }
 },
 "nbformat": 4,
 "nbformat_minor": 5
}
