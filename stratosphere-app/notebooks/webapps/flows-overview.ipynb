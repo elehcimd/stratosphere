{
 "cells": [
  {
   "cell_type": "code",
   "execution_count": 1,
   "id": "51188371-a9b0-4f62-ae26-f09d931336a2",
   "metadata": {
    "tags": []
   },
   "outputs": [],
   "source": [
    "%load_ext autoreload\n",
    "%autoreload 2\n",
    "%reload_ext autoreload"
   ]
  },
  {
   "cell_type": "markdown",
   "id": "cd5762a1-387a-4b98-8599-45d9fe49ce27",
   "metadata": {},
   "source": [
    "[[Home](/)]\n",
    "[[Webapps](/jupyter/voila/tree/webapps)]\n",
    "\n",
    "# Flows overview\n",
    "\n",
    "* This web app has visibility on flows captures in the last 10 minutes.\n",
    "* New web traffic shows up after 10 seconds.\n",
    "* To increase efficiency, the probe is currently tracking only flows that contain these patterns in the content type of the responses: `\"html\"`, `\"json\"`, `\"text\"`, `\"utf-8\"`. Images and other multimedia content can be tracked by modifying these filters in `mitmproxy.py`.\n"
   ]
  },
  {
   "cell_type": "code",
   "execution_count": 1,
   "id": "4d6a92a9-a242-4bb7-ad58-49f8a4166635",
   "metadata": {
    "tags": []
   },
   "outputs": [],
   "source": [
    "from stratosphere import Stratosphere, options\n",
    "from stratosphere.utils.inspect_flows import InspectFlows\n",
    "import pandas as pd\n",
    "\n",
    "pd.options.display.max_rows = 500\n",
    "pd.options.display.max_columns = 100\n",
    "pd.options.display.max_colwidth = 1000\n",
    "\n"
   ]
  },
  {
   "cell_type": "markdown",
   "id": "9346d0a7-dfad-4b48-987c-e697db6c99d9",
   "metadata": {},
   "source": [
    "## Overview"
   ]
  },
  {
   "cell_type": "code",
   "execution_count": 2,
   "id": "67cbb3de-7694-4302-907a-8956407e6731",
   "metadata": {
    "tags": []
   },
   "outputs": [
    {
     "name": "stdout",
     "output_type": "stream",
     "text": [
      "Overview: 0 flows (nan seconds) distributed as follows:\n"
     ]
    },
    {
     "data": {
      "text/html": [
       "<div>\n",
       "<style scoped>\n",
       "    .dataframe tbody tr th:only-of-type {\n",
       "        vertical-align: middle;\n",
       "    }\n",
       "\n",
       "    .dataframe tbody tr th {\n",
       "        vertical-align: top;\n",
       "    }\n",
       "\n",
       "    .dataframe thead th {\n",
       "        text-align: right;\n",
       "    }\n",
       "</style>\n",
       "<table border=\"1\" class=\"dataframe\">\n",
       "  <thead>\n",
       "    <tr style=\"text-align: right;\">\n",
       "      <th></th>\n",
       "      <th>host</th>\n",
       "      <th>port</th>\n",
       "      <th>method</th>\n",
       "      <th>flow_request_headers_content_type</th>\n",
       "      <th>flow_response_headers_content_type</th>\n",
       "      <th>count</th>\n",
       "    </tr>\n",
       "  </thead>\n",
       "  <tbody>\n",
       "  </tbody>\n",
       "</table>\n",
       "</div>"
      ],
      "text/plain": [
       "Empty DataFrame\n",
       "Columns: [host, port, method, flow_request_headers_content_type, flow_response_headers_content_type, count]\n",
       "Index: []"
      ]
     },
     "metadata": {},
     "output_type": "display_data"
    }
   ],
   "source": [
    "probe = Stratosphere(options.get(\"db.url_probe\"))\n",
    "df = probe.db.pandas(\"select * from flows\").fillna(\"\")\n",
    "ifs = InspectFlows(df)\n",
    "\n",
    "ifs.overview()\n",
    "    \n"
   ]
  },
  {
   "cell_type": "code",
   "execution_count": null,
   "id": "be127a82-18c0-4819-8706-820316510bb8",
   "metadata": {},
   "outputs": [],
   "source": []
  }
 ],
 "metadata": {
  "kernelspec": {
   "display_name": "Python 3 (ipykernel)",
   "language": "python",
   "name": "python3"
  },
  "language_info": {
   "codemirror_mode": {
    "name": "ipython",
    "version": 3
   },
   "file_extension": ".py",
   "mimetype": "text/x-python",
   "name": "python",
   "nbconvert_exporter": "python",
   "pygments_lexer": "ipython3",
   "version": "3.10.6"
  }
 },
 "nbformat": 4,
 "nbformat_minor": 5
}
