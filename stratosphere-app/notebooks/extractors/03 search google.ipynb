{
 "cells": [
  {
   "cell_type": "code",
   "execution_count": 2,
   "id": "53101b65-c193-4ba3-8a07-9dfdfb37ea8a",
   "metadata": {
    "tags": []
   },
   "outputs": [],
   "source": [
    "%load_ext autoreload\n",
    "%autoreload 2\n",
    "%reload_ext autoreload"
   ]
  },
  {
   "cell_type": "code",
   "execution_count": 3,
   "id": "8a0a8bf4-3c40-42a4-845c-b922b72ab31f",
   "metadata": {
    "tags": []
   },
   "outputs": [],
   "source": [
    "import pandas as pd\n",
    "from stratosphere import Stratosphere\n",
    "from stratosphere.utils.inspect_flows import InspectFlows\n",
    "from stratosphere import options"
   ]
  },
  {
   "cell_type": "code",
   "execution_count": 4,
   "id": "443d11a3-8722-4b60-8e2c-bd11c78dfa79",
   "metadata": {
    "tags": []
   },
   "outputs": [],
   "source": [
    "pd.options.display.max_rows = 10\n",
    "pd.options.display.max_columns = 100\n",
    "pd.options.display.max_colwidth = 100"
   ]
  },
  {
   "cell_type": "code",
   "execution_count": 15,
   "id": "70c83549-9425-450c-a4c5-4243d4051218",
   "metadata": {
    "tags": []
   },
   "outputs": [
    {
     "name": "stdout",
     "output_type": "stream",
     "text": [
      "search-google.db\t\t    vk-friends.db\n",
      "search-google-multiple-pages.db     vk-person.db\n",
      "search-google-multiple-searches.db  vk-person_friend.db\n"
     ]
    }
   ],
   "source": [
    "!ls /shared/data/samples"
   ]
  },
  {
   "cell_type": "code",
   "execution_count": 31,
   "id": "1e8e9eb1-ff37-43de-9ec8-74f423fec5d0",
   "metadata": {
    "tags": []
   },
   "outputs": [],
   "source": [
    "# searching \"who owns bellingcat\"\n",
    "s = Stratosphere(\"sqlite:////shared/data/samples/search-google-multiple-pages.db\")\n",
    "df = s.db.pandas(\"select * from flows\")\n",
    "ifs = InspectFlows(df)"
   ]
  },
  {
   "cell_type": "code",
   "execution_count": 17,
   "id": "049d1769-c264-4a8b-936c-6f3feeff05ac",
   "metadata": {
    "tags": []
   },
   "outputs": [
    {
     "name": "stdout",
     "output_type": "stream",
     "text": [
      "Overview: 192 flows (29.78 seconds) distributed as follows:\n"
     ]
    },
    {
     "data": {
      "text/html": [
       "<div>\n",
       "<style scoped>\n",
       "    .dataframe tbody tr th:only-of-type {\n",
       "        vertical-align: middle;\n",
       "    }\n",
       "\n",
       "    .dataframe tbody tr th {\n",
       "        vertical-align: top;\n",
       "    }\n",
       "\n",
       "    .dataframe thead th {\n",
       "        text-align: right;\n",
       "    }\n",
       "</style>\n",
       "<table border=\"1\" class=\"dataframe\">\n",
       "  <thead>\n",
       "    <tr style=\"text-align: right;\">\n",
       "      <th></th>\n",
       "      <th>host</th>\n",
       "      <th>port</th>\n",
       "      <th>method</th>\n",
       "      <th>flow_request_headers_content_type</th>\n",
       "      <th>flow_response_headers_content_type</th>\n",
       "      <th>count</th>\n",
       "    </tr>\n",
       "  </thead>\n",
       "  <tbody>\n",
       "    <tr>\n",
       "      <th>0</th>\n",
       "      <td>www.google.com</td>\n",
       "      <td>443</td>\n",
       "      <td>POST</td>\n",
       "      <td>NaN</td>\n",
       "      <td>text/html; charset=UTF-8</td>\n",
       "      <td>78</td>\n",
       "    </tr>\n",
       "    <tr>\n",
       "      <th>1</th>\n",
       "      <td>www.google.com</td>\n",
       "      <td>443</td>\n",
       "      <td>GET</td>\n",
       "      <td>NaN</td>\n",
       "      <td>application/json; charset=UTF-8</td>\n",
       "      <td>33</td>\n",
       "    </tr>\n",
       "    <tr>\n",
       "      <th>2</th>\n",
       "      <td>www.google.com</td>\n",
       "      <td>443</td>\n",
       "      <td>GET</td>\n",
       "      <td>NaN</td>\n",
       "      <td>text/html; charset=UTF-8</td>\n",
       "      <td>29</td>\n",
       "    </tr>\n",
       "    <tr>\n",
       "      <th>3</th>\n",
       "      <td>www.google.com</td>\n",
       "      <td>443</td>\n",
       "      <td>GET</td>\n",
       "      <td>NaN</td>\n",
       "      <td>text/javascript; charset=UTF-8</td>\n",
       "      <td>24</td>\n",
       "    </tr>\n",
       "    <tr>\n",
       "      <th>4</th>\n",
       "      <td>www.google.com</td>\n",
       "      <td>443</td>\n",
       "      <td>POST</td>\n",
       "      <td>text/plain;charset=UTF-8</td>\n",
       "      <td>text/html; charset=UTF-8</td>\n",
       "      <td>13</td>\n",
       "    </tr>\n",
       "    <tr>\n",
       "      <th>...</th>\n",
       "      <td>...</td>\n",
       "      <td>...</td>\n",
       "      <td>...</td>\n",
       "      <td>...</td>\n",
       "      <td>...</td>\n",
       "      <td>...</td>\n",
       "    </tr>\n",
       "    <tr>\n",
       "      <th>6</th>\n",
       "      <td>encrypted-tbn0.gstatic.com</td>\n",
       "      <td>443</td>\n",
       "      <td>GET</td>\n",
       "      <td>NaN</td>\n",
       "      <td>image/jpeg</td>\n",
       "      <td>4</td>\n",
       "    </tr>\n",
       "    <tr>\n",
       "      <th>7</th>\n",
       "      <td>www.google.com</td>\n",
       "      <td>443</td>\n",
       "      <td>GET</td>\n",
       "      <td>NaN</td>\n",
       "      <td>text/html; charset=utf-8</td>\n",
       "      <td>2</td>\n",
       "    </tr>\n",
       "    <tr>\n",
       "      <th>8</th>\n",
       "      <td>www.google.com</td>\n",
       "      <td>443</td>\n",
       "      <td>POST</td>\n",
       "      <td>application/x-www-form-urlencoded;charset=UTF-8</td>\n",
       "      <td>text/plain; charset=UTF-8</td>\n",
       "      <td>2</td>\n",
       "    </tr>\n",
       "    <tr>\n",
       "      <th>9</th>\n",
       "      <td>i.ytimg.com</td>\n",
       "      <td>443</td>\n",
       "      <td>GET</td>\n",
       "      <td>NaN</td>\n",
       "      <td>image/jpeg</td>\n",
       "      <td>1</td>\n",
       "    </tr>\n",
       "    <tr>\n",
       "      <th>10</th>\n",
       "      <td>play.google.com</td>\n",
       "      <td>443</td>\n",
       "      <td>POST</td>\n",
       "      <td>application/x-www-form-urlencoded;charset=UTF-8</td>\n",
       "      <td>text/plain; charset=UTF-8</td>\n",
       "      <td>1</td>\n",
       "    </tr>\n",
       "  </tbody>\n",
       "</table>\n",
       "<p>11 rows × 6 columns</p>\n",
       "</div>"
      ],
      "text/plain": [
       "                          host  port method  \\\n",
       "0               www.google.com   443   POST   \n",
       "1               www.google.com   443    GET   \n",
       "2               www.google.com   443    GET   \n",
       "3               www.google.com   443    GET   \n",
       "4               www.google.com   443   POST   \n",
       "..                         ...   ...    ...   \n",
       "6   encrypted-tbn0.gstatic.com   443    GET   \n",
       "7               www.google.com   443    GET   \n",
       "8               www.google.com   443   POST   \n",
       "9                  i.ytimg.com   443    GET   \n",
       "10             play.google.com   443   POST   \n",
       "\n",
       "                  flow_request_headers_content_type  \\\n",
       "0                                               NaN   \n",
       "1                                               NaN   \n",
       "2                                               NaN   \n",
       "3                                               NaN   \n",
       "4                          text/plain;charset=UTF-8   \n",
       "..                                              ...   \n",
       "6                                               NaN   \n",
       "7                                               NaN   \n",
       "8   application/x-www-form-urlencoded;charset=UTF-8   \n",
       "9                                               NaN   \n",
       "10  application/x-www-form-urlencoded;charset=UTF-8   \n",
       "\n",
       "   flow_response_headers_content_type  count  \n",
       "0            text/html; charset=UTF-8     78  \n",
       "1     application/json; charset=UTF-8     33  \n",
       "2            text/html; charset=UTF-8     29  \n",
       "3      text/javascript; charset=UTF-8     24  \n",
       "4            text/html; charset=UTF-8     13  \n",
       "..                                ...    ...  \n",
       "6                          image/jpeg      4  \n",
       "7            text/html; charset=utf-8      2  \n",
       "8           text/plain; charset=UTF-8      2  \n",
       "9                          image/jpeg      1  \n",
       "10          text/plain; charset=UTF-8      1  \n",
       "\n",
       "[11 rows x 6 columns]"
      ]
     },
     "metadata": {},
     "output_type": "display_data"
    }
   ],
   "source": [
    "df = ifs.overview()\n"
   ]
  },
  {
   "cell_type": "code",
   "execution_count": 28,
   "id": "932c10f7-7fad-4b26-95f9-fc298f07c57f",
   "metadata": {
    "tags": []
   },
   "outputs": [
    {
     "data": {
      "text/html": [
       "<div>\n",
       "<style scoped>\n",
       "    .dataframe tbody tr th:only-of-type {\n",
       "        vertical-align: middle;\n",
       "    }\n",
       "\n",
       "    .dataframe tbody tr th {\n",
       "        vertical-align: top;\n",
       "    }\n",
       "\n",
       "    .dataframe thead th {\n",
       "        text-align: right;\n",
       "    }\n",
       "</style>\n",
       "<table border=\"1\" class=\"dataframe\">\n",
       "  <thead>\n",
       "    <tr style=\"text-align: right;\">\n",
       "      <th></th>\n",
       "      <th>flow_capture_timestamp</th>\n",
       "      <th>host_port_method</th>\n",
       "      <th>url_path_beginswith</th>\n",
       "      <th>response_is_text</th>\n",
       "      <th>response_is_json</th>\n",
       "      <th>flow_response_content_startswith</th>\n",
       "    </tr>\n",
       "  </thead>\n",
       "  <tbody>\n",
       "    <tr>\n",
       "      <th>0</th>\n",
       "      <td>2023-04-09 15:44:38.082589</td>\n",
       "      <td>www.google.com:443@POST</td>\n",
       "      <td>/gen_204</td>\n",
       "      <td>True</td>\n",
       "      <td>False</td>\n",
       "      <td>b''</td>\n",
       "    </tr>\n",
       "    <tr>\n",
       "      <th>1</th>\n",
       "      <td>2023-04-09 15:44:38.144202</td>\n",
       "      <td>www.google.com:443@POST</td>\n",
       "      <td>/gen_204</td>\n",
       "      <td>True</td>\n",
       "      <td>False</td>\n",
       "      <td>b''</td>\n",
       "    </tr>\n",
       "    <tr>\n",
       "      <th>2</th>\n",
       "      <td>2023-04-09 15:44:38.622046</td>\n",
       "      <td>www.google.com:443@GET</td>\n",
       "      <td>/search</td>\n",
       "      <td>True</td>\n",
       "      <td>False</td>\n",
       "      <td>b'&lt;!doctype html&gt;&lt;html itemscope'</td>\n",
       "    </tr>\n",
       "    <tr>\n",
       "      <th>3</th>\n",
       "      <td>2023-04-09 15:44:39.016070</td>\n",
       "      <td>www.google.com:443@POST</td>\n",
       "      <td>/gen_204</td>\n",
       "      <td>True</td>\n",
       "      <td>False</td>\n",
       "      <td>b''</td>\n",
       "    </tr>\n",
       "    <tr>\n",
       "      <th>4</th>\n",
       "      <td>2023-04-09 15:44:39.193962</td>\n",
       "      <td>www.google.com:443@POST</td>\n",
       "      <td>/gen_204</td>\n",
       "      <td>True</td>\n",
       "      <td>False</td>\n",
       "      <td>b''</td>\n",
       "    </tr>\n",
       "    <tr>\n",
       "      <th>...</th>\n",
       "      <td>...</td>\n",
       "      <td>...</td>\n",
       "      <td>...</td>\n",
       "      <td>...</td>\n",
       "      <td>...</td>\n",
       "      <td>...</td>\n",
       "    </tr>\n",
       "    <tr>\n",
       "      <th>187</th>\n",
       "      <td>2023-04-09 15:45:06.089521</td>\n",
       "      <td>adservice.google.com:443@GET</td>\n",
       "      <td>/adsid/google/ui</td>\n",
       "      <td>True</td>\n",
       "      <td>False</td>\n",
       "      <td>b''</td>\n",
       "    </tr>\n",
       "    <tr>\n",
       "      <th>188</th>\n",
       "      <td>2023-04-09 15:45:06.171463</td>\n",
       "      <td>www.google.com:443@POST</td>\n",
       "      <td>/gen_204</td>\n",
       "      <td>True</td>\n",
       "      <td>False</td>\n",
       "      <td>b''</td>\n",
       "    </tr>\n",
       "    <tr>\n",
       "      <th>189</th>\n",
       "      <td>2023-04-09 15:45:06.235640</td>\n",
       "      <td>www.google.com:443@GET</td>\n",
       "      <td>/gen_204</td>\n",
       "      <td>True</td>\n",
       "      <td>False</td>\n",
       "      <td>b''</td>\n",
       "    </tr>\n",
       "    <tr>\n",
       "      <th>190</th>\n",
       "      <td>2023-04-09 15:45:07.486472</td>\n",
       "      <td>www.google.com:443@POST</td>\n",
       "      <td>/gen_204</td>\n",
       "      <td>True</td>\n",
       "      <td>False</td>\n",
       "      <td>b''</td>\n",
       "    </tr>\n",
       "    <tr>\n",
       "      <th>191</th>\n",
       "      <td>2023-04-09 15:45:07.866129</td>\n",
       "      <td>www.google.com:443@GET</td>\n",
       "      <td>/ads/measurement/t</td>\n",
       "      <td>True</td>\n",
       "      <td>False</td>\n",
       "      <td>b''</td>\n",
       "    </tr>\n",
       "  </tbody>\n",
       "</table>\n",
       "<p>187 rows × 6 columns</p>\n",
       "</div>"
      ],
      "text/plain": [
       "        flow_capture_timestamp              host_port_method  \\\n",
       "0   2023-04-09 15:44:38.082589       www.google.com:443@POST   \n",
       "1   2023-04-09 15:44:38.144202       www.google.com:443@POST   \n",
       "2   2023-04-09 15:44:38.622046        www.google.com:443@GET   \n",
       "3   2023-04-09 15:44:39.016070       www.google.com:443@POST   \n",
       "4   2023-04-09 15:44:39.193962       www.google.com:443@POST   \n",
       "..                         ...                           ...   \n",
       "187 2023-04-09 15:45:06.089521  adservice.google.com:443@GET   \n",
       "188 2023-04-09 15:45:06.171463       www.google.com:443@POST   \n",
       "189 2023-04-09 15:45:06.235640        www.google.com:443@GET   \n",
       "190 2023-04-09 15:45:07.486472       www.google.com:443@POST   \n",
       "191 2023-04-09 15:45:07.866129        www.google.com:443@GET   \n",
       "\n",
       "    url_path_beginswith  response_is_text  response_is_json  \\\n",
       "0              /gen_204              True             False   \n",
       "1              /gen_204              True             False   \n",
       "2               /search              True             False   \n",
       "3              /gen_204              True             False   \n",
       "4              /gen_204              True             False   \n",
       "..                  ...               ...               ...   \n",
       "187    /adsid/google/ui              True             False   \n",
       "188            /gen_204              True             False   \n",
       "189            /gen_204              True             False   \n",
       "190            /gen_204              True             False   \n",
       "191  /ads/measurement/t              True             False   \n",
       "\n",
       "      flow_response_content_startswith  \n",
       "0                                  b''  \n",
       "1                                  b''  \n",
       "2    b'<!doctype html><html itemscope'  \n",
       "3                                  b''  \n",
       "4                                  b''  \n",
       "..                                 ...  \n",
       "187                                b''  \n",
       "188                                b''  \n",
       "189                                b''  \n",
       "190                                b''  \n",
       "191                                b''  \n",
       "\n",
       "[187 rows x 6 columns]"
      ]
     },
     "execution_count": 28,
     "metadata": {},
     "output_type": "execute_result"
    }
   ],
   "source": [
    "ifs.analyze()"
   ]
  },
  {
   "cell_type": "code",
   "execution_count": 30,
   "id": "a5c28b0b-86d9-4116-9b8a-c1039fd0151f",
   "metadata": {
    "tags": []
   },
   "outputs": [
    {
     "data": {
      "text/html": [
       "<div>\n",
       "<style scoped>\n",
       "    .dataframe tbody tr th:only-of-type {\n",
       "        vertical-align: middle;\n",
       "    }\n",
       "\n",
       "    .dataframe tbody tr th {\n",
       "        vertical-align: top;\n",
       "    }\n",
       "\n",
       "    .dataframe thead th {\n",
       "        text-align: right;\n",
       "    }\n",
       "</style>\n",
       "<table border=\"1\" class=\"dataframe\">\n",
       "  <thead>\n",
       "    <tr style=\"text-align: right;\">\n",
       "      <th></th>\n",
       "      <th>flow_capture_timestamp</th>\n",
       "      <th>host_port_method</th>\n",
       "      <th>url_path_beginswith</th>\n",
       "      <th>response_is_text</th>\n",
       "      <th>response_is_json</th>\n",
       "      <th>flow_response_content_startswith</th>\n",
       "      <th>n_matches</th>\n",
       "    </tr>\n",
       "  </thead>\n",
       "  <tbody>\n",
       "  </tbody>\n",
       "</table>\n",
       "</div>"
      ],
      "text/plain": [
       "Empty DataFrame\n",
       "Columns: [flow_capture_timestamp, host_port_method, url_path_beginswith, response_is_text, response_is_json, flow_response_content_startswith, n_matches]\n",
       "Index: []"
      ]
     },
     "execution_count": 30,
     "metadata": {},
     "output_type": "execute_result"
    }
   ],
   "source": [
    "ifs.analyze(patterns=['://www.bellingcat.com/resources/2021/07/06/help-bellingcat'])"
   ]
  },
  {
   "cell_type": "code",
   "execution_count": 20,
   "id": "8de9bcdb-126f-4f25-8675-2cd701179c77",
   "metadata": {
    "tags": []
   },
   "outputs": [
    {
     "data": {
      "text/html": [
       "<div>\n",
       "<style scoped>\n",
       "    .dataframe tbody tr th:only-of-type {\n",
       "        vertical-align: middle;\n",
       "    }\n",
       "\n",
       "    .dataframe tbody tr th {\n",
       "        vertical-align: top;\n",
       "    }\n",
       "\n",
       "    .dataframe thead th {\n",
       "        text-align: right;\n",
       "    }\n",
       "</style>\n",
       "<table border=\"1\" class=\"dataframe\">\n",
       "  <thead>\n",
       "    <tr style=\"text-align: right;\">\n",
       "      <th></th>\n",
       "      <th>flow_capture_timestamp</th>\n",
       "      <th>host_port_method</th>\n",
       "      <th>url_path_beginswith</th>\n",
       "      <th>response_is_text</th>\n",
       "      <th>response_is_json</th>\n",
       "      <th>flow_response_content_startswith</th>\n",
       "      <th>n_matches</th>\n",
       "    </tr>\n",
       "  </thead>\n",
       "  <tbody>\n",
       "    <tr>\n",
       "      <th>2</th>\n",
       "      <td>2023-04-09 15:44:38.622046</td>\n",
       "      <td>www.google.com:443@GET</td>\n",
       "      <td>/search</td>\n",
       "      <td>True</td>\n",
       "      <td>False</td>\n",
       "      <td>b'&lt;!doctype html&gt;&lt;html itemscope'</td>\n",
       "      <td>1</td>\n",
       "    </tr>\n",
       "    <tr>\n",
       "      <th>24</th>\n",
       "      <td>2023-04-09 15:44:42.011982</td>\n",
       "      <td>www.google.com:443@GET</td>\n",
       "      <td>/search</td>\n",
       "      <td>True</td>\n",
       "      <td>False</td>\n",
       "      <td>b'&lt;!doctype html&gt;&lt;html itemscope'</td>\n",
       "      <td>1</td>\n",
       "    </tr>\n",
       "    <tr>\n",
       "      <th>43</th>\n",
       "      <td>2023-04-09 15:44:44.985639</td>\n",
       "      <td>www.google.com:443@GET</td>\n",
       "      <td>/search</td>\n",
       "      <td>True</td>\n",
       "      <td>False</td>\n",
       "      <td>b'&lt;!doctype html&gt;&lt;html itemscope'</td>\n",
       "      <td>1</td>\n",
       "    </tr>\n",
       "    <tr>\n",
       "      <th>59</th>\n",
       "      <td>2023-04-09 15:44:47.870387</td>\n",
       "      <td>www.google.com:443@GET</td>\n",
       "      <td>/search</td>\n",
       "      <td>True</td>\n",
       "      <td>False</td>\n",
       "      <td>b'&lt;!doctype html&gt;&lt;html itemscope'</td>\n",
       "      <td>1</td>\n",
       "    </tr>\n",
       "  </tbody>\n",
       "</table>\n",
       "</div>"
      ],
      "text/plain": [
       "       flow_capture_timestamp        host_port_method url_path_beginswith  \\\n",
       "2  2023-04-09 15:44:38.622046  www.google.com:443@GET             /search   \n",
       "24 2023-04-09 15:44:42.011982  www.google.com:443@GET             /search   \n",
       "43 2023-04-09 15:44:44.985639  www.google.com:443@GET             /search   \n",
       "59 2023-04-09 15:44:47.870387  www.google.com:443@GET             /search   \n",
       "\n",
       "    response_is_text  response_is_json   flow_response_content_startswith  \\\n",
       "2               True             False  b'<!doctype html><html itemscope'   \n",
       "24              True             False  b'<!doctype html><html itemscope'   \n",
       "43              True             False  b'<!doctype html><html itemscope'   \n",
       "59              True             False  b'<!doctype html><html itemscope'   \n",
       "\n",
       "    n_matches  \n",
       "2           1  \n",
       "24          1  \n",
       "43          1  \n",
       "59          1  "
      ]
     },
     "execution_count": 20,
     "metadata": {},
     "output_type": "execute_result"
    }
   ],
   "source": [
    "ifs.analyze(patterns=['wikipedia'])"
   ]
  },
  {
   "cell_type": "code",
   "execution_count": 21,
   "id": "4870c3c2-57f2-478e-b745-8318c87920f0",
   "metadata": {
    "tags": []
   },
   "outputs": [
    {
     "data": {
      "text/html": [
       "<div>\n",
       "<style scoped>\n",
       "    .dataframe tbody tr th:only-of-type {\n",
       "        vertical-align: middle;\n",
       "    }\n",
       "\n",
       "    .dataframe tbody tr th {\n",
       "        vertical-align: top;\n",
       "    }\n",
       "\n",
       "    .dataframe thead th {\n",
       "        text-align: right;\n",
       "    }\n",
       "</style>\n",
       "<table border=\"1\" class=\"dataframe\">\n",
       "  <thead>\n",
       "    <tr style=\"text-align: right;\">\n",
       "      <th></th>\n",
       "      <th>flow_capture_timestamp</th>\n",
       "      <th>host_port_method</th>\n",
       "      <th>url_path_beginswith</th>\n",
       "      <th>response_is_text</th>\n",
       "      <th>response_is_json</th>\n",
       "      <th>flow_response_content_startswith</th>\n",
       "      <th>n_matches</th>\n",
       "    </tr>\n",
       "  </thead>\n",
       "  <tbody>\n",
       "    <tr>\n",
       "      <th>2</th>\n",
       "      <td>2023-04-09 15:44:38.622046</td>\n",
       "      <td>www.google.com:443@GET</td>\n",
       "      <td>/search</td>\n",
       "      <td>True</td>\n",
       "      <td>False</td>\n",
       "      <td>b'&lt;!doctype html&gt;&lt;html itemscope'</td>\n",
       "      <td>1</td>\n",
       "    </tr>\n",
       "    <tr>\n",
       "      <th>24</th>\n",
       "      <td>2023-04-09 15:44:42.011982</td>\n",
       "      <td>www.google.com:443@GET</td>\n",
       "      <td>/search</td>\n",
       "      <td>True</td>\n",
       "      <td>False</td>\n",
       "      <td>b'&lt;!doctype html&gt;&lt;html itemscope'</td>\n",
       "      <td>1</td>\n",
       "    </tr>\n",
       "    <tr>\n",
       "      <th>59</th>\n",
       "      <td>2023-04-09 15:44:47.870387</td>\n",
       "      <td>www.google.com:443@GET</td>\n",
       "      <td>/search</td>\n",
       "      <td>True</td>\n",
       "      <td>False</td>\n",
       "      <td>b'&lt;!doctype html&gt;&lt;html itemscope'</td>\n",
       "      <td>1</td>\n",
       "    </tr>\n",
       "    <tr>\n",
       "      <th>107</th>\n",
       "      <td>2023-04-09 15:44:54.242422</td>\n",
       "      <td>www.google.com:443@GET</td>\n",
       "      <td>/search</td>\n",
       "      <td>True</td>\n",
       "      <td>False</td>\n",
       "      <td>b'&lt;!doctype html&gt;&lt;html itemscope'</td>\n",
       "      <td>1</td>\n",
       "    </tr>\n",
       "    <tr>\n",
       "      <th>121</th>\n",
       "      <td>2023-04-09 15:44:56.212901</td>\n",
       "      <td>www.google.com:443@GET</td>\n",
       "      <td>/search</td>\n",
       "      <td>True</td>\n",
       "      <td>False</td>\n",
       "      <td>b'&lt;!doctype html&gt;&lt;html itemscope'</td>\n",
       "      <td>1</td>\n",
       "    </tr>\n",
       "    <tr>\n",
       "      <th>137</th>\n",
       "      <td>2023-04-09 15:44:58.997224</td>\n",
       "      <td>www.google.com:443@GET</td>\n",
       "      <td>/search</td>\n",
       "      <td>True</td>\n",
       "      <td>False</td>\n",
       "      <td>b'&lt;!doctype html&gt;&lt;html itemscope'</td>\n",
       "      <td>1</td>\n",
       "    </tr>\n",
       "    <tr>\n",
       "      <th>159</th>\n",
       "      <td>2023-04-09 15:45:02.278564</td>\n",
       "      <td>www.google.com:443@GET</td>\n",
       "      <td>/search</td>\n",
       "      <td>True</td>\n",
       "      <td>False</td>\n",
       "      <td>b'&lt;!doctype html&gt;&lt;html itemscope'</td>\n",
       "      <td>1</td>\n",
       "    </tr>\n",
       "    <tr>\n",
       "      <th>175</th>\n",
       "      <td>2023-04-09 15:45:04.930081</td>\n",
       "      <td>www.google.com:443@GET</td>\n",
       "      <td>/search</td>\n",
       "      <td>True</td>\n",
       "      <td>False</td>\n",
       "      <td>b'&lt;!doctype html&gt;&lt;html itemscope'</td>\n",
       "      <td>1</td>\n",
       "    </tr>\n",
       "  </tbody>\n",
       "</table>\n",
       "</div>"
      ],
      "text/plain": [
       "        flow_capture_timestamp        host_port_method url_path_beginswith  \\\n",
       "2   2023-04-09 15:44:38.622046  www.google.com:443@GET             /search   \n",
       "24  2023-04-09 15:44:42.011982  www.google.com:443@GET             /search   \n",
       "59  2023-04-09 15:44:47.870387  www.google.com:443@GET             /search   \n",
       "107 2023-04-09 15:44:54.242422  www.google.com:443@GET             /search   \n",
       "121 2023-04-09 15:44:56.212901  www.google.com:443@GET             /search   \n",
       "137 2023-04-09 15:44:58.997224  www.google.com:443@GET             /search   \n",
       "159 2023-04-09 15:45:02.278564  www.google.com:443@GET             /search   \n",
       "175 2023-04-09 15:45:04.930081  www.google.com:443@GET             /search   \n",
       "\n",
       "     response_is_text  response_is_json   flow_response_content_startswith  \\\n",
       "2                True             False  b'<!doctype html><html itemscope'   \n",
       "24               True             False  b'<!doctype html><html itemscope'   \n",
       "59               True             False  b'<!doctype html><html itemscope'   \n",
       "107              True             False  b'<!doctype html><html itemscope'   \n",
       "121              True             False  b'<!doctype html><html itemscope'   \n",
       "137              True             False  b'<!doctype html><html itemscope'   \n",
       "159              True             False  b'<!doctype html><html itemscope'   \n",
       "175              True             False  b'<!doctype html><html itemscope'   \n",
       "\n",
       "     n_matches  \n",
       "2            1  \n",
       "24           1  \n",
       "59           1  \n",
       "107          1  \n",
       "121          1  \n",
       "137          1  \n",
       "159          1  \n",
       "175          1  "
      ]
     },
     "execution_count": 21,
     "metadata": {},
     "output_type": "execute_result"
    }
   ],
   "source": [
    "ifs.analyze(patterns=['eliot'])"
   ]
  },
  {
   "cell_type": "code",
   "execution_count": 22,
   "id": "abebdf75-3530-402c-aac3-436517315ff9",
   "metadata": {
    "tags": []
   },
   "outputs": [],
   "source": [
    "# It seems that URLs are always in the response to the GET"
   ]
  },
  {
   "cell_type": "code",
   "execution_count": 23,
   "id": "76baa96d-c8fd-4db1-b544-e61eda0a3560",
   "metadata": {
    "tags": []
   },
   "outputs": [
    {
     "name": "stdout",
     "output_type": "stream",
     "text": [
      "================================[URL]===========================================\n",
      "METHOD: POST\n",
      "URL: https://www.google.com/gen_204?atyp=i&ei=bN0yZIusFbfUxc8PrLyKiA8&ct=usp:t&zx=1681055085279\n",
      "Query:\n"
     ]
    },
    {
     "data": {
      "application/json": {
       "atyp": [
        "i"
       ],
       "ct": [
        "usp:t"
       ],
       "ei": [
        "bN0yZIusFbfUxc8PrLyKiA8"
       ],
       "zx": [
        "1681055085279"
       ]
      },
      "text/plain": [
       "<IPython.core.display.JSON object>"
      ]
     },
     "metadata": {
      "application/json": {
       "expanded": true,
       "root": "root"
      }
     },
     "output_type": "display_data"
    },
    {
     "name": "stdout",
     "output_type": "stream",
     "text": [
      "================================[request-content]==============================\n",
      "content-type: None\n",
      "JSON-parsable? False\n",
      "--\n"
     ]
    },
    {
     "ename": "AttributeError",
     "evalue": "'NoneType' object has no attribute 'lower'",
     "output_type": "error",
     "traceback": [
      "\u001b[0;31m---------------------------------------------------------------------------\u001b[0m",
      "\u001b[0;31mAttributeError\u001b[0m                            Traceback (most recent call last)",
      "Cell \u001b[0;32mIn[23], line 1\u001b[0m\n\u001b[0;32m----> 1\u001b[0m \u001b[43mifs\u001b[49m\u001b[38;5;241;43m.\u001b[39;49m\u001b[43mflow\u001b[49m\u001b[43m(\u001b[49m\u001b[38;5;241;43m46\u001b[39;49m\u001b[43m)\u001b[49m\u001b[38;5;241;43m.\u001b[39;49m\u001b[43moverview\u001b[49m\u001b[43m(\u001b[49m\u001b[43mresponse_content_expaned\u001b[49m\u001b[38;5;241;43m=\u001b[39;49m\u001b[38;5;28;43;01mFalse\u001b[39;49;00m\u001b[43m)\u001b[49m\n",
      "File \u001b[0;32m/shared/src/stratosphere/utils/inspect_flows.py:110\u001b[0m, in \u001b[0;36mInspectFlow.overview\u001b[0;34m(self, response_content_expaned)\u001b[0m\n\u001b[1;32m    108\u001b[0m \u001b[38;5;28;01mif\u001b[39;00m content_is_json:\n\u001b[1;32m    109\u001b[0m     display_json_text(s\u001b[38;5;241m.\u001b[39mflow_request_content)\n\u001b[0;32m--> 110\u001b[0m \u001b[38;5;28;01melif\u001b[39;00m \u001b[38;5;124m\"\u001b[39m\u001b[38;5;124mapplication/x-www-form-urlencoded\u001b[39m\u001b[38;5;124m\"\u001b[39m \u001b[38;5;129;01min\u001b[39;00m \u001b[43ms\u001b[49m\u001b[38;5;241;43m.\u001b[39;49m\u001b[43mflow_request_headers_content_type\u001b[49m\u001b[38;5;241;43m.\u001b[39;49m\u001b[43mlower\u001b[49m():\n\u001b[1;32m    111\u001b[0m     pretty_print_dict(parse_qs(decode(s\u001b[38;5;241m.\u001b[39mflow_request_content)))\n\u001b[1;32m    112\u001b[0m \u001b[38;5;28;01melse\u001b[39;00m:\n",
      "\u001b[0;31mAttributeError\u001b[0m: 'NoneType' object has no attribute 'lower'"
     ]
    }
   ],
   "source": [
    "ifs.flow(46).overview(response_content_expaned=False)"
   ]
  },
  {
   "cell_type": "code",
   "execution_count": 24,
   "id": "425807cd-30c3-4a16-bcad-7a2cf3ba03aa",
   "metadata": {
    "tags": []
   },
   "outputs": [
    {
     "name": "stdout",
     "output_type": "stream",
     "text": [
      "\n",
      "\n",
      "\n"
     ]
    }
   ],
   "source": [
    "ifs.flow(46).search([\"received\"], only_matches=True,is_json=False)"
   ]
  },
  {
   "cell_type": "code",
   "execution_count": 25,
   "id": "d40813db-dd10-411d-a169-27ba368b2e1f",
   "metadata": {
    "tags": []
   },
   "outputs": [
    {
     "ename": "AttributeError",
     "evalue": "'NoneType' object has no attribute 'text'",
     "output_type": "error",
     "traceback": [
      "\u001b[0;31m---------------------------------------------------------------------------\u001b[0m",
      "\u001b[0;31mAttributeError\u001b[0m                            Traceback (most recent call last)",
      "Cell \u001b[0;32mIn[25], line 6\u001b[0m\n\u001b[1;32m      3\u001b[0m \u001b[38;5;28;01mfrom\u001b[39;00m \u001b[38;5;21;01mbs4\u001b[39;00m \u001b[38;5;28;01mimport\u001b[39;00m BeautifulSoup\n\u001b[1;32m      5\u001b[0m soup \u001b[38;5;241m=\u001b[39m BeautifulSoup(df\u001b[38;5;241m.\u001b[39mloc[\u001b[38;5;241m46\u001b[39m]\u001b[38;5;241m.\u001b[39mflow_response_content, \u001b[38;5;124m\"\u001b[39m\u001b[38;5;124mhtml.parser\u001b[39m\u001b[38;5;124m\"\u001b[39m)\n\u001b[0;32m----> 6\u001b[0m \u001b[43msoup\u001b[49m\u001b[38;5;241;43m.\u001b[39;49m\u001b[43mtitle\u001b[49m\u001b[38;5;241;43m.\u001b[39;49m\u001b[43mtext\u001b[49m\n",
      "\u001b[0;31mAttributeError\u001b[0m: 'NoneType' object has no attribute 'text'"
     ]
    }
   ],
   "source": [
    "df = s.db.pandas(\"select * from flows\")\n",
    "\n",
    "from bs4 import BeautifulSoup\n",
    "\n",
    "soup = BeautifulSoup(df.loc[46].flow_response_content, \"html.parser\")\n",
    "soup.title.text"
   ]
  },
  {
   "cell_type": "code",
   "execution_count": 26,
   "id": "d41938a8-a251-4652-9694-7f29c5ce2a31",
   "metadata": {
    "tags": []
   },
   "outputs": [],
   "source": [
    "for a in soup.find_all('a', href=True):\n",
    "    if not a['href'].startswith(\"htt\") or \"google.com\" in a['href']:\n",
    "        continue\n",
    "    if \"://www.bellingcat.com/resources/2021/07/06/help-bellingcat\" in a['href']:\n",
    "        print(\"Found the URL:\", a, \"===>\", a['href'])\n",
    "        print()\n",
    "        print()\n",
    "        print(a.prettify())\n",
    "        print()\n",
    "        print()\n",
    "        print(a.find('h3').text)"
   ]
  },
  {
   "cell_type": "code",
   "execution_count": 27,
   "id": "778e2e6a-5181-4b90-a192-64ea2bbe5545",
   "metadata": {
    "tags": []
   },
   "outputs": [],
   "source": [
    "for a in soup.find_all('a', href=True):\n",
    "    if not a['href'].startswith(\"htt\") or \"google.com\" in a['href']:\n",
    "        continue\n",
    "    if \"actors ...MRon\" in a.text:\n",
    "        \n",
    "        try:\n",
    "            text = a.text\n",
    "            text = a.find(\"h3\").text\n",
    "        except:\n",
    "            pass\n",
    "                \n",
    "        print(\"Found the URL:\", a['href'], \"===>\", text)\n"
   ]
  },
  {
   "cell_type": "code",
   "execution_count": null,
   "id": "f6ad6fde-3213-4f23-a79d-16883b9f5219",
   "metadata": {},
   "outputs": [],
   "source": []
  },
  {
   "cell_type": "code",
   "execution_count": null,
   "id": "9a86f233-34a5-47bf-bd30-0262562aa97d",
   "metadata": {},
   "outputs": [],
   "source": []
  }
 ],
 "metadata": {
  "kernelspec": {
   "display_name": "Python 3 (ipykernel)",
   "language": "python",
   "name": "python3"
  },
  "language_info": {
   "codemirror_mode": {
    "name": "ipython",
    "version": 3
   },
   "file_extension": ".py",
   "mimetype": "text/x-python",
   "name": "python",
   "nbconvert_exporter": "python",
   "pygments_lexer": "ipython3",
   "version": "3.10.6"
  }
 },
 "nbformat": 4,
 "nbformat_minor": 5
}
