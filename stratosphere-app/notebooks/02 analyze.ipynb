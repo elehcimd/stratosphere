{
 "cells": [
  {
   "cell_type": "code",
   "execution_count": 1,
   "id": "53101b65-c193-4ba3-8a07-9dfdfb37ea8a",
   "metadata": {
    "tags": []
   },
   "outputs": [],
   "source": [
    "%load_ext autoreload\n",
    "%autoreload 2\n",
    "%reload_ext autoreload"
   ]
  },
  {
   "cell_type": "code",
   "execution_count": 2,
   "id": "8a0a8bf4-3c40-42a4-845c-b922b72ab31f",
   "metadata": {
    "tags": []
   },
   "outputs": [],
   "source": [
    "import pandas as pd\n",
    "from stratosphere import Stratosphere\n",
    "from stratosphere.utils.inspect_flows import InspectFlows\n",
    "from stratosphere import options"
   ]
  },
  {
   "cell_type": "code",
   "execution_count": 3,
   "id": "443d11a3-8722-4b60-8e2c-bd11c78dfa79",
   "metadata": {
    "tags": []
   },
   "outputs": [],
   "source": [
    "pd.options.display.max_rows = 10\n",
    "pd.options.display.max_columns = 100\n",
    "pd.options.display.max_colwidth = 100"
   ]
  },
  {
   "cell_type": "code",
   "execution_count": 18,
   "id": "64e8fcf3-7fc4-45ce-b3d6-5ccb7e729d04",
   "metadata": {
    "tags": []
   },
   "outputs": [
    {
     "name": "stdout",
     "output_type": "stream",
     "text": [
      "\u001b[32m■\u001b[0m Stratosphere v0.0.1 (https://stratosphere.dev) initialized\n",
      "Overview: 1 flows (0.00 seconds) distributed as follows:\n"
     ]
    },
    {
     "data": {
      "text/html": [
       "<div>\n",
       "<style scoped>\n",
       "    .dataframe tbody tr th:only-of-type {\n",
       "        vertical-align: middle;\n",
       "    }\n",
       "\n",
       "    .dataframe tbody tr th {\n",
       "        vertical-align: top;\n",
       "    }\n",
       "\n",
       "    .dataframe thead th {\n",
       "        text-align: right;\n",
       "    }\n",
       "</style>\n",
       "<table border=\"1\" class=\"dataframe\">\n",
       "  <thead>\n",
       "    <tr style=\"text-align: right;\">\n",
       "      <th></th>\n",
       "      <th>host</th>\n",
       "      <th>port</th>\n",
       "      <th>method</th>\n",
       "      <th>flow_request_headers_content_type</th>\n",
       "      <th>flow_response_headers_content_type</th>\n",
       "      <th>count</th>\n",
       "    </tr>\n",
       "  </thead>\n",
       "  <tbody>\n",
       "    <tr>\n",
       "      <th>0</th>\n",
       "      <td>vk.com</td>\n",
       "      <td>443</td>\n",
       "      <td>POST</td>\n",
       "      <td>application/x-www-form-urlencoded</td>\n",
       "      <td>application/json; charset=windows-1251</td>\n",
       "      <td>1</td>\n",
       "    </tr>\n",
       "  </tbody>\n",
       "</table>\n",
       "</div>"
      ],
      "text/plain": [
       "     host  port method  flow_request_headers_content_type  \\\n",
       "0  vk.com   443   POST  application/x-www-form-urlencoded   \n",
       "\n",
       "       flow_response_headers_content_type  count  \n",
       "0  application/json; charset=windows-1251      1  "
      ]
     },
     "metadata": {},
     "output_type": "display_data"
    }
   ],
   "source": [
    "s = Stratosphere(\"sqlite:////shared/data/probe.db\")\n",
    "\n",
    "df = s.db.pandas(\"select * from flows where flow_id = REPLACE('38364578-ee26-49a3-8686-25ce44527f94', '-', '')\")\n",
    "ifs = InspectFlows(df)\n",
    "ifs.overview()"
   ]
  },
  {
   "cell_type": "code",
   "execution_count": 20,
   "id": "4a21a56d-2baf-44d5-97c3-c75e0f290113",
   "metadata": {
    "tags": []
   },
   "outputs": [
    {
     "data": {
      "text/plain": [
       "{'payload': [0, []],\n",
       " 'statsMeta': {'platform': 'web2',\n",
       "  'st': False,\n",
       "  'time': 1680973641,\n",
       "  'hash': 'Z87EKruHOGBbSrF5SxlAeEfGAJoCZdTQ0IFg1veCfxz',\n",
       "  'reloadVersion': '7'},\n",
       " 'loaderVersion': '6269110',\n",
       " 'langPack': 3,\n",
       " 'langVersion': '6091'}"
      ]
     },
     "execution_count": 20,
     "metadata": {},
     "output_type": "execute_result"
    }
   ],
   "source": [
    "ifs.flow(0).response_content_json()"
   ]
  },
  {
   "cell_type": "code",
   "execution_count": null,
   "id": "057ec143-fa21-49cc-a380-9b7bb9a72cce",
   "metadata": {
    "tags": []
   },
   "outputs": [],
   "source": []
  },
  {
   "cell_type": "code",
   "execution_count": null,
   "id": "778e2e6a-5181-4b90-a192-64ea2bbe5545",
   "metadata": {},
   "outputs": [],
   "source": []
  },
  {
   "cell_type": "code",
   "execution_count": null,
   "id": "4000bddb-96f4-4124-8d36-fdea9c29ec83",
   "metadata": {},
   "outputs": [],
   "source": []
  }
 ],
 "metadata": {
  "kernelspec": {
   "display_name": "Python 3 (ipykernel)",
   "language": "python",
   "name": "python3"
  },
  "language_info": {
   "codemirror_mode": {
    "name": "ipython",
    "version": 3
   },
   "file_extension": ".py",
   "mimetype": "text/x-python",
   "name": "python",
   "nbconvert_exporter": "python",
   "pygments_lexer": "ipython3",
   "version": "3.10.6"
  }
 },
 "nbformat": 4,
 "nbformat_minor": 5
}
