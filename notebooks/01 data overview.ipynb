{
 "cells": [
  {
   "cell_type": "code",
   "execution_count": 49,
   "id": "51aef193-daa1-4208-92d2-2250214732ae",
   "metadata": {
    "tags": []
   },
   "outputs": [
    {
     "name": "stdout",
     "output_type": "stream",
     "text": [
      "The autoreload extension is already loaded. To reload it, use:\n",
      "  %reload_ext autoreload\n"
     ]
    }
   ],
   "source": [
    "%load_ext autoreload\n",
    "%autoreload 2\n",
    "%reload_ext autoreload"
   ]
  },
  {
   "cell_type": "code",
   "execution_count": 50,
   "id": "ef69b1d6-5482-4023-9de6-4631fadc0e9f",
   "metadata": {
    "tags": []
   },
   "outputs": [],
   "source": [
    "import pandas as pd\n",
    "pd.options.display.max_rows = 200\n",
    "pd.options.display.max_columns = 100\n",
    "pd.options.display.max_colwidth = 100\n"
   ]
  },
  {
   "cell_type": "code",
   "execution_count": 51,
   "id": "42e3a1f1-7dcd-4e10-9939-2e9a9e46efa5",
   "metadata": {
    "tags": []
   },
   "outputs": [],
   "source": [
    "import stratosphere"
   ]
  },
  {
   "cell_type": "code",
   "execution_count": 52,
   "id": "9d452445-6b74-4b4f-8e34-a4545a9783b7",
   "metadata": {
    "tags": []
   },
   "outputs": [],
   "source": [
    "from stratosphere import Stratosphere"
   ]
  },
  {
   "cell_type": "code",
   "execution_count": 56,
   "id": "3a3e0cc9-0b6e-48b1-a053-0d019ef05ba4",
   "metadata": {
    "tags": []
   },
   "outputs": [],
   "source": [
    "s = Stratosphere(\"sqlite:///../stratosphere.db\")"
   ]
  },
  {
   "cell_type": "code",
   "execution_count": 57,
   "id": "e7570caf-63a2-430d-82c3-b18a530a6da4",
   "metadata": {},
   "outputs": [
    {
     "name": "stdout",
     "output_type": "stream",
     "text": [
      " 13M\t../stratosphere.db\n"
     ]
    }
   ],
   "source": [
    "!du -h ../stratosphere.db"
   ]
  },
  {
   "cell_type": "code",
   "execution_count": 58,
   "id": "89ff7e96-468d-4e1f-b257-7067b3eb3b92",
   "metadata": {
    "tags": []
   },
   "outputs": [
    {
     "data": {
      "text/plain": [
       "Index(['id_response', 'flow_request_pretty_url', 'flow_request_http_version',\n",
       "       'flow_request_headers', 'flow_request_header_content_type',\n",
       "       'flow_request_content', 'flow_request_text',\n",
       "       'flow_request_timestamp_start', 'flow_response_status_code',\n",
       "       'flow_response_http_version', 'flow_response_headers',\n",
       "       'flow_response_header_content_type', 'flow_response_content',\n",
       "       'flow_response_text', 'flow_response_timestamp_start'],\n",
       "      dtype='object')"
      ]
     },
     "execution_count": 58,
     "metadata": {},
     "output_type": "execute_result"
    }
   ],
   "source": [
    "q = \"\"\"\n",
    "select * from responses\n",
    "\"\"\"\n",
    "s.db.pandas(q).columns"
   ]
  },
  {
   "cell_type": "code",
   "execution_count": 59,
   "id": "0ab76373-059b-44d8-a771-903959257652",
   "metadata": {
    "tags": []
   },
   "outputs": [
    {
     "data": {
      "text/html": [
       "<div>\n",
       "<style scoped>\n",
       "    .dataframe tbody tr th:only-of-type {\n",
       "        vertical-align: middle;\n",
       "    }\n",
       "\n",
       "    .dataframe tbody tr th {\n",
       "        vertical-align: top;\n",
       "    }\n",
       "\n",
       "    .dataframe thead th {\n",
       "        text-align: right;\n",
       "    }\n",
       "</style>\n",
       "<table border=\"1\" class=\"dataframe\">\n",
       "  <thead>\n",
       "    <tr style=\"text-align: right;\">\n",
       "      <th></th>\n",
       "      <th>count(*)</th>\n",
       "    </tr>\n",
       "  </thead>\n",
       "  <tbody>\n",
       "    <tr>\n",
       "      <th>0</th>\n",
       "      <td>68</td>\n",
       "    </tr>\n",
       "  </tbody>\n",
       "</table>\n",
       "</div>"
      ],
      "text/plain": [
       "   count(*)\n",
       "0        68"
      ]
     },
     "execution_count": 59,
     "metadata": {},
     "output_type": "execute_result"
    }
   ],
   "source": [
    "q = \"\"\"\n",
    "select count(*) from responses\n",
    "\"\"\"\n",
    "s.db.pandas(q)"
   ]
  },
  {
   "cell_type": "code",
   "execution_count": 60,
   "id": "dc2d4d2f-3b0f-4f45-bcf0-2c96beff9ee0",
   "metadata": {
    "tags": []
   },
   "outputs": [
    {
     "data": {
      "text/plain": [
       "cache-control             68\n",
       "x-li-pop                  68\n",
       "date                      68\n",
       "x-cache                   68\n",
       "x-li-uuid                 68\n",
       "x-li-proto                68\n",
       "x-li-fabric               68\n",
       "content-length            67\n",
       "x-content-type-options    66\n",
       "content-type              64\n",
       "Name: flow_response_headers, dtype: int64"
      ]
     },
     "execution_count": 60,
     "metadata": {},
     "output_type": "execute_result"
    }
   ],
   "source": [
    "import json\n",
    "\n",
    "q = \"\"\"\n",
    "select LOWER(flow_response_headers) as flow_response_headers from responses \n",
    "\"\"\"\n",
    "s.db.pandas(q).flow_response_headers.apply(json.loads).apply(lambda d: d.keys()).explode().value_counts()[:10]"
   ]
  },
  {
   "cell_type": "code",
   "execution_count": 61,
   "id": "0fa42556-727d-4c3a-8295-8a84377ea70f",
   "metadata": {
    "tags": []
   },
   "outputs": [
    {
     "data": {
      "text/plain": [
       "text/plain;charset=utf-8             30\n",
       "application/x-www-form-urlencoded     2\n",
       "application/json; charset=utf-8       1\n",
       "Name: flow_request_headers, dtype: int64"
      ]
     },
     "execution_count": 61,
     "metadata": {},
     "output_type": "execute_result"
    }
   ],
   "source": [
    "import json\n",
    "\n",
    "q = \"\"\"\n",
    "select LOWER(flow_request_headers) as flow_request_headers from responses \n",
    "\"\"\"\n",
    "s.db.pandas(q).flow_request_headers.apply(json.loads).apply(lambda d: d.get('content-type')).value_counts()"
   ]
  },
  {
   "cell_type": "code",
   "execution_count": 62,
   "id": "c89021b0-312c-4d48-883e-23211cd51939",
   "metadata": {
    "tags": []
   },
   "outputs": [
    {
     "data": {
      "text/plain": [
       "text/plain; charset=utf-8                                      26\n",
       "image/jpeg                                                     25\n",
       "application/vnd.linkedin.normalized+json+2.1; charset=utf-8     5\n",
       "video/mp4                                                       4\n",
       "image/svg+xml                                                   2\n",
       "text/vtt                                                        1\n",
       "application/json                                                1\n",
       "Name: flow_response_headers, dtype: int64"
      ]
     },
     "execution_count": 62,
     "metadata": {},
     "output_type": "execute_result"
    }
   ],
   "source": [
    "import json\n",
    "\n",
    "q = \"\"\"\n",
    "select LOWER(flow_response_headers) as flow_response_headers from responses \n",
    "\"\"\"\n",
    "s.db.pandas(q).flow_response_headers.apply(json.loads).apply(lambda d: d.get('content-type')).value_counts()"
   ]
  },
  {
   "cell_type": "code",
   "execution_count": 63,
   "id": "e9ea23de-00e4-4697-903c-d2d2d865508c",
   "metadata": {
    "tags": []
   },
   "outputs": [
    {
     "data": {
      "text/plain": [
       "text/plain; charset=utf-8                                      26\n",
       "image/jpeg                                                     25\n",
       "application/vnd.linkedin.normalized+json+2.1; charset=UTF-8     5\n",
       "video/mp4                                                       4\n",
       "image/svg+xml                                                   2\n",
       "text/vtt                                                        1\n",
       "application/json                                                1\n",
       "Name: flow_response_header_content_type, dtype: int64"
      ]
     },
     "execution_count": 63,
     "metadata": {},
     "output_type": "execute_result"
    }
   ],
   "source": [
    "import json\n",
    "\n",
    "q = \"\"\"\n",
    "select flow_response_header_content_type from responses\n",
    "\"\"\"\n",
    "s.db.pandas(q).flow_response_header_content_type.value_counts()"
   ]
  },
  {
   "cell_type": "code",
   "execution_count": 67,
   "id": "3b00a286-35bb-4f0b-affc-b0bf122f68c0",
   "metadata": {
    "tags": []
   },
   "outputs": [
    {
     "data": {
      "image/png": "[encoded data removed]",
      "text/plain": [
       "<PIL.JpegImagePlugin.JpegImageFile image mode=RGB size=100x100>"
      ]
     },
     "metadata": {},
     "output_type": "display_data"
    }
   ],
   "source": [
    "import json\n",
    "\n",
    "q = \"\"\"\n",
    "select flow_response_content from responses where LOWER(flow_response_header_content_type) = 'image/jpeg' \n",
    "order by random()\n",
    "\"\"\"\n",
    "\n",
    "from PIL import Image\n",
    "import io\n",
    "\n",
    "image_data = s.db.pandas(q).flow_response_content.iloc[0]\n",
    "image = Image.open(io.BytesIO(image_data))\n",
    "display(image)"
   ]
  },
  {
   "cell_type": "code",
   "execution_count": null,
   "id": "f4646148-baa4-4fcb-b5a0-d4dc07dd2382",
   "metadata": {
    "tags": []
   },
   "outputs": [],
   "source": []
  },
  {
   "cell_type": "code",
   "execution_count": null,
   "id": "5bad230e-9e1f-4416-bd36-25c28ba7b1fb",
   "metadata": {},
   "outputs": [],
   "source": []
  },
  {
   "cell_type": "code",
   "execution_count": 46,
   "id": "8946d0af-56ec-4568-a4db-caad7bf29844",
   "metadata": {
    "tags": []
   },
   "outputs": [
    {
     "data": {
      "text/html": [
       "<div>\n",
       "<style scoped>\n",
       "    .dataframe tbody tr th:only-of-type {\n",
       "        vertical-align: middle;\n",
       "    }\n",
       "\n",
       "    .dataframe tbody tr th {\n",
       "        vertical-align: top;\n",
       "    }\n",
       "\n",
       "    .dataframe thead th {\n",
       "        text-align: right;\n",
       "    }\n",
       "</style>\n",
       "<table border=\"1\" class=\"dataframe\">\n",
       "  <thead>\n",
       "    <tr style=\"text-align: right;\">\n",
       "      <th></th>\n",
       "      <th>id_response</th>\n",
       "      <th>flow_request_pretty_url</th>\n",
       "      <th>flow_request_http_version</th>\n",
       "      <th>flow_request_headers</th>\n",
       "      <th>flow_request_header_content_type</th>\n",
       "      <th>flow_request_content</th>\n",
       "      <th>flow_request_text</th>\n",
       "      <th>flow_request_timestamp_start</th>\n",
       "      <th>flow_response_status_code</th>\n",
       "      <th>flow_response_http_version</th>\n",
       "      <th>flow_response_headers</th>\n",
       "      <th>flow_response_header_content_type</th>\n",
       "      <th>flow_response_content</th>\n",
       "      <th>flow_response_text</th>\n",
       "      <th>flow_response_timestamp_start</th>\n",
       "    </tr>\n",
       "  </thead>\n",
       "  <tbody>\n",
       "  </tbody>\n",
       "</table>\n",
       "</div>"
      ],
      "text/plain": [
       "Empty DataFrame\n",
       "Columns: [id_response, flow_request_pretty_url, flow_request_http_version, flow_request_headers, flow_request_header_content_type, flow_request_content, flow_request_text, flow_request_timestamp_start, flow_response_status_code, flow_response_http_version, flow_response_headers, flow_response_header_content_type, flow_response_content, flow_response_text, flow_response_timestamp_start]\n",
       "Index: []"
      ]
     },
     "execution_count": 46,
     "metadata": {},
     "output_type": "execute_result"
    }
   ],
   "source": [
    "q = \"\"\"\n",
    "SELECT *\n",
    "FROM responses\n",
    "WHERE flow_request_pretty_url LIKE \"%linkedin%\"\n",
    "    AND flow_response_text LIKE '%{%\"%}%'\n",
    "ORDER BY RANDOM()\n",
    "LIMIT 2\n",
    "\"\"\"\n",
    "s.db.pandas(q)"
   ]
  },
  {
   "cell_type": "code",
   "execution_count": 47,
   "id": "88e6a011-25cc-44d9-b1f4-049b5576190c",
   "metadata": {
    "tags": []
   },
   "outputs": [
    {
     "data": {
      "text/html": [
       "<div>\n",
       "<style scoped>\n",
       "    .dataframe tbody tr th:only-of-type {\n",
       "        vertical-align: middle;\n",
       "    }\n",
       "\n",
       "    .dataframe tbody tr th {\n",
       "        vertical-align: top;\n",
       "    }\n",
       "\n",
       "    .dataframe thead th {\n",
       "        text-align: right;\n",
       "    }\n",
       "</style>\n",
       "<table border=\"1\" class=\"dataframe\">\n",
       "  <thead>\n",
       "    <tr style=\"text-align: right;\">\n",
       "      <th></th>\n",
       "      <th>id_response</th>\n",
       "      <th>flow_request_pretty_url</th>\n",
       "      <th>flow_request_http_version</th>\n",
       "      <th>flow_request_headers</th>\n",
       "      <th>flow_request_header_content_type</th>\n",
       "      <th>flow_request_content</th>\n",
       "      <th>flow_request_text</th>\n",
       "      <th>flow_request_timestamp_start</th>\n",
       "      <th>flow_response_status_code</th>\n",
       "      <th>flow_response_http_version</th>\n",
       "      <th>flow_response_headers</th>\n",
       "      <th>flow_response_header_content_type</th>\n",
       "      <th>flow_response_content</th>\n",
       "      <th>flow_response_text</th>\n",
       "      <th>flow_response_timestamp_start</th>\n",
       "    </tr>\n",
       "  </thead>\n",
       "  <tbody>\n",
       "  </tbody>\n",
       "</table>\n",
       "</div>"
      ],
      "text/plain": [
       "Empty DataFrame\n",
       "Columns: [id_response, flow_request_pretty_url, flow_request_http_version, flow_request_headers, flow_request_header_content_type, flow_request_content, flow_request_text, flow_request_timestamp_start, flow_response_status_code, flow_response_http_version, flow_response_headers, flow_response_header_content_type, flow_response_content, flow_response_text, flow_response_timestamp_start]\n",
       "Index: []"
      ]
     },
     "execution_count": 47,
     "metadata": {},
     "output_type": "execute_result"
    }
   ],
   "source": [
    "q = \"\"\"\n",
    "SELECT *\n",
    "FROM responses\n",
    "WHERE LOWER(flow_response_text) LIKE \"%alessandro%\" \n",
    "\n",
    "\"\"\"\n",
    "\n",
    "s.db.pandas(q)\n"
   ]
  },
  {
   "cell_type": "code",
   "execution_count": null,
   "id": "6aafd639-7f41-4065-be75-3bca623b52c6",
   "metadata": {},
   "outputs": [],
   "source": [
    "q = \"\"\"\n",
    "SELECT *\n",
    "FROM responses\n",
    "WHERE flow_request_pretty_url LIKE \"%https://www.linkedin.com/voyager/api/graphql%\"\n",
    "\"\"\"\n",
    "\n",
    "import json\n",
    "\n",
    "data = json.loads(s.db.pandas(q).flow_response_text.iloc[0])\n",
    "data.keys()\n",
    "\n"
   ]
  },
  {
   "cell_type": "code",
   "execution_count": null,
   "id": "a932d636-eed4-4c6f-aa28-f00c5691e0f2",
   "metadata": {
    "tags": []
   },
   "outputs": [],
   "source": []
  },
  {
   "cell_type": "code",
   "execution_count": null,
   "id": "533c4c7f-c8e8-471b-b621-7cbe7f3d483c",
   "metadata": {},
   "outputs": [],
   "source": []
  }
 ],
 "metadata": {
  "kernelspec": {
   "display_name": "Python 3 (ipykernel)",
   "language": "python",
   "name": "python3"
  },
  "language_info": {
   "codemirror_mode": {
    "name": "ipython",
    "version": 3
   },
   "file_extension": ".py",
   "mimetype": "text/x-python",
   "name": "python",
   "nbconvert_exporter": "python",
   "pygments_lexer": "ipython3",
   "version": "3.10.7"
  }
 },
 "nbformat": 4,
 "nbformat_minor": 5
}
