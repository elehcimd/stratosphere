{
 "cells": [
  {
   "cell_type": "code",
   "execution_count": 1,
   "id": "51aef193-daa1-4208-92d2-2250214732ae",
   "metadata": {
    "tags": []
   },
   "outputs": [],
   "source": [
    "%load_ext autoreload\n",
    "%autoreload 2\n",
    "%reload_ext autoreload"
   ]
  },
  {
   "cell_type": "code",
   "execution_count": 2,
   "id": "ef69b1d6-5482-4023-9de6-4631fadc0e9f",
   "metadata": {
    "tags": []
   },
   "outputs": [],
   "source": [
    "import pandas as pd\n",
    "pd.options.display.max_rows = 10\n",
    "pd.options.display.max_columns = 100\n",
    "pd.options.display.max_colwidth = 200\n"
   ]
  },
  {
   "cell_type": "code",
   "execution_count": 3,
   "id": "42e3a1f1-7dcd-4e10-9939-2e9a9e46efa5",
   "metadata": {
    "tags": []
   },
   "outputs": [],
   "source": [
    "import stratosphere"
   ]
  },
  {
   "cell_type": "code",
   "execution_count": 4,
   "id": "9d452445-6b74-4b4f-8e34-a4545a9783b7",
   "metadata": {
    "tags": []
   },
   "outputs": [],
   "source": [
    "from stratosphere import Stratosphere\n",
    "from stratosphere.utils import inspect_flows\n"
   ]
  },
  {
   "cell_type": "markdown",
   "id": "a0559904-066c-459d-a834-9f3b7b1ff1e5",
   "metadata": {},
   "source": [
    "## VK interactions analysis\n",
    "\n",
    "Starting from https://vk.com/kramodanov\n",
    "\n",
    "We expect to find: Sergey, Alexander, Alexey, Evgeny, Oleg"
   ]
  },
  {
   "cell_type": "code",
   "execution_count": null,
   "id": "f646c14c-cf46-4eab-8f7f-67698ec1b988",
   "metadata": {
    "tags": []
   },
   "outputs": [],
   "source": [
    "s = Stratosphere(\"sqlite:///../datasets/stratosphere-3.db\")\n"
   ]
  },
  {
   "cell_type": "code",
   "execution_count": null,
   "id": "e49831c9-2ab0-4b4e-9886-77f34a367af2",
   "metadata": {
    "tags": []
   },
   "outputs": [],
   "source": [
    "q = \"\"\"\n",
    "SELECT flow_request_timestamp_start, flow_response_header_content_type, flow_request_pretty_url, flow_request_content, flow_response_content\n",
    "FROM responses\n",
    "WHERE \n",
    "    (LOWER(flow_response_header_content_type) LIKE '%json%' OR\n",
    "     LOWER(flow_response_header_content_type) LIKE '%text%' OR\n",
    "     LOWER(flow_response_header_content_type) LIKE '%utf-8%'\n",
    "     )\n",
    "ORDER BY flow_response_timestamp_start ASC\n",
    "\"\"\"\n",
    "\n",
    "s.db.pandas(q)"
   ]
  },
  {
   "cell_type": "code",
   "execution_count": null,
   "id": "05d547c0-1681-4872-9826-952ccdf8ce0c",
   "metadata": {
    "tags": []
   },
   "outputs": [],
   "source": [
    "q = \"\"\"\n",
    "SELECT flow_request_timestamp_start, flow_response_header_content_type, flow_request_pretty_url, flow_request_content, flow_response_content\n",
    "FROM responses\n",
    "WHERE LOWER(flow_response_content) LIKE '%kvitsinia%' AND\n",
    "    (LOWER(flow_response_header_content_type) LIKE '%json%' OR\n",
    "     LOWER(flow_response_header_content_type) LIKE '%text%' OR\n",
    "     LOWER(flow_response_header_content_type) LIKE '%utf-8%'\n",
    "     )\n",
    "ORDER BY flow_response_timestamp_start ASC\n",
    "\"\"\"\n",
    "\n",
    "s.db.pandas(q)"
   ]
  },
  {
   "cell_type": "code",
   "execution_count": null,
   "id": "8bf15c80-8027-404f-9af6-7b7cbcda6449",
   "metadata": {},
   "outputs": [],
   "source": [
    "import json\n",
    "\n",
    "data = s.db.pandas(q).flow_response_content.iloc[1]\n",
    "json.loads(data.decode('latin1'))\n"
   ]
  },
  {
   "cell_type": "code",
   "execution_count": null,
   "id": "a717711b-cabf-4952-bc24-0062000bd8fb",
   "metadata": {},
   "outputs": [],
   "source": []
  }
 ],
 "metadata": {
  "kernelspec": {
   "display_name": "Python 3 (ipykernel)",
   "language": "python",
   "name": "python3"
  },
  "language_info": {
   "codemirror_mode": {
    "name": "ipython",
    "version": 3
   },
   "file_extension": ".py",
   "mimetype": "text/x-python",
   "name": "python",
   "nbconvert_exporter": "python",
   "pygments_lexer": "ipython3",
   "version": "3.10.7"
  }
 },
 "nbformat": 4,
 "nbformat_minor": 5
}
