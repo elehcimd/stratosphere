{
 "cells": [
  {
   "cell_type": "code",
   "execution_count": 18,
   "id": "51aef193-daa1-4208-92d2-2250214732ae",
   "metadata": {
    "tags": []
   },
   "outputs": [
    {
     "name": "stdout",
     "output_type": "stream",
     "text": [
      "The autoreload extension is already loaded. To reload it, use:\n",
      "  %reload_ext autoreload\n"
     ]
    }
   ],
   "source": [
    "%load_ext autoreload\n",
    "%autoreload 2\n",
    "%reload_ext autoreload"
   ]
  },
  {
   "cell_type": "code",
   "execution_count": 21,
   "id": "3a3e0cc9-0b6e-48b1-a053-0d019ef05ba4",
   "metadata": {
    "tags": []
   },
   "outputs": [
    {
     "data": {
      "text/html": [
       "<div>\n",
       "<style scoped>\n",
       "    .dataframe tbody tr th:only-of-type {\n",
       "        vertical-align: middle;\n",
       "    }\n",
       "\n",
       "    .dataframe tbody tr th {\n",
       "        vertical-align: top;\n",
       "    }\n",
       "\n",
       "    .dataframe thead th {\n",
       "        text-align: right;\n",
       "    }\n",
       "</style>\n",
       "<table border=\"1\" class=\"dataframe\">\n",
       "  <thead>\n",
       "    <tr style=\"text-align: right;\">\n",
       "      <th></th>\n",
       "      <th>count(*)</th>\n",
       "    </tr>\n",
       "  </thead>\n",
       "  <tbody>\n",
       "    <tr>\n",
       "      <th>0</th>\n",
       "      <td>0</td>\n",
       "    </tr>\n",
       "  </tbody>\n",
       "</table>\n",
       "</div>"
      ],
      "text/plain": [
       "   count(*)\n",
       "0         0"
      ]
     },
     "metadata": {},
     "output_type": "display_data"
    },
    {
     "data": {
      "text/plain": [
       "Index(['id_response', 'flow_request_pretty_url', 'flow_request_http_version',\n",
       "       'flow_request_headers', 'flow_request_header_content_type',\n",
       "       'flow_request_content', 'flow_request_text',\n",
       "       'flow_request_timestamp_start', 'flow_response_status_code',\n",
       "       'flow_response_http_version', 'flow_response_headers',\n",
       "       'flow_response_header_content_type', 'flow_response_content',\n",
       "       'flow_response_text', 'flow_response_timestamp_start'],\n",
       "      dtype='object')"
      ]
     },
     "metadata": {},
     "output_type": "display_data"
    }
   ],
   "source": [
    "import pandas as pd\n",
    "from stratosphere import Stratosphere\n",
    "from stratosphere.storage.models import Response\n",
    "\n",
    "pd.options.display.max_rows = 10\n",
    "pd.options.display.max_columns = 100\n",
    "pd.options.display.max_colwidth = 200\n",
    "\n",
    "s = Stratosphere(\"sqlite:///../stratosphere.db\")\n",
    "\n",
    "with s.db.session() as session:\n",
    "    session.query(Response).delete()\n",
    "    session.commit()    \n",
    "s.db.vacuum()    \n",
    "    \n",
    "\n",
    "q = \"\"\"\n",
    "SELECT count(*) FROM responses\n",
    "\"\"\"\n",
    "\n",
    "display(s.db.pandas(q))\n",
    "\n",
    "q = \"\"\"\n",
    "SELECT * FROM responses LIMIT 0\n",
    "\"\"\"\n",
    "\n",
    "display(s.db.pandas(q).columns)\n",
    "\n"
   ]
  },
  {
   "cell_type": "code",
   "execution_count": null,
   "id": "533c4c7f-c8e8-471b-b621-7cbe7f3d483c",
   "metadata": {},
   "outputs": [],
   "source": []
  }
 ],
 "metadata": {
  "kernelspec": {
   "display_name": "Python 3 (ipykernel)",
   "language": "python",
   "name": "python3"
  },
  "language_info": {
   "codemirror_mode": {
    "name": "ipython",
    "version": 3
   },
   "file_extension": ".py",
   "mimetype": "text/x-python",
   "name": "python",
   "nbconvert_exporter": "python",
   "pygments_lexer": "ipython3",
   "version": "3.10.7"
  }
 },
 "nbformat": 4,
 "nbformat_minor": 5
}
